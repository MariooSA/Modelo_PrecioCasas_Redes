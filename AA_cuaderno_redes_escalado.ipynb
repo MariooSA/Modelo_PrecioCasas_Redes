{
  "cells": [
    {
      "cell_type": "markdown",
      "metadata": {},
      "source": [
        "# Caso Práctico 1: Predicción de Precios con Redes Neuronales"
      ]
    },
    {
      "cell_type": "markdown",
      "metadata": {},
      "source": [
        "## Descarga del Conjunto de Datos desde Kaggle"
      ]
    },
    {
      "cell_type": "code",
      "execution_count": 44,
      "metadata": {},
      "outputs": [
        {
          "name": "stdout",
          "output_type": "stream",
          "text": [
            "Requirement already satisfied: kagglehub in c:\\users\\alumno_ai\\desktop\\generativa\\sam\\.venv\\lib\\site-packages (0.3.10)\n",
            "Requirement already satisfied: packaging in c:\\users\\alumno_ai\\desktop\\generativa\\sam\\.venv\\lib\\site-packages (from kagglehub) (24.2)\n",
            "Requirement already satisfied: pyyaml in c:\\users\\alumno_ai\\desktop\\generativa\\sam\\.venv\\lib\\site-packages (from kagglehub) (6.0.2)\n",
            "Requirement already satisfied: requests in c:\\users\\alumno_ai\\desktop\\generativa\\sam\\.venv\\lib\\site-packages (from kagglehub) (2.32.3)\n",
            "Requirement already satisfied: tqdm in c:\\users\\alumno_ai\\desktop\\generativa\\sam\\.venv\\lib\\site-packages (from kagglehub) (4.67.1)\n",
            "Requirement already satisfied: charset-normalizer<4,>=2 in c:\\users\\alumno_ai\\desktop\\generativa\\sam\\.venv\\lib\\site-packages (from requests->kagglehub) (3.4.1)\n",
            "Requirement already satisfied: idna<4,>=2.5 in c:\\users\\alumno_ai\\desktop\\generativa\\sam\\.venv\\lib\\site-packages (from requests->kagglehub) (3.10)\n",
            "Requirement already satisfied: urllib3<3,>=1.21.1 in c:\\users\\alumno_ai\\desktop\\generativa\\sam\\.venv\\lib\\site-packages (from requests->kagglehub) (2.3.0)\n",
            "Requirement already satisfied: certifi>=2017.4.17 in c:\\users\\alumno_ai\\desktop\\generativa\\sam\\.venv\\lib\\site-packages (from requests->kagglehub) (2025.1.31)\n",
            "Requirement already satisfied: colorama in c:\\users\\alumno_ai\\desktop\\generativa\\sam\\.venv\\lib\\site-packages (from tqdm->kagglehub) (0.4.6)\n",
            "Note: you may need to restart the kernel to use updated packages.\n"
          ]
        }
      ],
      "source": [
        "pip install kagglehub"
      ]
    },
    {
      "cell_type": "code",
      "execution_count": 45,
      "metadata": {
        "colab": {
          "base_uri": "https://localhost:8080/"
        },
        "id": "IgLvTdsPEo4X",
        "outputId": "bc0e09b3-9864-4ba1-aeac-a20d36647740"
      },
      "outputs": [
        {
          "name": "stdout",
          "output_type": "stream",
          "text": [
            "Path to dataset files: C:\\Users\\Alumno_AI\\.cache\\kagglehub\\datasets\\yasserh\\housing-prices-dataset\\versions\\1\n"
          ]
        }
      ],
      "source": [
        "import kagglehub\n",
        "\n",
        "# Download latest version\n",
        "path = kagglehub.dataset_download(\"yasserh/housing-prices-dataset\")\n",
        "\n",
        "print(\"Path to dataset files:\", path)"
      ]
    },
    {
      "cell_type": "markdown",
      "metadata": {},
      "source": [
        "### Carga del Conjunto de Datos en un DataFrame"
      ]
    },
    {
      "cell_type": "code",
      "execution_count": 46,
      "metadata": {},
      "outputs": [
        {
          "name": "stdout",
          "output_type": "stream",
          "text": [
            "Requirement already satisfied: pandas in c:\\users\\alumno_ai\\desktop\\generativa\\sam\\.venv\\lib\\site-packages (2.2.3)\n",
            "Requirement already satisfied: numpy>=1.23.2 in c:\\users\\alumno_ai\\desktop\\generativa\\sam\\.venv\\lib\\site-packages (from pandas) (2.1.0)\n",
            "Requirement already satisfied: python-dateutil>=2.8.2 in c:\\users\\alumno_ai\\desktop\\generativa\\sam\\.venv\\lib\\site-packages (from pandas) (2.9.0.post0)\n",
            "Requirement already satisfied: pytz>=2020.1 in c:\\users\\alumno_ai\\desktop\\generativa\\sam\\.venv\\lib\\site-packages (from pandas) (2025.2)\n",
            "Requirement already satisfied: tzdata>=2022.7 in c:\\users\\alumno_ai\\desktop\\generativa\\sam\\.venv\\lib\\site-packages (from pandas) (2025.2)\n",
            "Requirement already satisfied: six>=1.5 in c:\\users\\alumno_ai\\desktop\\generativa\\sam\\.venv\\lib\\site-packages (from python-dateutil>=2.8.2->pandas) (1.17.0)\n",
            "Note: you may need to restart the kernel to use updated packages.\n"
          ]
        }
      ],
      "source": [
        "pip install pandas"
      ]
    },
    {
      "cell_type": "code",
      "execution_count": 78,
      "metadata": {
        "colab": {
          "base_uri": "https://localhost:8080/",
          "height": 226
        },
        "id": "ZFX3UDOdEzsQ",
        "outputId": "96ab27be-cbe1-430b-a369-a565ab1c1897"
      },
      "outputs": [
        {
          "data": {
            "text/html": [
              "<div>\n",
              "<style scoped>\n",
              "    .dataframe tbody tr th:only-of-type {\n",
              "        vertical-align: middle;\n",
              "    }\n",
              "\n",
              "    .dataframe tbody tr th {\n",
              "        vertical-align: top;\n",
              "    }\n",
              "\n",
              "    .dataframe thead th {\n",
              "        text-align: right;\n",
              "    }\n",
              "</style>\n",
              "<table border=\"1\" class=\"dataframe\">\n",
              "  <thead>\n",
              "    <tr style=\"text-align: right;\">\n",
              "      <th></th>\n",
              "      <th>price</th>\n",
              "      <th>area</th>\n",
              "      <th>bedrooms</th>\n",
              "      <th>bathrooms</th>\n",
              "      <th>stories</th>\n",
              "      <th>mainroad</th>\n",
              "      <th>guestroom</th>\n",
              "      <th>basement</th>\n",
              "      <th>hotwaterheating</th>\n",
              "      <th>airconditioning</th>\n",
              "      <th>parking</th>\n",
              "      <th>prefarea</th>\n",
              "      <th>furnishingstatus</th>\n",
              "    </tr>\n",
              "  </thead>\n",
              "  <tbody>\n",
              "    <tr>\n",
              "      <th>0</th>\n",
              "      <td>13300000</td>\n",
              "      <td>7420</td>\n",
              "      <td>4</td>\n",
              "      <td>2</td>\n",
              "      <td>3</td>\n",
              "      <td>yes</td>\n",
              "      <td>no</td>\n",
              "      <td>no</td>\n",
              "      <td>no</td>\n",
              "      <td>yes</td>\n",
              "      <td>2</td>\n",
              "      <td>yes</td>\n",
              "      <td>furnished</td>\n",
              "    </tr>\n",
              "    <tr>\n",
              "      <th>1</th>\n",
              "      <td>12250000</td>\n",
              "      <td>8960</td>\n",
              "      <td>4</td>\n",
              "      <td>4</td>\n",
              "      <td>4</td>\n",
              "      <td>yes</td>\n",
              "      <td>no</td>\n",
              "      <td>no</td>\n",
              "      <td>no</td>\n",
              "      <td>yes</td>\n",
              "      <td>3</td>\n",
              "      <td>no</td>\n",
              "      <td>furnished</td>\n",
              "    </tr>\n",
              "    <tr>\n",
              "      <th>2</th>\n",
              "      <td>12250000</td>\n",
              "      <td>9960</td>\n",
              "      <td>3</td>\n",
              "      <td>2</td>\n",
              "      <td>2</td>\n",
              "      <td>yes</td>\n",
              "      <td>no</td>\n",
              "      <td>yes</td>\n",
              "      <td>no</td>\n",
              "      <td>no</td>\n",
              "      <td>2</td>\n",
              "      <td>yes</td>\n",
              "      <td>semi-furnished</td>\n",
              "    </tr>\n",
              "    <tr>\n",
              "      <th>3</th>\n",
              "      <td>12215000</td>\n",
              "      <td>7500</td>\n",
              "      <td>4</td>\n",
              "      <td>2</td>\n",
              "      <td>2</td>\n",
              "      <td>yes</td>\n",
              "      <td>no</td>\n",
              "      <td>yes</td>\n",
              "      <td>no</td>\n",
              "      <td>yes</td>\n",
              "      <td>3</td>\n",
              "      <td>yes</td>\n",
              "      <td>furnished</td>\n",
              "    </tr>\n",
              "    <tr>\n",
              "      <th>4</th>\n",
              "      <td>11410000</td>\n",
              "      <td>7420</td>\n",
              "      <td>4</td>\n",
              "      <td>1</td>\n",
              "      <td>2</td>\n",
              "      <td>yes</td>\n",
              "      <td>yes</td>\n",
              "      <td>yes</td>\n",
              "      <td>no</td>\n",
              "      <td>yes</td>\n",
              "      <td>2</td>\n",
              "      <td>no</td>\n",
              "      <td>furnished</td>\n",
              "    </tr>\n",
              "    <tr>\n",
              "      <th>...</th>\n",
              "      <td>...</td>\n",
              "      <td>...</td>\n",
              "      <td>...</td>\n",
              "      <td>...</td>\n",
              "      <td>...</td>\n",
              "      <td>...</td>\n",
              "      <td>...</td>\n",
              "      <td>...</td>\n",
              "      <td>...</td>\n",
              "      <td>...</td>\n",
              "      <td>...</td>\n",
              "      <td>...</td>\n",
              "      <td>...</td>\n",
              "    </tr>\n",
              "    <tr>\n",
              "      <th>540</th>\n",
              "      <td>1820000</td>\n",
              "      <td>3000</td>\n",
              "      <td>2</td>\n",
              "      <td>1</td>\n",
              "      <td>1</td>\n",
              "      <td>yes</td>\n",
              "      <td>no</td>\n",
              "      <td>yes</td>\n",
              "      <td>no</td>\n",
              "      <td>no</td>\n",
              "      <td>2</td>\n",
              "      <td>no</td>\n",
              "      <td>unfurnished</td>\n",
              "    </tr>\n",
              "    <tr>\n",
              "      <th>541</th>\n",
              "      <td>1767150</td>\n",
              "      <td>2400</td>\n",
              "      <td>3</td>\n",
              "      <td>1</td>\n",
              "      <td>1</td>\n",
              "      <td>no</td>\n",
              "      <td>no</td>\n",
              "      <td>no</td>\n",
              "      <td>no</td>\n",
              "      <td>no</td>\n",
              "      <td>0</td>\n",
              "      <td>no</td>\n",
              "      <td>semi-furnished</td>\n",
              "    </tr>\n",
              "    <tr>\n",
              "      <th>542</th>\n",
              "      <td>1750000</td>\n",
              "      <td>3620</td>\n",
              "      <td>2</td>\n",
              "      <td>1</td>\n",
              "      <td>1</td>\n",
              "      <td>yes</td>\n",
              "      <td>no</td>\n",
              "      <td>no</td>\n",
              "      <td>no</td>\n",
              "      <td>no</td>\n",
              "      <td>0</td>\n",
              "      <td>no</td>\n",
              "      <td>unfurnished</td>\n",
              "    </tr>\n",
              "    <tr>\n",
              "      <th>543</th>\n",
              "      <td>1750000</td>\n",
              "      <td>2910</td>\n",
              "      <td>3</td>\n",
              "      <td>1</td>\n",
              "      <td>1</td>\n",
              "      <td>no</td>\n",
              "      <td>no</td>\n",
              "      <td>no</td>\n",
              "      <td>no</td>\n",
              "      <td>no</td>\n",
              "      <td>0</td>\n",
              "      <td>no</td>\n",
              "      <td>furnished</td>\n",
              "    </tr>\n",
              "    <tr>\n",
              "      <th>544</th>\n",
              "      <td>1750000</td>\n",
              "      <td>3850</td>\n",
              "      <td>3</td>\n",
              "      <td>1</td>\n",
              "      <td>2</td>\n",
              "      <td>yes</td>\n",
              "      <td>no</td>\n",
              "      <td>no</td>\n",
              "      <td>no</td>\n",
              "      <td>no</td>\n",
              "      <td>0</td>\n",
              "      <td>no</td>\n",
              "      <td>unfurnished</td>\n",
              "    </tr>\n",
              "  </tbody>\n",
              "</table>\n",
              "<p>545 rows × 13 columns</p>\n",
              "</div>"
            ],
            "text/plain": [
              "        price  area  bedrooms  bathrooms  stories mainroad guestroom basement  \\\n",
              "0    13300000  7420         4          2        3      yes        no       no   \n",
              "1    12250000  8960         4          4        4      yes        no       no   \n",
              "2    12250000  9960         3          2        2      yes        no      yes   \n",
              "3    12215000  7500         4          2        2      yes        no      yes   \n",
              "4    11410000  7420         4          1        2      yes       yes      yes   \n",
              "..        ...   ...       ...        ...      ...      ...       ...      ...   \n",
              "540   1820000  3000         2          1        1      yes        no      yes   \n",
              "541   1767150  2400         3          1        1       no        no       no   \n",
              "542   1750000  3620         2          1        1      yes        no       no   \n",
              "543   1750000  2910         3          1        1       no        no       no   \n",
              "544   1750000  3850         3          1        2      yes        no       no   \n",
              "\n",
              "    hotwaterheating airconditioning  parking prefarea furnishingstatus  \n",
              "0                no             yes        2      yes        furnished  \n",
              "1                no             yes        3       no        furnished  \n",
              "2                no              no        2      yes   semi-furnished  \n",
              "3                no             yes        3      yes        furnished  \n",
              "4                no             yes        2       no        furnished  \n",
              "..              ...             ...      ...      ...              ...  \n",
              "540              no              no        2       no      unfurnished  \n",
              "541              no              no        0       no   semi-furnished  \n",
              "542              no              no        0       no      unfurnished  \n",
              "543              no              no        0       no        furnished  \n",
              "544              no              no        0       no      unfurnished  \n",
              "\n",
              "[545 rows x 13 columns]"
            ]
          },
          "execution_count": 78,
          "metadata": {},
          "output_type": "execute_result"
        }
      ],
      "source": [
        "import pandas as pd\n",
        "tweets_file = 'C:/Users/Alumno_AI/.cache/kagglehub/datasets/yasserh/housing-prices-dataset/versions/1/Housing.csv'\n",
        "df = pd.read_csv(tweets_file)\n",
        "df"
      ]
    },
    {
      "cell_type": "markdown",
      "metadata": {},
      "source": [
        "## Exploración de Datos"
      ]
    },
    {
      "cell_type": "code",
      "execution_count": 48,
      "metadata": {},
      "outputs": [
        {
          "name": "stdout",
          "output_type": "stream",
          "text": [
            "Requirement already satisfied: tensorflow in c:\\users\\alumno_ai\\desktop\\generativa\\sam\\.venv\\lib\\site-packages (2.19.0)\n",
            "Requirement already satisfied: absl-py>=1.0.0 in c:\\users\\alumno_ai\\desktop\\generativa\\sam\\.venv\\lib\\site-packages (from tensorflow) (2.2.0)\n",
            "Requirement already satisfied: astunparse>=1.6.0 in c:\\users\\alumno_ai\\desktop\\generativa\\sam\\.venv\\lib\\site-packages (from tensorflow) (1.6.3)\n",
            "Requirement already satisfied: flatbuffers>=24.3.25 in c:\\users\\alumno_ai\\desktop\\generativa\\sam\\.venv\\lib\\site-packages (from tensorflow) (25.2.10)\n",
            "Requirement already satisfied: gast!=0.5.0,!=0.5.1,!=0.5.2,>=0.2.1 in c:\\users\\alumno_ai\\desktop\\generativa\\sam\\.venv\\lib\\site-packages (from tensorflow) (0.6.0)\n",
            "Requirement already satisfied: google-pasta>=0.1.1 in c:\\users\\alumno_ai\\desktop\\generativa\\sam\\.venv\\lib\\site-packages (from tensorflow) (0.2.0)\n",
            "Requirement already satisfied: libclang>=13.0.0 in c:\\users\\alumno_ai\\desktop\\generativa\\sam\\.venv\\lib\\site-packages (from tensorflow) (18.1.1)\n",
            "Requirement already satisfied: opt-einsum>=2.3.2 in c:\\users\\alumno_ai\\desktop\\generativa\\sam\\.venv\\lib\\site-packages (from tensorflow) (3.4.0)\n",
            "Requirement already satisfied: packaging in c:\\users\\alumno_ai\\desktop\\generativa\\sam\\.venv\\lib\\site-packages (from tensorflow) (24.2)\n",
            "Requirement already satisfied: protobuf!=4.21.0,!=4.21.1,!=4.21.2,!=4.21.3,!=4.21.4,!=4.21.5,<6.0.0dev,>=3.20.3 in c:\\users\\alumno_ai\\desktop\\generativa\\sam\\.venv\\lib\\site-packages (from tensorflow) (5.29.4)\n",
            "Requirement already satisfied: requests<3,>=2.21.0 in c:\\users\\alumno_ai\\desktop\\generativa\\sam\\.venv\\lib\\site-packages (from tensorflow) (2.32.3)\n",
            "Requirement already satisfied: setuptools in c:\\users\\alumno_ai\\desktop\\generativa\\sam\\.venv\\lib\\site-packages (from tensorflow) (65.5.0)\n",
            "Requirement already satisfied: six>=1.12.0 in c:\\users\\alumno_ai\\desktop\\generativa\\sam\\.venv\\lib\\site-packages (from tensorflow) (1.17.0)\n",
            "Requirement already satisfied: termcolor>=1.1.0 in c:\\users\\alumno_ai\\desktop\\generativa\\sam\\.venv\\lib\\site-packages (from tensorflow) (2.5.0)\n",
            "Requirement already satisfied: typing-extensions>=3.6.6 in c:\\users\\alumno_ai\\desktop\\generativa\\sam\\.venv\\lib\\site-packages (from tensorflow) (4.12.2)\n",
            "Requirement already satisfied: wrapt>=1.11.0 in c:\\users\\alumno_ai\\desktop\\generativa\\sam\\.venv\\lib\\site-packages (from tensorflow) (1.17.2)\n",
            "Requirement already satisfied: grpcio<2.0,>=1.24.3 in c:\\users\\alumno_ai\\desktop\\generativa\\sam\\.venv\\lib\\site-packages (from tensorflow) (1.71.0)\n",
            "Requirement already satisfied: tensorboard~=2.19.0 in c:\\users\\alumno_ai\\desktop\\generativa\\sam\\.venv\\lib\\site-packages (from tensorflow) (2.19.0)\n",
            "Requirement already satisfied: keras>=3.5.0 in c:\\users\\alumno_ai\\desktop\\generativa\\sam\\.venv\\lib\\site-packages (from tensorflow) (3.9.0)\n",
            "Requirement already satisfied: numpy<2.2.0,>=1.26.0 in c:\\users\\alumno_ai\\desktop\\generativa\\sam\\.venv\\lib\\site-packages (from tensorflow) (2.1.0)\n",
            "Requirement already satisfied: h5py>=3.11.0 in c:\\users\\alumno_ai\\desktop\\generativa\\sam\\.venv\\lib\\site-packages (from tensorflow) (3.13.0)\n",
            "Requirement already satisfied: ml-dtypes<1.0.0,>=0.5.1 in c:\\users\\alumno_ai\\desktop\\generativa\\sam\\.venv\\lib\\site-packages (from tensorflow) (0.5.1)\n",
            "Requirement already satisfied: tensorflow-io-gcs-filesystem>=0.23.1 in c:\\users\\alumno_ai\\desktop\\generativa\\sam\\.venv\\lib\\site-packages (from tensorflow) (0.31.0)\n",
            "Requirement already satisfied: wheel<1.0,>=0.23.0 in c:\\users\\alumno_ai\\desktop\\generativa\\sam\\.venv\\lib\\site-packages (from astunparse>=1.6.0->tensorflow) (0.45.1)\n",
            "Requirement already satisfied: rich in c:\\users\\alumno_ai\\desktop\\generativa\\sam\\.venv\\lib\\site-packages (from keras>=3.5.0->tensorflow) (13.9.4)\n",
            "Requirement already satisfied: namex in c:\\users\\alumno_ai\\desktop\\generativa\\sam\\.venv\\lib\\site-packages (from keras>=3.5.0->tensorflow) (0.0.8)\n",
            "Requirement already satisfied: optree in c:\\users\\alumno_ai\\desktop\\generativa\\sam\\.venv\\lib\\site-packages (from keras>=3.5.0->tensorflow) (0.14.1)\n",
            "Requirement already satisfied: charset-normalizer<4,>=2 in c:\\users\\alumno_ai\\desktop\\generativa\\sam\\.venv\\lib\\site-packages (from requests<3,>=2.21.0->tensorflow) (3.4.1)\n",
            "Requirement already satisfied: idna<4,>=2.5 in c:\\users\\alumno_ai\\desktop\\generativa\\sam\\.venv\\lib\\site-packages (from requests<3,>=2.21.0->tensorflow) (3.10)\n",
            "Requirement already satisfied: urllib3<3,>=1.21.1 in c:\\users\\alumno_ai\\desktop\\generativa\\sam\\.venv\\lib\\site-packages (from requests<3,>=2.21.0->tensorflow) (2.3.0)\n",
            "Requirement already satisfied: certifi>=2017.4.17 in c:\\users\\alumno_ai\\desktop\\generativa\\sam\\.venv\\lib\\site-packages (from requests<3,>=2.21.0->tensorflow) (2025.1.31)\n",
            "Requirement already satisfied: markdown>=2.6.8 in c:\\users\\alumno_ai\\desktop\\generativa\\sam\\.venv\\lib\\site-packages (from tensorboard~=2.19.0->tensorflow) (3.7)\n",
            "Requirement already satisfied: tensorboard-data-server<0.8.0,>=0.7.0 in c:\\users\\alumno_ai\\desktop\\generativa\\sam\\.venv\\lib\\site-packages (from tensorboard~=2.19.0->tensorflow) (0.7.2)\n",
            "Requirement already satisfied: werkzeug>=1.0.1 in c:\\users\\alumno_ai\\desktop\\generativa\\sam\\.venv\\lib\\site-packages (from tensorboard~=2.19.0->tensorflow) (3.1.3)\n",
            "Requirement already satisfied: MarkupSafe>=2.1.1 in c:\\users\\alumno_ai\\desktop\\generativa\\sam\\.venv\\lib\\site-packages (from werkzeug>=1.0.1->tensorboard~=2.19.0->tensorflow) (3.0.2)\n",
            "Requirement already satisfied: markdown-it-py>=2.2.0 in c:\\users\\alumno_ai\\desktop\\generativa\\sam\\.venv\\lib\\site-packages (from rich->keras>=3.5.0->tensorflow) (3.0.0)\n",
            "Requirement already satisfied: pygments<3.0.0,>=2.13.0 in c:\\users\\alumno_ai\\desktop\\generativa\\sam\\.venv\\lib\\site-packages (from rich->keras>=3.5.0->tensorflow) (2.19.1)\n",
            "Requirement already satisfied: mdurl~=0.1 in c:\\users\\alumno_ai\\desktop\\generativa\\sam\\.venv\\lib\\site-packages (from markdown-it-py>=2.2.0->rich->keras>=3.5.0->tensorflow) (0.1.2)\n",
            "Note: you may need to restart the kernel to use updated packages.\n"
          ]
        }
      ],
      "source": [
        "pip install tensorflow"
      ]
    },
    {
      "cell_type": "code",
      "execution_count": 49,
      "metadata": {},
      "outputs": [
        {
          "name": "stdout",
          "output_type": "stream",
          "text": [
            "Requirement already satisfied: numpy==2.1 in c:\\users\\alumno_ai\\desktop\\generativa\\sam\\.venv\\lib\\site-packages (2.1.0)\n",
            "Note: you may need to restart the kernel to use updated packages.\n"
          ]
        }
      ],
      "source": [
        "pip install --upgrade --no-cache-dir numpy==2.1"
      ]
    },
    {
      "cell_type": "code",
      "execution_count": 50,
      "metadata": {},
      "outputs": [
        {
          "name": "stdout",
          "output_type": "stream",
          "text": [
            "Requirement already satisfied: scikit-learn in c:\\users\\alumno_ai\\desktop\\generativa\\sam\\.venv\\lib\\site-packages (1.6.1)\n",
            "Requirement already satisfied: numpy>=1.19.5 in c:\\users\\alumno_ai\\desktop\\generativa\\sam\\.venv\\lib\\site-packages (from scikit-learn) (2.1.0)\n",
            "Requirement already satisfied: scipy>=1.6.0 in c:\\users\\alumno_ai\\desktop\\generativa\\sam\\.venv\\lib\\site-packages (from scikit-learn) (1.15.2)\n",
            "Requirement already satisfied: joblib>=1.2.0 in c:\\users\\alumno_ai\\desktop\\generativa\\sam\\.venv\\lib\\site-packages (from scikit-learn) (1.4.2)\n",
            "Requirement already satisfied: threadpoolctl>=3.1.0 in c:\\users\\alumno_ai\\desktop\\generativa\\sam\\.venv\\lib\\site-packages (from scikit-learn) (3.6.0)\n",
            "Note: you may need to restart the kernel to use updated packages.\n"
          ]
        }
      ],
      "source": [
        "pip install scikit-learn"
      ]
    },
    {
      "cell_type": "code",
      "execution_count": 51,
      "metadata": {
        "colab": {
          "base_uri": "https://localhost:8080/"
        },
        "id": "WLN3l3Z0NYrw",
        "outputId": "f3103c65-04e2-408e-9a01-2a90813befc4"
      },
      "outputs": [
        {
          "name": "stdout",
          "output_type": "stream",
          "text": [
            "Valores únicos después de limpieza: ['furnished' 'semi-furnished' 'unfurnished']\n"
          ]
        }
      ],
      "source": [
        "import pandas as pd\n",
        "\n",
        "print(\"Valores únicos después de limpieza:\", df[\"furnishingstatus\"].unique())"
      ]
    },
    {
      "cell_type": "code",
      "execution_count": 52,
      "metadata": {
        "colab": {
          "base_uri": "https://localhost:8080/"
        },
        "id": "YzAo3UkVhrZc",
        "outputId": "15ea00ef-eb60-4936-c169-189c5b21baf3"
      },
      "outputs": [
        {
          "name": "stdout",
          "output_type": "stream",
          "text": [
            "Valores únicos en 'mainroad': ['yes' 'no']\n",
            "Valores únicos en 'guestroom': ['no' 'yes']\n",
            "Valores únicos en 'basement': ['no' 'yes']\n",
            "Valores únicos en 'hotwaterheating': ['no' 'yes']\n",
            "Valores únicos en 'airconditioning': ['yes' 'no']\n",
            "Valores únicos en 'prefarea': ['yes' 'no']\n"
          ]
        }
      ],
      "source": [
        "yes_no_cols = ['mainroad', 'guestroom', 'basement', 'hotwaterheating', 'airconditioning', 'prefarea']\n",
        "for col in yes_no_cols:\n",
        "    if col in df.columns:\n",
        "        print(f\"Valores únicos en '{col}':\", df[col].unique())\n"
      ]
    },
    {
      "cell_type": "markdown",
      "metadata": {},
      "source": [
        "### Esto es para deshabilitar un warning"
      ]
    },
    {
      "cell_type": "code",
      "execution_count": 53,
      "metadata": {
        "id": "Ffq1wdEVmjr_"
      },
      "outputs": [],
      "source": [
        "pd.set_option('future.no_silent_downcasting', True)"
      ]
    },
    {
      "cell_type": "code",
      "execution_count": 54,
      "metadata": {
        "colab": {
          "base_uri": "https://localhost:8080/"
        },
        "id": "yblUyC5zu8TZ",
        "outputId": "118ea813-ef81-4cc7-ba6d-bedc216150a7"
      },
      "outputs": [
        {
          "name": "stdout",
          "output_type": "stream",
          "text": [
            "El número de registros en el DataFrame es: 545\n"
          ]
        }
      ],
      "source": [
        "# Cuenta el número de filas (registros) en el DataFrame\n",
        "num_filas = len(df)\n",
        "print(f\"El número de registros en el DataFrame es: {num_filas}\")"
      ]
    },
    {
      "cell_type": "markdown",
      "metadata": {},
      "source": [
        "## Preprocesamiento y Aumento de Datos con K-Means\n",
        "\n",
        "En esta celda, se realizan varias etapas clave en la preparación y aumento de datos para mejorar la diversidad y cantidad de muestras en el conjunto de datos:\n",
        "\n",
        "### 1. **Carga y Preprocesamiento de Datos**\n",
        "   - Se cargan los datos originales y se aplican transformaciones para garantizar su correcto formato:\n",
        "     - Se convierten las columnas binarias (`yes/no`) en valores numéricos (`0/1`).\n",
        "     - Se aplican **variables dummy** (One-Hot Encoding) a la columna `furnishingstatus`.\n",
        "     - Se eliminan valores `NaN` para evitar problemas en los cálculos posteriores.\n",
        "\n",
        "### 2. **Definición de Características y Variable Objetivo**\n",
        "   - `X`: Contiene todas las características relevantes excepto el precio.\n",
        "   - `y`: Contiene la variable objetivo (`price`).\n",
        "\n",
        "### 3. **Aumento de Datos mediante Interpolación en Clústeres**\n",
        "   - Se aplica **K-Means Clustering** para agrupar los datos en `n_clusters=5` categorías similares.\n",
        "   - Dentro de cada clúster:\n",
        "     - Se eligen pares de muestras aleatoriamente.\n",
        "     - Se realiza interpolación lineal entre estas muestras para generar nuevos puntos de datos.\n",
        "     - Se agrega un pequeño ruido gaussiano para simular variaciones naturales.\n",
        "\n",
        "### 4. **Postprocesamiento y Guardado**\n",
        "   - Se aseguran valores binarios coherentes en las columnas categóricas (`yes/no`).\n",
        "   - Se combinan los datos originales con los sintéticos.\n",
        "   - Se guardan los nuevos conjuntos de datos (`x_combined.csv` y `y_combined.csv`) para su posterior análisis y modelado.\n",
        "\n",
        "Este procedimiento ayuda a **mitigar el problema de datos insuficientes** y **mejorar la capacidad del modelo** para generalizar mejor sobre el conjunto de datos.\n"
      ]
    },
    {
      "cell_type": "code",
      "execution_count": 55,
      "metadata": {
        "id": "4Lc0JuuOoG9-"
      },
      "outputs": [
        {
          "name": "stdout",
          "output_type": "stream",
          "text": [
            "Datos originales: 545 registros\n",
            "Datos aumentados: 2000 registros\n",
            "Total de datos: 2545 registros\n",
            "     area  bedrooms  bathrooms  stories  mainroad  guestroom  basement  \\\n",
            "0  7420.0       4.0        2.0      3.0       1.0        0.0       0.0   \n",
            "1  8960.0       4.0        4.0      4.0       1.0        0.0       0.0   \n",
            "2  9960.0       3.0        2.0      2.0       1.0        0.0       1.0   \n",
            "3  7500.0       4.0        2.0      2.0       1.0        0.0       1.0   \n",
            "4  7420.0       4.0        1.0      2.0       1.0        1.0       1.0   \n",
            "\n",
            "   hotwaterheating  airconditioning  parking  prefarea  \\\n",
            "0              0.0              1.0      2.0       1.0   \n",
            "1              0.0              1.0      3.0       0.0   \n",
            "2              0.0              0.0      2.0       1.0   \n",
            "3              0.0              1.0      3.0       1.0   \n",
            "4              0.0              1.0      2.0       0.0   \n",
            "\n",
            "   furnishingstatus_furnished  furnishingstatus_semi-furnished  \\\n",
            "0                         1.0                              0.0   \n",
            "1                         1.0                              0.0   \n",
            "2                         0.0                              1.0   \n",
            "3                         1.0                              0.0   \n",
            "4                         1.0                              0.0   \n",
            "\n",
            "   furnishingstatus_unfurnished  \n",
            "0                           0.0  \n",
            "1                           0.0  \n",
            "2                           0.0  \n",
            "3                           0.0  \n",
            "4                           0.0  \n",
            "Index(['area', 'bedrooms', 'bathrooms', 'stories', 'mainroad', 'guestroom',\n",
            "       'basement', 'hotwaterheating', 'airconditioning', 'parking', 'prefarea',\n",
            "       'furnishingstatus_furnished', 'furnishingstatus_semi-furnished',\n",
            "       'furnishingstatus_unfurnished'],\n",
            "      dtype='object')\n"
          ]
        }
      ],
      "source": [
        "import pandas as pd\n",
        "import numpy as np\n",
        "from sklearn.cluster import KMeans\n",
        "\n",
        "# Cargar datos originales\n",
        "df = pd.read_csv(tweets_file)\n",
        "\n",
        "# Definir columnas binarias para conversión posterior\n",
        "yes_no_cols = ['mainroad', 'guestroom', 'basement', 'hotwaterheating', 'airconditioning', 'prefarea']\n",
        "\n",
        "# Función de preprocesamiento de datos antes de la generación de datos sintéticos\n",
        "def preprocess(X):\n",
        "    if not isinstance(X, pd.DataFrame):\n",
        "        raise ValueError(\"Los datos deben ser un DataFrame.\")\n",
        "\n",
        "    # Convertir columnas yes/no a valores 0 y 1\n",
        "    for col in yes_no_cols:\n",
        "        if col in X.columns:\n",
        "            X[col] = X[col].astype(str).str.strip().str.lower().replace({'yes': 1, 'no': 0})\n",
        "            X[col] = pd.to_numeric(X[col], errors='coerce').fillna(0)\n",
        "\n",
        "    # Convertir 'furnishingstatus' en variables dummy (One-Hot Encoding) y eliminar la columna original\n",
        "    if 'furnishingstatus' in X.columns:\n",
        "        X = pd.get_dummies(X, columns=['furnishingstatus'], dtype=int)\n",
        "\n",
        "    # Asegurar que no haya NaN en las columnas generadas\n",
        "    for col in ['furnishingstatus_furnished', 'furnishingstatus_semi-furnished', 'furnishingstatus_unfurnished']:\n",
        "        if col in X.columns:\n",
        "            X[col] = X[col].fillna(0)\n",
        "\n",
        "    X.fillna(0, inplace=True)  # Llenar cualquier otro NaN con 0\n",
        "    return X\n",
        "\n",
        "# Aplicar preprocesamiento antes de definir X e y\n",
        "df = preprocess(df)\n",
        "\n",
        "# Definir X (características) y y (variable objetivo)\n",
        "X = df.drop(columns=['price'])\n",
        "y = df['price']\n",
        "\n",
        "# Función para aumentar datos mediante interpolación dentro de clústeres\n",
        "def augment_data(X, y, num_samples, n_clusters=5):\n",
        "    np.random.seed(42)\n",
        "\n",
        "    # Preprocesar los datos antes de la generación de datos\n",
        "    X = preprocess(X)\n",
        "\n",
        "    # Convertir todas las columnas en numéricas\n",
        "    X = X.apply(pd.to_numeric, errors='coerce')\n",
        "\n",
        "    # Agrupar datos en clústeres similares\n",
        "    kmeans = KMeans(n_clusters=n_clusters, random_state=42).fit(X)\n",
        "    X['cluster'] = kmeans.labels_\n",
        "\n",
        "    X_aug, y_aug = [], []\n",
        "    \n",
        "    for cluster in range(n_clusters):\n",
        "        cluster_data = X[X['cluster'] == cluster].drop(columns=['cluster'])\n",
        "        cluster_target = y[X.index.isin(cluster_data.index)]\n",
        "\n",
        "        idx1 = np.random.randint(0, len(cluster_data), num_samples // n_clusters)\n",
        "        idx2 = np.random.randint(0, len(cluster_data), num_samples // n_clusters)\n",
        "\n",
        "        alpha = np.random.uniform(0, 1, len(idx1)).reshape(-1, 1)\n",
        "\n",
        "        # Interpolación dentro del clúster\n",
        "        X1, X2 = cluster_data.iloc[idx1].values, cluster_data.iloc[idx2].values\n",
        "        y1, y2 = cluster_target.iloc[idx1].values, cluster_target.iloc[idx2].values\n",
        "\n",
        "        X_cluster_aug = alpha * X1 + (1 - alpha) * X2\n",
        "        y_cluster_aug = alpha.flatten() * y1 + (1 - alpha.flatten()) * y2\n",
        "\n",
        "        # Añadir ruido proporcional a la escala de las características\n",
        "        noise_X = np.random.normal(0, 0.01 * cluster_data.std(axis=0), X_cluster_aug.shape)\n",
        "        noise_y = np.random.normal(0, 0.01 * cluster_target.std(), y_cluster_aug.shape)\n",
        "\n",
        "        X_cluster_aug += noise_X\n",
        "        y_cluster_aug += noise_y\n",
        "\n",
        "        X_aug.append(X_cluster_aug)\n",
        "        y_aug.append(y_cluster_aug)\n",
        "\n",
        "    # Concatenar los datos generados\n",
        "    X_aug = pd.DataFrame(np.vstack(X_aug), columns=X.columns.drop('cluster'))\n",
        "    y_aug = pd.Series(np.concatenate(y_aug), name=y.name)\n",
        "\n",
        "    # Asegurar valores binarios coherentes en las columnas yes/no\n",
        "    for col in yes_no_cols:\n",
        "        if col in X_aug.columns:\n",
        "            X_aug[col] = X_aug[col].round().clip(0, 1)  \n",
        "\n",
        "    return X_aug, y_aug\n",
        "\n",
        "# Generar datos sintéticos\n",
        "num_samples = 2000 \n",
        "X_aug, y_aug = augment_data(X, y, num_samples)\n",
        "\n",
        "# Aplicar One-Hot Encoding a los datos generados\n",
        "X_aug = preprocess(X_aug)\n",
        "\n",
        "# Combinar datos originales y aumentados\n",
        "X_combined = pd.concat([X, X_aug], axis=0)\n",
        "y_combined = pd.concat([y, y_aug], axis=0)\n",
        "\n",
        "# Guardar los datos generados\n",
        "X_combined.to_csv('x_combined.csv', index=False)\n",
        "y_combined.to_csv('y_combined.csv', index=False)\n",
        "\n",
        "print(f\"Datos originales: {len(X)} registros\")\n",
        "print(f\"Datos aumentados: {len(X_aug)} registros\")\n",
        "print(f\"Total de datos: {len(X_combined)} registros\")\n",
        "\n",
        "# Verificar si furnishingstatus sigue existiendo\n",
        "print(X_combined.head())\n",
        "print(X_combined.columns)\n"
      ]
    },
    {
      "cell_type": "code",
      "execution_count": 56,
      "metadata": {},
      "outputs": [
        {
          "name": "stdout",
          "output_type": "stream",
          "text": [
            "Requirement already satisfied: seaborn in c:\\users\\alumno_ai\\desktop\\generativa\\sam\\.venv\\lib\\site-packages (0.13.2)\n",
            "Requirement already satisfied: numpy!=1.24.0,>=1.20 in c:\\users\\alumno_ai\\desktop\\generativa\\sam\\.venv\\lib\\site-packages (from seaborn) (2.1.0)\n",
            "Requirement already satisfied: pandas>=1.2 in c:\\users\\alumno_ai\\desktop\\generativa\\sam\\.venv\\lib\\site-packages (from seaborn) (2.2.3)\n",
            "Requirement already satisfied: matplotlib!=3.6.1,>=3.4 in c:\\users\\alumno_ai\\desktop\\generativa\\sam\\.venv\\lib\\site-packages (from seaborn) (3.10.1)\n",
            "Requirement already satisfied: contourpy>=1.0.1 in c:\\users\\alumno_ai\\desktop\\generativa\\sam\\.venv\\lib\\site-packages (from matplotlib!=3.6.1,>=3.4->seaborn) (1.3.1)\n",
            "Requirement already satisfied: cycler>=0.10 in c:\\users\\alumno_ai\\desktop\\generativa\\sam\\.venv\\lib\\site-packages (from matplotlib!=3.6.1,>=3.4->seaborn) (0.12.1)\n",
            "Requirement already satisfied: fonttools>=4.22.0 in c:\\users\\alumno_ai\\desktop\\generativa\\sam\\.venv\\lib\\site-packages (from matplotlib!=3.6.1,>=3.4->seaborn) (4.56.0)\n",
            "Requirement already satisfied: kiwisolver>=1.3.1 in c:\\users\\alumno_ai\\desktop\\generativa\\sam\\.venv\\lib\\site-packages (from matplotlib!=3.6.1,>=3.4->seaborn) (1.4.8)\n",
            "Requirement already satisfied: packaging>=20.0 in c:\\users\\alumno_ai\\desktop\\generativa\\sam\\.venv\\lib\\site-packages (from matplotlib!=3.6.1,>=3.4->seaborn) (24.2)\n",
            "Requirement already satisfied: pillow>=8 in c:\\users\\alumno_ai\\desktop\\generativa\\sam\\.venv\\lib\\site-packages (from matplotlib!=3.6.1,>=3.4->seaborn) (11.1.0)\n",
            "Requirement already satisfied: pyparsing>=2.3.1 in c:\\users\\alumno_ai\\desktop\\generativa\\sam\\.venv\\lib\\site-packages (from matplotlib!=3.6.1,>=3.4->seaborn) (3.2.3)\n",
            "Requirement already satisfied: python-dateutil>=2.7 in c:\\users\\alumno_ai\\desktop\\generativa\\sam\\.venv\\lib\\site-packages (from matplotlib!=3.6.1,>=3.4->seaborn) (2.9.0.post0)\n",
            "Requirement already satisfied: pytz>=2020.1 in c:\\users\\alumno_ai\\desktop\\generativa\\sam\\.venv\\lib\\site-packages (from pandas>=1.2->seaborn) (2025.2)\n",
            "Requirement already satisfied: tzdata>=2022.7 in c:\\users\\alumno_ai\\desktop\\generativa\\sam\\.venv\\lib\\site-packages (from pandas>=1.2->seaborn) (2025.2)\n",
            "Requirement already satisfied: six>=1.5 in c:\\users\\alumno_ai\\desktop\\generativa\\sam\\.venv\\lib\\site-packages (from python-dateutil>=2.7->matplotlib!=3.6.1,>=3.4->seaborn) (1.17.0)\n",
            "Note: you may need to restart the kernel to use updated packages.\n"
          ]
        }
      ],
      "source": [
        "pip install seaborn"
      ]
    },
    {
      "cell_type": "markdown",
      "metadata": {},
      "source": [
        "### Visualización de la Distribución de Precios: Datos Originales vs. Aumentados\n",
        "\n",
        "En esta celda se genera una **gráfica de densidad Kernel (KDE)** para comparar la distribución de los precios originales con los precios generados mediante aumento de datos. \n",
        "\n",
        "#### ¿Qué muestra esta gráfica?\n",
        "- **Línea azul**: Representa la distribución de los precios en el conjunto de datos original.\n",
        "- **Línea naranja**: Representa la distribución de los precios en los datos sintéticos generados.\n",
        "- Permite evaluar si los datos aumentados mantienen una distribución similar a los originales, lo cual es clave para evitar sesgos en el modelo.\n",
        "\n",
        "Este análisis es importante para garantizar que la ampliación de datos no introduce desviaciones significativas en la variable objetivo (`price`)."
      ]
    },
    {
      "cell_type": "code",
      "execution_count": 57,
      "metadata": {},
      "outputs": [
        {
          "name": "stderr",
          "output_type": "stream",
          "text": [
            "C:\\Users\\Alumno_AI\\AppData\\Local\\Temp\\ipykernel_1696\\581867775.py:5: FutureWarning: \n",
            "\n",
            "`shade` is now deprecated in favor of `fill`; setting `fill=True`.\n",
            "This will become an error in seaborn v0.14.0; please update your code.\n",
            "\n",
            "  sns.kdeplot(y, label=\"Original\", shade=True, color=\"blue\")\n",
            "C:\\Users\\Alumno_AI\\AppData\\Local\\Temp\\ipykernel_1696\\581867775.py:6: FutureWarning: \n",
            "\n",
            "`shade` is now deprecated in favor of `fill`; setting `fill=True`.\n",
            "This will become an error in seaborn v0.14.0; please update your code.\n",
            "\n",
            "  sns.kdeplot(y_aug, label=\"Aumentado\", shade=True, color=\"orange\")\n"
          ]
        },
        {
          "data": {
            "image/png": "[encoded data removed]",
            "text/plain": [
              "<Figure size 640x480 with 1 Axes>"
            ]
          },
          "metadata": {},
          "output_type": "display_data"
        }
      ],
      "source": [
        "import seaborn as sns\n",
        "import matplotlib.pyplot as plt\n",
        "\n",
        "# Comparar distribuciones de precios originales vs. aumentados\n",
        "sns.kdeplot(y, label=\"Original\", shade=True, color=\"blue\")\n",
        "sns.kdeplot(y_aug, label=\"Aumentado\", shade=True, color=\"orange\")\n",
        "plt.title(\"Distribución KDE de Precios: Original vs Aumentado\")\n",
        "plt.xlabel(\"Precio\")\n",
        "plt.ylabel(\"Densidad\")\n",
        "plt.legend()\n",
        "plt.show()"
      ]
    },
    {
      "cell_type": "markdown",
      "metadata": {},
      "source": [
        "### Comparación de la Distribución de Precios: Original vs. Aumentado  \n",
        "\n",
        "En esta celda se realiza una **comparación de la distribución de precios** entre los datos originales y los datos sintéticos generados.  \n",
        "\n",
        "#### ¿Qué muestra esta gráfica?\n",
        "- Se utiliza un **histograma** para visualizar la frecuencia de los valores de `price`.\n",
        "- **Barras superpuestas**:  \n",
        "  - **Datos originales**: Se muestran en un color.  \n",
        "  - **Datos aumentados**: Se muestran en otro color con transparencia.  \n",
        "- Permite analizar si la generación de datos sintéticos mantiene una distribución similar a los datos originales.  \n",
        "\n",
        "Este análisis es clave para verificar la **coherencia estadística** de los datos aumentados y asegurarse de que no se introducen sesgos significativos en la distribución.\n"
      ]
    },
    {
      "cell_type": "code",
      "execution_count": 58,
      "metadata": {},
      "outputs": [
        {
          "data": {
            "image/png": "[encoded data removed]",
            "text/plain": [
              "<Figure size 1200x600 with 1 Axes>"
            ]
          },
          "metadata": {},
          "output_type": "display_data"
        }
      ],
      "source": [
        "import matplotlib.pyplot as plt\n",
        "\n",
        "# Comparación de la distribución de una característica (por ejemplo, 'price')\n",
        "plt.figure(figsize=(12, 6))\n",
        "\n",
        "plt.hist(y, bins=30, alpha=0.6, label='Datos originales')\n",
        "plt.hist(y_aug, bins=30, alpha=0.6, label='Datos aumentados')\n",
        "\n",
        "plt.legend()\n",
        "plt.xlabel('Precio')\n",
        "plt.ylabel('Frecuencia')\n",
        "plt.title('Distribución de precios: Datos originales vs Datos aumentados')\n",
        "plt.show()"
      ]
    },
    {
      "cell_type": "markdown",
      "metadata": {},
      "source": [
        "### Comparación de la Distribución de Precios con Boxplot  \n",
        "\n",
        "En esta celda se visualiza la **distribución de precios** entre los datos originales y los datos aumentados utilizando un **boxplot**.  \n",
        "\n",
        "#### ¿Qué representa este gráfico?\n",
        "- **Eje X**: Diferencia entre el conjunto de datos **original** y **aumentado**.\n",
        "- **Eje Y**: Valores de `price` en cada conjunto.\n",
        "- **Boxplot (diagrama de caja y bigotes)**:\n",
        "  - Muestra la **mediana** de los datos.\n",
        "  - Indica la **dispersión** y presencia de **valores atípicos**.\n",
        "  - Permite detectar si los datos aumentados tienen una distribución similar a los originales.\n",
        "\n",
        "Este análisis es útil para verificar que los datos sintéticos **mantienen la estructura estadística** del conjunto original sin generar valores fuera de rango.\n"
      ]
    },
    {
      "cell_type": "code",
      "execution_count": 80,
      "metadata": {},
      "outputs": [
        {
          "data": {
            "image/png": "[encoded data removed]",
            "text/plain": [
              "<Figure size 640x480 with 1 Axes>"
            ]
          },
          "metadata": {},
          "output_type": "display_data"
        }
      ],
      "source": [
        "import seaborn as sns\n",
        "import matplotlib.pyplot as plt\n",
        "\n",
        "# Asegurar que y y y_aug sean 1D\n",
        "y = y.squeeze()\n",
        "y_aug = y_aug.squeeze()\n",
        "\n",
        "# Crear un DataFrame temporal para visualizar ambos conjuntos de datos\n",
        "data_visual = pd.DataFrame({\n",
        "    \"Precio\": pd.concat([y, y_aug]),\n",
        "    \"Conjunto\": [\"Original\"] * len(y) + [\"Aumentado\"] * len(y_aug)\n",
        "})\n",
        "\n",
        "sns.boxplot(x=\"Conjunto\", y=\"Precio\", data=data_visual)\n",
        "plt.title(\"Distribución de Precios: Original vs Aumentado\")\n",
        "plt.xlabel(\"Conjunto de Datos\")\n",
        "plt.ylabel(\"Precio\")\n",
        "plt.show()\n"
      ]
    },
    {
      "cell_type": "code",
      "execution_count": 60,
      "metadata": {
        "colab": {
          "base_uri": "https://localhost:8080/",
          "height": 226
        },
        "id": "YcXvBcYFpHfc",
        "outputId": "f3921cea-9288-44a1-9d27-2204eeb24bd7"
      },
      "outputs": [
        {
          "data": {
            "text/html": [
              "<div>\n",
              "<style scoped>\n",
              "    .dataframe tbody tr th:only-of-type {\n",
              "        vertical-align: middle;\n",
              "    }\n",
              "\n",
              "    .dataframe tbody tr th {\n",
              "        vertical-align: top;\n",
              "    }\n",
              "\n",
              "    .dataframe thead th {\n",
              "        text-align: right;\n",
              "    }\n",
              "</style>\n",
              "<table border=\"1\" class=\"dataframe\">\n",
              "  <thead>\n",
              "    <tr style=\"text-align: right;\">\n",
              "      <th></th>\n",
              "      <th>area</th>\n",
              "      <th>bedrooms</th>\n",
              "      <th>bathrooms</th>\n",
              "      <th>stories</th>\n",
              "      <th>mainroad</th>\n",
              "      <th>guestroom</th>\n",
              "      <th>basement</th>\n",
              "      <th>hotwaterheating</th>\n",
              "      <th>airconditioning</th>\n",
              "      <th>parking</th>\n",
              "      <th>prefarea</th>\n",
              "      <th>furnishingstatus_furnished</th>\n",
              "      <th>furnishingstatus_semi-furnished</th>\n",
              "      <th>furnishingstatus_unfurnished</th>\n",
              "    </tr>\n",
              "  </thead>\n",
              "  <tbody>\n",
              "    <tr>\n",
              "      <th>0</th>\n",
              "      <td>7420.0</td>\n",
              "      <td>4.0</td>\n",
              "      <td>2.0</td>\n",
              "      <td>3.0</td>\n",
              "      <td>1.0</td>\n",
              "      <td>0.0</td>\n",
              "      <td>0.0</td>\n",
              "      <td>0.0</td>\n",
              "      <td>1.0</td>\n",
              "      <td>2.0</td>\n",
              "      <td>1.0</td>\n",
              "      <td>1.0</td>\n",
              "      <td>0.0</td>\n",
              "      <td>0.0</td>\n",
              "    </tr>\n",
              "    <tr>\n",
              "      <th>1</th>\n",
              "      <td>8960.0</td>\n",
              "      <td>4.0</td>\n",
              "      <td>4.0</td>\n",
              "      <td>4.0</td>\n",
              "      <td>1.0</td>\n",
              "      <td>0.0</td>\n",
              "      <td>0.0</td>\n",
              "      <td>0.0</td>\n",
              "      <td>1.0</td>\n",
              "      <td>3.0</td>\n",
              "      <td>0.0</td>\n",
              "      <td>1.0</td>\n",
              "      <td>0.0</td>\n",
              "      <td>0.0</td>\n",
              "    </tr>\n",
              "    <tr>\n",
              "      <th>2</th>\n",
              "      <td>9960.0</td>\n",
              "      <td>3.0</td>\n",
              "      <td>2.0</td>\n",
              "      <td>2.0</td>\n",
              "      <td>1.0</td>\n",
              "      <td>0.0</td>\n",
              "      <td>1.0</td>\n",
              "      <td>0.0</td>\n",
              "      <td>0.0</td>\n",
              "      <td>2.0</td>\n",
              "      <td>1.0</td>\n",
              "      <td>0.0</td>\n",
              "      <td>1.0</td>\n",
              "      <td>0.0</td>\n",
              "    </tr>\n",
              "    <tr>\n",
              "      <th>3</th>\n",
              "      <td>7500.0</td>\n",
              "      <td>4.0</td>\n",
              "      <td>2.0</td>\n",
              "      <td>2.0</td>\n",
              "      <td>1.0</td>\n",
              "      <td>0.0</td>\n",
              "      <td>1.0</td>\n",
              "      <td>0.0</td>\n",
              "      <td>1.0</td>\n",
              "      <td>3.0</td>\n",
              "      <td>1.0</td>\n",
              "      <td>1.0</td>\n",
              "      <td>0.0</td>\n",
              "      <td>0.0</td>\n",
              "    </tr>\n",
              "    <tr>\n",
              "      <th>4</th>\n",
              "      <td>7420.0</td>\n",
              "      <td>4.0</td>\n",
              "      <td>1.0</td>\n",
              "      <td>2.0</td>\n",
              "      <td>1.0</td>\n",
              "      <td>1.0</td>\n",
              "      <td>1.0</td>\n",
              "      <td>0.0</td>\n",
              "      <td>1.0</td>\n",
              "      <td>2.0</td>\n",
              "      <td>0.0</td>\n",
              "      <td>1.0</td>\n",
              "      <td>0.0</td>\n",
              "      <td>0.0</td>\n",
              "    </tr>\n",
              "  </tbody>\n",
              "</table>\n",
              "</div>"
            ],
            "text/plain": [
              "     area  bedrooms  bathrooms  stories  mainroad  guestroom  basement  \\\n",
              "0  7420.0       4.0        2.0      3.0       1.0        0.0       0.0   \n",
              "1  8960.0       4.0        4.0      4.0       1.0        0.0       0.0   \n",
              "2  9960.0       3.0        2.0      2.0       1.0        0.0       1.0   \n",
              "3  7500.0       4.0        2.0      2.0       1.0        0.0       1.0   \n",
              "4  7420.0       4.0        1.0      2.0       1.0        1.0       1.0   \n",
              "\n",
              "   hotwaterheating  airconditioning  parking  prefarea  \\\n",
              "0              0.0              1.0      2.0       1.0   \n",
              "1              0.0              1.0      3.0       0.0   \n",
              "2              0.0              0.0      2.0       1.0   \n",
              "3              0.0              1.0      3.0       1.0   \n",
              "4              0.0              1.0      2.0       0.0   \n",
              "\n",
              "   furnishingstatus_furnished  furnishingstatus_semi-furnished  \\\n",
              "0                         1.0                              0.0   \n",
              "1                         1.0                              0.0   \n",
              "2                         0.0                              1.0   \n",
              "3                         1.0                              0.0   \n",
              "4                         1.0                              0.0   \n",
              "\n",
              "   furnishingstatus_unfurnished  \n",
              "0                           0.0  \n",
              "1                           0.0  \n",
              "2                           0.0  \n",
              "3                           0.0  \n",
              "4                           0.0  "
            ]
          },
          "execution_count": 60,
          "metadata": {},
          "output_type": "execute_result"
        }
      ],
      "source": [
        "X_combined.head()"
      ]
    },
    {
      "cell_type": "markdown",
      "metadata": {},
      "source": [
        "## Ingeniería de Características en el Conjunto de Datos\n",
        "\n",
        "En esta celda, hemos aplicado varias técnicas de **ingeniería de características** al conjunto de datos combinado. El objetivo es **mejorar la calidad de los datos** para los modelos de predicción, creando nuevas características basadas en relaciones matemáticas entre las variables originales.\n",
        "\n",
        "### Nuevas Características Generadas:\n",
        "- **Relaciones de características**:\n",
        "  - `bathrooms_per_area`: Número de baños por área.\n",
        "  - `stories_per_area`: Número de pisos por área.\n",
        "  - `parking_per_area`: Número de estacionamientos por área.\n",
        "  - `bathrooms_per_bedroom`: Relación entre baños y dormitorios.\n",
        "  - `bed_room_per_area`: Número de dormitorios por área.\n",
        "\n",
        "- **Total de habitaciones y tamaño promedio**:\n",
        "  - `rooms_total`: Total de habitaciones (dormitorios + baños).\n",
        "  - `avg_room_size`: Tamaño promedio de cada habitación.\n",
        "  - `room_density`: Densidad de habitaciones por área.\n",
        "\n",
        "- **Relaciones adicionales**:\n",
        "  - `bedrooms_per_bathroom`: Relación de dormitorios por baño.\n",
        "  - `area_per_story`: Área por piso.\n",
        "  - `parking_per_bedroom`: Estacionamientos por dormitorio.\n",
        "  - `parking_area_ratio`: Relación entre estacionamientos y área total.\n",
        "\n",
        "- **Características de servicios**:\n",
        "  - Se generan un índice de servicios basado en variables categóricas binarias como `mainroad`, `guestroom`, etc.\n",
        "  - Se crean nuevas características como `service_index`, `parking_service_ratio`, y `service_area_ratio`.\n",
        "\n",
        "- **Relación entre características específicas**:\n",
        "  - `guestroom_basement`: Indica si la casa tiene tanto un cuarto de huéspedes como un sótano (valor binario).\n",
        "\n",
        "### Propósito de la Ingeniería:\n",
        "Este proceso busca crear **características adicionales** que podrían ser útiles para el modelo de predicción, basadas en interacciones entre las variables, mejorando la capacidad de los algoritmos para aprender patrones significativos en los datos.\n",
        "\n",
        "Finalmente, los datos generados con la ingeniería de características se guardan en un nuevo archivo CSV llamado `df_final.csv`.\n"
      ]
    },
    {
      "cell_type": "code",
      "execution_count": 61,
      "metadata": {
        "colab": {
          "base_uri": "https://localhost:8080/"
        },
        "id": "9Jcq_jOQuY0Z",
        "outputId": "5cc5ec20-1b85-43c7-92c4-f6da0adf7e47"
      },
      "outputs": [
        {
          "name": "stdout",
          "output_type": "stream",
          "text": [
            "Datos finales con ingeniería de características guardados en 'df_final.csv'.\n"
          ]
        }
      ],
      "source": [
        "# Aplicar ingeniería de características a los datos combinados\n",
        "df = X_combined.copy()\n",
        "df['price'] = y_combined  # Volver a añadir la variable objetivo\n",
        "\n",
        "# Crear nuevas características basadas en relaciones matemáticas\n",
        "df['bathrooms_per_area'] = df['bathrooms'] / df['area']\n",
        "df['stories_per_area'] = df['stories'] / df['area']\n",
        "df['parking_per_area'] = df['parking'] / df['area']\n",
        "df['bathrooms_per_bedroom'] = df['bathrooms'] / df['bedrooms']\n",
        "df['bed_room_per_area'] = df['bedrooms'] / df['area']\n",
        "\n",
        "# Total de habitaciones\n",
        "df['rooms_total'] = df['bedrooms'] + df['bathrooms']\n",
        "\n",
        "# Tamaño promedio de cada habitación\n",
        "df['avg_room_size'] = df['area'] / df['rooms_total']\n",
        "df['room_density'] = df['rooms_total'] / df['area']\n",
        "\n",
        "# Relación de dormitorios a baños\n",
        "df['bedrooms_per_bathroom'] = df['bedrooms'] / df['bathrooms']\n",
        "\n",
        "# Área por piso\n",
        "df['area_per_story'] = df['area'] / df['stories']\n",
        "\n",
        "# Estacionamientos por dormitorio\n",
        "df['parking_per_bedroom'] = df['parking'] / df['bedrooms']\n",
        "df['parking_area_ratio'] = df['parking'] * df['area']\n",
        "\n",
        "# Convertir columnas yes/no a valores numéricos (ya lo hicimos en la generación de datos)\n",
        "for col in yes_no_cols:\n",
        "    if col in df.columns:\n",
        "        df[col] = df[col].astype(str).str.strip().str.lower().replace({'yes': 1, 'no': 0})\n",
        "        df[col] = pd.to_numeric(df[col], errors='coerce').fillna(0)\n",
        "\n",
        "# Crear un índice de servicios basado en variables categóricas binarias\n",
        "df['service_index'] = df[yes_no_cols].sum(axis=1)\n",
        "df['parking_service_ratio'] = df['parking'] / (df['service_index'] + 1)\n",
        "df['service_area_ratio'] = df['service_index'] / df['area']\n",
        "\n",
        "# Relación entre la existencia de cuarto de huéspedes y sótano\n",
        "df['guestroom_basement'] = (df['guestroom'].astype(int) & df['basement'].astype(int))\n",
        "\n",
        "# Guardar el DataFrame con ingeniería de características\n",
        "df.to_csv('df_final.csv', index=False)\n",
        "\n",
        "print(f\"Datos finales con ingeniería de características guardados en 'df_final.csv'.\")\n"
      ]
    },
    {
      "cell_type": "markdown",
      "metadata": {},
      "source": [
        "### Limpieza de Datos y Manejo de Valores Faltantes\n",
        "\n",
        "Este dataset está limpio, pero en esta celda, se aplican técnicas para **limpiar los datos** y **manejar los valores faltantes** en el conjunto de datos:\n",
        "\n",
        "### Pasos Realizados:\n",
        "\n",
        "1. **Cálculo de la cantidad de registros antes y después de la limpieza**:\n",
        "   - Se imprime la cantidad de filas del conjunto de datos **original** (`X_combined`) y el número de filas después de eliminar valores faltantes.\n",
        "\n",
        "2. **Imputación de valores faltantes**:\n",
        "   - Se imputan los valores faltantes en el conjunto de datos utilizando la **mediana** de cada columna. Esto es especialmente útil para las características numéricas, ya que la mediana es menos sensible a los valores atípicos que la media.\n",
        "\n",
        "3. **Eliminación de filas con valores faltantes en la columna objetivo**:\n",
        "   - Se eliminan las filas que tienen un valor **NaN** en la columna de precios (`price`), ya que no podemos realizar una predicción sin este valor.\n",
        "\n",
        "4. **Identificación y eliminación de columnas vacías**:\n",
        "   - Se identifican las columnas que están completamente vacías (sin valores) y se eliminan del conjunto de datos, ya que no aportan valor a la predicción."
      ]
    },
    {
      "cell_type": "code",
      "execution_count": 63,
      "metadata": {},
      "outputs": [
        {
          "name": "stdout",
          "output_type": "stream",
          "text": [
            "Filas originales: 2545\n",
            "Filas después de eliminar NaN: 2545\n",
            "Columnas completamente vacías: []\n"
          ]
        }
      ],
      "source": [
        "print(f\"Filas originales: {len(X_combined)}\")\n",
        "print(f\"Filas después de eliminar NaN: {len(df)}\")\n",
        "\n",
        "df.fillna(df.median(), inplace=True)  # Imputa con la mediana de cada columna\n",
        "\n",
        "df = df.dropna(subset=['price'])  # Asegúrate de que la columna de precios se llama 'price'\n",
        "\n",
        "empty_cols = [col for col in df.columns if df[col].isna().all()]\n",
        "print(f\"Columnas completamente vacías: {empty_cols}\")\n",
        "\n",
        "df = df.drop(columns=empty_cols)"
      ]
    },
    {
      "cell_type": "markdown",
      "metadata": {},
      "source": [
        "#### Cálculo del precio promedio, simplemente por saber el dato"
      ]
    },
    {
      "cell_type": "code",
      "execution_count": 64,
      "metadata": {},
      "outputs": [
        {
          "name": "stdout",
          "output_type": "stream",
          "text": [
            "El precio promedio de las viviendas es: 5219671.79\n"
          ]
        }
      ],
      "source": [
        "avg_price = df['price'].mean()\n",
        "print(f\"El precio promedio de las viviendas es: {avg_price:.2f}\")"
      ]
    },
    {
      "cell_type": "code",
      "execution_count": 65,
      "metadata": {},
      "outputs": [
        {
          "name": "stdout",
          "output_type": "stream",
          "text": [
            "Name: tensorflow\n",
            "Version: 2.19.0\n",
            "Summary: TensorFlow is an open source machine learning framework for everyone.\n",
            "Home-page: https://www.tensorflow.org/\n",
            "Author: Google Inc.\n",
            "Author-email: packages@tensorflow.org\n",
            "License: Apache 2.0\n",
            "Location: c:\\Users\\Alumno_AI\\Desktop\\Generativa\\Sam\\.venv\\Lib\\site-packages\n",
            "Requires: absl-py, astunparse, flatbuffers, gast, google-pasta, grpcio, h5py, keras, libclang, ml-dtypes, numpy, opt-einsum, packaging, protobuf, requests, setuptools, six, tensorboard, tensorflow-io-gcs-filesystem, termcolor, typing-extensions, wrapt\n",
            "Required-by: \n",
            "Note: you may need to restart the kernel to use updated packages.\n"
          ]
        }
      ],
      "source": [
        "pip show tensorflow\n"
      ]
    },
    {
      "cell_type": "markdown",
      "metadata": {},
      "source": [
        "### Guardar las Columnas Originales del Conjunto de Datos\n",
        "\n",
        "En esta celda, se guarda la lista de las **columnas originales**, después de hacer featuring engineering, pero antes de usar PolynomialFeaturing. Necesito este .pkl como checkpoint en la api (para hacer más fácil la validación de que antes de hacer poly está todo en orden)\n",
        "\n",
        "### Pasos Realizados:\n",
        "\n",
        "1. **Extracción de las columnas iniciales**:\n",
        "   - Se guarda la lista de las **columnas originales** del conjunto de datos `X` (sin la columna objetivo `price`) en una variable llamada `original_columns`.\n",
        "\n",
        "2. **Guardado de las columnas originales**:\n",
        "   - La lista `original_columns` se guarda en un archivo llamado `original_columns.pkl` utilizando la librería `joblib`. Esto permite que las columnas originales se conserven y puedan ser cargadas más tarde si se necesitan para alguna referencia o restauración.\n",
        "\n",
        "#### Propósito:\n",
        "Poder usar este archivo en la api para poder recrear todas las columnas pre **PolynomialFeaturing**"
      ]
    },
    {
      "cell_type": "code",
      "execution_count": 66,
      "metadata": {},
      "outputs": [
        {
          "data": {
            "text/plain": [
              "['original_columns.pkl']"
            ]
          },
          "execution_count": 66,
          "metadata": {},
          "output_type": "execute_result"
        }
      ],
      "source": [
        "import joblib\n",
        "\n",
        "X = df.drop(columns=['price'])\n",
        "\n",
        "# Columnas iniciales antes de cualquier transformación\n",
        "original_columns = list(X.columns)  # Guardar las columnas originales (sin la columna objetivo)\n",
        "joblib.dump(original_columns, 'original_columns.pkl')  # Guardar las columnas originales en un archivo\n"
      ]
    },
    {
      "cell_type": "code",
      "execution_count": 62,
      "metadata": {},
      "outputs": [
        {
          "name": "stdout",
          "output_type": "stream",
          "text": [
            "Requirement already satisfied: optuna in c:\\users\\alumno_ai\\desktop\\generativa\\sam\\.venv\\lib\\site-packages (4.2.1)\n",
            "Requirement already satisfied: alembic>=1.5.0 in c:\\users\\alumno_ai\\desktop\\generativa\\sam\\.venv\\lib\\site-packages (from optuna) (1.15.1)\n",
            "Requirement already satisfied: colorlog in c:\\users\\alumno_ai\\desktop\\generativa\\sam\\.venv\\lib\\site-packages (from optuna) (6.9.0)\n",
            "Requirement already satisfied: numpy in c:\\users\\alumno_ai\\desktop\\generativa\\sam\\.venv\\lib\\site-packages (from optuna) (2.1.0)\n",
            "Requirement already satisfied: packaging>=20.0 in c:\\users\\alumno_ai\\desktop\\generativa\\sam\\.venv\\lib\\site-packages (from optuna) (24.2)\n",
            "Requirement already satisfied: sqlalchemy>=1.4.2 in c:\\users\\alumno_ai\\desktop\\generativa\\sam\\.venv\\lib\\site-packages (from optuna) (2.0.39)\n",
            "Requirement already satisfied: tqdm in c:\\users\\alumno_ai\\desktop\\generativa\\sam\\.venv\\lib\\site-packages (from optuna) (4.67.1)\n",
            "Requirement already satisfied: PyYAML in c:\\users\\alumno_ai\\desktop\\generativa\\sam\\.venv\\lib\\site-packages (from optuna) (6.0.2)\n",
            "Requirement already satisfied: Mako in c:\\users\\alumno_ai\\desktop\\generativa\\sam\\.venv\\lib\\site-packages (from alembic>=1.5.0->optuna) (1.3.9)\n",
            "Requirement already satisfied: typing-extensions>=4.12 in c:\\users\\alumno_ai\\desktop\\generativa\\sam\\.venv\\lib\\site-packages (from alembic>=1.5.0->optuna) (4.12.2)\n",
            "Requirement already satisfied: greenlet!=0.4.17 in c:\\users\\alumno_ai\\desktop\\generativa\\sam\\.venv\\lib\\site-packages (from sqlalchemy>=1.4.2->optuna) (3.1.1)\n",
            "Requirement already satisfied: colorama in c:\\users\\alumno_ai\\desktop\\generativa\\sam\\.venv\\lib\\site-packages (from colorlog->optuna) (0.4.6)\n",
            "Requirement already satisfied: MarkupSafe>=0.9.2 in c:\\users\\alumno_ai\\desktop\\generativa\\sam\\.venv\\lib\\site-packages (from Mako->alembic>=1.5.0->optuna) (3.0.2)\n",
            "Note: you may need to restart the kernel to use updated packages.\n"
          ]
        }
      ],
      "source": [
        "pip install optuna"
      ]
    },
    {
      "cell_type": "code",
      "execution_count": 91,
      "metadata": {},
      "outputs": [
        {
          "name": "stdout",
          "output_type": "stream",
          "text": [
            "Collecting optuna-dashboard\n",
            "  Downloading optuna_dashboard-0.18.0-py3-none-any.whl.metadata (7.1 kB)\n",
            "Collecting bottle>=0.13.0 (from optuna-dashboard)\n",
            "  Downloading bottle-0.13.2-py2.py3-none-any.whl.metadata (1.8 kB)\n",
            "Requirement already satisfied: optuna>=3.1.0 in c:\\users\\alumno_ai\\desktop\\generativa\\sam\\.venv\\lib\\site-packages (from optuna-dashboard) (4.2.1)\n",
            "Requirement already satisfied: packaging in c:\\users\\alumno_ai\\desktop\\generativa\\sam\\.venv\\lib\\site-packages (from optuna-dashboard) (24.2)\n",
            "Requirement already satisfied: scikit-learn in c:\\users\\alumno_ai\\desktop\\generativa\\sam\\.venv\\lib\\site-packages (from optuna-dashboard) (1.6.1)\n",
            "Requirement already satisfied: alembic>=1.5.0 in c:\\users\\alumno_ai\\desktop\\generativa\\sam\\.venv\\lib\\site-packages (from optuna>=3.1.0->optuna-dashboard) (1.15.1)\n",
            "Requirement already satisfied: colorlog in c:\\users\\alumno_ai\\desktop\\generativa\\sam\\.venv\\lib\\site-packages (from optuna>=3.1.0->optuna-dashboard) (6.9.0)\n",
            "Requirement already satisfied: numpy in c:\\users\\alumno_ai\\desktop\\generativa\\sam\\.venv\\lib\\site-packages (from optuna>=3.1.0->optuna-dashboard) (2.1.0)\n",
            "Requirement already satisfied: sqlalchemy>=1.4.2 in c:\\users\\alumno_ai\\desktop\\generativa\\sam\\.venv\\lib\\site-packages (from optuna>=3.1.0->optuna-dashboard) (2.0.39)\n",
            "Requirement already satisfied: tqdm in c:\\users\\alumno_ai\\desktop\\generativa\\sam\\.venv\\lib\\site-packages (from optuna>=3.1.0->optuna-dashboard) (4.67.1)\n",
            "Requirement already satisfied: PyYAML in c:\\users\\alumno_ai\\desktop\\generativa\\sam\\.venv\\lib\\site-packages (from optuna>=3.1.0->optuna-dashboard) (6.0.2)\n",
            "Requirement already satisfied: scipy>=1.6.0 in c:\\users\\alumno_ai\\desktop\\generativa\\sam\\.venv\\lib\\site-packages (from scikit-learn->optuna-dashboard) (1.15.2)\n",
            "Requirement already satisfied: joblib>=1.2.0 in c:\\users\\alumno_ai\\desktop\\generativa\\sam\\.venv\\lib\\site-packages (from scikit-learn->optuna-dashboard) (1.4.2)\n",
            "Requirement already satisfied: threadpoolctl>=3.1.0 in c:\\users\\alumno_ai\\desktop\\generativa\\sam\\.venv\\lib\\site-packages (from scikit-learn->optuna-dashboard) (3.6.0)\n",
            "Requirement already satisfied: Mako in c:\\users\\alumno_ai\\desktop\\generativa\\sam\\.venv\\lib\\site-packages (from alembic>=1.5.0->optuna>=3.1.0->optuna-dashboard) (1.3.9)\n",
            "Requirement already satisfied: typing-extensions>=4.12 in c:\\users\\alumno_ai\\desktop\\generativa\\sam\\.venv\\lib\\site-packages (from alembic>=1.5.0->optuna>=3.1.0->optuna-dashboard) (4.12.2)\n",
            "Requirement already satisfied: greenlet!=0.4.17 in c:\\users\\alumno_ai\\desktop\\generativa\\sam\\.venv\\lib\\site-packages (from sqlalchemy>=1.4.2->optuna>=3.1.0->optuna-dashboard) (3.1.1)\n",
            "Requirement already satisfied: colorama in c:\\users\\alumno_ai\\desktop\\generativa\\sam\\.venv\\lib\\site-packages (from colorlog->optuna>=3.1.0->optuna-dashboard) (0.4.6)\n",
            "Requirement already satisfied: MarkupSafe>=0.9.2 in c:\\users\\alumno_ai\\desktop\\generativa\\sam\\.venv\\lib\\site-packages (from Mako->alembic>=1.5.0->optuna>=3.1.0->optuna-dashboard) (3.0.2)\n",
            "Downloading optuna_dashboard-0.18.0-py3-none-any.whl (8.4 MB)\n",
            "   ---------------------------------------- 0.0/8.4 MB ? eta -:--:--\n",
            "   -------------------------------- ------- 6.8/8.4 MB 38.1 MB/s eta 0:00:01\n",
            "   ---------------------------------------- 8.4/8.4 MB 37.0 MB/s eta 0:00:00\n",
            "Downloading bottle-0.13.2-py2.py3-none-any.whl (104 kB)\n",
            "Installing collected packages: bottle, optuna-dashboard\n",
            "Successfully installed bottle-0.13.2 optuna-dashboard-0.18.0\n",
            "Note: you may need to restart the kernel to use updated packages.\n"
          ]
        }
      ],
      "source": [
        "pip install optuna-dashboard"
      ]
    },
    {
      "cell_type": "markdown",
      "metadata": {},
      "source": [
        "## Optimización de Hiperparámetros con Optuna para Predicción de Precios\n",
        "\n",
        "Esta celda se enfoca en la optimización de los **hiperparámetros** de un modelo de **red neuronal profunda** para predecir precios de propiedades inmobiliarias, utilizando el **framework Optuna** para realizar la búsqueda de hiperparámetros y mejorar el rendimiento del modelo.\n",
        "\n",
        "### Pasos Realizados:\n",
        "\n",
        "1. **Escalado de Datos**:\n",
        "   - Los datos de entrada (`X`) y la variable objetivo (`y`) se escalan utilizando el `RobustScaler`.\n",
        "\n",
        "2. **PolynomialFeaturing**:\n",
        "   - Se genera un conjunto de características polinómicas de grado 2, solo con interacciones, lo que podría ayudar a capturar relaciones no lineales entre las características.\n",
        "\n",
        "3. **Definición del Modelo**:\n",
        "   - Un modelo de **red neuronal profunda** (DNN) es creado con múltiples capas ocultas, **Dropout**, y **BatchNormalization** para evitar el sobreajuste y mejorar la generalización.\n",
        "   - El modelo usa una función de activación **Swish** y una **pérdida de Huber** para hacer el modelo robusto a outliers.\n",
        "\n",
        "4. **Optuna para Optimización de Hiperparámetros**:\n",
        "   - La optimización de hiperparámetros se realiza utilizando **Optuna**, una librería para la búsqueda eficiente de hiperparámetros.\n",
        "   - Los hiperparámetros optimizados incluyen:\n",
        "     - Tipo de optimizador (`Nadam` o `Adam`)\n",
        "     - Tasa de **dropout**\n",
        "     - Tasa de **aprendizaje**\n",
        "     - Regularización **L2**\n",
        "     - Unidades en las capas ocultas\n",
        "     - Tamaño de batch para entrenamiento\n",
        "\n",
        "5. **Entrenamiento con Validación Cruzada**:\n",
        "   - Se utiliza **validación cruzada k-fold** (5 pliegues) para evaluar el rendimiento del modelo con diferentes combinaciones de hiperparámetros, asegurando que el modelo generalice bien.\n",
        "\n",
        "6. **Entrenamiento Final del Modelo**:\n",
        "   - Una vez encontrados los mejores hiperparámetros, el modelo es entrenado en el conjunto completo de datos con un número mayor de épocas (350) y utilizando **EarlyStopping**, **ReduceLROnPlateau**, y **ModelCheckpoint** como callbacks para evitar sobreajuste y mejorar la convergencia.\n",
        "\n",
        "7. **Evaluación del Modelo Final**:\n",
        "   - Finalmente, se evalúa el rendimiento del modelo utilizando varias métricas:\n",
        "     - **MAE** (Error Absoluto Medio)\n",
        "     - **MSE** (Error Cuadrático Medio)\n",
        "     - **RMSE** (Raíz del Error Cuadrático Medio)\n",
        "     - **R²** (Coeficiente de Determinación)\n",
        "   - Además, se calcula el **Error porcentual** en el modelo desescalado para obtener una medida comprensible del error en relación con la media de los precios.\n",
        "\n",
        "### Resultados:\n",
        "- La salida del modelo incluye las métricas de rendimiento y un **porcentaje de error** que indica qué tan bien el modelo predice en comparación con los valores reales desescalados.\n"
      ]
    },
    {
      "cell_type": "code",
      "execution_count": 92,
      "metadata": {
        "colab": {
          "base_uri": "https://localhost:8080/",
          "height": 1000
        },
        "id": "_5kMM90QG7UO",
        "outputId": "480607d7-7988-43df-fb67-0b11e974fba3"
      },
      "outputs": [
        {
          "name": "stderr",
          "output_type": "stream",
          "text": [
            "[I 2025-03-27 13:02:54,442] A new study created in RDB with name: trials_pisos\n",
            "c:\\Users\\Alumno_AI\\Desktop\\Generativa\\Sam\\.venv\\Lib\\site-packages\\keras\\src\\layers\\core\\dense.py:87: UserWarning: Do not pass an `input_shape`/`input_dim` argument to a layer. When using Sequential models, prefer using an `Input(shape)` object as the first layer in the model instead.\n",
            "  super().__init__(activity_regularizer=activity_regularizer, **kwargs)\n"
          ]
        },
        {
          "name": "stdout",
          "output_type": "stream",
          "text": [
            "\u001b[1m16/16\u001b[0m \u001b[32m━━━━━━━━━━━━━━━━━━━━\u001b[0m\u001b[37m\u001b[0m \u001b[1m0s\u001b[0m 9ms/step\n",
            "\u001b[1m16/16\u001b[0m \u001b[32m━━━━━━━━━━━━━━━━━━━━\u001b[0m\u001b[37m\u001b[0m \u001b[1m0s\u001b[0m 3ms/step \n",
            "\u001b[1m16/16\u001b[0m \u001b[32m━━━━━━━━━━━━━━━━━━━━\u001b[0m\u001b[37m\u001b[0m \u001b[1m0s\u001b[0m 2ms/step \n",
            "\u001b[1m16/16\u001b[0m \u001b[32m━━━━━━━━━━━━━━━━━━━━\u001b[0m\u001b[37m\u001b[0m \u001b[1m0s\u001b[0m 3ms/step \n",
            "\u001b[1m16/16\u001b[0m \u001b[32m━━━━━━━━━━━━━━━━━━━━\u001b[0m\u001b[37m\u001b[0m \u001b[1m0s\u001b[0m 3ms/step \n"
          ]
        },
        {
          "name": "stderr",
          "output_type": "stream",
          "text": [
            "[I 2025-03-27 13:04:27,789] Trial 0 finished with value: 0.05010781117330926 and parameters: {'optimizer': 'nadam', 'dropout_rate': 0.285634621743122, 'learning_rate': 0.001953393174658017, 'l2_rate': 0.0004362551513912484, 'hidden_units_1': 256, 'hidden_units_2': 96, 'batch_size': 32}. Best is trial 0 with value: 0.05010781117330926.\n",
            "c:\\Users\\Alumno_AI\\Desktop\\Generativa\\Sam\\.venv\\Lib\\site-packages\\keras\\src\\layers\\core\\dense.py:87: UserWarning: Do not pass an `input_shape`/`input_dim` argument to a layer. When using Sequential models, prefer using an `Input(shape)` object as the first layer in the model instead.\n",
            "  super().__init__(activity_regularizer=activity_regularizer, **kwargs)\n"
          ]
        },
        {
          "name": "stdout",
          "output_type": "stream",
          "text": [
            "\u001b[1m16/16\u001b[0m \u001b[32m━━━━━━━━━━━━━━━━━━━━\u001b[0m\u001b[37m\u001b[0m \u001b[1m0s\u001b[0m 9ms/step\n",
            "\u001b[1m16/16\u001b[0m \u001b[32m━━━━━━━━━━━━━━━━━━━━\u001b[0m\u001b[37m\u001b[0m \u001b[1m0s\u001b[0m 3ms/step \n",
            "\u001b[1m16/16\u001b[0m \u001b[32m━━━━━━━━━━━━━━━━━━━━\u001b[0m\u001b[37m\u001b[0m \u001b[1m0s\u001b[0m 3ms/step \n",
            "\u001b[1m16/16\u001b[0m \u001b[32m━━━━━━━━━━━━━━━━━━━━\u001b[0m\u001b[37m\u001b[0m \u001b[1m0s\u001b[0m 3ms/step \n",
            "\u001b[1m16/16\u001b[0m \u001b[32m━━━━━━━━━━━━━━━━━━━━\u001b[0m\u001b[37m\u001b[0m \u001b[1m0s\u001b[0m 3ms/step \n"
          ]
        },
        {
          "name": "stderr",
          "output_type": "stream",
          "text": [
            "[I 2025-03-27 13:05:17,016] Trial 1 finished with value: 0.044725772140875274 and parameters: {'optimizer': 'adam', 'dropout_rate': 0.16301753819274312, 'learning_rate': 0.002381433499709224, 'l2_rate': 0.0006602925136382796, 'hidden_units_1': 256, 'hidden_units_2': 32, 'batch_size': 64}. Best is trial 1 with value: 0.044725772140875274.\n",
            "c:\\Users\\Alumno_AI\\Desktop\\Generativa\\Sam\\.venv\\Lib\\site-packages\\keras\\src\\layers\\core\\dense.py:87: UserWarning: Do not pass an `input_shape`/`input_dim` argument to a layer. When using Sequential models, prefer using an `Input(shape)` object as the first layer in the model instead.\n",
            "  super().__init__(activity_regularizer=activity_regularizer, **kwargs)\n"
          ]
        },
        {
          "name": "stdout",
          "output_type": "stream",
          "text": [
            "\u001b[1m16/16\u001b[0m \u001b[32m━━━━━━━━━━━━━━━━━━━━\u001b[0m\u001b[37m\u001b[0m \u001b[1m0s\u001b[0m 10ms/step\n",
            "\u001b[1m16/16\u001b[0m \u001b[32m━━━━━━━━━━━━━━━━━━━━\u001b[0m\u001b[37m\u001b[0m \u001b[1m0s\u001b[0m 3ms/step \n",
            "\u001b[1m16/16\u001b[0m \u001b[32m━━━━━━━━━━━━━━━━━━━━\u001b[0m\u001b[37m\u001b[0m \u001b[1m0s\u001b[0m 3ms/step \n",
            "\u001b[1m16/16\u001b[0m \u001b[32m━━━━━━━━━━━━━━━━━━━━\u001b[0m\u001b[37m\u001b[0m \u001b[1m0s\u001b[0m 2ms/step \n",
            "\u001b[1m16/16\u001b[0m \u001b[32m━━━━━━━━━━━━━━━━━━━━\u001b[0m\u001b[37m\u001b[0m \u001b[1m0s\u001b[0m 2ms/step \n"
          ]
        },
        {
          "name": "stderr",
          "output_type": "stream",
          "text": [
            "[I 2025-03-27 13:06:20,059] Trial 2 finished with value: 0.09740674942225411 and parameters: {'optimizer': 'nadam', 'dropout_rate': 0.1997115702522383, 'learning_rate': 0.00010233634417233941, 'l2_rate': 8.134243602295832e-06, 'hidden_units_1': 64, 'hidden_units_2': 64, 'batch_size': 32}. Best is trial 1 with value: 0.044725772140875274.\n",
            "c:\\Users\\Alumno_AI\\Desktop\\Generativa\\Sam\\.venv\\Lib\\site-packages\\keras\\src\\layers\\core\\dense.py:87: UserWarning: Do not pass an `input_shape`/`input_dim` argument to a layer. When using Sequential models, prefer using an `Input(shape)` object as the first layer in the model instead.\n",
            "  super().__init__(activity_regularizer=activity_regularizer, **kwargs)\n"
          ]
        },
        {
          "name": "stdout",
          "output_type": "stream",
          "text": [
            "\u001b[1m16/16\u001b[0m \u001b[32m━━━━━━━━━━━━━━━━━━━━\u001b[0m\u001b[37m\u001b[0m \u001b[1m0s\u001b[0m 9ms/step\n",
            "\u001b[1m16/16\u001b[0m \u001b[32m━━━━━━━━━━━━━━━━━━━━\u001b[0m\u001b[37m\u001b[0m \u001b[1m0s\u001b[0m 2ms/step \n",
            "\u001b[1m16/16\u001b[0m \u001b[32m━━━━━━━━━━━━━━━━━━━━\u001b[0m\u001b[37m\u001b[0m \u001b[1m0s\u001b[0m 2ms/step \n",
            "\u001b[1m16/16\u001b[0m \u001b[32m━━━━━━━━━━━━━━━━━━━━\u001b[0m\u001b[37m\u001b[0m \u001b[1m0s\u001b[0m 2ms/step \n",
            "\u001b[1m16/16\u001b[0m \u001b[32m━━━━━━━━━━━━━━━━━━━━\u001b[0m\u001b[37m\u001b[0m \u001b[1m0s\u001b[0m 2ms/step \n"
          ]
        },
        {
          "name": "stderr",
          "output_type": "stream",
          "text": [
            "[I 2025-03-27 13:07:08,209] Trial 3 finished with value: 0.05303370714504431 and parameters: {'optimizer': 'nadam', 'dropout_rate': 0.21502694870787883, 'learning_rate': 0.0006621403032214001, 'l2_rate': 0.00026623145453648497, 'hidden_units_1': 64, 'hidden_units_2': 64, 'batch_size': 64}. Best is trial 1 with value: 0.044725772140875274.\n",
            "c:\\Users\\Alumno_AI\\Desktop\\Generativa\\Sam\\.venv\\Lib\\site-packages\\keras\\src\\layers\\core\\dense.py:87: UserWarning: Do not pass an `input_shape`/`input_dim` argument to a layer. When using Sequential models, prefer using an `Input(shape)` object as the first layer in the model instead.\n",
            "  super().__init__(activity_regularizer=activity_regularizer, **kwargs)\n"
          ]
        },
        {
          "name": "stdout",
          "output_type": "stream",
          "text": [
            "\u001b[1m16/16\u001b[0m \u001b[32m━━━━━━━━━━━━━━━━━━━━\u001b[0m\u001b[37m\u001b[0m \u001b[1m0s\u001b[0m 9ms/step\n",
            "\u001b[1m16/16\u001b[0m \u001b[32m━━━━━━━━━━━━━━━━━━━━\u001b[0m\u001b[37m\u001b[0m \u001b[1m0s\u001b[0m 3ms/step \n",
            "\u001b[1m16/16\u001b[0m \u001b[32m━━━━━━━━━━━━━━━━━━━━\u001b[0m\u001b[37m\u001b[0m \u001b[1m0s\u001b[0m 3ms/step \n",
            "\u001b[1m16/16\u001b[0m \u001b[32m━━━━━━━━━━━━━━━━━━━━\u001b[0m\u001b[37m\u001b[0m \u001b[1m0s\u001b[0m 3ms/step \n",
            "\u001b[1m16/16\u001b[0m \u001b[32m━━━━━━━━━━━━━━━━━━━━\u001b[0m\u001b[37m\u001b[0m \u001b[1m0s\u001b[0m 3ms/step \n"
          ]
        },
        {
          "name": "stderr",
          "output_type": "stream",
          "text": [
            "[I 2025-03-27 13:08:05,301] Trial 4 finished with value: 0.07767022362224525 and parameters: {'optimizer': 'adam', 'dropout_rate': 0.258374263400814, 'learning_rate': 0.00047232549488225155, 'l2_rate': 0.00027362930673742046, 'hidden_units_1': 256, 'hidden_units_2': 32, 'batch_size': 64}. Best is trial 1 with value: 0.044725772140875274.\n",
            "c:\\Users\\Alumno_AI\\Desktop\\Generativa\\Sam\\.venv\\Lib\\site-packages\\keras\\src\\layers\\core\\dense.py:87: UserWarning: Do not pass an `input_shape`/`input_dim` argument to a layer. When using Sequential models, prefer using an `Input(shape)` object as the first layer in the model instead.\n",
            "  super().__init__(activity_regularizer=activity_regularizer, **kwargs)\n"
          ]
        },
        {
          "name": "stdout",
          "output_type": "stream",
          "text": [
            "\u001b[1m16/16\u001b[0m \u001b[32m━━━━━━━━━━━━━━━━━━━━\u001b[0m\u001b[37m\u001b[0m \u001b[1m0s\u001b[0m 10ms/step\n",
            "\u001b[1m16/16\u001b[0m \u001b[32m━━━━━━━━━━━━━━━━━━━━\u001b[0m\u001b[37m\u001b[0m \u001b[1m0s\u001b[0m 3ms/step \n",
            "\u001b[1m16/16\u001b[0m \u001b[32m━━━━━━━━━━━━━━━━━━━━\u001b[0m\u001b[37m\u001b[0m \u001b[1m0s\u001b[0m 3ms/step \n",
            "\u001b[1m16/16\u001b[0m \u001b[32m━━━━━━━━━━━━━━━━━━━━\u001b[0m\u001b[37m\u001b[0m \u001b[1m0s\u001b[0m 3ms/step \n",
            "\u001b[1m16/16\u001b[0m \u001b[32m━━━━━━━━━━━━━━━━━━━━\u001b[0m\u001b[37m\u001b[0m \u001b[1m0s\u001b[0m 3ms/step \n"
          ]
        },
        {
          "name": "stderr",
          "output_type": "stream",
          "text": [
            "[I 2025-03-27 13:10:39,734] Trial 5 finished with value: 0.03828285467474843 and parameters: {'optimizer': 'adam', 'dropout_rate': 0.03874786189852656, 'learning_rate': 0.00013608106458764743, 'l2_rate': 0.000990594058675957, 'hidden_units_1': 256, 'hidden_units_2': 64, 'batch_size': 16}. Best is trial 5 with value: 0.03828285467474843.\n",
            "c:\\Users\\Alumno_AI\\Desktop\\Generativa\\Sam\\.venv\\Lib\\site-packages\\keras\\src\\layers\\core\\dense.py:87: UserWarning: Do not pass an `input_shape`/`input_dim` argument to a layer. When using Sequential models, prefer using an `Input(shape)` object as the first layer in the model instead.\n",
            "  super().__init__(activity_regularizer=activity_regularizer, **kwargs)\n"
          ]
        },
        {
          "name": "stdout",
          "output_type": "stream",
          "text": [
            "\u001b[1m16/16\u001b[0m \u001b[32m━━━━━━━━━━━━━━━━━━━━\u001b[0m\u001b[37m\u001b[0m \u001b[1m0s\u001b[0m 9ms/step\n",
            "\u001b[1m16/16\u001b[0m \u001b[32m━━━━━━━━━━━━━━━━━━━━\u001b[0m\u001b[37m\u001b[0m \u001b[1m0s\u001b[0m 3ms/step \n",
            "\u001b[1m16/16\u001b[0m \u001b[32m━━━━━━━━━━━━━━━━━━━━\u001b[0m\u001b[37m\u001b[0m \u001b[1m0s\u001b[0m 3ms/step \n",
            "\u001b[1m16/16\u001b[0m \u001b[32m━━━━━━━━━━━━━━━━━━━━\u001b[0m\u001b[37m\u001b[0m \u001b[1m0s\u001b[0m 2ms/step \n",
            "\u001b[1m16/16\u001b[0m \u001b[32m━━━━━━━━━━━━━━━━━━━━\u001b[0m\u001b[37m\u001b[0m \u001b[1m0s\u001b[0m 2ms/step \n"
          ]
        },
        {
          "name": "stderr",
          "output_type": "stream",
          "text": [
            "[I 2025-03-27 13:11:19,243] Trial 6 finished with value: 0.030316515589314457 and parameters: {'optimizer': 'nadam', 'dropout_rate': 0.0715775456938421, 'learning_rate': 0.0012230625923793676, 'l2_rate': 0.0006339188696434288, 'hidden_units_1': 64, 'hidden_units_2': 32, 'batch_size': 64}. Best is trial 6 with value: 0.030316515589314457.\n",
            "c:\\Users\\Alumno_AI\\Desktop\\Generativa\\Sam\\.venv\\Lib\\site-packages\\keras\\src\\layers\\core\\dense.py:87: UserWarning: Do not pass an `input_shape`/`input_dim` argument to a layer. When using Sequential models, prefer using an `Input(shape)` object as the first layer in the model instead.\n",
            "  super().__init__(activity_regularizer=activity_regularizer, **kwargs)\n"
          ]
        },
        {
          "name": "stdout",
          "output_type": "stream",
          "text": [
            "\u001b[1m16/16\u001b[0m \u001b[32m━━━━━━━━━━━━━━━━━━━━\u001b[0m\u001b[37m\u001b[0m \u001b[1m0s\u001b[0m 9ms/step\n",
            "\u001b[1m16/16\u001b[0m \u001b[32m━━━━━━━━━━━━━━━━━━━━\u001b[0m\u001b[37m\u001b[0m \u001b[1m0s\u001b[0m 3ms/step \n",
            "\u001b[1m16/16\u001b[0m \u001b[32m━━━━━━━━━━━━━━━━━━━━\u001b[0m\u001b[37m\u001b[0m \u001b[1m0s\u001b[0m 3ms/step \n",
            "\u001b[1m16/16\u001b[0m \u001b[32m━━━━━━━━━━━━━━━━━━━━\u001b[0m\u001b[37m\u001b[0m \u001b[1m0s\u001b[0m 3ms/step \n",
            "\u001b[1m16/16\u001b[0m \u001b[32m━━━━━━━━━━━━━━━━━━━━\u001b[0m\u001b[37m\u001b[0m \u001b[1m0s\u001b[0m 2ms/step \n"
          ]
        },
        {
          "name": "stderr",
          "output_type": "stream",
          "text": [
            "[I 2025-03-27 13:13:02,877] Trial 7 finished with value: 0.0464215713601615 and parameters: {'optimizer': 'nadam', 'dropout_rate': 0.21158766495054962, 'learning_rate': 0.0030503126752218575, 'l2_rate': 0.00021702716573079235, 'hidden_units_1': 128, 'hidden_units_2': 128, 'batch_size': 16}. Best is trial 6 with value: 0.030316515589314457.\n",
            "c:\\Users\\Alumno_AI\\Desktop\\Generativa\\Sam\\.venv\\Lib\\site-packages\\keras\\src\\layers\\core\\dense.py:87: UserWarning: Do not pass an `input_shape`/`input_dim` argument to a layer. When using Sequential models, prefer using an `Input(shape)` object as the first layer in the model instead.\n",
            "  super().__init__(activity_regularizer=activity_regularizer, **kwargs)\n"
          ]
        },
        {
          "name": "stdout",
          "output_type": "stream",
          "text": [
            "\u001b[1m16/16\u001b[0m \u001b[32m━━━━━━━━━━━━━━━━━━━━\u001b[0m\u001b[37m\u001b[0m \u001b[1m0s\u001b[0m 9ms/step\n",
            "\u001b[1m16/16\u001b[0m \u001b[32m━━━━━━━━━━━━━━━━━━━━\u001b[0m\u001b[37m\u001b[0m \u001b[1m0s\u001b[0m 3ms/step \n",
            "\u001b[1m16/16\u001b[0m \u001b[32m━━━━━━━━━━━━━━━━━━━━\u001b[0m\u001b[37m\u001b[0m \u001b[1m0s\u001b[0m 3ms/step \n",
            "\u001b[1m16/16\u001b[0m \u001b[32m━━━━━━━━━━━━━━━━━━━━\u001b[0m\u001b[37m\u001b[0m \u001b[1m0s\u001b[0m 3ms/step \n",
            "\u001b[1m16/16\u001b[0m \u001b[32m━━━━━━━━━━━━━━━━━━━━\u001b[0m\u001b[37m\u001b[0m \u001b[1m0s\u001b[0m 3ms/step \n"
          ]
        },
        {
          "name": "stderr",
          "output_type": "stream",
          "text": [
            "[I 2025-03-27 13:15:04,209] Trial 8 finished with value: 0.036242730737688744 and parameters: {'optimizer': 'adam', 'dropout_rate': 0.06770929681855423, 'learning_rate': 0.0007772070329779191, 'l2_rate': 0.0008423189802836834, 'hidden_units_1': 256, 'hidden_units_2': 64, 'batch_size': 16}. Best is trial 6 with value: 0.030316515589314457.\n",
            "c:\\Users\\Alumno_AI\\Desktop\\Generativa\\Sam\\.venv\\Lib\\site-packages\\keras\\src\\layers\\core\\dense.py:87: UserWarning: Do not pass an `input_shape`/`input_dim` argument to a layer. When using Sequential models, prefer using an `Input(shape)` object as the first layer in the model instead.\n",
            "  super().__init__(activity_regularizer=activity_regularizer, **kwargs)\n"
          ]
        },
        {
          "name": "stdout",
          "output_type": "stream",
          "text": [
            "\u001b[1m16/16\u001b[0m \u001b[32m━━━━━━━━━━━━━━━━━━━━\u001b[0m\u001b[37m\u001b[0m \u001b[1m0s\u001b[0m 9ms/step\n",
            "\u001b[1m16/16\u001b[0m \u001b[32m━━━━━━━━━━━━━━━━━━━━\u001b[0m\u001b[37m\u001b[0m \u001b[1m0s\u001b[0m 3ms/step \n",
            "\u001b[1m16/16\u001b[0m \u001b[32m━━━━━━━━━━━━━━━━━━━━\u001b[0m\u001b[37m\u001b[0m \u001b[1m0s\u001b[0m 2ms/step \n",
            "\u001b[1m16/16\u001b[0m \u001b[32m━━━━━━━━━━━━━━━━━━━━\u001b[0m\u001b[37m\u001b[0m \u001b[1m0s\u001b[0m 3ms/step \n",
            "\u001b[1m16/16\u001b[0m \u001b[32m━━━━━━━━━━━━━━━━━━━━\u001b[0m\u001b[37m\u001b[0m \u001b[1m0s\u001b[0m 3ms/step \n"
          ]
        },
        {
          "name": "stderr",
          "output_type": "stream",
          "text": [
            "[I 2025-03-27 13:16:53,573] Trial 9 finished with value: 0.060552010089689634 and parameters: {'optimizer': 'adam', 'dropout_rate': 0.2556945186374385, 'learning_rate': 0.0001588978941469317, 'l2_rate': 0.0008246341096151768, 'hidden_units_1': 192, 'hidden_units_2': 64, 'batch_size': 32}. Best is trial 6 with value: 0.030316515589314457.\n",
            "c:\\Users\\Alumno_AI\\Desktop\\Generativa\\Sam\\.venv\\Lib\\site-packages\\keras\\src\\layers\\core\\dense.py:87: UserWarning: Do not pass an `input_shape`/`input_dim` argument to a layer. When using Sequential models, prefer using an `Input(shape)` object as the first layer in the model instead.\n",
            "  super().__init__(activity_regularizer=activity_regularizer, **kwargs)\n"
          ]
        },
        {
          "name": "stdout",
          "output_type": "stream",
          "text": [
            "\u001b[1m16/16\u001b[0m \u001b[32m━━━━━━━━━━━━━━━━━━━━\u001b[0m\u001b[37m\u001b[0m \u001b[1m0s\u001b[0m 9ms/step\n",
            "\u001b[1m16/16\u001b[0m \u001b[32m━━━━━━━━━━━━━━━━━━━━\u001b[0m\u001b[37m\u001b[0m \u001b[1m0s\u001b[0m 3ms/step \n",
            "\u001b[1m16/16\u001b[0m \u001b[32m━━━━━━━━━━━━━━━━━━━━\u001b[0m\u001b[37m\u001b[0m \u001b[1m0s\u001b[0m 2ms/step \n",
            "\u001b[1m16/16\u001b[0m \u001b[32m━━━━━━━━━━━━━━━━━━━━\u001b[0m\u001b[37m\u001b[0m \u001b[1m0s\u001b[0m 2ms/step \n",
            "\u001b[1m16/16\u001b[0m \u001b[32m━━━━━━━━━━━━━━━━━━━━\u001b[0m\u001b[37m\u001b[0m \u001b[1m0s\u001b[0m 2ms/step \n"
          ]
        },
        {
          "name": "stderr",
          "output_type": "stream",
          "text": [
            "[I 2025-03-27 13:17:40,463] Trial 10 finished with value: 0.04139390942247485 and parameters: {'optimizer': 'nadam', 'dropout_rate': 0.10678700839875485, 'learning_rate': 0.008954068002126994, 'l2_rate': 0.0005566760828021664, 'hidden_units_1': 128, 'hidden_units_2': 32, 'batch_size': 64}. Best is trial 6 with value: 0.030316515589314457.\n",
            "c:\\Users\\Alumno_AI\\Desktop\\Generativa\\Sam\\.venv\\Lib\\site-packages\\keras\\src\\layers\\core\\dense.py:87: UserWarning: Do not pass an `input_shape`/`input_dim` argument to a layer. When using Sequential models, prefer using an `Input(shape)` object as the first layer in the model instead.\n",
            "  super().__init__(activity_regularizer=activity_regularizer, **kwargs)\n"
          ]
        },
        {
          "name": "stdout",
          "output_type": "stream",
          "text": [
            "\u001b[1m16/16\u001b[0m \u001b[32m━━━━━━━━━━━━━━━━━━━━\u001b[0m\u001b[37m\u001b[0m \u001b[1m0s\u001b[0m 11ms/step\n",
            "\u001b[1m16/16\u001b[0m \u001b[32m━━━━━━━━━━━━━━━━━━━━\u001b[0m\u001b[37m\u001b[0m \u001b[1m0s\u001b[0m 3ms/step \n",
            "\u001b[1m16/16\u001b[0m \u001b[32m━━━━━━━━━━━━━━━━━━━━\u001b[0m\u001b[37m\u001b[0m \u001b[1m0s\u001b[0m 2ms/step \n",
            "\u001b[1m16/16\u001b[0m \u001b[32m━━━━━━━━━━━━━━━━━━━━\u001b[0m\u001b[37m\u001b[0m \u001b[1m0s\u001b[0m 3ms/step \n",
            "\u001b[1m16/16\u001b[0m \u001b[32m━━━━━━━━━━━━━━━━━━━━\u001b[0m\u001b[37m\u001b[0m \u001b[1m0s\u001b[0m 3ms/step \n"
          ]
        },
        {
          "name": "stderr",
          "output_type": "stream",
          "text": [
            "[I 2025-03-27 13:19:24,146] Trial 11 finished with value: 0.033515575231145976 and parameters: {'optimizer': 'adam', 'dropout_rate': 0.049672720926951935, 'learning_rate': 0.00038703814216871943, 'l2_rate': 0.0007889268343002111, 'hidden_units_1': 192, 'hidden_units_2': 96, 'batch_size': 16}. Best is trial 6 with value: 0.030316515589314457.\n",
            "c:\\Users\\Alumno_AI\\Desktop\\Generativa\\Sam\\.venv\\Lib\\site-packages\\keras\\src\\layers\\core\\dense.py:87: UserWarning: Do not pass an `input_shape`/`input_dim` argument to a layer. When using Sequential models, prefer using an `Input(shape)` object as the first layer in the model instead.\n",
            "  super().__init__(activity_regularizer=activity_regularizer, **kwargs)\n"
          ]
        },
        {
          "name": "stdout",
          "output_type": "stream",
          "text": [
            "\u001b[1m16/16\u001b[0m \u001b[32m━━━━━━━━━━━━━━━━━━━━\u001b[0m\u001b[37m\u001b[0m \u001b[1m0s\u001b[0m 11ms/step\n",
            "\u001b[1m16/16\u001b[0m \u001b[32m━━━━━━━━━━━━━━━━━━━━\u001b[0m\u001b[37m\u001b[0m \u001b[1m0s\u001b[0m 3ms/step \n",
            "\u001b[1m16/16\u001b[0m \u001b[32m━━━━━━━━━━━━━━━━━━━━\u001b[0m\u001b[37m\u001b[0m \u001b[1m0s\u001b[0m 3ms/step \n",
            "\u001b[1m16/16\u001b[0m \u001b[32m━━━━━━━━━━━━━━━━━━━━\u001b[0m\u001b[37m\u001b[0m \u001b[1m0s\u001b[0m 3ms/step \n",
            "\u001b[1m16/16\u001b[0m \u001b[32m━━━━━━━━━━━━━━━━━━━━\u001b[0m\u001b[37m\u001b[0m \u001b[1m0s\u001b[0m 3ms/step \n"
          ]
        },
        {
          "name": "stderr",
          "output_type": "stream",
          "text": [
            "[I 2025-03-27 13:21:33,264] Trial 12 finished with value: 0.024653490855724516 and parameters: {'optimizer': 'adam', 'dropout_rate': 0.014031262100057229, 'learning_rate': 0.00030238712819541445, 'l2_rate': 0.0007300809311936891, 'hidden_units_1': 192, 'hidden_units_2': 128, 'batch_size': 16}. Best is trial 12 with value: 0.024653490855724516.\n",
            "c:\\Users\\Alumno_AI\\Desktop\\Generativa\\Sam\\.venv\\Lib\\site-packages\\keras\\src\\layers\\core\\dense.py:87: UserWarning: Do not pass an `input_shape`/`input_dim` argument to a layer. When using Sequential models, prefer using an `Input(shape)` object as the first layer in the model instead.\n",
            "  super().__init__(activity_regularizer=activity_regularizer, **kwargs)\n"
          ]
        },
        {
          "name": "stdout",
          "output_type": "stream",
          "text": [
            "\u001b[1m16/16\u001b[0m \u001b[32m━━━━━━━━━━━━━━━━━━━━\u001b[0m\u001b[37m\u001b[0m \u001b[1m0s\u001b[0m 11ms/step\n",
            "\u001b[1m16/16\u001b[0m \u001b[32m━━━━━━━━━━━━━━━━━━━━\u001b[0m\u001b[37m\u001b[0m \u001b[1m0s\u001b[0m 3ms/step \n",
            "\u001b[1m16/16\u001b[0m \u001b[32m━━━━━━━━━━━━━━━━━━━━\u001b[0m\u001b[37m\u001b[0m \u001b[1m0s\u001b[0m 3ms/step \n",
            "\u001b[1m16/16\u001b[0m \u001b[32m━━━━━━━━━━━━━━━━━━━━\u001b[0m\u001b[37m\u001b[0m \u001b[1m0s\u001b[0m 3ms/step \n",
            "\u001b[1m16/16\u001b[0m \u001b[32m━━━━━━━━━━━━━━━━━━━━\u001b[0m\u001b[37m\u001b[0m \u001b[1m0s\u001b[0m 3ms/step \n"
          ]
        },
        {
          "name": "stderr",
          "output_type": "stream",
          "text": [
            "[I 2025-03-27 13:23:44,456] Trial 13 finished with value: 0.025487098467414586 and parameters: {'optimizer': 'nadam', 'dropout_rate': 0.004331523242400423, 'learning_rate': 0.0002569941469970254, 'l2_rate': 0.0006292147919505154, 'hidden_units_1': 128, 'hidden_units_2': 128, 'batch_size': 16}. Best is trial 12 with value: 0.024653490855724516.\n",
            "c:\\Users\\Alumno_AI\\Desktop\\Generativa\\Sam\\.venv\\Lib\\site-packages\\keras\\src\\layers\\core\\dense.py:87: UserWarning: Do not pass an `input_shape`/`input_dim` argument to a layer. When using Sequential models, prefer using an `Input(shape)` object as the first layer in the model instead.\n",
            "  super().__init__(activity_regularizer=activity_regularizer, **kwargs)\n"
          ]
        },
        {
          "name": "stdout",
          "output_type": "stream",
          "text": [
            "\u001b[1m16/16\u001b[0m \u001b[32m━━━━━━━━━━━━━━━━━━━━\u001b[0m\u001b[37m\u001b[0m \u001b[1m0s\u001b[0m 11ms/step\n",
            "\u001b[1m16/16\u001b[0m \u001b[32m━━━━━━━━━━━━━━━━━━━━\u001b[0m\u001b[37m\u001b[0m \u001b[1m0s\u001b[0m 3ms/step \n",
            "\u001b[1m16/16\u001b[0m \u001b[32m━━━━━━━━━━━━━━━━━━━━\u001b[0m\u001b[37m\u001b[0m \u001b[1m0s\u001b[0m 2ms/step \n",
            "\u001b[1m16/16\u001b[0m \u001b[32m━━━━━━━━━━━━━━━━━━━━\u001b[0m\u001b[37m\u001b[0m \u001b[1m0s\u001b[0m 3ms/step \n",
            "\u001b[1m16/16\u001b[0m \u001b[32m━━━━━━━━━━━━━━━━━━━━\u001b[0m\u001b[37m\u001b[0m \u001b[1m0s\u001b[0m 2ms/step \n"
          ]
        },
        {
          "name": "stderr",
          "output_type": "stream",
          "text": [
            "[I 2025-03-27 13:25:41,568] Trial 14 finished with value: 0.02634005573920527 and parameters: {'optimizer': 'nadam', 'dropout_rate': 0.01629788326701434, 'learning_rate': 0.00026350936803719907, 'l2_rate': 0.000459824031242541, 'hidden_units_1': 128, 'hidden_units_2': 128, 'batch_size': 16}. Best is trial 12 with value: 0.024653490855724516.\n",
            "c:\\Users\\Alumno_AI\\Desktop\\Generativa\\Sam\\.venv\\Lib\\site-packages\\keras\\src\\layers\\core\\dense.py:87: UserWarning: Do not pass an `input_shape`/`input_dim` argument to a layer. When using Sequential models, prefer using an `Input(shape)` object as the first layer in the model instead.\n",
            "  super().__init__(activity_regularizer=activity_regularizer, **kwargs)\n"
          ]
        },
        {
          "name": "stdout",
          "output_type": "stream",
          "text": [
            "\u001b[1m16/16\u001b[0m \u001b[32m━━━━━━━━━━━━━━━━━━━━\u001b[0m\u001b[37m\u001b[0m \u001b[1m0s\u001b[0m 13ms/step\n",
            "\u001b[1m16/16\u001b[0m \u001b[32m━━━━━━━━━━━━━━━━━━━━\u001b[0m\u001b[37m\u001b[0m \u001b[1m0s\u001b[0m 3ms/step \n",
            "\u001b[1m16/16\u001b[0m \u001b[32m━━━━━━━━━━━━━━━━━━━━\u001b[0m\u001b[37m\u001b[0m \u001b[1m0s\u001b[0m 3ms/step \n",
            "\u001b[1m16/16\u001b[0m \u001b[32m━━━━━━━━━━━━━━━━━━━━\u001b[0m\u001b[37m\u001b[0m \u001b[1m0s\u001b[0m 3ms/step \n",
            "\u001b[1m16/16\u001b[0m \u001b[32m━━━━━━━━━━━━━━━━━━━━\u001b[0m\u001b[37m\u001b[0m \u001b[1m0s\u001b[0m 3ms/step \n"
          ]
        },
        {
          "name": "stderr",
          "output_type": "stream",
          "text": [
            "[I 2025-03-27 13:27:47,823] Trial 15 finished with value: 0.022882581322126404 and parameters: {'optimizer': 'adam', 'dropout_rate': 0.0073076570535060255, 'learning_rate': 0.0002407782333046029, 'l2_rate': 0.0007030114776227856, 'hidden_units_1': 192, 'hidden_units_2': 128, 'batch_size': 16}. Best is trial 15 with value: 0.022882581322126404.\n",
            "c:\\Users\\Alumno_AI\\Desktop\\Generativa\\Sam\\.venv\\Lib\\site-packages\\keras\\src\\layers\\core\\dense.py:87: UserWarning: Do not pass an `input_shape`/`input_dim` argument to a layer. When using Sequential models, prefer using an `Input(shape)` object as the first layer in the model instead.\n",
            "  super().__init__(activity_regularizer=activity_regularizer, **kwargs)\n"
          ]
        },
        {
          "name": "stdout",
          "output_type": "stream",
          "text": [
            "\u001b[1m16/16\u001b[0m \u001b[32m━━━━━━━━━━━━━━━━━━━━\u001b[0m\u001b[37m\u001b[0m \u001b[1m0s\u001b[0m 10ms/step\n",
            "\u001b[1m16/16\u001b[0m \u001b[32m━━━━━━━━━━━━━━━━━━━━\u001b[0m\u001b[37m\u001b[0m \u001b[1m0s\u001b[0m 3ms/step \n",
            "\u001b[1m16/16\u001b[0m \u001b[32m━━━━━━━━━━━━━━━━━━━━\u001b[0m\u001b[37m\u001b[0m \u001b[1m0s\u001b[0m 3ms/step \n",
            "\u001b[1m16/16\u001b[0m \u001b[32m━━━━━━━━━━━━━━━━━━━━\u001b[0m\u001b[37m\u001b[0m \u001b[1m0s\u001b[0m 3ms/step \n",
            "\u001b[1m16/16\u001b[0m \u001b[32m━━━━━━━━━━━━━━━━━━━━\u001b[0m\u001b[37m\u001b[0m \u001b[1m0s\u001b[0m 3ms/step \n"
          ]
        },
        {
          "name": "stderr",
          "output_type": "stream",
          "text": [
            "[I 2025-03-27 13:30:03,883] Trial 16 finished with value: 0.03477093255841897 and parameters: {'optimizer': 'adam', 'dropout_rate': 0.11674390177205549, 'learning_rate': 0.00023352973682319006, 'l2_rate': 0.0009444662684017289, 'hidden_units_1': 192, 'hidden_units_2': 96, 'batch_size': 16}. Best is trial 15 with value: 0.022882581322126404.\n",
            "c:\\Users\\Alumno_AI\\Desktop\\Generativa\\Sam\\.venv\\Lib\\site-packages\\keras\\src\\layers\\core\\dense.py:87: UserWarning: Do not pass an `input_shape`/`input_dim` argument to a layer. When using Sequential models, prefer using an `Input(shape)` object as the first layer in the model instead.\n",
            "  super().__init__(activity_regularizer=activity_regularizer, **kwargs)\n"
          ]
        },
        {
          "name": "stdout",
          "output_type": "stream",
          "text": [
            "\u001b[1m16/16\u001b[0m \u001b[32m━━━━━━━━━━━━━━━━━━━━\u001b[0m\u001b[37m\u001b[0m \u001b[1m0s\u001b[0m 10ms/step\n",
            "\u001b[1m16/16\u001b[0m \u001b[32m━━━━━━━━━━━━━━━━━━━━\u001b[0m\u001b[37m\u001b[0m \u001b[1m0s\u001b[0m 3ms/step \n",
            "\u001b[1m16/16\u001b[0m \u001b[32m━━━━━━━━━━━━━━━━━━━━\u001b[0m\u001b[37m\u001b[0m \u001b[1m0s\u001b[0m 3ms/step \n",
            "\u001b[1m16/16\u001b[0m \u001b[32m━━━━━━━━━━━━━━━━━━━━\u001b[0m\u001b[37m\u001b[0m \u001b[1m0s\u001b[0m 3ms/step \n",
            "\u001b[1m16/16\u001b[0m \u001b[32m━━━━━━━━━━━━━━━━━━━━\u001b[0m\u001b[37m\u001b[0m \u001b[1m0s\u001b[0m 3ms/step \n"
          ]
        },
        {
          "name": "stderr",
          "output_type": "stream",
          "text": [
            "[I 2025-03-27 13:32:19,149] Trial 17 finished with value: 0.03379765214042827 and parameters: {'optimizer': 'adam', 'dropout_rate': 0.10076685935949502, 'learning_rate': 0.00041088729808015146, 'l2_rate': 0.0007357852453630104, 'hidden_units_1': 192, 'hidden_units_2': 128, 'batch_size': 16}. Best is trial 15 with value: 0.022882581322126404.\n",
            "c:\\Users\\Alumno_AI\\Desktop\\Generativa\\Sam\\.venv\\Lib\\site-packages\\keras\\src\\layers\\core\\dense.py:87: UserWarning: Do not pass an `input_shape`/`input_dim` argument to a layer. When using Sequential models, prefer using an `Input(shape)` object as the first layer in the model instead.\n",
            "  super().__init__(activity_regularizer=activity_regularizer, **kwargs)\n"
          ]
        },
        {
          "name": "stdout",
          "output_type": "stream",
          "text": [
            "\u001b[1m16/16\u001b[0m \u001b[32m━━━━━━━━━━━━━━━━━━━━\u001b[0m\u001b[37m\u001b[0m \u001b[1m0s\u001b[0m 10ms/step\n",
            "\u001b[1m16/16\u001b[0m \u001b[32m━━━━━━━━━━━━━━━━━━━━\u001b[0m\u001b[37m\u001b[0m \u001b[1m0s\u001b[0m 3ms/step \n",
            "\u001b[1m16/16\u001b[0m \u001b[32m━━━━━━━━━━━━━━━━━━━━\u001b[0m\u001b[37m\u001b[0m \u001b[1m0s\u001b[0m 3ms/step \n",
            "\u001b[1m16/16\u001b[0m \u001b[32m━━━━━━━━━━━━━━━━━━━━\u001b[0m\u001b[37m\u001b[0m \u001b[1m0s\u001b[0m 3ms/step \n",
            "\u001b[1m16/16\u001b[0m \u001b[32m━━━━━━━━━━━━━━━━━━━━\u001b[0m\u001b[37m\u001b[0m \u001b[1m0s\u001b[0m 3ms/step \n"
          ]
        },
        {
          "name": "stderr",
          "output_type": "stream",
          "text": [
            "[I 2025-03-27 13:34:09,023] Trial 18 finished with value: 0.039337759430968185 and parameters: {'optimizer': 'adam', 'dropout_rate': 0.14439380476755537, 'learning_rate': 0.0011826236252183355, 'l2_rate': 0.0003858316199799242, 'hidden_units_1': 192, 'hidden_units_2': 96, 'batch_size': 16}. Best is trial 15 with value: 0.022882581322126404.\n",
            "c:\\Users\\Alumno_AI\\Desktop\\Generativa\\Sam\\.venv\\Lib\\site-packages\\keras\\src\\layers\\core\\dense.py:87: UserWarning: Do not pass an `input_shape`/`input_dim` argument to a layer. When using Sequential models, prefer using an `Input(shape)` object as the first layer in the model instead.\n",
            "  super().__init__(activity_regularizer=activity_regularizer, **kwargs)\n"
          ]
        },
        {
          "name": "stdout",
          "output_type": "stream",
          "text": [
            "\u001b[1m16/16\u001b[0m \u001b[32m━━━━━━━━━━━━━━━━━━━━\u001b[0m\u001b[37m\u001b[0m \u001b[1m0s\u001b[0m 11ms/step\n",
            "\u001b[1m16/16\u001b[0m \u001b[32m━━━━━━━━━━━━━━━━━━━━\u001b[0m\u001b[37m\u001b[0m \u001b[1m0s\u001b[0m 3ms/step \n",
            "\u001b[1m16/16\u001b[0m \u001b[32m━━━━━━━━━━━━━━━━━━━━\u001b[0m\u001b[37m\u001b[0m \u001b[1m0s\u001b[0m 3ms/step \n",
            "\u001b[1m16/16\u001b[0m \u001b[32m━━━━━━━━━━━━━━━━━━━━\u001b[0m\u001b[37m\u001b[0m \u001b[1m0s\u001b[0m 3ms/step \n",
            "\u001b[1m16/16\u001b[0m \u001b[32m━━━━━━━━━━━━━━━━━━━━\u001b[0m\u001b[37m\u001b[0m \u001b[1m0s\u001b[0m 3ms/step \n"
          ]
        },
        {
          "name": "stderr",
          "output_type": "stream",
          "text": [
            "[I 2025-03-27 13:37:03,176] Trial 19 finished with value: 0.029821499918404094 and parameters: {'optimizer': 'adam', 'dropout_rate': 0.02864613293033136, 'learning_rate': 0.00016052588637799508, 'l2_rate': 0.0007157384314321452, 'hidden_units_1': 192, 'hidden_units_2': 128, 'batch_size': 16}. Best is trial 15 with value: 0.022882581322126404.\n",
            "c:\\Users\\Alumno_AI\\Desktop\\Generativa\\Sam\\.venv\\Lib\\site-packages\\keras\\src\\layers\\core\\dense.py:87: UserWarning: Do not pass an `input_shape`/`input_dim` argument to a layer. When using Sequential models, prefer using an `Input(shape)` object as the first layer in the model instead.\n",
            "  super().__init__(activity_regularizer=activity_regularizer, **kwargs)\n"
          ]
        },
        {
          "name": "stdout",
          "output_type": "stream",
          "text": [
            "\u001b[1m16/16\u001b[0m \u001b[32m━━━━━━━━━━━━━━━━━━━━\u001b[0m\u001b[37m\u001b[0m \u001b[1m0s\u001b[0m 13ms/step\n",
            "\u001b[1m16/16\u001b[0m \u001b[32m━━━━━━━━━━━━━━━━━━━━\u001b[0m\u001b[37m\u001b[0m \u001b[1m0s\u001b[0m 3ms/step \n",
            "\u001b[1m16/16\u001b[0m \u001b[32m━━━━━━━━━━━━━━━━━━━━\u001b[0m\u001b[37m\u001b[0m \u001b[1m0s\u001b[0m 5ms/step\n",
            "\u001b[1m16/16\u001b[0m \u001b[32m━━━━━━━━━━━━━━━━━━━━\u001b[0m\u001b[37m\u001b[0m \u001b[1m0s\u001b[0m 3ms/step \n",
            "\u001b[1m16/16\u001b[0m \u001b[32m━━━━━━━━━━━━━━━━━━━━\u001b[0m\u001b[37m\u001b[0m \u001b[1m0s\u001b[0m 3ms/step \n"
          ]
        },
        {
          "name": "stderr",
          "output_type": "stream",
          "text": [
            "[I 2025-03-27 13:38:00,667] Trial 20 finished with value: 0.03908501528650273 and parameters: {'optimizer': 'adam', 'dropout_rate': 0.0027838990777744156, 'learning_rate': 0.004843642816603899, 'l2_rate': 0.0008719088496836927, 'hidden_units_1': 128, 'hidden_units_2': 128, 'batch_size': 32}. Best is trial 15 with value: 0.022882581322126404.\n",
            "c:\\Users\\Alumno_AI\\Desktop\\Generativa\\Sam\\.venv\\Lib\\site-packages\\keras\\src\\layers\\core\\dense.py:87: UserWarning: Do not pass an `input_shape`/`input_dim` argument to a layer. When using Sequential models, prefer using an `Input(shape)` object as the first layer in the model instead.\n",
            "  super().__init__(activity_regularizer=activity_regularizer, **kwargs)\n"
          ]
        },
        {
          "name": "stdout",
          "output_type": "stream",
          "text": [
            "\u001b[1m16/16\u001b[0m \u001b[32m━━━━━━━━━━━━━━━━━━━━\u001b[0m\u001b[37m\u001b[0m \u001b[1m0s\u001b[0m 10ms/step\n",
            "\u001b[1m16/16\u001b[0m \u001b[32m━━━━━━━━━━━━━━━━━━━━\u001b[0m\u001b[37m\u001b[0m \u001b[1m0s\u001b[0m 3ms/step \n",
            "\u001b[1m16/16\u001b[0m \u001b[32m━━━━━━━━━━━━━━━━━━━━\u001b[0m\u001b[37m\u001b[0m \u001b[1m0s\u001b[0m 3ms/step \n",
            "\u001b[1m16/16\u001b[0m \u001b[32m━━━━━━━━━━━━━━━━━━━━\u001b[0m\u001b[37m\u001b[0m \u001b[1m0s\u001b[0m 3ms/step \n",
            "\u001b[1m16/16\u001b[0m \u001b[32m━━━━━━━━━━━━━━━━━━━━\u001b[0m\u001b[37m\u001b[0m \u001b[1m0s\u001b[0m 3ms/step \n"
          ]
        },
        {
          "name": "stderr",
          "output_type": "stream",
          "text": [
            "[I 2025-03-27 13:40:07,213] Trial 21 finished with value: 0.026593791397644007 and parameters: {'optimizer': 'nadam', 'dropout_rate': 0.0003637700677322584, 'learning_rate': 0.00026845161561848106, 'l2_rate': 0.0006060288090121399, 'hidden_units_1': 128, 'hidden_units_2': 128, 'batch_size': 16}. Best is trial 15 with value: 0.022882581322126404.\n",
            "c:\\Users\\Alumno_AI\\Desktop\\Generativa\\Sam\\.venv\\Lib\\site-packages\\keras\\src\\layers\\core\\dense.py:87: UserWarning: Do not pass an `input_shape`/`input_dim` argument to a layer. When using Sequential models, prefer using an `Input(shape)` object as the first layer in the model instead.\n",
            "  super().__init__(activity_regularizer=activity_regularizer, **kwargs)\n"
          ]
        },
        {
          "name": "stdout",
          "output_type": "stream",
          "text": [
            "\u001b[1m16/16\u001b[0m \u001b[32m━━━━━━━━━━━━━━━━━━━━\u001b[0m\u001b[37m\u001b[0m \u001b[1m0s\u001b[0m 10ms/step\n",
            "\u001b[1m16/16\u001b[0m \u001b[32m━━━━━━━━━━━━━━━━━━━━\u001b[0m\u001b[37m\u001b[0m \u001b[1m0s\u001b[0m 3ms/step \n",
            "\u001b[1m16/16\u001b[0m \u001b[32m━━━━━━━━━━━━━━━━━━━━\u001b[0m\u001b[37m\u001b[0m \u001b[1m0s\u001b[0m 2ms/step \n",
            "\u001b[1m16/16\u001b[0m \u001b[32m━━━━━━━━━━━━━━━━━━━━\u001b[0m\u001b[37m\u001b[0m \u001b[1m0s\u001b[0m 2ms/step \n",
            "\u001b[1m16/16\u001b[0m \u001b[32m━━━━━━━━━━━━━━━━━━━━\u001b[0m\u001b[37m\u001b[0m \u001b[1m0s\u001b[0m 3ms/step \n"
          ]
        },
        {
          "name": "stderr",
          "output_type": "stream",
          "text": [
            "[I 2025-03-27 13:42:23,964] Trial 22 finished with value: 0.03196622346059349 and parameters: {'optimizer': 'adam', 'dropout_rate': 0.059911658233937064, 'learning_rate': 0.0002275184858147935, 'l2_rate': 0.0005541267114873066, 'hidden_units_1': 192, 'hidden_units_2': 128, 'batch_size': 16}. Best is trial 15 with value: 0.022882581322126404.\n",
            "c:\\Users\\Alumno_AI\\Desktop\\Generativa\\Sam\\.venv\\Lib\\site-packages\\keras\\src\\layers\\core\\dense.py:87: UserWarning: Do not pass an `input_shape`/`input_dim` argument to a layer. When using Sequential models, prefer using an `Input(shape)` object as the first layer in the model instead.\n",
            "  super().__init__(activity_regularizer=activity_regularizer, **kwargs)\n"
          ]
        },
        {
          "name": "stdout",
          "output_type": "stream",
          "text": [
            "\u001b[1m16/16\u001b[0m \u001b[32m━━━━━━━━━━━━━━━━━━━━\u001b[0m\u001b[37m\u001b[0m \u001b[1m0s\u001b[0m 11ms/step\n",
            "\u001b[1m16/16\u001b[0m \u001b[32m━━━━━━━━━━━━━━━━━━━━\u001b[0m\u001b[37m\u001b[0m \u001b[1m0s\u001b[0m 3ms/step \n",
            "\u001b[1m16/16\u001b[0m \u001b[32m━━━━━━━━━━━━━━━━━━━━\u001b[0m\u001b[37m\u001b[0m \u001b[1m0s\u001b[0m 3ms/step \n",
            "\u001b[1m16/16\u001b[0m \u001b[32m━━━━━━━━━━━━━━━━━━━━\u001b[0m\u001b[37m\u001b[0m \u001b[1m0s\u001b[0m 3ms/step \n",
            "\u001b[1m16/16\u001b[0m \u001b[32m━━━━━━━━━━━━━━━━━━━━\u001b[0m\u001b[37m\u001b[0m \u001b[1m0s\u001b[0m 3ms/step \n"
          ]
        },
        {
          "name": "stderr",
          "output_type": "stream",
          "text": [
            "[I 2025-03-27 13:44:38,950] Trial 23 finished with value: 0.03393451512038096 and parameters: {'optimizer': 'nadam', 'dropout_rate': 0.07997233754569025, 'learning_rate': 0.000527923576902257, 'l2_rate': 0.0007096251916909538, 'hidden_units_1': 128, 'hidden_units_2': 96, 'batch_size': 16}. Best is trial 15 with value: 0.022882581322126404.\n",
            "c:\\Users\\Alumno_AI\\Desktop\\Generativa\\Sam\\.venv\\Lib\\site-packages\\keras\\src\\layers\\core\\dense.py:87: UserWarning: Do not pass an `input_shape`/`input_dim` argument to a layer. When using Sequential models, prefer using an `Input(shape)` object as the first layer in the model instead.\n",
            "  super().__init__(activity_regularizer=activity_regularizer, **kwargs)\n"
          ]
        },
        {
          "name": "stdout",
          "output_type": "stream",
          "text": [
            "\u001b[1m16/16\u001b[0m \u001b[32m━━━━━━━━━━━━━━━━━━━━\u001b[0m\u001b[37m\u001b[0m \u001b[1m0s\u001b[0m 10ms/step\n",
            "\u001b[1m16/16\u001b[0m \u001b[32m━━━━━━━━━━━━━━━━━━━━\u001b[0m\u001b[37m\u001b[0m \u001b[1m0s\u001b[0m 3ms/step \n",
            "\u001b[1m16/16\u001b[0m \u001b[32m━━━━━━━━━━━━━━━━━━━━\u001b[0m\u001b[37m\u001b[0m \u001b[1m0s\u001b[0m 3ms/step \n",
            "\u001b[1m16/16\u001b[0m \u001b[32m━━━━━━━━━━━━━━━━━━━━\u001b[0m\u001b[37m\u001b[0m \u001b[1m0s\u001b[0m 3ms/step \n",
            "\u001b[1m16/16\u001b[0m \u001b[32m━━━━━━━━━━━━━━━━━━━━\u001b[0m\u001b[37m\u001b[0m \u001b[1m0s\u001b[0m 3ms/step \n"
          ]
        },
        {
          "name": "stderr",
          "output_type": "stream",
          "text": [
            "[I 2025-03-27 13:47:03,094] Trial 24 finished with value: 0.02595792737945435 and parameters: {'optimizer': 'adam', 'dropout_rate': 0.03101562415986493, 'learning_rate': 0.00029093219402872656, 'l2_rate': 0.0005340487587368826, 'hidden_units_1': 192, 'hidden_units_2': 128, 'batch_size': 16}. Best is trial 15 with value: 0.022882581322126404.\n",
            "c:\\Users\\Alumno_AI\\Desktop\\Generativa\\Sam\\.venv\\Lib\\site-packages\\keras\\src\\layers\\core\\dense.py:87: UserWarning: Do not pass an `input_shape`/`input_dim` argument to a layer. When using Sequential models, prefer using an `Input(shape)` object as the first layer in the model instead.\n",
            "  super().__init__(activity_regularizer=activity_regularizer, **kwargs)\n"
          ]
        },
        {
          "name": "stdout",
          "output_type": "stream",
          "text": [
            "\u001b[1m16/16\u001b[0m \u001b[32m━━━━━━━━━━━━━━━━━━━━\u001b[0m\u001b[37m\u001b[0m \u001b[1m0s\u001b[0m 9ms/step\n",
            "\u001b[1m16/16\u001b[0m \u001b[32m━━━━━━━━━━━━━━━━━━━━\u001b[0m\u001b[37m\u001b[0m \u001b[1m0s\u001b[0m 3ms/step \n",
            "\u001b[1m16/16\u001b[0m \u001b[32m━━━━━━━━━━━━━━━━━━━━\u001b[0m\u001b[37m\u001b[0m \u001b[1m0s\u001b[0m 3ms/step \n",
            "\u001b[1m16/16\u001b[0m \u001b[32m━━━━━━━━━━━━━━━━━━━━\u001b[0m\u001b[37m\u001b[0m \u001b[1m0s\u001b[0m 2ms/step \n",
            "\u001b[1m16/16\u001b[0m \u001b[32m━━━━━━━━━━━━━━━━━━━━\u001b[0m\u001b[37m\u001b[0m \u001b[1m0s\u001b[0m 2ms/step \n"
          ]
        },
        {
          "name": "stderr",
          "output_type": "stream",
          "text": [
            "[I 2025-03-27 13:50:02,790] Trial 25 finished with value: 0.036198585354745905 and parameters: {'optimizer': 'adam', 'dropout_rate': 0.0008773890903226705, 'learning_rate': 0.00010407017108846135, 'l2_rate': 0.0009031026219638011, 'hidden_units_1': 128, 'hidden_units_2': 96, 'batch_size': 16}. Best is trial 15 with value: 0.022882581322126404.\n",
            "c:\\Users\\Alumno_AI\\Desktop\\Generativa\\Sam\\.venv\\Lib\\site-packages\\keras\\src\\layers\\core\\dense.py:87: UserWarning: Do not pass an `input_shape`/`input_dim` argument to a layer. When using Sequential models, prefer using an `Input(shape)` object as the first layer in the model instead.\n",
            "  super().__init__(activity_regularizer=activity_regularizer, **kwargs)\n"
          ]
        },
        {
          "name": "stdout",
          "output_type": "stream",
          "text": [
            "\u001b[1m16/16\u001b[0m \u001b[32m━━━━━━━━━━━━━━━━━━━━\u001b[0m\u001b[37m\u001b[0m \u001b[1m0s\u001b[0m 9ms/step\n",
            "\u001b[1m16/16\u001b[0m \u001b[32m━━━━━━━━━━━━━━━━━━━━\u001b[0m\u001b[37m\u001b[0m \u001b[1m0s\u001b[0m 3ms/step \n",
            "\u001b[1m16/16\u001b[0m \u001b[32m━━━━━━━━━━━━━━━━━━━━\u001b[0m\u001b[37m\u001b[0m \u001b[1m0s\u001b[0m 3ms/step \n",
            "\u001b[1m16/16\u001b[0m \u001b[32m━━━━━━━━━━━━━━━━━━━━\u001b[0m\u001b[37m\u001b[0m \u001b[1m0s\u001b[0m 3ms/step \n",
            "\u001b[1m16/16\u001b[0m \u001b[32m━━━━━━━━━━━━━━━━━━━━\u001b[0m\u001b[37m\u001b[0m \u001b[1m0s\u001b[0m 3ms/step \n"
          ]
        },
        {
          "name": "stderr",
          "output_type": "stream",
          "text": [
            "[I 2025-03-27 13:52:10,268] Trial 26 finished with value: 0.028216548980934064 and parameters: {'optimizer': 'nadam', 'dropout_rate': 0.027771177126764225, 'learning_rate': 0.00018943572009456607, 'l2_rate': 0.0007708147943737493, 'hidden_units_1': 192, 'hidden_units_2': 128, 'batch_size': 16}. Best is trial 15 with value: 0.022882581322126404.\n",
            "c:\\Users\\Alumno_AI\\Desktop\\Generativa\\Sam\\.venv\\Lib\\site-packages\\keras\\src\\layers\\core\\dense.py:87: UserWarning: Do not pass an `input_shape`/`input_dim` argument to a layer. When using Sequential models, prefer using an `Input(shape)` object as the first layer in the model instead.\n",
            "  super().__init__(activity_regularizer=activity_regularizer, **kwargs)\n"
          ]
        },
        {
          "name": "stdout",
          "output_type": "stream",
          "text": [
            "\u001b[1m16/16\u001b[0m \u001b[32m━━━━━━━━━━━━━━━━━━━━\u001b[0m\u001b[37m\u001b[0m \u001b[1m0s\u001b[0m 9ms/step\n",
            "\u001b[1m16/16\u001b[0m \u001b[32m━━━━━━━━━━━━━━━━━━━━\u001b[0m\u001b[37m\u001b[0m \u001b[1m0s\u001b[0m 3ms/step \n",
            "\u001b[1m16/16\u001b[0m \u001b[32m━━━━━━━━━━━━━━━━━━━━\u001b[0m\u001b[37m\u001b[0m \u001b[1m0s\u001b[0m 3ms/step \n",
            "\u001b[1m16/16\u001b[0m \u001b[32m━━━━━━━━━━━━━━━━━━━━\u001b[0m\u001b[37m\u001b[0m \u001b[1m0s\u001b[0m 2ms/step \n",
            "\u001b[1m16/16\u001b[0m \u001b[32m━━━━━━━━━━━━━━━━━━━━\u001b[0m\u001b[37m\u001b[0m \u001b[1m0s\u001b[0m 3ms/step \n"
          ]
        },
        {
          "name": "stderr",
          "output_type": "stream",
          "text": [
            "[I 2025-03-27 13:54:04,644] Trial 27 finished with value: 0.031225918731796316 and parameters: {'optimizer': 'adam', 'dropout_rate': 0.08513405569974583, 'learning_rate': 0.00036039031507941805, 'l2_rate': 0.0006636724021389399, 'hidden_units_1': 128, 'hidden_units_2': 128, 'batch_size': 16}. Best is trial 15 with value: 0.022882581322126404.\n",
            "c:\\Users\\Alumno_AI\\Desktop\\Generativa\\Sam\\.venv\\Lib\\site-packages\\keras\\src\\layers\\core\\dense.py:87: UserWarning: Do not pass an `input_shape`/`input_dim` argument to a layer. When using Sequential models, prefer using an `Input(shape)` object as the first layer in the model instead.\n",
            "  super().__init__(activity_regularizer=activity_regularizer, **kwargs)\n"
          ]
        },
        {
          "name": "stdout",
          "output_type": "stream",
          "text": [
            "\u001b[1m16/16\u001b[0m \u001b[32m━━━━━━━━━━━━━━━━━━━━\u001b[0m\u001b[37m\u001b[0m \u001b[1m0s\u001b[0m 9ms/step\n",
            "\u001b[1m16/16\u001b[0m \u001b[32m━━━━━━━━━━━━━━━━━━━━\u001b[0m\u001b[37m\u001b[0m \u001b[1m0s\u001b[0m 2ms/step \n",
            "\u001b[1m16/16\u001b[0m \u001b[32m━━━━━━━━━━━━━━━━━━━━\u001b[0m\u001b[37m\u001b[0m \u001b[1m0s\u001b[0m 3ms/step \n",
            "\u001b[1m16/16\u001b[0m \u001b[32m━━━━━━━━━━━━━━━━━━━━\u001b[0m\u001b[37m\u001b[0m \u001b[1m0s\u001b[0m 2ms/step \n",
            "\u001b[1m16/16\u001b[0m \u001b[32m━━━━━━━━━━━━━━━━━━━━\u001b[0m\u001b[37m\u001b[0m \u001b[1m0s\u001b[0m 3ms/step \n"
          ]
        },
        {
          "name": "stderr",
          "output_type": "stream",
          "text": [
            "[I 2025-03-27 13:55:07,628] Trial 28 finished with value: 0.021939183473614267 and parameters: {'optimizer': 'nadam', 'dropout_rate': 0.0483626348436208, 'learning_rate': 0.000816493314642902, 'l2_rate': 0.0003862856717141926, 'hidden_units_1': 64, 'hidden_units_2': 96, 'batch_size': 32}. Best is trial 28 with value: 0.021939183473614267.\n",
            "c:\\Users\\Alumno_AI\\Desktop\\Generativa\\Sam\\.venv\\Lib\\site-packages\\keras\\src\\layers\\core\\dense.py:87: UserWarning: Do not pass an `input_shape`/`input_dim` argument to a layer. When using Sequential models, prefer using an `Input(shape)` object as the first layer in the model instead.\n",
            "  super().__init__(activity_regularizer=activity_regularizer, **kwargs)\n"
          ]
        },
        {
          "name": "stdout",
          "output_type": "stream",
          "text": [
            "\u001b[1m16/16\u001b[0m \u001b[32m━━━━━━━━━━━━━━━━━━━━\u001b[0m\u001b[37m\u001b[0m \u001b[1m0s\u001b[0m 8ms/step\n",
            "\u001b[1m16/16\u001b[0m \u001b[32m━━━━━━━━━━━━━━━━━━━━\u001b[0m\u001b[37m\u001b[0m \u001b[1m0s\u001b[0m 2ms/step \n",
            "\u001b[1m16/16\u001b[0m \u001b[32m━━━━━━━━━━━━━━━━━━━━\u001b[0m\u001b[37m\u001b[0m \u001b[1m0s\u001b[0m 2ms/step \n",
            "\u001b[1m16/16\u001b[0m \u001b[32m━━━━━━━━━━━━━━━━━━━━\u001b[0m\u001b[37m\u001b[0m \u001b[1m0s\u001b[0m 5ms/step\n",
            "\u001b[1m16/16\u001b[0m \u001b[32m━━━━━━━━━━━━━━━━━━━━\u001b[0m\u001b[37m\u001b[0m \u001b[1m0s\u001b[0m 3ms/step \n"
          ]
        },
        {
          "name": "stderr",
          "output_type": "stream",
          "text": [
            "[I 2025-03-27 13:55:53,745] Trial 29 finished with value: 0.027534047064523635 and parameters: {'optimizer': 'nadam', 'dropout_rate': 0.04720191292137517, 'learning_rate': 0.0017828080442105706, 'l2_rate': 0.0003776372209133442, 'hidden_units_1': 64, 'hidden_units_2': 96, 'batch_size': 32}. Best is trial 28 with value: 0.021939183473614267.\n",
            "c:\\Users\\Alumno_AI\\Desktop\\Generativa\\Sam\\.venv\\Lib\\site-packages\\keras\\src\\layers\\core\\dense.py:87: UserWarning: Do not pass an `input_shape`/`input_dim` argument to a layer. When using Sequential models, prefer using an `Input(shape)` object as the first layer in the model instead.\n",
            "  super().__init__(activity_regularizer=activity_regularizer, **kwargs)\n"
          ]
        },
        {
          "name": "stdout",
          "output_type": "stream",
          "text": [
            "\u001b[1m16/16\u001b[0m \u001b[32m━━━━━━━━━━━━━━━━━━━━\u001b[0m\u001b[37m\u001b[0m \u001b[1m0s\u001b[0m 9ms/step\n",
            "\u001b[1m16/16\u001b[0m \u001b[32m━━━━━━━━━━━━━━━━━━━━\u001b[0m\u001b[37m\u001b[0m \u001b[1m0s\u001b[0m 2ms/step \n",
            "\u001b[1m16/16\u001b[0m \u001b[32m━━━━━━━━━━━━━━━━━━━━\u001b[0m\u001b[37m\u001b[0m \u001b[1m0s\u001b[0m 2ms/step \n",
            "\u001b[1m16/16\u001b[0m \u001b[32m━━━━━━━━━━━━━━━━━━━━\u001b[0m\u001b[37m\u001b[0m \u001b[1m0s\u001b[0m 2ms/step \n",
            "\u001b[1m16/16\u001b[0m \u001b[32m━━━━━━━━━━━━━━━━━━━━\u001b[0m\u001b[37m\u001b[0m \u001b[1m0s\u001b[0m 3ms/step \n"
          ]
        },
        {
          "name": "stderr",
          "output_type": "stream",
          "text": [
            "[I 2025-03-27 13:56:53,734] Trial 30 finished with value: 0.03485027637697301 and parameters: {'optimizer': 'adam', 'dropout_rate': 0.1320684429332073, 'learning_rate': 0.0008432338804639035, 'l2_rate': 0.00013150951802723317, 'hidden_units_1': 64, 'hidden_units_2': 96, 'batch_size': 32}. Best is trial 28 with value: 0.021939183473614267.\n",
            "c:\\Users\\Alumno_AI\\Desktop\\Generativa\\Sam\\.venv\\Lib\\site-packages\\keras\\src\\layers\\core\\dense.py:87: UserWarning: Do not pass an `input_shape`/`input_dim` argument to a layer. When using Sequential models, prefer using an `Input(shape)` object as the first layer in the model instead.\n",
            "  super().__init__(activity_regularizer=activity_regularizer, **kwargs)\n"
          ]
        },
        {
          "name": "stdout",
          "output_type": "stream",
          "text": [
            "\u001b[1m16/16\u001b[0m \u001b[32m━━━━━━━━━━━━━━━━━━━━\u001b[0m\u001b[37m\u001b[0m \u001b[1m0s\u001b[0m 9ms/step\n",
            "\u001b[1m16/16\u001b[0m \u001b[32m━━━━━━━━━━━━━━━━━━━━\u001b[0m\u001b[37m\u001b[0m \u001b[1m0s\u001b[0m 2ms/step \n",
            "\u001b[1m16/16\u001b[0m \u001b[32m━━━━━━━━━━━━━━━━━━━━\u001b[0m\u001b[37m\u001b[0m \u001b[1m0s\u001b[0m 2ms/step \n",
            "\u001b[1m16/16\u001b[0m \u001b[32m━━━━━━━━━━━━━━━━━━━━\u001b[0m\u001b[37m\u001b[0m \u001b[1m0s\u001b[0m 2ms/step \n",
            "\u001b[1m16/16\u001b[0m \u001b[32m━━━━━━━━━━━━━━━━━━━━\u001b[0m\u001b[37m\u001b[0m \u001b[1m0s\u001b[0m 2ms/step \n"
          ]
        },
        {
          "name": "stderr",
          "output_type": "stream",
          "text": [
            "[I 2025-03-27 13:57:51,235] Trial 31 finished with value: 0.018884219724163633 and parameters: {'optimizer': 'nadam', 'dropout_rate': 0.01822383028482529, 'learning_rate': 0.0006021944547685338, 'l2_rate': 0.0004595692941164605, 'hidden_units_1': 64, 'hidden_units_2': 128, 'batch_size': 32}. Best is trial 31 with value: 0.018884219724163633.\n",
            "c:\\Users\\Alumno_AI\\Desktop\\Generativa\\Sam\\.venv\\Lib\\site-packages\\keras\\src\\layers\\core\\dense.py:87: UserWarning: Do not pass an `input_shape`/`input_dim` argument to a layer. When using Sequential models, prefer using an `Input(shape)` object as the first layer in the model instead.\n",
            "  super().__init__(activity_regularizer=activity_regularizer, **kwargs)\n"
          ]
        },
        {
          "name": "stdout",
          "output_type": "stream",
          "text": [
            "\u001b[1m16/16\u001b[0m \u001b[32m━━━━━━━━━━━━━━━━━━━━\u001b[0m\u001b[37m\u001b[0m \u001b[1m0s\u001b[0m 10ms/step\n",
            "\u001b[1m16/16\u001b[0m \u001b[32m━━━━━━━━━━━━━━━━━━━━\u001b[0m\u001b[37m\u001b[0m \u001b[1m0s\u001b[0m 2ms/step \n",
            "\u001b[1m16/16\u001b[0m \u001b[32m━━━━━━━━━━━━━━━━━━━━\u001b[0m\u001b[37m\u001b[0m \u001b[1m0s\u001b[0m 2ms/step \n",
            "\u001b[1m16/16\u001b[0m \u001b[32m━━━━━━━━━━━━━━━━━━━━\u001b[0m\u001b[37m\u001b[0m \u001b[1m0s\u001b[0m 2ms/step \n",
            "\u001b[1m16/16\u001b[0m \u001b[32m━━━━━━━━━━━━━━━━━━━━\u001b[0m\u001b[37m\u001b[0m \u001b[1m0s\u001b[0m 2ms/step \n"
          ]
        },
        {
          "name": "stderr",
          "output_type": "stream",
          "text": [
            "[I 2025-03-27 13:58:52,693] Trial 32 finished with value: 0.018180513334921426 and parameters: {'optimizer': 'nadam', 'dropout_rate': 0.02018255174133714, 'learning_rate': 0.0006031642795685922, 'l2_rate': 0.00045293476724625313, 'hidden_units_1': 64, 'hidden_units_2': 128, 'batch_size': 32}. Best is trial 32 with value: 0.018180513334921426.\n",
            "c:\\Users\\Alumno_AI\\Desktop\\Generativa\\Sam\\.venv\\Lib\\site-packages\\keras\\src\\layers\\core\\dense.py:87: UserWarning: Do not pass an `input_shape`/`input_dim` argument to a layer. When using Sequential models, prefer using an `Input(shape)` object as the first layer in the model instead.\n",
            "  super().__init__(activity_regularizer=activity_regularizer, **kwargs)\n"
          ]
        },
        {
          "name": "stdout",
          "output_type": "stream",
          "text": [
            "\u001b[1m16/16\u001b[0m \u001b[32m━━━━━━━━━━━━━━━━━━━━\u001b[0m\u001b[37m\u001b[0m \u001b[1m0s\u001b[0m 10ms/step\n",
            "\u001b[1m16/16\u001b[0m \u001b[32m━━━━━━━━━━━━━━━━━━━━\u001b[0m\u001b[37m\u001b[0m \u001b[1m0s\u001b[0m 3ms/step \n",
            "\u001b[1m16/16\u001b[0m \u001b[32m━━━━━━━━━━━━━━━━━━━━\u001b[0m\u001b[37m\u001b[0m \u001b[1m0s\u001b[0m 2ms/step \n",
            "\u001b[1m16/16\u001b[0m \u001b[32m━━━━━━━━━━━━━━━━━━━━\u001b[0m\u001b[37m\u001b[0m \u001b[1m0s\u001b[0m 2ms/step \n",
            "\u001b[1m16/16\u001b[0m \u001b[32m━━━━━━━━━━━━━━━━━━━━\u001b[0m\u001b[37m\u001b[0m \u001b[1m0s\u001b[0m 3ms/step \n"
          ]
        },
        {
          "name": "stderr",
          "output_type": "stream",
          "text": [
            "[I 2025-03-27 13:59:56,553] Trial 33 finished with value: 0.0227861558147018 and parameters: {'optimizer': 'nadam', 'dropout_rate': 0.049809874890973514, 'learning_rate': 0.0005869309460592374, 'l2_rate': 0.00040690539163605453, 'hidden_units_1': 64, 'hidden_units_2': 96, 'batch_size': 32}. Best is trial 32 with value: 0.018180513334921426.\n",
            "c:\\Users\\Alumno_AI\\Desktop\\Generativa\\Sam\\.venv\\Lib\\site-packages\\keras\\src\\layers\\core\\dense.py:87: UserWarning: Do not pass an `input_shape`/`input_dim` argument to a layer. When using Sequential models, prefer using an `Input(shape)` object as the first layer in the model instead.\n",
            "  super().__init__(activity_regularizer=activity_regularizer, **kwargs)\n"
          ]
        },
        {
          "name": "stdout",
          "output_type": "stream",
          "text": [
            "\u001b[1m16/16\u001b[0m \u001b[32m━━━━━━━━━━━━━━━━━━━━\u001b[0m\u001b[37m\u001b[0m \u001b[1m0s\u001b[0m 10ms/step\n",
            "\u001b[1m16/16\u001b[0m \u001b[32m━━━━━━━━━━━━━━━━━━━━\u001b[0m\u001b[37m\u001b[0m \u001b[1m0s\u001b[0m 2ms/step \n",
            "\u001b[1m16/16\u001b[0m \u001b[32m━━━━━━━━━━━━━━━━━━━━\u001b[0m\u001b[37m\u001b[0m \u001b[1m0s\u001b[0m 2ms/step \n",
            "\u001b[1m16/16\u001b[0m \u001b[32m━━━━━━━━━━━━━━━━━━━━\u001b[0m\u001b[37m\u001b[0m \u001b[1m0s\u001b[0m 3ms/step \n",
            "\u001b[1m16/16\u001b[0m \u001b[32m━━━━━━━━━━━━━━━━━━━━\u001b[0m\u001b[37m\u001b[0m \u001b[1m0s\u001b[0m 2ms/step \n"
          ]
        },
        {
          "name": "stderr",
          "output_type": "stream",
          "text": [
            "[I 2025-03-27 14:01:01,664] Trial 34 finished with value: 0.035329011168158765 and parameters: {'optimizer': 'nadam', 'dropout_rate': 0.16955208802269292, 'learning_rate': 0.0005632750837431121, 'l2_rate': 0.0003820392126666554, 'hidden_units_1': 64, 'hidden_units_2': 96, 'batch_size': 32}. Best is trial 32 with value: 0.018180513334921426.\n",
            "c:\\Users\\Alumno_AI\\Desktop\\Generativa\\Sam\\.venv\\Lib\\site-packages\\keras\\src\\layers\\core\\dense.py:87: UserWarning: Do not pass an `input_shape`/`input_dim` argument to a layer. When using Sequential models, prefer using an `Input(shape)` object as the first layer in the model instead.\n",
            "  super().__init__(activity_regularizer=activity_regularizer, **kwargs)\n"
          ]
        },
        {
          "name": "stdout",
          "output_type": "stream",
          "text": [
            "\u001b[1m16/16\u001b[0m \u001b[32m━━━━━━━━━━━━━━━━━━━━\u001b[0m\u001b[37m\u001b[0m \u001b[1m0s\u001b[0m 9ms/step\n",
            "\u001b[1m16/16\u001b[0m \u001b[32m━━━━━━━━━━━━━━━━━━━━\u001b[0m\u001b[37m\u001b[0m \u001b[1m0s\u001b[0m 2ms/step \n",
            "\u001b[1m16/16\u001b[0m \u001b[32m━━━━━━━━━━━━━━━━━━━━\u001b[0m\u001b[37m\u001b[0m \u001b[1m0s\u001b[0m 2ms/step \n",
            "\u001b[1m16/16\u001b[0m \u001b[32m━━━━━━━━━━━━━━━━━━━━\u001b[0m\u001b[37m\u001b[0m \u001b[1m0s\u001b[0m 2ms/step \n",
            "\u001b[1m16/16\u001b[0m \u001b[32m━━━━━━━━━━━━━━━━━━━━\u001b[0m\u001b[37m\u001b[0m \u001b[1m0s\u001b[0m 2ms/step \n"
          ]
        },
        {
          "name": "stderr",
          "output_type": "stream",
          "text": [
            "[I 2025-03-27 14:01:55,017] Trial 35 finished with value: 0.027367663271539742 and parameters: {'optimizer': 'nadam', 'dropout_rate': 0.05221048145106357, 'learning_rate': 0.0015932950843352846, 'l2_rate': 0.0004333700789295676, 'hidden_units_1': 64, 'hidden_units_2': 96, 'batch_size': 32}. Best is trial 32 with value: 0.018180513334921426.\n",
            "c:\\Users\\Alumno_AI\\Desktop\\Generativa\\Sam\\.venv\\Lib\\site-packages\\keras\\src\\layers\\core\\dense.py:87: UserWarning: Do not pass an `input_shape`/`input_dim` argument to a layer. When using Sequential models, prefer using an `Input(shape)` object as the first layer in the model instead.\n",
            "  super().__init__(activity_regularizer=activity_regularizer, **kwargs)\n"
          ]
        },
        {
          "name": "stdout",
          "output_type": "stream",
          "text": [
            "\u001b[1m16/16\u001b[0m \u001b[32m━━━━━━━━━━━━━━━━━━━━\u001b[0m\u001b[37m\u001b[0m \u001b[1m0s\u001b[0m 9ms/step\n",
            "\u001b[1m16/16\u001b[0m \u001b[32m━━━━━━━━━━━━━━━━━━━━\u001b[0m\u001b[37m\u001b[0m \u001b[1m0s\u001b[0m 3ms/step \n",
            "\u001b[1m16/16\u001b[0m \u001b[32m━━━━━━━━━━━━━━━━━━━━\u001b[0m\u001b[37m\u001b[0m \u001b[1m0s\u001b[0m 3ms/step \n",
            "\u001b[1m16/16\u001b[0m \u001b[32m━━━━━━━━━━━━━━━━━━━━\u001b[0m\u001b[37m\u001b[0m \u001b[1m0s\u001b[0m 3ms/step \n",
            "\u001b[1m16/16\u001b[0m \u001b[32m━━━━━━━━━━━━━━━━━━━━\u001b[0m\u001b[37m\u001b[0m \u001b[1m0s\u001b[0m 2ms/step \n"
          ]
        },
        {
          "name": "stderr",
          "output_type": "stream",
          "text": [
            "[I 2025-03-27 14:02:46,689] Trial 36 finished with value: 0.03198391591521258 and parameters: {'optimizer': 'nadam', 'dropout_rate': 0.09072254739895884, 'learning_rate': 0.0010407362053856896, 'l2_rate': 0.0003293776494702433, 'hidden_units_1': 64, 'hidden_units_2': 64, 'batch_size': 32}. Best is trial 32 with value: 0.018180513334921426.\n",
            "c:\\Users\\Alumno_AI\\Desktop\\Generativa\\Sam\\.venv\\Lib\\site-packages\\keras\\src\\layers\\core\\dense.py:87: UserWarning: Do not pass an `input_shape`/`input_dim` argument to a layer. When using Sequential models, prefer using an `Input(shape)` object as the first layer in the model instead.\n",
            "  super().__init__(activity_regularizer=activity_regularizer, **kwargs)\n"
          ]
        },
        {
          "name": "stdout",
          "output_type": "stream",
          "text": [
            "\u001b[1m16/16\u001b[0m \u001b[32m━━━━━━━━━━━━━━━━━━━━\u001b[0m\u001b[37m\u001b[0m \u001b[1m0s\u001b[0m 9ms/step\n",
            "\u001b[1m16/16\u001b[0m \u001b[32m━━━━━━━━━━━━━━━━━━━━\u001b[0m\u001b[37m\u001b[0m \u001b[1m0s\u001b[0m 3ms/step \n",
            "\u001b[1m16/16\u001b[0m \u001b[32m━━━━━━━━━━━━━━━━━━━━\u001b[0m\u001b[37m\u001b[0m \u001b[1m0s\u001b[0m 2ms/step \n",
            "\u001b[1m16/16\u001b[0m \u001b[32m━━━━━━━━━━━━━━━━━━━━\u001b[0m\u001b[37m\u001b[0m \u001b[1m0s\u001b[0m 2ms/step \n",
            "\u001b[1m16/16\u001b[0m \u001b[32m━━━━━━━━━━━━━━━━━━━━\u001b[0m\u001b[37m\u001b[0m \u001b[1m0s\u001b[0m 3ms/step \n"
          ]
        },
        {
          "name": "stderr",
          "output_type": "stream",
          "text": [
            "[I 2025-03-27 14:03:48,763] Trial 37 finished with value: 0.03705642963337248 and parameters: {'optimizer': 'nadam', 'dropout_rate': 0.17246465068038377, 'learning_rate': 0.0006947758780391941, 'l2_rate': 0.0004839942553144972, 'hidden_units_1': 64, 'hidden_units_2': 96, 'batch_size': 32}. Best is trial 32 with value: 0.018180513334921426.\n",
            "c:\\Users\\Alumno_AI\\Desktop\\Generativa\\Sam\\.venv\\Lib\\site-packages\\keras\\src\\layers\\core\\dense.py:87: UserWarning: Do not pass an `input_shape`/`input_dim` argument to a layer. When using Sequential models, prefer using an `Input(shape)` object as the first layer in the model instead.\n",
            "  super().__init__(activity_regularizer=activity_regularizer, **kwargs)\n"
          ]
        },
        {
          "name": "stdout",
          "output_type": "stream",
          "text": [
            "\u001b[1m16/16\u001b[0m \u001b[32m━━━━━━━━━━━━━━━━━━━━\u001b[0m\u001b[37m\u001b[0m \u001b[1m0s\u001b[0m 9ms/step\n",
            "\u001b[1m16/16\u001b[0m \u001b[32m━━━━━━━━━━━━━━━━━━━━\u001b[0m\u001b[37m\u001b[0m \u001b[1m0s\u001b[0m 2ms/step \n",
            "\u001b[1m16/16\u001b[0m \u001b[32m━━━━━━━━━━━━━━━━━━━━\u001b[0m\u001b[37m\u001b[0m \u001b[1m0s\u001b[0m 3ms/step \n",
            "\u001b[1m16/16\u001b[0m \u001b[32m━━━━━━━━━━━━━━━━━━━━\u001b[0m\u001b[37m\u001b[0m \u001b[1m0s\u001b[0m 2ms/step \n",
            "\u001b[1m16/16\u001b[0m \u001b[32m━━━━━━━━━━━━━━━━━━━━\u001b[0m\u001b[37m\u001b[0m \u001b[1m0s\u001b[0m 2ms/step \n"
          ]
        },
        {
          "name": "stderr",
          "output_type": "stream",
          "text": [
            "[I 2025-03-27 14:04:26,582] Trial 38 finished with value: 0.03180767166703948 and parameters: {'optimizer': 'nadam', 'dropout_rate': 0.036709892027943995, 'learning_rate': 0.0025637193371223577, 'l2_rate': 0.000187027858949171, 'hidden_units_1': 64, 'hidden_units_2': 64, 'batch_size': 32}. Best is trial 32 with value: 0.018180513334921426.\n",
            "c:\\Users\\Alumno_AI\\Desktop\\Generativa\\Sam\\.venv\\Lib\\site-packages\\keras\\src\\layers\\core\\dense.py:87: UserWarning: Do not pass an `input_shape`/`input_dim` argument to a layer. When using Sequential models, prefer using an `Input(shape)` object as the first layer in the model instead.\n",
            "  super().__init__(activity_regularizer=activity_regularizer, **kwargs)\n"
          ]
        },
        {
          "name": "stdout",
          "output_type": "stream",
          "text": [
            "\u001b[1m16/16\u001b[0m \u001b[32m━━━━━━━━━━━━━━━━━━━━\u001b[0m\u001b[37m\u001b[0m \u001b[1m0s\u001b[0m 9ms/step\n",
            "\u001b[1m16/16\u001b[0m \u001b[32m━━━━━━━━━━━━━━━━━━━━\u001b[0m\u001b[37m\u001b[0m \u001b[1m0s\u001b[0m 2ms/step \n",
            "\u001b[1m16/16\u001b[0m \u001b[32m━━━━━━━━━━━━━━━━━━━━\u001b[0m\u001b[37m\u001b[0m \u001b[1m0s\u001b[0m 2ms/step \n",
            "\u001b[1m16/16\u001b[0m \u001b[32m━━━━━━━━━━━━━━━━━━━━\u001b[0m\u001b[37m\u001b[0m \u001b[1m0s\u001b[0m 2ms/step \n",
            "\u001b[1m16/16\u001b[0m \u001b[32m━━━━━━━━━━━━━━━━━━━━\u001b[0m\u001b[37m\u001b[0m \u001b[1m0s\u001b[0m 2ms/step \n"
          ]
        },
        {
          "name": "stderr",
          "output_type": "stream",
          "text": [
            "[I 2025-03-27 14:05:26,707] Trial 39 finished with value: 0.023543349375890477 and parameters: {'optimizer': 'nadam', 'dropout_rate': 0.06588036609916559, 'learning_rate': 0.000570712698905585, 'l2_rate': 0.00031541569124513957, 'hidden_units_1': 64, 'hidden_units_2': 96, 'batch_size': 32}. Best is trial 32 with value: 0.018180513334921426.\n",
            "c:\\Users\\Alumno_AI\\Desktop\\Generativa\\Sam\\.venv\\Lib\\site-packages\\keras\\src\\layers\\core\\dense.py:87: UserWarning: Do not pass an `input_shape`/`input_dim` argument to a layer. When using Sequential models, prefer using an `Input(shape)` object as the first layer in the model instead.\n",
            "  super().__init__(activity_regularizer=activity_regularizer, **kwargs)\n"
          ]
        },
        {
          "name": "stdout",
          "output_type": "stream",
          "text": [
            "\u001b[1m16/16\u001b[0m \u001b[32m━━━━━━━━━━━━━━━━━━━━\u001b[0m\u001b[37m\u001b[0m \u001b[1m0s\u001b[0m 9ms/step\n",
            "\u001b[1m16/16\u001b[0m \u001b[32m━━━━━━━━━━━━━━━━━━━━\u001b[0m\u001b[37m\u001b[0m \u001b[1m0s\u001b[0m 2ms/step \n",
            "\u001b[1m16/16\u001b[0m \u001b[32m━━━━━━━━━━━━━━━━━━━━\u001b[0m\u001b[37m\u001b[0m \u001b[1m0s\u001b[0m 2ms/step \n",
            "\u001b[1m16/16\u001b[0m \u001b[32m━━━━━━━━━━━━━━━━━━━━\u001b[0m\u001b[37m\u001b[0m \u001b[1m0s\u001b[0m 2ms/step \n",
            "\u001b[1m16/16\u001b[0m \u001b[32m━━━━━━━━━━━━━━━━━━━━\u001b[0m\u001b[37m\u001b[0m \u001b[1m0s\u001b[0m 2ms/step \n"
          ]
        },
        {
          "name": "stderr",
          "output_type": "stream",
          "text": [
            "[I 2025-03-27 14:06:16,553] Trial 40 finished with value: 0.022576771604680457 and parameters: {'optimizer': 'nadam', 'dropout_rate': 0.022727593314292215, 'learning_rate': 0.0014179795089250575, 'l2_rate': 7.566235425698334e-05, 'hidden_units_1': 64, 'hidden_units_2': 96, 'batch_size': 32}. Best is trial 32 with value: 0.018180513334921426.\n",
            "c:\\Users\\Alumno_AI\\Desktop\\Generativa\\Sam\\.venv\\Lib\\site-packages\\keras\\src\\layers\\core\\dense.py:87: UserWarning: Do not pass an `input_shape`/`input_dim` argument to a layer. When using Sequential models, prefer using an `Input(shape)` object as the first layer in the model instead.\n",
            "  super().__init__(activity_regularizer=activity_regularizer, **kwargs)\n"
          ]
        },
        {
          "name": "stdout",
          "output_type": "stream",
          "text": [
            "\u001b[1m16/16\u001b[0m \u001b[32m━━━━━━━━━━━━━━━━━━━━\u001b[0m\u001b[37m\u001b[0m \u001b[1m0s\u001b[0m 9ms/step\n",
            "\u001b[1m16/16\u001b[0m \u001b[32m━━━━━━━━━━━━━━━━━━━━\u001b[0m\u001b[37m\u001b[0m \u001b[1m0s\u001b[0m 3ms/step \n",
            "\u001b[1m16/16\u001b[0m \u001b[32m━━━━━━━━━━━━━━━━━━━━\u001b[0m\u001b[37m\u001b[0m \u001b[1m0s\u001b[0m 2ms/step \n",
            "\u001b[1m16/16\u001b[0m \u001b[32m━━━━━━━━━━━━━━━━━━━━\u001b[0m\u001b[37m\u001b[0m \u001b[1m0s\u001b[0m 2ms/step \n",
            "\u001b[1m16/16\u001b[0m \u001b[32m━━━━━━━━━━━━━━━━━━━━\u001b[0m\u001b[37m\u001b[0m \u001b[1m0s\u001b[0m 2ms/step \n"
          ]
        },
        {
          "name": "stderr",
          "output_type": "stream",
          "text": [
            "[I 2025-03-27 14:06:58,004] Trial 41 finished with value: 0.027562944473214716 and parameters: {'optimizer': 'nadam', 'dropout_rate': 0.02076575514039325, 'learning_rate': 0.0014947913945151329, 'l2_rate': 3.690073251087316e-05, 'hidden_units_1': 64, 'hidden_units_2': 96, 'batch_size': 32}. Best is trial 32 with value: 0.018180513334921426.\n",
            "c:\\Users\\Alumno_AI\\Desktop\\Generativa\\Sam\\.venv\\Lib\\site-packages\\keras\\src\\layers\\core\\dense.py:87: UserWarning: Do not pass an `input_shape`/`input_dim` argument to a layer. When using Sequential models, prefer using an `Input(shape)` object as the first layer in the model instead.\n",
            "  super().__init__(activity_regularizer=activity_regularizer, **kwargs)\n"
          ]
        },
        {
          "name": "stdout",
          "output_type": "stream",
          "text": [
            "\u001b[1m16/16\u001b[0m \u001b[32m━━━━━━━━━━━━━━━━━━━━\u001b[0m\u001b[37m\u001b[0m \u001b[1m0s\u001b[0m 9ms/step\n",
            "\u001b[1m16/16\u001b[0m \u001b[32m━━━━━━━━━━━━━━━━━━━━\u001b[0m\u001b[37m\u001b[0m \u001b[1m0s\u001b[0m 3ms/step \n",
            "\u001b[1m16/16\u001b[0m \u001b[32m━━━━━━━━━━━━━━━━━━━━\u001b[0m\u001b[37m\u001b[0m \u001b[1m0s\u001b[0m 3ms/step \n",
            "\u001b[1m16/16\u001b[0m \u001b[32m━━━━━━━━━━━━━━━━━━━━\u001b[0m\u001b[37m\u001b[0m \u001b[1m0s\u001b[0m 3ms/step \n",
            "\u001b[1m16/16\u001b[0m \u001b[32m━━━━━━━━━━━━━━━━━━━━\u001b[0m\u001b[37m\u001b[0m \u001b[1m0s\u001b[0m 3ms/step \n"
          ]
        },
        {
          "name": "stderr",
          "output_type": "stream",
          "text": [
            "[I 2025-03-27 14:07:53,677] Trial 42 finished with value: 0.027165586019379084 and parameters: {'optimizer': 'nadam', 'dropout_rate': 0.0423814857522343, 'learning_rate': 0.000948094006772496, 'l2_rate': 8.641164272640717e-05, 'hidden_units_1': 64, 'hidden_units_2': 96, 'batch_size': 32}. Best is trial 32 with value: 0.018180513334921426.\n",
            "c:\\Users\\Alumno_AI\\Desktop\\Generativa\\Sam\\.venv\\Lib\\site-packages\\keras\\src\\layers\\core\\dense.py:87: UserWarning: Do not pass an `input_shape`/`input_dim` argument to a layer. When using Sequential models, prefer using an `Input(shape)` object as the first layer in the model instead.\n",
            "  super().__init__(activity_regularizer=activity_regularizer, **kwargs)\n"
          ]
        },
        {
          "name": "stdout",
          "output_type": "stream",
          "text": [
            "\u001b[1m16/16\u001b[0m \u001b[32m━━━━━━━━━━━━━━━━━━━━\u001b[0m\u001b[37m\u001b[0m \u001b[1m0s\u001b[0m 9ms/step\n",
            "\u001b[1m16/16\u001b[0m \u001b[32m━━━━━━━━━━━━━━━━━━━━\u001b[0m\u001b[37m\u001b[0m \u001b[1m0s\u001b[0m 3ms/step \n",
            "\u001b[1m16/16\u001b[0m \u001b[32m━━━━━━━━━━━━━━━━━━━━\u001b[0m\u001b[37m\u001b[0m \u001b[1m0s\u001b[0m 3ms/step \n",
            "\u001b[1m16/16\u001b[0m \u001b[32m━━━━━━━━━━━━━━━━━━━━\u001b[0m\u001b[37m\u001b[0m \u001b[1m0s\u001b[0m 2ms/step \n",
            "\u001b[1m16/16\u001b[0m \u001b[32m━━━━━━━━━━━━━━━━━━━━\u001b[0m\u001b[37m\u001b[0m \u001b[1m0s\u001b[0m 2ms/step \n"
          ]
        },
        {
          "name": "stderr",
          "output_type": "stream",
          "text": [
            "[I 2025-03-27 14:08:57,294] Trial 43 finished with value: 0.024709867538437395 and parameters: {'optimizer': 'nadam', 'dropout_rate': 0.0583275185212038, 'learning_rate': 0.000733499186932809, 'l2_rate': 0.0002379028455276677, 'hidden_units_1': 64, 'hidden_units_2': 64, 'batch_size': 32}. Best is trial 32 with value: 0.018180513334921426.\n",
            "c:\\Users\\Alumno_AI\\Desktop\\Generativa\\Sam\\.venv\\Lib\\site-packages\\keras\\src\\layers\\core\\dense.py:87: UserWarning: Do not pass an `input_shape`/`input_dim` argument to a layer. When using Sequential models, prefer using an `Input(shape)` object as the first layer in the model instead.\n",
            "  super().__init__(activity_regularizer=activity_regularizer, **kwargs)\n"
          ]
        },
        {
          "name": "stdout",
          "output_type": "stream",
          "text": [
            "\u001b[1m16/16\u001b[0m \u001b[32m━━━━━━━━━━━━━━━━━━━━\u001b[0m\u001b[37m\u001b[0m \u001b[1m0s\u001b[0m 9ms/step\n",
            "\u001b[1m16/16\u001b[0m \u001b[32m━━━━━━━━━━━━━━━━━━━━\u001b[0m\u001b[37m\u001b[0m \u001b[1m0s\u001b[0m 5ms/step\n",
            "\u001b[1m16/16\u001b[0m \u001b[32m━━━━━━━━━━━━━━━━━━━━\u001b[0m\u001b[37m\u001b[0m \u001b[1m0s\u001b[0m 2ms/step \n",
            "\u001b[1m16/16\u001b[0m \u001b[32m━━━━━━━━━━━━━━━━━━━━\u001b[0m\u001b[37m\u001b[0m \u001b[1m0s\u001b[0m 3ms/step \n",
            "\u001b[1m16/16\u001b[0m \u001b[32m━━━━━━━━━━━━━━━━━━━━\u001b[0m\u001b[37m\u001b[0m \u001b[1m0s\u001b[0m 2ms/step \n"
          ]
        },
        {
          "name": "stderr",
          "output_type": "stream",
          "text": [
            "[I 2025-03-27 14:09:57,954] Trial 44 finished with value: 0.026241215487146967 and parameters: {'optimizer': 'nadam', 'dropout_rate': 0.07596173013720432, 'learning_rate': 0.0013269421220498407, 'l2_rate': 0.00041452049986144134, 'hidden_units_1': 64, 'hidden_units_2': 96, 'batch_size': 32}. Best is trial 32 with value: 0.018180513334921426.\n",
            "c:\\Users\\Alumno_AI\\Desktop\\Generativa\\Sam\\.venv\\Lib\\site-packages\\keras\\src\\layers\\core\\dense.py:87: UserWarning: Do not pass an `input_shape`/`input_dim` argument to a layer. When using Sequential models, prefer using an `Input(shape)` object as the first layer in the model instead.\n",
            "  super().__init__(activity_regularizer=activity_regularizer, **kwargs)\n"
          ]
        },
        {
          "name": "stdout",
          "output_type": "stream",
          "text": [
            "\u001b[1m16/16\u001b[0m \u001b[32m━━━━━━━━━━━━━━━━━━━━\u001b[0m\u001b[37m\u001b[0m \u001b[1m0s\u001b[0m 10ms/step\n",
            "\u001b[1m16/16\u001b[0m \u001b[32m━━━━━━━━━━━━━━━━━━━━\u001b[0m\u001b[37m\u001b[0m \u001b[1m0s\u001b[0m 2ms/step \n",
            "\u001b[1m16/16\u001b[0m \u001b[32m━━━━━━━━━━━━━━━━━━━━\u001b[0m\u001b[37m\u001b[0m \u001b[1m0s\u001b[0m 2ms/step \n",
            "\u001b[1m16/16\u001b[0m \u001b[32m━━━━━━━━━━━━━━━━━━━━\u001b[0m\u001b[37m\u001b[0m \u001b[1m0s\u001b[0m 2ms/step \n",
            "\u001b[1m16/16\u001b[0m \u001b[32m━━━━━━━━━━━━━━━━━━━━\u001b[0m\u001b[37m\u001b[0m \u001b[1m0s\u001b[0m 2ms/step \n"
          ]
        },
        {
          "name": "stderr",
          "output_type": "stream",
          "text": [
            "[I 2025-03-27 14:10:33,270] Trial 45 finished with value: 0.019252399980699716 and parameters: {'optimizer': 'nadam', 'dropout_rate': 0.02085577699539612, 'learning_rate': 0.0021112367968353658, 'l2_rate': 0.0003347037291624056, 'hidden_units_1': 64, 'hidden_units_2': 64, 'batch_size': 64}. Best is trial 32 with value: 0.018180513334921426.\n",
            "c:\\Users\\Alumno_AI\\Desktop\\Generativa\\Sam\\.venv\\Lib\\site-packages\\keras\\src\\layers\\core\\dense.py:87: UserWarning: Do not pass an `input_shape`/`input_dim` argument to a layer. When using Sequential models, prefer using an `Input(shape)` object as the first layer in the model instead.\n",
            "  super().__init__(activity_regularizer=activity_regularizer, **kwargs)\n"
          ]
        },
        {
          "name": "stdout",
          "output_type": "stream",
          "text": [
            "\u001b[1m16/16\u001b[0m \u001b[32m━━━━━━━━━━━━━━━━━━━━\u001b[0m\u001b[37m\u001b[0m \u001b[1m0s\u001b[0m 9ms/step\n",
            "\u001b[1m16/16\u001b[0m \u001b[32m━━━━━━━━━━━━━━━━━━━━\u001b[0m\u001b[37m\u001b[0m \u001b[1m0s\u001b[0m 3ms/step \n",
            "\u001b[1m16/16\u001b[0m \u001b[32m━━━━━━━━━━━━━━━━━━━━\u001b[0m\u001b[37m\u001b[0m \u001b[1m0s\u001b[0m 2ms/step \n",
            "\u001b[1m16/16\u001b[0m \u001b[32m━━━━━━━━━━━━━━━━━━━━\u001b[0m\u001b[37m\u001b[0m \u001b[1m0s\u001b[0m 2ms/step \n",
            "\u001b[1m16/16\u001b[0m \u001b[32m━━━━━━━━━━━━━━━━━━━━\u001b[0m\u001b[37m\u001b[0m \u001b[1m0s\u001b[0m 2ms/step \n"
          ]
        },
        {
          "name": "stderr",
          "output_type": "stream",
          "text": [
            "[I 2025-03-27 14:11:06,255] Trial 46 finished with value: 0.02076177707084776 and parameters: {'optimizer': 'nadam', 'dropout_rate': 0.02154913040980035, 'learning_rate': 0.003386315119517725, 'l2_rate': 0.00031302326620832746, 'hidden_units_1': 64, 'hidden_units_2': 32, 'batch_size': 64}. Best is trial 32 with value: 0.018180513334921426.\n",
            "c:\\Users\\Alumno_AI\\Desktop\\Generativa\\Sam\\.venv\\Lib\\site-packages\\keras\\src\\layers\\core\\dense.py:87: UserWarning: Do not pass an `input_shape`/`input_dim` argument to a layer. When using Sequential models, prefer using an `Input(shape)` object as the first layer in the model instead.\n",
            "  super().__init__(activity_regularizer=activity_regularizer, **kwargs)\n"
          ]
        },
        {
          "name": "stdout",
          "output_type": "stream",
          "text": [
            "\u001b[1m16/16\u001b[0m \u001b[32m━━━━━━━━━━━━━━━━━━━━\u001b[0m\u001b[37m\u001b[0m \u001b[1m0s\u001b[0m 9ms/step\n",
            "\u001b[1m16/16\u001b[0m \u001b[32m━━━━━━━━━━━━━━━━━━━━\u001b[0m\u001b[37m\u001b[0m \u001b[1m0s\u001b[0m 3ms/step \n",
            "\u001b[1m16/16\u001b[0m \u001b[32m━━━━━━━━━━━━━━━━━━━━\u001b[0m\u001b[37m\u001b[0m \u001b[1m0s\u001b[0m 2ms/step \n",
            "\u001b[1m16/16\u001b[0m \u001b[32m━━━━━━━━━━━━━━━━━━━━\u001b[0m\u001b[37m\u001b[0m \u001b[1m0s\u001b[0m 2ms/step \n",
            "\u001b[1m16/16\u001b[0m \u001b[32m━━━━━━━━━━━━━━━━━━━━\u001b[0m\u001b[37m\u001b[0m \u001b[1m0s\u001b[0m 3ms/step \n"
          ]
        },
        {
          "name": "stderr",
          "output_type": "stream",
          "text": [
            "[I 2025-03-27 14:11:39,984] Trial 47 finished with value: 0.02437072356212999 and parameters: {'optimizer': 'nadam', 'dropout_rate': 0.03601611230427028, 'learning_rate': 0.0046451190439807735, 'l2_rate': 0.00031280208142054396, 'hidden_units_1': 64, 'hidden_units_2': 32, 'batch_size': 64}. Best is trial 32 with value: 0.018180513334921426.\n",
            "c:\\Users\\Alumno_AI\\Desktop\\Generativa\\Sam\\.venv\\Lib\\site-packages\\keras\\src\\layers\\core\\dense.py:87: UserWarning: Do not pass an `input_shape`/`input_dim` argument to a layer. When using Sequential models, prefer using an `Input(shape)` object as the first layer in the model instead.\n",
            "  super().__init__(activity_regularizer=activity_regularizer, **kwargs)\n"
          ]
        },
        {
          "name": "stdout",
          "output_type": "stream",
          "text": [
            "\u001b[1m16/16\u001b[0m \u001b[32m━━━━━━━━━━━━━━━━━━━━\u001b[0m\u001b[37m\u001b[0m \u001b[1m0s\u001b[0m 9ms/step\n",
            "\u001b[1m16/16\u001b[0m \u001b[32m━━━━━━━━━━━━━━━━━━━━\u001b[0m\u001b[37m\u001b[0m \u001b[1m0s\u001b[0m 3ms/step \n",
            "\u001b[1m16/16\u001b[0m \u001b[32m━━━━━━━━━━━━━━━━━━━━\u001b[0m\u001b[37m\u001b[0m \u001b[1m0s\u001b[0m 2ms/step \n",
            "\u001b[1m16/16\u001b[0m \u001b[32m━━━━━━━━━━━━━━━━━━━━\u001b[0m\u001b[37m\u001b[0m \u001b[1m0s\u001b[0m 2ms/step \n",
            "\u001b[1m16/16\u001b[0m \u001b[32m━━━━━━━━━━━━━━━━━━━━\u001b[0m\u001b[37m\u001b[0m \u001b[1m0s\u001b[0m 2ms/step \n"
          ]
        },
        {
          "name": "stderr",
          "output_type": "stream",
          "text": [
            "[I 2025-03-27 14:12:16,431] Trial 48 finished with value: 0.018144287641880148 and parameters: {'optimizer': 'nadam', 'dropout_rate': 0.015122674459569508, 'learning_rate': 0.0036986786183616006, 'l2_rate': 0.0005028431655482757, 'hidden_units_1': 64, 'hidden_units_2': 32, 'batch_size': 64}. Best is trial 48 with value: 0.018144287641880148.\n",
            "c:\\Users\\Alumno_AI\\Desktop\\Generativa\\Sam\\.venv\\Lib\\site-packages\\keras\\src\\layers\\core\\dense.py:87: UserWarning: Do not pass an `input_shape`/`input_dim` argument to a layer. When using Sequential models, prefer using an `Input(shape)` object as the first layer in the model instead.\n",
            "  super().__init__(activity_regularizer=activity_regularizer, **kwargs)\n"
          ]
        },
        {
          "name": "stdout",
          "output_type": "stream",
          "text": [
            "\u001b[1m16/16\u001b[0m \u001b[32m━━━━━━━━━━━━━━━━━━━━\u001b[0m\u001b[37m\u001b[0m \u001b[1m0s\u001b[0m 9ms/step\n",
            "\u001b[1m16/16\u001b[0m \u001b[32m━━━━━━━━━━━━━━━━━━━━\u001b[0m\u001b[37m\u001b[0m \u001b[1m0s\u001b[0m 3ms/step \n",
            "\u001b[1m16/16\u001b[0m \u001b[32m━━━━━━━━━━━━━━━━━━━━\u001b[0m\u001b[37m\u001b[0m \u001b[1m0s\u001b[0m 2ms/step \n",
            "\u001b[1m16/16\u001b[0m \u001b[32m━━━━━━━━━━━━━━━━━━━━\u001b[0m\u001b[37m\u001b[0m \u001b[1m0s\u001b[0m 2ms/step \n",
            "\u001b[1m16/16\u001b[0m \u001b[32m━━━━━━━━━━━━━━━━━━━━\u001b[0m\u001b[37m\u001b[0m \u001b[1m0s\u001b[0m 3ms/step \n"
          ]
        },
        {
          "name": "stderr",
          "output_type": "stream",
          "text": [
            "[I 2025-03-27 14:12:53,908] Trial 49 finished with value: 0.018889155623962074 and parameters: {'optimizer': 'nadam', 'dropout_rate': 0.015695541769861508, 'learning_rate': 0.004562674563294728, 'l2_rate': 0.0005104129952271973, 'hidden_units_1': 64, 'hidden_units_2': 32, 'batch_size': 64}. Best is trial 48 with value: 0.018144287641880148.\n"
          ]
        },
        {
          "name": "stdout",
          "output_type": "stream",
          "text": [
            "\n",
            "Mejores hiperparámetros:\n",
            "{'optimizer': 'nadam', 'dropout_rate': 0.015122674459569508, 'learning_rate': 0.0036986786183616006, 'l2_rate': 0.0005028431655482757, 'hidden_units_1': 64, 'hidden_units_2': 32, 'batch_size': 64}\n"
          ]
        },
        {
          "name": "stderr",
          "output_type": "stream",
          "text": [
            "c:\\Users\\Alumno_AI\\Desktop\\Generativa\\Sam\\.venv\\Lib\\site-packages\\keras\\src\\layers\\core\\dense.py:87: UserWarning: Do not pass an `input_shape`/`input_dim` argument to a layer. When using Sequential models, prefer using an `Input(shape)` object as the first layer in the model instead.\n",
            "  super().__init__(activity_regularizer=activity_regularizer, **kwargs)\n"
          ]
        },
        {
          "name": "stdout",
          "output_type": "stream",
          "text": [
            "Epoch 1/350\n",
            "\u001b[1m32/32\u001b[0m \u001b[32m━━━━━━━━━━━━━━━━━━━━\u001b[0m\u001b[37m\u001b[0m \u001b[1m0s\u001b[0m 3ms/step - loss: 0.4935"
          ]
        },
        {
          "name": "stderr",
          "output_type": "stream",
          "text": [
            "WARNING:absl:You are saving your model as an HDF5 file via `model.save()` or `keras.saving.save_model(model)`. This file format is considered legacy. We recommend using instead the native Keras format, e.g. `model.save('my_model.keras')` or `keras.saving.save_model(model, 'my_model.keras')`. \n"
          ]
        },
        {
          "name": "stdout",
          "output_type": "stream",
          "text": [
            "\u001b[1m32/32\u001b[0m \u001b[32m━━━━━━━━━━━━━━━━━━━━\u001b[0m\u001b[37m\u001b[0m \u001b[1m4s\u001b[0m 15ms/step - loss: 0.4901 - val_loss: 0.2606 - learning_rate: 0.0037\n",
            "Epoch 2/350\n",
            "\u001b[1m32/32\u001b[0m \u001b[32m━━━━━━━━━━━━━━━━━━━━\u001b[0m\u001b[37m\u001b[0m \u001b[1m0s\u001b[0m 3ms/step - loss: 0.2188"
          ]
        },
        {
          "name": "stderr",
          "output_type": "stream",
          "text": [
            "WARNING:absl:You are saving your model as an HDF5 file via `model.save()` or `keras.saving.save_model(model)`. This file format is considered legacy. We recommend using instead the native Keras format, e.g. `model.save('my_model.keras')` or `keras.saving.save_model(model, 'my_model.keras')`. \n"
          ]
        },
        {
          "name": "stdout",
          "output_type": "stream",
          "text": [
            "\u001b[1m32/32\u001b[0m \u001b[32m━━━━━━━━━━━━━━━━━━━━\u001b[0m\u001b[37m\u001b[0m \u001b[1m0s\u001b[0m 7ms/step - loss: 0.2183 - val_loss: 0.2302 - learning_rate: 0.0037\n",
            "Epoch 3/350\n",
            "\u001b[1m29/32\u001b[0m \u001b[32m━━━━━━━━━━━━━━━━━━\u001b[0m\u001b[37m━━\u001b[0m \u001b[1m0s\u001b[0m 4ms/step - loss: 0.1677"
          ]
        },
        {
          "name": "stderr",
          "output_type": "stream",
          "text": [
            "WARNING:absl:You are saving your model as an HDF5 file via `model.save()` or `keras.saving.save_model(model)`. This file format is considered legacy. We recommend using instead the native Keras format, e.g. `model.save('my_model.keras')` or `keras.saving.save_model(model, 'my_model.keras')`. \n"
          ]
        },
        {
          "name": "stdout",
          "output_type": "stream",
          "text": [
            "\u001b[1m32/32\u001b[0m \u001b[32m━━━━━━━━━━━━━━━━━━━━\u001b[0m\u001b[37m\u001b[0m \u001b[1m0s\u001b[0m 7ms/step - loss: 0.1675 - val_loss: 0.1664 - learning_rate: 0.0037\n",
            "Epoch 4/350\n",
            "\u001b[1m28/32\u001b[0m \u001b[32m━━━━━━━━━━━━━━━━━\u001b[0m\u001b[37m━━━\u001b[0m \u001b[1m0s\u001b[0m 4ms/step - loss: 0.1558"
          ]
        },
        {
          "name": "stderr",
          "output_type": "stream",
          "text": [
            "WARNING:absl:You are saving your model as an HDF5 file via `model.save()` or `keras.saving.save_model(model)`. This file format is considered legacy. We recommend using instead the native Keras format, e.g. `model.save('my_model.keras')` or `keras.saving.save_model(model, 'my_model.keras')`. \n"
          ]
        },
        {
          "name": "stdout",
          "output_type": "stream",
          "text": [
            "\u001b[1m32/32\u001b[0m \u001b[32m━━━━━━━━━━━━━━━━━━━━\u001b[0m\u001b[37m\u001b[0m \u001b[1m0s\u001b[0m 8ms/step - loss: 0.1550 - val_loss: 0.1436 - learning_rate: 0.0037\n",
            "Epoch 5/350\n",
            "\u001b[1m28/32\u001b[0m \u001b[32m━━━━━━━━━━━━━━━━━\u001b[0m\u001b[37m━━━\u001b[0m \u001b[1m0s\u001b[0m 4ms/step - loss: 0.1454"
          ]
        },
        {
          "name": "stderr",
          "output_type": "stream",
          "text": [
            "WARNING:absl:You are saving your model as an HDF5 file via `model.save()` or `keras.saving.save_model(model)`. This file format is considered legacy. We recommend using instead the native Keras format, e.g. `model.save('my_model.keras')` or `keras.saving.save_model(model, 'my_model.keras')`. \n"
          ]
        },
        {
          "name": "stdout",
          "output_type": "stream",
          "text": [
            "\u001b[1m32/32\u001b[0m \u001b[32m━━━━━━━━━━━━━━━━━━━━\u001b[0m\u001b[37m\u001b[0m \u001b[1m0s\u001b[0m 8ms/step - loss: 0.1449 - val_loss: 0.1380 - learning_rate: 0.0037\n",
            "Epoch 6/350\n",
            "\u001b[1m32/32\u001b[0m \u001b[32m━━━━━━━━━━━━━━━━━━━━\u001b[0m\u001b[37m\u001b[0m \u001b[1m0s\u001b[0m 3ms/step - loss: 0.1344"
          ]
        },
        {
          "name": "stderr",
          "output_type": "stream",
          "text": [
            "WARNING:absl:You are saving your model as an HDF5 file via `model.save()` or `keras.saving.save_model(model)`. This file format is considered legacy. We recommend using instead the native Keras format, e.g. `model.save('my_model.keras')` or `keras.saving.save_model(model, 'my_model.keras')`. \n"
          ]
        },
        {
          "name": "stdout",
          "output_type": "stream",
          "text": [
            "\u001b[1m32/32\u001b[0m \u001b[32m━━━━━━━━━━━━━━━━━━━━\u001b[0m\u001b[37m\u001b[0m \u001b[1m0s\u001b[0m 7ms/step - loss: 0.1343 - val_loss: 0.1272 - learning_rate: 0.0037\n",
            "Epoch 7/350\n",
            "\u001b[1m16/32\u001b[0m \u001b[32m━━━━━━━━━━\u001b[0m\u001b[37m━━━━━━━━━━\u001b[0m \u001b[1m0s\u001b[0m 3ms/step - loss: 0.1232 "
          ]
        },
        {
          "name": "stderr",
          "output_type": "stream",
          "text": [
            "WARNING:absl:You are saving your model as an HDF5 file via `model.save()` or `keras.saving.save_model(model)`. This file format is considered legacy. We recommend using instead the native Keras format, e.g. `model.save('my_model.keras')` or `keras.saving.save_model(model, 'my_model.keras')`. \n"
          ]
        },
        {
          "name": "stdout",
          "output_type": "stream",
          "text": [
            "\u001b[1m32/32\u001b[0m \u001b[32m━━━━━━━━━━━━━━━━━━━━\u001b[0m\u001b[37m\u001b[0m \u001b[1m0s\u001b[0m 7ms/step - loss: 0.1218 - val_loss: 0.1226 - learning_rate: 0.0037\n",
            "Epoch 8/350\n",
            "\u001b[1m28/32\u001b[0m \u001b[32m━━━━━━━━━━━━━━━━━\u001b[0m\u001b[37m━━━\u001b[0m \u001b[1m0s\u001b[0m 4ms/step - loss: 0.1128"
          ]
        },
        {
          "name": "stderr",
          "output_type": "stream",
          "text": [
            "WARNING:absl:You are saving your model as an HDF5 file via `model.save()` or `keras.saving.save_model(model)`. This file format is considered legacy. We recommend using instead the native Keras format, e.g. `model.save('my_model.keras')` or `keras.saving.save_model(model, 'my_model.keras')`. \n"
          ]
        },
        {
          "name": "stdout",
          "output_type": "stream",
          "text": [
            "\u001b[1m32/32\u001b[0m \u001b[32m━━━━━━━━━━━━━━━━━━━━\u001b[0m\u001b[37m\u001b[0m \u001b[1m0s\u001b[0m 7ms/step - loss: 0.1130 - val_loss: 0.1128 - learning_rate: 0.0037\n",
            "Epoch 9/350\n",
            "\u001b[1m17/32\u001b[0m \u001b[32m━━━━━━━━━━\u001b[0m\u001b[37m━━━━━━━━━━\u001b[0m \u001b[1m0s\u001b[0m 3ms/step - loss: 0.1033 "
          ]
        },
        {
          "name": "stderr",
          "output_type": "stream",
          "text": [
            "WARNING:absl:You are saving your model as an HDF5 file via `model.save()` or `keras.saving.save_model(model)`. This file format is considered legacy. We recommend using instead the native Keras format, e.g. `model.save('my_model.keras')` or `keras.saving.save_model(model, 'my_model.keras')`. \n"
          ]
        },
        {
          "name": "stdout",
          "output_type": "stream",
          "text": [
            "\u001b[1m32/32\u001b[0m \u001b[32m━━━━━━━━━━━━━━━━━━━━\u001b[0m\u001b[37m\u001b[0m \u001b[1m0s\u001b[0m 7ms/step - loss: 0.1037 - val_loss: 0.1080 - learning_rate: 0.0037\n",
            "Epoch 10/350\n",
            "\u001b[1m31/32\u001b[0m \u001b[32m━━━━━━━━━━━━━━━━━━━\u001b[0m\u001b[37m━\u001b[0m \u001b[1m0s\u001b[0m 3ms/step - loss: 0.0999"
          ]
        },
        {
          "name": "stderr",
          "output_type": "stream",
          "text": [
            "WARNING:absl:You are saving your model as an HDF5 file via `model.save()` or `keras.saving.save_model(model)`. This file format is considered legacy. We recommend using instead the native Keras format, e.g. `model.save('my_model.keras')` or `keras.saving.save_model(model, 'my_model.keras')`. \n"
          ]
        },
        {
          "name": "stdout",
          "output_type": "stream",
          "text": [
            "\u001b[1m32/32\u001b[0m \u001b[32m━━━━━━━━━━━━━━━━━━━━\u001b[0m\u001b[37m\u001b[0m \u001b[1m0s\u001b[0m 8ms/step - loss: 0.0998 - val_loss: 0.0995 - learning_rate: 0.0037\n",
            "Epoch 11/350\n",
            "\u001b[1m32/32\u001b[0m \u001b[32m━━━━━━━━━━━━━━━━━━━━\u001b[0m\u001b[37m\u001b[0m \u001b[1m0s\u001b[0m 5ms/step - loss: 0.0970 - val_loss: 0.1028 - learning_rate: 0.0037\n",
            "Epoch 12/350\n",
            "\u001b[1m31/32\u001b[0m \u001b[32m━━━━━━━━━━━━━━━━━━━\u001b[0m\u001b[37m━\u001b[0m \u001b[1m0s\u001b[0m 3ms/step - loss: 0.0858"
          ]
        },
        {
          "name": "stderr",
          "output_type": "stream",
          "text": [
            "WARNING:absl:You are saving your model as an HDF5 file via `model.save()` or `keras.saving.save_model(model)`. This file format is considered legacy. We recommend using instead the native Keras format, e.g. `model.save('my_model.keras')` or `keras.saving.save_model(model, 'my_model.keras')`. \n"
          ]
        },
        {
          "name": "stdout",
          "output_type": "stream",
          "text": [
            "\u001b[1m32/32\u001b[0m \u001b[32m━━━━━━━━━━━━━━━━━━━━\u001b[0m\u001b[37m\u001b[0m \u001b[1m0s\u001b[0m 7ms/step - loss: 0.0859 - val_loss: 0.0871 - learning_rate: 0.0037\n",
            "Epoch 13/350\n",
            "\u001b[1m17/32\u001b[0m \u001b[32m━━━━━━━━━━\u001b[0m\u001b[37m━━━━━━━━━━\u001b[0m \u001b[1m0s\u001b[0m 3ms/step - loss: 0.0802 "
          ]
        },
        {
          "name": "stderr",
          "output_type": "stream",
          "text": [
            "WARNING:absl:You are saving your model as an HDF5 file via `model.save()` or `keras.saving.save_model(model)`. This file format is considered legacy. We recommend using instead the native Keras format, e.g. `model.save('my_model.keras')` or `keras.saving.save_model(model, 'my_model.keras')`. \n"
          ]
        },
        {
          "name": "stdout",
          "output_type": "stream",
          "text": [
            "\u001b[1m32/32\u001b[0m \u001b[32m━━━━━━━━━━━━━━━━━━━━\u001b[0m\u001b[37m\u001b[0m \u001b[1m0s\u001b[0m 7ms/step - loss: 0.0828 - val_loss: 0.0827 - learning_rate: 0.0037\n",
            "Epoch 14/350\n",
            "\u001b[1m17/32\u001b[0m \u001b[32m━━━━━━━━━━\u001b[0m\u001b[37m━━━━━━━━━━\u001b[0m \u001b[1m0s\u001b[0m 3ms/step - loss: 0.0846 "
          ]
        },
        {
          "name": "stderr",
          "output_type": "stream",
          "text": [
            "WARNING:absl:You are saving your model as an HDF5 file via `model.save()` or `keras.saving.save_model(model)`. This file format is considered legacy. We recommend using instead the native Keras format, e.g. `model.save('my_model.keras')` or `keras.saving.save_model(model, 'my_model.keras')`. \n"
          ]
        },
        {
          "name": "stdout",
          "output_type": "stream",
          "text": [
            "\u001b[1m32/32\u001b[0m \u001b[32m━━━━━━━━━━━━━━━━━━━━\u001b[0m\u001b[37m\u001b[0m \u001b[1m0s\u001b[0m 7ms/step - loss: 0.0832 - val_loss: 0.0784 - learning_rate: 0.0037\n",
            "Epoch 15/350\n",
            "\u001b[1m32/32\u001b[0m \u001b[32m━━━━━━━━━━━━━━━━━━━━\u001b[0m\u001b[37m\u001b[0m \u001b[1m0s\u001b[0m 5ms/step - loss: 0.0788 - val_loss: 0.0800 - learning_rate: 0.0037\n",
            "Epoch 16/350\n",
            "\u001b[1m31/32\u001b[0m \u001b[32m━━━━━━━━━━━━━━━━━━━\u001b[0m\u001b[37m━\u001b[0m \u001b[1m0s\u001b[0m 3ms/step - loss: 0.0739"
          ]
        },
        {
          "name": "stderr",
          "output_type": "stream",
          "text": [
            "WARNING:absl:You are saving your model as an HDF5 file via `model.save()` or `keras.saving.save_model(model)`. This file format is considered legacy. We recommend using instead the native Keras format, e.g. `model.save('my_model.keras')` or `keras.saving.save_model(model, 'my_model.keras')`. \n"
          ]
        },
        {
          "name": "stdout",
          "output_type": "stream",
          "text": [
            "\u001b[1m32/32\u001b[0m \u001b[32m━━━━━━━━━━━━━━━━━━━━\u001b[0m\u001b[37m\u001b[0m \u001b[1m0s\u001b[0m 7ms/step - loss: 0.0737 - val_loss: 0.0778 - learning_rate: 0.0037\n",
            "Epoch 17/350\n",
            "\u001b[1m30/32\u001b[0m \u001b[32m━━━━━━━━━━━━━━━━━━\u001b[0m\u001b[37m━━\u001b[0m \u001b[1m0s\u001b[0m 4ms/step - loss: 0.0736"
          ]
        },
        {
          "name": "stderr",
          "output_type": "stream",
          "text": [
            "WARNING:absl:You are saving your model as an HDF5 file via `model.save()` or `keras.saving.save_model(model)`. This file format is considered legacy. We recommend using instead the native Keras format, e.g. `model.save('my_model.keras')` or `keras.saving.save_model(model, 'my_model.keras')`. \n"
          ]
        },
        {
          "name": "stdout",
          "output_type": "stream",
          "text": [
            "\u001b[1m32/32\u001b[0m \u001b[32m━━━━━━━━━━━━━━━━━━━━\u001b[0m\u001b[37m\u001b[0m \u001b[1m0s\u001b[0m 7ms/step - loss: 0.0735 - val_loss: 0.0711 - learning_rate: 0.0037\n",
            "Epoch 18/350\n",
            "\u001b[1m32/32\u001b[0m \u001b[32m━━━━━━━━━━━━━━━━━━━━\u001b[0m\u001b[37m\u001b[0m \u001b[1m0s\u001b[0m 5ms/step - loss: 0.0718 - val_loss: 0.0728 - learning_rate: 0.0037\n",
            "Epoch 19/350\n",
            "\u001b[1m30/32\u001b[0m \u001b[32m━━━━━━━━━━━━━━━━━━\u001b[0m\u001b[37m━━\u001b[0m \u001b[1m0s\u001b[0m 4ms/step - loss: 0.0699"
          ]
        },
        {
          "name": "stderr",
          "output_type": "stream",
          "text": [
            "WARNING:absl:You are saving your model as an HDF5 file via `model.save()` or `keras.saving.save_model(model)`. This file format is considered legacy. We recommend using instead the native Keras format, e.g. `model.save('my_model.keras')` or `keras.saving.save_model(model, 'my_model.keras')`. \n"
          ]
        },
        {
          "name": "stdout",
          "output_type": "stream",
          "text": [
            "\u001b[1m32/32\u001b[0m \u001b[32m━━━━━━━━━━━━━━━━━━━━\u001b[0m\u001b[37m\u001b[0m \u001b[1m0s\u001b[0m 7ms/step - loss: 0.0700 - val_loss: 0.0642 - learning_rate: 0.0037\n",
            "Epoch 20/350\n",
            "\u001b[1m32/32\u001b[0m \u001b[32m━━━━━━━━━━━━━━━━━━━━\u001b[0m\u001b[37m\u001b[0m \u001b[1m0s\u001b[0m 5ms/step - loss: 0.0709 - val_loss: 0.0652 - learning_rate: 0.0037\n",
            "Epoch 21/350\n",
            "\u001b[1m32/32\u001b[0m \u001b[32m━━━━━━━━━━━━━━━━━━━━\u001b[0m\u001b[37m\u001b[0m \u001b[1m0s\u001b[0m 6ms/step - loss: 0.0637 - val_loss: 0.0657 - learning_rate: 0.0037\n",
            "Epoch 22/350\n",
            "\u001b[1m32/32\u001b[0m \u001b[32m━━━━━━━━━━━━━━━━━━━━\u001b[0m\u001b[37m\u001b[0m \u001b[1m0s\u001b[0m 3ms/step - loss: 0.0633"
          ]
        },
        {
          "name": "stderr",
          "output_type": "stream",
          "text": [
            "WARNING:absl:You are saving your model as an HDF5 file via `model.save()` or `keras.saving.save_model(model)`. This file format is considered legacy. We recommend using instead the native Keras format, e.g. `model.save('my_model.keras')` or `keras.saving.save_model(model, 'my_model.keras')`. \n"
          ]
        },
        {
          "name": "stdout",
          "output_type": "stream",
          "text": [
            "\u001b[1m32/32\u001b[0m \u001b[32m━━━━━━━━━━━━━━━━━━━━\u001b[0m\u001b[37m\u001b[0m \u001b[1m0s\u001b[0m 7ms/step - loss: 0.0633 - val_loss: 0.0610 - learning_rate: 0.0037\n",
            "Epoch 23/350\n",
            "\u001b[1m32/32\u001b[0m \u001b[32m━━━━━━━━━━━━━━━━━━━━\u001b[0m\u001b[37m\u001b[0m \u001b[1m0s\u001b[0m 5ms/step - loss: 0.0588 - val_loss: 0.0673 - learning_rate: 0.0037\n",
            "Epoch 24/350\n",
            "\u001b[1m17/32\u001b[0m \u001b[32m━━━━━━━━━━\u001b[0m\u001b[37m━━━━━━━━━━\u001b[0m \u001b[1m0s\u001b[0m 3ms/step - loss: 0.0619 "
          ]
        },
        {
          "name": "stderr",
          "output_type": "stream",
          "text": [
            "WARNING:absl:You are saving your model as an HDF5 file via `model.save()` or `keras.saving.save_model(model)`. This file format is considered legacy. We recommend using instead the native Keras format, e.g. `model.save('my_model.keras')` or `keras.saving.save_model(model, 'my_model.keras')`. \n"
          ]
        },
        {
          "name": "stdout",
          "output_type": "stream",
          "text": [
            "\u001b[1m32/32\u001b[0m \u001b[32m━━━━━━━━━━━━━━━━━━━━\u001b[0m\u001b[37m\u001b[0m \u001b[1m0s\u001b[0m 7ms/step - loss: 0.0630 - val_loss: 0.0563 - learning_rate: 0.0037\n",
            "Epoch 25/350\n",
            "\u001b[1m32/32\u001b[0m \u001b[32m━━━━━━━━━━━━━━━━━━━━\u001b[0m\u001b[37m\u001b[0m \u001b[1m0s\u001b[0m 6ms/step - loss: 0.0596 - val_loss: 0.0654 - learning_rate: 0.0037\n",
            "Epoch 26/350\n",
            "\u001b[1m32/32\u001b[0m \u001b[32m━━━━━━━━━━━━━━━━━━━━\u001b[0m\u001b[37m\u001b[0m \u001b[1m0s\u001b[0m 6ms/step - loss: 0.0617 - val_loss: 0.0588 - learning_rate: 0.0037\n",
            "Epoch 27/350\n",
            "\u001b[1m32/32\u001b[0m \u001b[32m━━━━━━━━━━━━━━━━━━━━\u001b[0m\u001b[37m\u001b[0m \u001b[1m0s\u001b[0m 7ms/step - loss: 0.0540 - val_loss: 0.0674 - learning_rate: 0.0037\n",
            "Epoch 28/350\n",
            "\u001b[1m17/32\u001b[0m \u001b[32m━━━━━━━━━━\u001b[0m\u001b[37m━━━━━━━━━━\u001b[0m \u001b[1m0s\u001b[0m 3ms/step - loss: 0.0581 "
          ]
        },
        {
          "name": "stderr",
          "output_type": "stream",
          "text": [
            "WARNING:absl:You are saving your model as an HDF5 file via `model.save()` or `keras.saving.save_model(model)`. This file format is considered legacy. We recommend using instead the native Keras format, e.g. `model.save('my_model.keras')` or `keras.saving.save_model(model, 'my_model.keras')`. \n"
          ]
        },
        {
          "name": "stdout",
          "output_type": "stream",
          "text": [
            "\u001b[1m32/32\u001b[0m \u001b[32m━━━━━━━━━━━━━━━━━━━━\u001b[0m\u001b[37m\u001b[0m \u001b[1m0s\u001b[0m 7ms/step - loss: 0.0596 - val_loss: 0.0553 - learning_rate: 0.0037\n",
            "Epoch 29/350\n",
            "\u001b[1m32/32\u001b[0m \u001b[32m━━━━━━━━━━━━━━━━━━━━\u001b[0m\u001b[37m\u001b[0m \u001b[1m0s\u001b[0m 5ms/step - loss: 0.0577 - val_loss: 0.0571 - learning_rate: 0.0037\n",
            "Epoch 30/350\n",
            "\u001b[1m32/32\u001b[0m \u001b[32m━━━━━━━━━━━━━━━━━━━━\u001b[0m\u001b[37m\u001b[0m \u001b[1m0s\u001b[0m 5ms/step - loss: 0.0573 - val_loss: 0.0554 - learning_rate: 0.0037\n",
            "Epoch 31/350\n",
            "\u001b[1m18/32\u001b[0m \u001b[32m━━━━━━━━━━━\u001b[0m\u001b[37m━━━━━━━━━\u001b[0m \u001b[1m0s\u001b[0m 3ms/step - loss: 0.0577 "
          ]
        },
        {
          "name": "stderr",
          "output_type": "stream",
          "text": [
            "WARNING:absl:You are saving your model as an HDF5 file via `model.save()` or `keras.saving.save_model(model)`. This file format is considered legacy. We recommend using instead the native Keras format, e.g. `model.save('my_model.keras')` or `keras.saving.save_model(model, 'my_model.keras')`. \n"
          ]
        },
        {
          "name": "stdout",
          "output_type": "stream",
          "text": [
            "\u001b[1m32/32\u001b[0m \u001b[32m━━━━━━━━━━━━━━━━━━━━\u001b[0m\u001b[37m\u001b[0m \u001b[1m0s\u001b[0m 7ms/step - loss: 0.0584 - val_loss: 0.0543 - learning_rate: 0.0037\n",
            "Epoch 32/350\n",
            "\u001b[1m32/32\u001b[0m \u001b[32m━━━━━━━━━━━━━━━━━━━━\u001b[0m\u001b[37m\u001b[0m \u001b[1m0s\u001b[0m 5ms/step - loss: 0.0532 - val_loss: 0.0548 - learning_rate: 0.0037\n",
            "Epoch 33/350\n",
            "\u001b[1m32/32\u001b[0m \u001b[32m━━━━━━━━━━━━━━━━━━━━\u001b[0m\u001b[37m\u001b[0m \u001b[1m0s\u001b[0m 6ms/step - loss: 0.0550 - val_loss: 0.0559 - learning_rate: 0.0037\n",
            "Epoch 34/350\n",
            "\u001b[1m32/32\u001b[0m \u001b[32m━━━━━━━━━━━━━━━━━━━━\u001b[0m\u001b[37m\u001b[0m \u001b[1m0s\u001b[0m 6ms/step - loss: 0.0599 - val_loss: 0.0558 - learning_rate: 0.0037\n",
            "Epoch 35/350\n",
            "\u001b[1m31/32\u001b[0m \u001b[32m━━━━━━━━━━━━━━━━━━━\u001b[0m\u001b[37m━\u001b[0m \u001b[1m0s\u001b[0m 3ms/step - loss: 0.0591"
          ]
        },
        {
          "name": "stderr",
          "output_type": "stream",
          "text": [
            "WARNING:absl:You are saving your model as an HDF5 file via `model.save()` or `keras.saving.save_model(model)`. This file format is considered legacy. We recommend using instead the native Keras format, e.g. `model.save('my_model.keras')` or `keras.saving.save_model(model, 'my_model.keras')`. \n"
          ]
        },
        {
          "name": "stdout",
          "output_type": "stream",
          "text": [
            "\u001b[1m32/32\u001b[0m \u001b[32m━━━━━━━━━━━━━━━━━━━━\u001b[0m\u001b[37m\u001b[0m \u001b[1m0s\u001b[0m 7ms/step - loss: 0.0590 - val_loss: 0.0528 - learning_rate: 0.0037\n",
            "Epoch 36/350\n",
            "\u001b[1m16/32\u001b[0m \u001b[32m━━━━━━━━━━\u001b[0m\u001b[37m━━━━━━━━━━\u001b[0m \u001b[1m0s\u001b[0m 3ms/step - loss: 0.0515 "
          ]
        },
        {
          "name": "stderr",
          "output_type": "stream",
          "text": [
            "WARNING:absl:You are saving your model as an HDF5 file via `model.save()` or `keras.saving.save_model(model)`. This file format is considered legacy. We recommend using instead the native Keras format, e.g. `model.save('my_model.keras')` or `keras.saving.save_model(model, 'my_model.keras')`. \n"
          ]
        },
        {
          "name": "stdout",
          "output_type": "stream",
          "text": [
            "\u001b[1m32/32\u001b[0m \u001b[32m━━━━━━━━━━━━━━━━━━━━\u001b[0m\u001b[37m\u001b[0m \u001b[1m0s\u001b[0m 7ms/step - loss: 0.0539 - val_loss: 0.0518 - learning_rate: 0.0037\n",
            "Epoch 37/350\n",
            "\u001b[1m32/32\u001b[0m \u001b[32m━━━━━━━━━━━━━━━━━━━━\u001b[0m\u001b[37m\u001b[0m \u001b[1m0s\u001b[0m 5ms/step - loss: 0.0494 - val_loss: 0.0590 - learning_rate: 0.0037\n",
            "Epoch 38/350\n",
            "\u001b[1m32/32\u001b[0m \u001b[32m━━━━━━━━━━━━━━━━━━━━\u001b[0m\u001b[37m\u001b[0m \u001b[1m0s\u001b[0m 5ms/step - loss: 0.0493 - val_loss: 0.0530 - learning_rate: 0.0037\n",
            "Epoch 39/350\n",
            "\u001b[1m32/32\u001b[0m \u001b[32m━━━━━━━━━━━━━━━━━━━━\u001b[0m\u001b[37m\u001b[0m \u001b[1m0s\u001b[0m 6ms/step - loss: 0.0502 - val_loss: 0.0572 - learning_rate: 0.0037\n",
            "Epoch 40/350\n",
            "\u001b[1m32/32\u001b[0m \u001b[32m━━━━━━━━━━━━━━━━━━━━\u001b[0m\u001b[37m\u001b[0m \u001b[1m0s\u001b[0m 5ms/step - loss: 0.0495 - val_loss: 0.0544 - learning_rate: 0.0037\n",
            "Epoch 41/350\n",
            "\u001b[1m32/32\u001b[0m \u001b[32m━━━━━━━━━━━━━━━━━━━━\u001b[0m\u001b[37m\u001b[0m \u001b[1m0s\u001b[0m 5ms/step - loss: 0.0530 - val_loss: 0.0552 - learning_rate: 0.0037\n",
            "Epoch 42/350\n",
            "\u001b[1m17/32\u001b[0m \u001b[32m━━━━━━━━━━\u001b[0m\u001b[37m━━━━━━━━━━\u001b[0m \u001b[1m0s\u001b[0m 3ms/step - loss: 0.0496 "
          ]
        },
        {
          "name": "stderr",
          "output_type": "stream",
          "text": [
            "WARNING:absl:You are saving your model as an HDF5 file via `model.save()` or `keras.saving.save_model(model)`. This file format is considered legacy. We recommend using instead the native Keras format, e.g. `model.save('my_model.keras')` or `keras.saving.save_model(model, 'my_model.keras')`. \n"
          ]
        },
        {
          "name": "stdout",
          "output_type": "stream",
          "text": [
            "\u001b[1m32/32\u001b[0m \u001b[32m━━━━━━━━━━━━━━━━━━━━\u001b[0m\u001b[37m\u001b[0m \u001b[1m0s\u001b[0m 7ms/step - loss: 0.0500 - val_loss: 0.0510 - learning_rate: 0.0018\n",
            "Epoch 43/350\n",
            "\u001b[1m32/32\u001b[0m \u001b[32m━━━━━━━━━━━━━━━━━━━━\u001b[0m\u001b[37m\u001b[0m \u001b[1m0s\u001b[0m 3ms/step - loss: 0.0466"
          ]
        },
        {
          "name": "stderr",
          "output_type": "stream",
          "text": [
            "WARNING:absl:You are saving your model as an HDF5 file via `model.save()` or `keras.saving.save_model(model)`. This file format is considered legacy. We recommend using instead the native Keras format, e.g. `model.save('my_model.keras')` or `keras.saving.save_model(model, 'my_model.keras')`. \n"
          ]
        },
        {
          "name": "stdout",
          "output_type": "stream",
          "text": [
            "\u001b[1m32/32\u001b[0m \u001b[32m━━━━━━━━━━━━━━━━━━━━\u001b[0m\u001b[37m\u001b[0m \u001b[1m0s\u001b[0m 7ms/step - loss: 0.0466 - val_loss: 0.0494 - learning_rate: 0.0018\n",
            "Epoch 44/350\n",
            "\u001b[1m29/32\u001b[0m \u001b[32m━━━━━━━━━━━━━━━━━━\u001b[0m\u001b[37m━━\u001b[0m \u001b[1m0s\u001b[0m 4ms/step - loss: 0.0410"
          ]
        },
        {
          "name": "stderr",
          "output_type": "stream",
          "text": [
            "WARNING:absl:You are saving your model as an HDF5 file via `model.save()` or `keras.saving.save_model(model)`. This file format is considered legacy. We recommend using instead the native Keras format, e.g. `model.save('my_model.keras')` or `keras.saving.save_model(model, 'my_model.keras')`. \n"
          ]
        },
        {
          "name": "stdout",
          "output_type": "stream",
          "text": [
            "\u001b[1m32/32\u001b[0m \u001b[32m━━━━━━━━━━━━━━━━━━━━\u001b[0m\u001b[37m\u001b[0m \u001b[1m0s\u001b[0m 7ms/step - loss: 0.0413 - val_loss: 0.0487 - learning_rate: 0.0018\n",
            "Epoch 45/350\n",
            "\u001b[1m28/32\u001b[0m \u001b[32m━━━━━━━━━━━━━━━━━\u001b[0m\u001b[37m━━━\u001b[0m \u001b[1m0s\u001b[0m 4ms/step - loss: 0.0408"
          ]
        },
        {
          "name": "stderr",
          "output_type": "stream",
          "text": [
            "WARNING:absl:You are saving your model as an HDF5 file via `model.save()` or `keras.saving.save_model(model)`. This file format is considered legacy. We recommend using instead the native Keras format, e.g. `model.save('my_model.keras')` or `keras.saving.save_model(model, 'my_model.keras')`. \n"
          ]
        },
        {
          "name": "stdout",
          "output_type": "stream",
          "text": [
            "\u001b[1m32/32\u001b[0m \u001b[32m━━━━━━━━━━━━━━━━━━━━\u001b[0m\u001b[37m\u001b[0m \u001b[1m0s\u001b[0m 8ms/step - loss: 0.0414 - val_loss: 0.0463 - learning_rate: 0.0018\n",
            "Epoch 46/350\n",
            "\u001b[1m17/32\u001b[0m \u001b[32m━━━━━━━━━━\u001b[0m\u001b[37m━━━━━━━━━━\u001b[0m \u001b[1m0s\u001b[0m 3ms/step - loss: 0.0361 "
          ]
        },
        {
          "name": "stderr",
          "output_type": "stream",
          "text": [
            "WARNING:absl:You are saving your model as an HDF5 file via `model.save()` or `keras.saving.save_model(model)`. This file format is considered legacy. We recommend using instead the native Keras format, e.g. `model.save('my_model.keras')` or `keras.saving.save_model(model, 'my_model.keras')`. \n"
          ]
        },
        {
          "name": "stdout",
          "output_type": "stream",
          "text": [
            "\u001b[1m32/32\u001b[0m \u001b[32m━━━━━━━━━━━━━━━━━━━━\u001b[0m\u001b[37m\u001b[0m \u001b[1m0s\u001b[0m 7ms/step - loss: 0.0378 - val_loss: 0.0443 - learning_rate: 0.0018\n",
            "Epoch 47/350\n",
            "\u001b[1m32/32\u001b[0m \u001b[32m━━━━━━━━━━━━━━━━━━━━\u001b[0m\u001b[37m\u001b[0m \u001b[1m0s\u001b[0m 6ms/step - loss: 0.0438 - val_loss: 0.0578 - learning_rate: 0.0018\n",
            "Epoch 48/350\n",
            "\u001b[1m32/32\u001b[0m \u001b[32m━━━━━━━━━━━━━━━━━━━━\u001b[0m\u001b[37m\u001b[0m \u001b[1m0s\u001b[0m 6ms/step - loss: 0.0403 - val_loss: 0.0459 - learning_rate: 0.0018\n",
            "Epoch 49/350\n",
            "\u001b[1m32/32\u001b[0m \u001b[32m━━━━━━━━━━━━━━━━━━━━\u001b[0m\u001b[37m\u001b[0m \u001b[1m0s\u001b[0m 6ms/step - loss: 0.0445 - val_loss: 0.0466 - learning_rate: 0.0018\n",
            "Epoch 50/350\n",
            "\u001b[1m32/32\u001b[0m \u001b[32m━━━━━━━━━━━━━━━━━━━━\u001b[0m\u001b[37m\u001b[0m \u001b[1m0s\u001b[0m 6ms/step - loss: 0.0427 - val_loss: 0.0445 - learning_rate: 0.0018\n",
            "Epoch 51/350\n",
            "\u001b[1m32/32\u001b[0m \u001b[32m━━━━━━━━━━━━━━━━━━━━\u001b[0m\u001b[37m\u001b[0m \u001b[1m0s\u001b[0m 3ms/step - loss: 0.0432"
          ]
        },
        {
          "name": "stderr",
          "output_type": "stream",
          "text": [
            "WARNING:absl:You are saving your model as an HDF5 file via `model.save()` or `keras.saving.save_model(model)`. This file format is considered legacy. We recommend using instead the native Keras format, e.g. `model.save('my_model.keras')` or `keras.saving.save_model(model, 'my_model.keras')`. \n"
          ]
        },
        {
          "name": "stdout",
          "output_type": "stream",
          "text": [
            "\u001b[1m32/32\u001b[0m \u001b[32m━━━━━━━━━━━━━━━━━━━━\u001b[0m\u001b[37m\u001b[0m \u001b[1m0s\u001b[0m 7ms/step - loss: 0.0432 - val_loss: 0.0432 - learning_rate: 0.0018\n",
            "Epoch 52/350\n",
            "\u001b[1m17/32\u001b[0m \u001b[32m━━━━━━━━━━\u001b[0m\u001b[37m━━━━━━━━━━\u001b[0m \u001b[1m0s\u001b[0m 3ms/step - loss: 0.0424 "
          ]
        },
        {
          "name": "stderr",
          "output_type": "stream",
          "text": [
            "WARNING:absl:You are saving your model as an HDF5 file via `model.save()` or `keras.saving.save_model(model)`. This file format is considered legacy. We recommend using instead the native Keras format, e.g. `model.save('my_model.keras')` or `keras.saving.save_model(model, 'my_model.keras')`. \n"
          ]
        },
        {
          "name": "stdout",
          "output_type": "stream",
          "text": [
            "\u001b[1m32/32\u001b[0m \u001b[32m━━━━━━━━━━━━━━━━━━━━\u001b[0m\u001b[37m\u001b[0m \u001b[1m0s\u001b[0m 7ms/step - loss: 0.0427 - val_loss: 0.0411 - learning_rate: 0.0018\n",
            "Epoch 53/350\n",
            "\u001b[1m32/32\u001b[0m \u001b[32m━━━━━━━━━━━━━━━━━━━━\u001b[0m\u001b[37m\u001b[0m \u001b[1m0s\u001b[0m 5ms/step - loss: 0.0446 - val_loss: 0.0436 - learning_rate: 0.0018\n",
            "Epoch 54/350\n",
            "\u001b[1m18/32\u001b[0m \u001b[32m━━━━━━━━━━━\u001b[0m\u001b[37m━━━━━━━━━\u001b[0m \u001b[1m0s\u001b[0m 3ms/step - loss: 0.0418 "
          ]
        },
        {
          "name": "stderr",
          "output_type": "stream",
          "text": [
            "WARNING:absl:You are saving your model as an HDF5 file via `model.save()` or `keras.saving.save_model(model)`. This file format is considered legacy. We recommend using instead the native Keras format, e.g. `model.save('my_model.keras')` or `keras.saving.save_model(model, 'my_model.keras')`. \n"
          ]
        },
        {
          "name": "stdout",
          "output_type": "stream",
          "text": [
            "\u001b[1m32/32\u001b[0m \u001b[32m━━━━━━━━━━━━━━━━━━━━\u001b[0m\u001b[37m\u001b[0m \u001b[1m0s\u001b[0m 7ms/step - loss: 0.0420 - val_loss: 0.0400 - learning_rate: 0.0018\n",
            "Epoch 55/350\n",
            "\u001b[1m32/32\u001b[0m \u001b[32m━━━━━━━━━━━━━━━━━━━━\u001b[0m\u001b[37m\u001b[0m \u001b[1m0s\u001b[0m 5ms/step - loss: 0.0459 - val_loss: 0.0409 - learning_rate: 0.0018\n",
            "Epoch 56/350\n",
            "\u001b[1m32/32\u001b[0m \u001b[32m━━━━━━━━━━━━━━━━━━━━\u001b[0m\u001b[37m\u001b[0m \u001b[1m0s\u001b[0m 6ms/step - loss: 0.0376 - val_loss: 0.0459 - learning_rate: 0.0018\n",
            "Epoch 57/350\n",
            "\u001b[1m32/32\u001b[0m \u001b[32m━━━━━━━━━━━━━━━━━━━━\u001b[0m\u001b[37m\u001b[0m \u001b[1m0s\u001b[0m 5ms/step - loss: 0.0398 - val_loss: 0.0402 - learning_rate: 0.0018\n",
            "Epoch 58/350\n",
            "\u001b[1m27/32\u001b[0m \u001b[32m━━━━━━━━━━━━━━━━\u001b[0m\u001b[37m━━━━\u001b[0m \u001b[1m0s\u001b[0m 4ms/step - loss: 0.0429"
          ]
        },
        {
          "name": "stderr",
          "output_type": "stream",
          "text": [
            "WARNING:absl:You are saving your model as an HDF5 file via `model.save()` or `keras.saving.save_model(model)`. This file format is considered legacy. We recommend using instead the native Keras format, e.g. `model.save('my_model.keras')` or `keras.saving.save_model(model, 'my_model.keras')`. \n"
          ]
        },
        {
          "name": "stdout",
          "output_type": "stream",
          "text": [
            "\u001b[1m32/32\u001b[0m \u001b[32m━━━━━━━━━━━━━━━━━━━━\u001b[0m\u001b[37m\u001b[0m \u001b[1m0s\u001b[0m 8ms/step - loss: 0.0432 - val_loss: 0.0400 - learning_rate: 0.0018\n",
            "Epoch 59/350\n",
            "\u001b[1m32/32\u001b[0m \u001b[32m━━━━━━━━━━━━━━━━━━━━\u001b[0m\u001b[37m\u001b[0m \u001b[1m0s\u001b[0m 5ms/step - loss: 0.0415 - val_loss: 0.0415 - learning_rate: 0.0018\n",
            "Epoch 60/350\n",
            "\u001b[1m32/32\u001b[0m \u001b[32m━━━━━━━━━━━━━━━━━━━━\u001b[0m\u001b[37m\u001b[0m \u001b[1m0s\u001b[0m 5ms/step - loss: 0.0417 - val_loss: 0.0426 - learning_rate: 9.2467e-04\n",
            "Epoch 61/350\n",
            "\u001b[1m30/32\u001b[0m \u001b[32m━━━━━━━━━━━━━━━━━━\u001b[0m\u001b[37m━━\u001b[0m \u001b[1m0s\u001b[0m 4ms/step - loss: 0.0390"
          ]
        },
        {
          "name": "stderr",
          "output_type": "stream",
          "text": [
            "WARNING:absl:You are saving your model as an HDF5 file via `model.save()` or `keras.saving.save_model(model)`. This file format is considered legacy. We recommend using instead the native Keras format, e.g. `model.save('my_model.keras')` or `keras.saving.save_model(model, 'my_model.keras')`. \n"
          ]
        },
        {
          "name": "stdout",
          "output_type": "stream",
          "text": [
            "\u001b[1m32/32\u001b[0m \u001b[32m━━━━━━━━━━━━━━━━━━━━\u001b[0m\u001b[37m\u001b[0m \u001b[1m0s\u001b[0m 7ms/step - loss: 0.0389 - val_loss: 0.0390 - learning_rate: 9.2467e-04\n",
            "Epoch 62/350\n",
            "\u001b[1m32/32\u001b[0m \u001b[32m━━━━━━━━━━━━━━━━━━━━\u001b[0m\u001b[37m\u001b[0m \u001b[1m0s\u001b[0m 6ms/step - loss: 0.0347 - val_loss: 0.0390 - learning_rate: 9.2467e-04\n",
            "Epoch 63/350\n",
            "\u001b[1m30/32\u001b[0m \u001b[32m━━━━━━━━━━━━━━━━━━\u001b[0m\u001b[37m━━\u001b[0m \u001b[1m0s\u001b[0m 4ms/step - loss: 0.0339"
          ]
        },
        {
          "name": "stderr",
          "output_type": "stream",
          "text": [
            "WARNING:absl:You are saving your model as an HDF5 file via `model.save()` or `keras.saving.save_model(model)`. This file format is considered legacy. We recommend using instead the native Keras format, e.g. `model.save('my_model.keras')` or `keras.saving.save_model(model, 'my_model.keras')`. \n"
          ]
        },
        {
          "name": "stdout",
          "output_type": "stream",
          "text": [
            "\u001b[1m32/32\u001b[0m \u001b[32m━━━━━━━━━━━━━━━━━━━━\u001b[0m\u001b[37m\u001b[0m \u001b[1m0s\u001b[0m 7ms/step - loss: 0.0341 - val_loss: 0.0381 - learning_rate: 9.2467e-04\n",
            "Epoch 64/350\n",
            "\u001b[1m17/32\u001b[0m \u001b[32m━━━━━━━━━━\u001b[0m\u001b[37m━━━━━━━━━━\u001b[0m \u001b[1m0s\u001b[0m 3ms/step - loss: 0.0388 "
          ]
        },
        {
          "name": "stderr",
          "output_type": "stream",
          "text": [
            "WARNING:absl:You are saving your model as an HDF5 file via `model.save()` or `keras.saving.save_model(model)`. This file format is considered legacy. We recommend using instead the native Keras format, e.g. `model.save('my_model.keras')` or `keras.saving.save_model(model, 'my_model.keras')`. \n"
          ]
        },
        {
          "name": "stdout",
          "output_type": "stream",
          "text": [
            "\u001b[1m32/32\u001b[0m \u001b[32m━━━━━━━━━━━━━━━━━━━━\u001b[0m\u001b[37m\u001b[0m \u001b[1m0s\u001b[0m 7ms/step - loss: 0.0384 - val_loss: 0.0378 - learning_rate: 9.2467e-04\n",
            "Epoch 65/350\n",
            "\u001b[1m20/32\u001b[0m \u001b[32m━━━━━━━━━━━━\u001b[0m\u001b[37m━━━━━━━━\u001b[0m \u001b[1m0s\u001b[0m 3ms/step - loss: 0.0310 "
          ]
        },
        {
          "name": "stderr",
          "output_type": "stream",
          "text": [
            "WARNING:absl:You are saving your model as an HDF5 file via `model.save()` or `keras.saving.save_model(model)`. This file format is considered legacy. We recommend using instead the native Keras format, e.g. `model.save('my_model.keras')` or `keras.saving.save_model(model, 'my_model.keras')`. \n"
          ]
        },
        {
          "name": "stdout",
          "output_type": "stream",
          "text": [
            "\u001b[1m32/32\u001b[0m \u001b[32m━━━━━━━━━━━━━━━━━━━━\u001b[0m\u001b[37m\u001b[0m \u001b[1m0s\u001b[0m 7ms/step - loss: 0.0324 - val_loss: 0.0371 - learning_rate: 9.2467e-04\n",
            "Epoch 66/350\n",
            "\u001b[1m32/32\u001b[0m \u001b[32m━━━━━━━━━━━━━━━━━━━━\u001b[0m\u001b[37m\u001b[0m \u001b[1m0s\u001b[0m 5ms/step - loss: 0.0348 - val_loss: 0.0376 - learning_rate: 9.2467e-04\n",
            "Epoch 67/350\n",
            "\u001b[1m32/32\u001b[0m \u001b[32m━━━━━━━━━━━━━━━━━━━━\u001b[0m\u001b[37m\u001b[0m \u001b[1m0s\u001b[0m 5ms/step - loss: 0.0364 - val_loss: 0.0378 - learning_rate: 9.2467e-04\n",
            "Epoch 68/350\n",
            "\u001b[1m31/32\u001b[0m \u001b[32m━━━━━━━━━━━━━━━━━━━\u001b[0m\u001b[37m━\u001b[0m \u001b[1m0s\u001b[0m 3ms/step - loss: 0.0344"
          ]
        },
        {
          "name": "stderr",
          "output_type": "stream",
          "text": [
            "WARNING:absl:You are saving your model as an HDF5 file via `model.save()` or `keras.saving.save_model(model)`. This file format is considered legacy. We recommend using instead the native Keras format, e.g. `model.save('my_model.keras')` or `keras.saving.save_model(model, 'my_model.keras')`. \n"
          ]
        },
        {
          "name": "stdout",
          "output_type": "stream",
          "text": [
            "\u001b[1m32/32\u001b[0m \u001b[32m━━━━━━━━━━━━━━━━━━━━\u001b[0m\u001b[37m\u001b[0m \u001b[1m0s\u001b[0m 7ms/step - loss: 0.0345 - val_loss: 0.0360 - learning_rate: 9.2467e-04\n",
            "Epoch 69/350\n",
            "\u001b[1m32/32\u001b[0m \u001b[32m━━━━━━━━━━━━━━━━━━━━\u001b[0m\u001b[37m\u001b[0m \u001b[1m0s\u001b[0m 6ms/step - loss: 0.0343 - val_loss: 0.0361 - learning_rate: 9.2467e-04\n",
            "Epoch 70/350\n",
            "\u001b[1m32/32\u001b[0m \u001b[32m━━━━━━━━━━━━━━━━━━━━\u001b[0m\u001b[37m\u001b[0m \u001b[1m0s\u001b[0m 3ms/step - loss: 0.0335"
          ]
        },
        {
          "name": "stderr",
          "output_type": "stream",
          "text": [
            "WARNING:absl:You are saving your model as an HDF5 file via `model.save()` or `keras.saving.save_model(model)`. This file format is considered legacy. We recommend using instead the native Keras format, e.g. `model.save('my_model.keras')` or `keras.saving.save_model(model, 'my_model.keras')`. \n"
          ]
        },
        {
          "name": "stdout",
          "output_type": "stream",
          "text": [
            "\u001b[1m32/32\u001b[0m \u001b[32m━━━━━━━━━━━━━━━━━━━━\u001b[0m\u001b[37m\u001b[0m \u001b[1m0s\u001b[0m 7ms/step - loss: 0.0335 - val_loss: 0.0346 - learning_rate: 9.2467e-04\n",
            "Epoch 71/350\n",
            "\u001b[1m32/32\u001b[0m \u001b[32m━━━━━━━━━━━━━━━━━━━━\u001b[0m\u001b[37m\u001b[0m \u001b[1m0s\u001b[0m 6ms/step - loss: 0.0347 - val_loss: 0.0355 - learning_rate: 9.2467e-04\n",
            "Epoch 72/350\n",
            "\u001b[1m29/32\u001b[0m \u001b[32m━━━━━━━━━━━━━━━━━━\u001b[0m\u001b[37m━━\u001b[0m \u001b[1m0s\u001b[0m 4ms/step - loss: 0.0334"
          ]
        },
        {
          "name": "stderr",
          "output_type": "stream",
          "text": [
            "WARNING:absl:You are saving your model as an HDF5 file via `model.save()` or `keras.saving.save_model(model)`. This file format is considered legacy. We recommend using instead the native Keras format, e.g. `model.save('my_model.keras')` or `keras.saving.save_model(model, 'my_model.keras')`. \n"
          ]
        },
        {
          "name": "stdout",
          "output_type": "stream",
          "text": [
            "\u001b[1m32/32\u001b[0m \u001b[32m━━━━━━━━━━━━━━━━━━━━\u001b[0m\u001b[37m\u001b[0m \u001b[1m0s\u001b[0m 8ms/step - loss: 0.0336 - val_loss: 0.0318 - learning_rate: 9.2467e-04\n",
            "Epoch 73/350\n",
            "\u001b[1m32/32\u001b[0m \u001b[32m━━━━━━━━━━━━━━━━━━━━\u001b[0m\u001b[37m\u001b[0m \u001b[1m0s\u001b[0m 6ms/step - loss: 0.0349 - val_loss: 0.0357 - learning_rate: 9.2467e-04\n",
            "Epoch 74/350\n",
            "\u001b[1m32/32\u001b[0m \u001b[32m━━━━━━━━━━━━━━━━━━━━\u001b[0m\u001b[37m\u001b[0m \u001b[1m0s\u001b[0m 5ms/step - loss: 0.0334 - val_loss: 0.0331 - learning_rate: 9.2467e-04\n",
            "Epoch 75/350\n",
            "\u001b[1m32/32\u001b[0m \u001b[32m━━━━━━━━━━━━━━━━━━━━\u001b[0m\u001b[37m\u001b[0m \u001b[1m0s\u001b[0m 5ms/step - loss: 0.0358 - val_loss: 0.0362 - learning_rate: 9.2467e-04\n",
            "Epoch 76/350\n",
            "\u001b[1m32/32\u001b[0m \u001b[32m━━━━━━━━━━━━━━━━━━━━\u001b[0m\u001b[37m\u001b[0m \u001b[1m0s\u001b[0m 5ms/step - loss: 0.0280 - val_loss: 0.0328 - learning_rate: 9.2467e-04\n",
            "Epoch 77/350\n",
            "\u001b[1m32/32\u001b[0m \u001b[32m━━━━━━━━━━━━━━━━━━━━\u001b[0m\u001b[37m\u001b[0m \u001b[1m0s\u001b[0m 5ms/step - loss: 0.0330 - val_loss: 0.0356 - learning_rate: 9.2467e-04\n",
            "Epoch 78/350\n",
            "\u001b[1m32/32\u001b[0m \u001b[32m━━━━━━━━━━━━━━━━━━━━\u001b[0m\u001b[37m\u001b[0m \u001b[1m0s\u001b[0m 5ms/step - loss: 0.0337 - val_loss: 0.0339 - learning_rate: 4.6233e-04\n",
            "Epoch 79/350\n",
            "\u001b[1m32/32\u001b[0m \u001b[32m━━━━━━━━━━━━━━━━━━━━\u001b[0m\u001b[37m\u001b[0m \u001b[1m0s\u001b[0m 6ms/step - loss: 0.0304 - val_loss: 0.0329 - learning_rate: 4.6233e-04\n",
            "Epoch 80/350\n",
            "\u001b[1m32/32\u001b[0m \u001b[32m━━━━━━━━━━━━━━━━━━━━\u001b[0m\u001b[37m\u001b[0m \u001b[1m0s\u001b[0m 6ms/step - loss: 0.0316 - val_loss: 0.0339 - learning_rate: 4.6233e-04\n",
            "Epoch 81/350\n",
            "\u001b[1m32/32\u001b[0m \u001b[32m━━━━━━━━━━━━━━━━━━━━\u001b[0m\u001b[37m\u001b[0m \u001b[1m0s\u001b[0m 5ms/step - loss: 0.0279 - val_loss: 0.0339 - learning_rate: 4.6233e-04\n",
            "Epoch 82/350\n",
            "\u001b[1m17/32\u001b[0m \u001b[32m━━━━━━━━━━\u001b[0m\u001b[37m━━━━━━━━━━\u001b[0m \u001b[1m0s\u001b[0m 3ms/step - loss: 0.0268 "
          ]
        },
        {
          "name": "stderr",
          "output_type": "stream",
          "text": [
            "WARNING:absl:You are saving your model as an HDF5 file via `model.save()` or `keras.saving.save_model(model)`. This file format is considered legacy. We recommend using instead the native Keras format, e.g. `model.save('my_model.keras')` or `keras.saving.save_model(model, 'my_model.keras')`. \n"
          ]
        },
        {
          "name": "stdout",
          "output_type": "stream",
          "text": [
            "\u001b[1m32/32\u001b[0m \u001b[32m━━━━━━━━━━━━━━━━━━━━\u001b[0m\u001b[37m\u001b[0m \u001b[1m0s\u001b[0m 7ms/step - loss: 0.0271 - val_loss: 0.0308 - learning_rate: 4.6233e-04\n",
            "Epoch 83/350\n",
            "\u001b[1m32/32\u001b[0m \u001b[32m━━━━━━━━━━━━━━━━━━━━\u001b[0m\u001b[37m\u001b[0m \u001b[1m0s\u001b[0m 5ms/step - loss: 0.0325 - val_loss: 0.0326 - learning_rate: 4.6233e-04\n",
            "Epoch 84/350\n",
            "\u001b[1m17/32\u001b[0m \u001b[32m━━━━━━━━━━\u001b[0m\u001b[37m━━━━━━━━━━\u001b[0m \u001b[1m0s\u001b[0m 3ms/step - loss: 0.0315 "
          ]
        },
        {
          "name": "stderr",
          "output_type": "stream",
          "text": [
            "WARNING:absl:You are saving your model as an HDF5 file via `model.save()` or `keras.saving.save_model(model)`. This file format is considered legacy. We recommend using instead the native Keras format, e.g. `model.save('my_model.keras')` or `keras.saving.save_model(model, 'my_model.keras')`. \n"
          ]
        },
        {
          "name": "stdout",
          "output_type": "stream",
          "text": [
            "\u001b[1m32/32\u001b[0m \u001b[32m━━━━━━━━━━━━━━━━━━━━\u001b[0m\u001b[37m\u001b[0m \u001b[1m0s\u001b[0m 7ms/step - loss: 0.0306 - val_loss: 0.0297 - learning_rate: 4.6233e-04\n",
            "Epoch 85/350\n",
            "\u001b[1m32/32\u001b[0m \u001b[32m━━━━━━━━━━━━━━━━━━━━\u001b[0m\u001b[37m\u001b[0m \u001b[1m0s\u001b[0m 5ms/step - loss: 0.0267 - val_loss: 0.0318 - learning_rate: 4.6233e-04\n",
            "Epoch 86/350\n",
            "\u001b[1m32/32\u001b[0m \u001b[32m━━━━━━━━━━━━━━━━━━━━\u001b[0m\u001b[37m\u001b[0m \u001b[1m0s\u001b[0m 6ms/step - loss: 0.0258 - val_loss: 0.0313 - learning_rate: 4.6233e-04\n",
            "Epoch 87/350\n",
            "\u001b[1m32/32\u001b[0m \u001b[32m━━━━━━━━━━━━━━━━━━━━\u001b[0m\u001b[37m\u001b[0m \u001b[1m0s\u001b[0m 5ms/step - loss: 0.0281 - val_loss: 0.0325 - learning_rate: 4.6233e-04\n",
            "Epoch 88/350\n",
            "\u001b[1m32/32\u001b[0m \u001b[32m━━━━━━━━━━━━━━━━━━━━\u001b[0m\u001b[37m\u001b[0m \u001b[1m0s\u001b[0m 5ms/step - loss: 0.0270 - val_loss: 0.0314 - learning_rate: 4.6233e-04\n",
            "Epoch 89/350\n",
            "\u001b[1m30/32\u001b[0m \u001b[32m━━━━━━━━━━━━━━━━━━\u001b[0m\u001b[37m━━\u001b[0m \u001b[1m0s\u001b[0m 4ms/step - loss: 0.0279"
          ]
        },
        {
          "name": "stderr",
          "output_type": "stream",
          "text": [
            "WARNING:absl:You are saving your model as an HDF5 file via `model.save()` or `keras.saving.save_model(model)`. This file format is considered legacy. We recommend using instead the native Keras format, e.g. `model.save('my_model.keras')` or `keras.saving.save_model(model, 'my_model.keras')`. \n"
          ]
        },
        {
          "name": "stdout",
          "output_type": "stream",
          "text": [
            "\u001b[1m32/32\u001b[0m \u001b[32m━━━━━━━━━━━━━━━━━━━━\u001b[0m\u001b[37m\u001b[0m \u001b[1m0s\u001b[0m 8ms/step - loss: 0.0280 - val_loss: 0.0294 - learning_rate: 4.6233e-04\n",
            "Epoch 90/350\n",
            "\u001b[1m32/32\u001b[0m \u001b[32m━━━━━━━━━━━━━━━━━━━━\u001b[0m\u001b[37m\u001b[0m \u001b[1m0s\u001b[0m 5ms/step - loss: 0.0294 - val_loss: 0.0322 - learning_rate: 4.6233e-04\n",
            "Epoch 91/350\n",
            "\u001b[1m32/32\u001b[0m \u001b[32m━━━━━━━━━━━━━━━━━━━━\u001b[0m\u001b[37m\u001b[0m \u001b[1m0s\u001b[0m 5ms/step - loss: 0.0292 - val_loss: 0.0310 - learning_rate: 4.6233e-04\n",
            "Epoch 92/350\n",
            "\u001b[1m32/32\u001b[0m \u001b[32m━━━━━━━━━━━━━━━━━━━━\u001b[0m\u001b[37m\u001b[0m \u001b[1m0s\u001b[0m 5ms/step - loss: 0.0276 - val_loss: 0.0308 - learning_rate: 4.6233e-04\n",
            "Epoch 93/350\n",
            "\u001b[1m32/32\u001b[0m \u001b[32m━━━━━━━━━━━━━━━━━━━━\u001b[0m\u001b[37m\u001b[0m \u001b[1m0s\u001b[0m 5ms/step - loss: 0.0313 - val_loss: 0.0309 - learning_rate: 4.6233e-04\n",
            "Epoch 94/350\n",
            "\u001b[1m32/32\u001b[0m \u001b[32m━━━━━━━━━━━━━━━━━━━━\u001b[0m\u001b[37m\u001b[0m \u001b[1m0s\u001b[0m 6ms/step - loss: 0.0317 - val_loss: 0.0327 - learning_rate: 4.6233e-04\n",
            "Epoch 95/350\n",
            "\u001b[1m27/32\u001b[0m \u001b[32m━━━━━━━━━━━━━━━━\u001b[0m\u001b[37m━━━━\u001b[0m \u001b[1m0s\u001b[0m 4ms/step - loss: 0.0280"
          ]
        },
        {
          "name": "stderr",
          "output_type": "stream",
          "text": [
            "WARNING:absl:You are saving your model as an HDF5 file via `model.save()` or `keras.saving.save_model(model)`. This file format is considered legacy. We recommend using instead the native Keras format, e.g. `model.save('my_model.keras')` or `keras.saving.save_model(model, 'my_model.keras')`. \n"
          ]
        },
        {
          "name": "stdout",
          "output_type": "stream",
          "text": [
            "\u001b[1m32/32\u001b[0m \u001b[32m━━━━━━━━━━━━━━━━━━━━\u001b[0m\u001b[37m\u001b[0m \u001b[1m0s\u001b[0m 8ms/step - loss: 0.0278 - val_loss: 0.0287 - learning_rate: 2.3117e-04\n",
            "Epoch 96/350\n",
            "\u001b[1m32/32\u001b[0m \u001b[32m━━━━━━━━━━━━━━━━━━━━\u001b[0m\u001b[37m\u001b[0m \u001b[1m0s\u001b[0m 6ms/step - loss: 0.0287 - val_loss: 0.0300 - learning_rate: 2.3117e-04\n",
            "Epoch 97/350\n",
            "\u001b[1m26/32\u001b[0m \u001b[32m━━━━━━━━━━━━━━━━\u001b[0m\u001b[37m━━━━\u001b[0m \u001b[1m0s\u001b[0m 4ms/step - loss: 0.0275"
          ]
        },
        {
          "name": "stderr",
          "output_type": "stream",
          "text": [
            "WARNING:absl:You are saving your model as an HDF5 file via `model.save()` or `keras.saving.save_model(model)`. This file format is considered legacy. We recommend using instead the native Keras format, e.g. `model.save('my_model.keras')` or `keras.saving.save_model(model, 'my_model.keras')`. \n"
          ]
        },
        {
          "name": "stdout",
          "output_type": "stream",
          "text": [
            "\u001b[1m32/32\u001b[0m \u001b[32m━━━━━━━━━━━━━━━━━━━━\u001b[0m\u001b[37m\u001b[0m \u001b[1m0s\u001b[0m 8ms/step - loss: 0.0270 - val_loss: 0.0281 - learning_rate: 2.3117e-04\n",
            "Epoch 98/350\n",
            "\u001b[1m32/32\u001b[0m \u001b[32m━━━━━━━━━━━━━━━━━━━━\u001b[0m\u001b[37m\u001b[0m \u001b[1m0s\u001b[0m 5ms/step - loss: 0.0260 - val_loss: 0.0304 - learning_rate: 2.3117e-04\n",
            "Epoch 99/350\n",
            "\u001b[1m32/32\u001b[0m \u001b[32m━━━━━━━━━━━━━━━━━━━━\u001b[0m\u001b[37m\u001b[0m \u001b[1m0s\u001b[0m 6ms/step - loss: 0.0260 - val_loss: 0.0296 - learning_rate: 2.3117e-04\n",
            "Epoch 100/350\n",
            "\u001b[1m32/32\u001b[0m \u001b[32m━━━━━━━━━━━━━━━━━━━━\u001b[0m\u001b[37m\u001b[0m \u001b[1m0s\u001b[0m 6ms/step - loss: 0.0254 - val_loss: 0.0284 - learning_rate: 2.3117e-04\n",
            "Epoch 101/350\n",
            "\u001b[1m32/32\u001b[0m \u001b[32m━━━━━━━━━━━━━━━━━━━━\u001b[0m\u001b[37m\u001b[0m \u001b[1m0s\u001b[0m 5ms/step - loss: 0.0245 - val_loss: 0.0285 - learning_rate: 2.3117e-04\n",
            "Epoch 102/350\n",
            "\u001b[1m32/32\u001b[0m \u001b[32m━━━━━━━━━━━━━━━━━━━━\u001b[0m\u001b[37m\u001b[0m \u001b[1m0s\u001b[0m 5ms/step - loss: 0.0296 - val_loss: 0.0281 - learning_rate: 2.3117e-04\n",
            "Epoch 103/350\n",
            "\u001b[1m27/32\u001b[0m \u001b[32m━━━━━━━━━━━━━━━━\u001b[0m\u001b[37m━━━━\u001b[0m \u001b[1m0s\u001b[0m 4ms/step - loss: 0.0222"
          ]
        },
        {
          "name": "stderr",
          "output_type": "stream",
          "text": [
            "WARNING:absl:You are saving your model as an HDF5 file via `model.save()` or `keras.saving.save_model(model)`. This file format is considered legacy. We recommend using instead the native Keras format, e.g. `model.save('my_model.keras')` or `keras.saving.save_model(model, 'my_model.keras')`. \n"
          ]
        },
        {
          "name": "stdout",
          "output_type": "stream",
          "text": [
            "\u001b[1m32/32\u001b[0m \u001b[32m━━━━━━━━━━━━━━━━━━━━\u001b[0m\u001b[37m\u001b[0m \u001b[1m0s\u001b[0m 8ms/step - loss: 0.0224 - val_loss: 0.0277 - learning_rate: 1.1558e-04\n",
            "Epoch 104/350\n",
            "\u001b[1m32/32\u001b[0m \u001b[32m━━━━━━━━━━━━━━━━━━━━\u001b[0m\u001b[37m\u001b[0m \u001b[1m0s\u001b[0m 6ms/step - loss: 0.0276 - val_loss: 0.0285 - learning_rate: 1.1558e-04\n",
            "Epoch 105/350\n",
            "\u001b[1m32/32\u001b[0m \u001b[32m━━━━━━━━━━━━━━━━━━━━\u001b[0m\u001b[37m\u001b[0m \u001b[1m0s\u001b[0m 5ms/step - loss: 0.0258 - val_loss: 0.0278 - learning_rate: 1.1558e-04\n",
            "Epoch 106/350\n",
            "\u001b[1m32/32\u001b[0m \u001b[32m━━━━━━━━━━━━━━━━━━━━\u001b[0m\u001b[37m\u001b[0m \u001b[1m0s\u001b[0m 5ms/step - loss: 0.0241 - val_loss: 0.0279 - learning_rate: 1.1558e-04\n",
            "Epoch 107/350\n",
            "\u001b[1m32/32\u001b[0m \u001b[32m━━━━━━━━━━━━━━━━━━━━\u001b[0m\u001b[37m\u001b[0m \u001b[1m0s\u001b[0m 5ms/step - loss: 0.0220 - val_loss: 0.0286 - learning_rate: 1.1558e-04\n",
            "Epoch 108/350\n",
            "\u001b[1m17/32\u001b[0m \u001b[32m━━━━━━━━━━\u001b[0m\u001b[37m━━━━━━━━━━\u001b[0m \u001b[1m0s\u001b[0m 3ms/step - loss: 0.0213 "
          ]
        },
        {
          "name": "stderr",
          "output_type": "stream",
          "text": [
            "WARNING:absl:You are saving your model as an HDF5 file via `model.save()` or `keras.saving.save_model(model)`. This file format is considered legacy. We recommend using instead the native Keras format, e.g. `model.save('my_model.keras')` or `keras.saving.save_model(model, 'my_model.keras')`. \n"
          ]
        },
        {
          "name": "stdout",
          "output_type": "stream",
          "text": [
            "\u001b[1m32/32\u001b[0m \u001b[32m━━━━━━━━━━━━━━━━━━━━\u001b[0m\u001b[37m\u001b[0m \u001b[1m0s\u001b[0m 7ms/step - loss: 0.0230 - val_loss: 0.0272 - learning_rate: 1.1558e-04\n",
            "Epoch 109/350\n",
            "\u001b[1m28/32\u001b[0m \u001b[32m━━━━━━━━━━━━━━━━━\u001b[0m\u001b[37m━━━\u001b[0m \u001b[1m0s\u001b[0m 4ms/step - loss: 0.0220"
          ]
        },
        {
          "name": "stderr",
          "output_type": "stream",
          "text": [
            "WARNING:absl:You are saving your model as an HDF5 file via `model.save()` or `keras.saving.save_model(model)`. This file format is considered legacy. We recommend using instead the native Keras format, e.g. `model.save('my_model.keras')` or `keras.saving.save_model(model, 'my_model.keras')`. \n"
          ]
        },
        {
          "name": "stdout",
          "output_type": "stream",
          "text": [
            "\u001b[1m32/32\u001b[0m \u001b[32m━━━━━━━━━━━━━━━━━━━━\u001b[0m\u001b[37m\u001b[0m \u001b[1m0s\u001b[0m 7ms/step - loss: 0.0222 - val_loss: 0.0269 - learning_rate: 1.1558e-04\n",
            "Epoch 110/350\n",
            "\u001b[1m32/32\u001b[0m \u001b[32m━━━━━━━━━━━━━━━━━━━━\u001b[0m\u001b[37m\u001b[0m \u001b[1m0s\u001b[0m 5ms/step - loss: 0.0240 - val_loss: 0.0281 - learning_rate: 1.1558e-04\n",
            "Epoch 111/350\n",
            "\u001b[1m32/32\u001b[0m \u001b[32m━━━━━━━━━━━━━━━━━━━━\u001b[0m\u001b[37m\u001b[0m \u001b[1m0s\u001b[0m 5ms/step - loss: 0.0228 - val_loss: 0.0270 - learning_rate: 1.1558e-04\n",
            "Epoch 112/350\n",
            "\u001b[1m32/32\u001b[0m \u001b[32m━━━━━━━━━━━━━━━━━━━━\u001b[0m\u001b[37m\u001b[0m \u001b[1m0s\u001b[0m 5ms/step - loss: 0.0197 - val_loss: 0.0272 - learning_rate: 1.1558e-04\n",
            "Epoch 113/350\n",
            "\u001b[1m32/32\u001b[0m \u001b[32m━━━━━━━━━━━━━━━━━━━━\u001b[0m\u001b[37m\u001b[0m \u001b[1m0s\u001b[0m 5ms/step - loss: 0.0280 - val_loss: 0.0273 - learning_rate: 1.1558e-04\n",
            "Epoch 114/350\n",
            "\u001b[1m32/32\u001b[0m \u001b[32m━━━━━━━━━━━━━━━━━━━━\u001b[0m\u001b[37m\u001b[0m \u001b[1m0s\u001b[0m 5ms/step - loss: 0.0255 - val_loss: 0.0275 - learning_rate: 1.1558e-04\n",
            "Epoch 115/350\n",
            "\u001b[1m32/32\u001b[0m \u001b[32m━━━━━━━━━━━━━━━━━━━━\u001b[0m\u001b[37m\u001b[0m \u001b[1m0s\u001b[0m 6ms/step - loss: 0.0213 - val_loss: 0.0275 - learning_rate: 5.7792e-05\n",
            "Epoch 116/350\n",
            "\u001b[1m32/32\u001b[0m \u001b[32m━━━━━━━━━━━━━━━━━━━━\u001b[0m\u001b[37m\u001b[0m \u001b[1m0s\u001b[0m 6ms/step - loss: 0.0232 - val_loss: 0.0271 - learning_rate: 5.7792e-05\n",
            "Epoch 117/350\n",
            "\u001b[1m32/32\u001b[0m \u001b[32m━━━━━━━━━━━━━━━━━━━━\u001b[0m\u001b[37m\u001b[0m \u001b[1m0s\u001b[0m 5ms/step - loss: 0.0235 - val_loss: 0.0272 - learning_rate: 5.7792e-05\n",
            "Epoch 118/350\n",
            "\u001b[1m30/32\u001b[0m \u001b[32m━━━━━━━━━━━━━━━━━━\u001b[0m\u001b[37m━━\u001b[0m \u001b[1m0s\u001b[0m 4ms/step - loss: 0.0290"
          ]
        },
        {
          "name": "stderr",
          "output_type": "stream",
          "text": [
            "WARNING:absl:You are saving your model as an HDF5 file via `model.save()` or `keras.saving.save_model(model)`. This file format is considered legacy. We recommend using instead the native Keras format, e.g. `model.save('my_model.keras')` or `keras.saving.save_model(model, 'my_model.keras')`. \n"
          ]
        },
        {
          "name": "stdout",
          "output_type": "stream",
          "text": [
            "\u001b[1m32/32\u001b[0m \u001b[32m━━━━━━━━━━━━━━━━━━━━\u001b[0m\u001b[37m\u001b[0m \u001b[1m0s\u001b[0m 9ms/step - loss: 0.0288 - val_loss: 0.0267 - learning_rate: 5.7792e-05\n",
            "Epoch 119/350\n",
            "\u001b[1m32/32\u001b[0m \u001b[32m━━━━━━━━━━━━━━━━━━━━\u001b[0m\u001b[37m\u001b[0m \u001b[1m0s\u001b[0m 5ms/step - loss: 0.0243 - val_loss: 0.0269 - learning_rate: 5.7792e-05\n",
            "Epoch 120/350\n",
            "\u001b[1m32/32\u001b[0m \u001b[32m━━━━━━━━━━━━━━━━━━━━\u001b[0m\u001b[37m\u001b[0m \u001b[1m0s\u001b[0m 6ms/step - loss: 0.0211 - val_loss: 0.0273 - learning_rate: 5.7792e-05\n",
            "Epoch 121/350\n",
            "\u001b[1m32/32\u001b[0m \u001b[32m━━━━━━━━━━━━━━━━━━━━\u001b[0m\u001b[37m\u001b[0m \u001b[1m0s\u001b[0m 6ms/step - loss: 0.0223 - val_loss: 0.0271 - learning_rate: 5.7792e-05\n",
            "Epoch 122/350\n",
            "\u001b[1m32/32\u001b[0m \u001b[32m━━━━━━━━━━━━━━━━━━━━\u001b[0m\u001b[37m\u001b[0m \u001b[1m0s\u001b[0m 5ms/step - loss: 0.0225 - val_loss: 0.0270 - learning_rate: 5.7792e-05\n",
            "Epoch 123/350\n",
            "\u001b[1m32/32\u001b[0m \u001b[32m━━━━━━━━━━━━━━━━━━━━\u001b[0m\u001b[37m\u001b[0m \u001b[1m0s\u001b[0m 3ms/step - loss: 0.0270"
          ]
        },
        {
          "name": "stderr",
          "output_type": "stream",
          "text": [
            "WARNING:absl:You are saving your model as an HDF5 file via `model.save()` or `keras.saving.save_model(model)`. This file format is considered legacy. We recommend using instead the native Keras format, e.g. `model.save('my_model.keras')` or `keras.saving.save_model(model, 'my_model.keras')`. \n"
          ]
        },
        {
          "name": "stdout",
          "output_type": "stream",
          "text": [
            "\u001b[1m32/32\u001b[0m \u001b[32m━━━━━━━━━━━━━━━━━━━━\u001b[0m\u001b[37m\u001b[0m \u001b[1m0s\u001b[0m 7ms/step - loss: 0.0269 - val_loss: 0.0266 - learning_rate: 5.7792e-05\n",
            "Epoch 124/350\n",
            "\u001b[1m32/32\u001b[0m \u001b[32m━━━━━━━━━━━━━━━━━━━━\u001b[0m\u001b[37m\u001b[0m \u001b[1m0s\u001b[0m 5ms/step - loss: 0.0211 - val_loss: 0.0268 - learning_rate: 5.7792e-05\n",
            "Epoch 125/350\n",
            "\u001b[1m32/32\u001b[0m \u001b[32m━━━━━━━━━━━━━━━━━━━━\u001b[0m\u001b[37m\u001b[0m \u001b[1m0s\u001b[0m 5ms/step - loss: 0.0240 - val_loss: 0.0270 - learning_rate: 5.7792e-05\n",
            "Epoch 126/350\n",
            "\u001b[1m32/32\u001b[0m \u001b[32m━━━━━━━━━━━━━━━━━━━━\u001b[0m\u001b[37m\u001b[0m \u001b[1m0s\u001b[0m 5ms/step - loss: 0.0213 - val_loss: 0.0269 - learning_rate: 5.7792e-05\n",
            "Epoch 127/350\n",
            "\u001b[1m32/32\u001b[0m \u001b[32m━━━━━━━━━━━━━━━━━━━━\u001b[0m\u001b[37m\u001b[0m \u001b[1m0s\u001b[0m 6ms/step - loss: 0.0245 - val_loss: 0.0271 - learning_rate: 5.7792e-05\n",
            "Epoch 128/350\n",
            "\u001b[1m32/32\u001b[0m \u001b[32m━━━━━━━━━━━━━━━━━━━━\u001b[0m\u001b[37m\u001b[0m \u001b[1m0s\u001b[0m 5ms/step - loss: 0.0270 - val_loss: 0.0277 - learning_rate: 5.7792e-05\n",
            "Epoch 129/350\n",
            "\u001b[1m32/32\u001b[0m \u001b[32m━━━━━━━━━━━━━━━━━━━━\u001b[0m\u001b[37m\u001b[0m \u001b[1m0s\u001b[0m 5ms/step - loss: 0.0231 - val_loss: 0.0274 - learning_rate: 2.8896e-05\n",
            "Epoch 130/350\n",
            "\u001b[1m32/32\u001b[0m \u001b[32m━━━━━━━━━━━━━━━━━━━━\u001b[0m\u001b[37m\u001b[0m \u001b[1m0s\u001b[0m 5ms/step - loss: 0.0209 - val_loss: 0.0272 - learning_rate: 2.8896e-05\n",
            "Epoch 131/350\n",
            "\u001b[1m32/32\u001b[0m \u001b[32m━━━━━━━━━━━━━━━━━━━━\u001b[0m\u001b[37m\u001b[0m \u001b[1m0s\u001b[0m 5ms/step - loss: 0.0209 - val_loss: 0.0269 - learning_rate: 2.8896e-05\n",
            "Epoch 132/350\n",
            "\u001b[1m32/32\u001b[0m \u001b[32m━━━━━━━━━━━━━━━━━━━━\u001b[0m\u001b[37m\u001b[0m \u001b[1m0s\u001b[0m 6ms/step - loss: 0.0257 - val_loss: 0.0269 - learning_rate: 2.8896e-05\n",
            "Epoch 133/350\n",
            "\u001b[1m32/32\u001b[0m \u001b[32m━━━━━━━━━━━━━━━━━━━━\u001b[0m\u001b[37m\u001b[0m \u001b[1m0s\u001b[0m 5ms/step - loss: 0.0222 - val_loss: 0.0268 - learning_rate: 2.8896e-05\n",
            "\u001b[1m16/16\u001b[0m \u001b[32m━━━━━━━━━━━━━━━━━━━━\u001b[0m\u001b[37m\u001b[0m \u001b[1m0s\u001b[0m 9ms/step\n",
            "\n",
            "Resultados finales del modelo:\n",
            "MAE: 360792.6889\n",
            "MSE: 259239152141.1778\n",
            "RMSE: 509155.3320\n",
            "R²: 0.9249\n",
            "Error porcentual (desescalado): 9.72%\n"
          ]
        }
      ],
      "source": [
        "from sklearn.preprocessing import PolynomialFeatures\n",
        "import numpy as np\n",
        "import optuna\n",
        "import tensorflow as tf\n",
        "from sklearn.model_selection import KFold\n",
        "from sklearn.preprocessing import RobustScaler\n",
        "from sklearn.metrics import mean_absolute_error, mean_squared_error, r2_score\n",
        "from tensorflow.keras.models import Sequential\n",
        "from tensorflow.keras.layers import Dense, Dropout, BatchNormalization, Activation\n",
        "from tensorflow.keras.optimizers import Nadam\n",
        "from tensorflow.keras.losses import Huber\n",
        "from tensorflow.keras.initializers import HeNormal\n",
        "from tensorflow.keras.regularizers import l1_l2\n",
        "from sklearn.model_selection import train_test_split\n",
        "from tensorflow.keras.callbacks import EarlyStopping, ReduceLROnPlateau, ModelCheckpoint\n",
        "import matplotlib.pyplot as plt\n",
        "\n",
        "df = pd.read_csv('df_final.csv')  # Cargar el archivo CSV 'df_final.csv' en un DataFrame\n",
        "\n",
        "# Reconfigurar X y y después de eliminar los NaN\n",
        "X = df.drop(columns=['price'])\n",
        "y = df[['price']]\n",
        "\n",
        "# Escalar los datos\n",
        "scaler_X = RobustScaler()\n",
        "scaler_y = RobustScaler()\n",
        "\n",
        "# Ajustar y transformar los datos de entrada\n",
        "X_scaled = scaler_X.fit_transform(X)\n",
        "y_scaled = scaler_y.fit_transform(y)  # Ahora se escala correctamente\n",
        "\n",
        "# Generar características polinómicas\n",
        "poly = PolynomialFeatures(degree=2, interaction_only=True, include_bias=False)\n",
        "X_poly = poly.fit_transform(X_scaled)\n",
        "\n",
        "def objective(trial):\n",
        "    try:\n",
        "        # Ajustar rangos de hiperparámetros\n",
        "        optimizer_name = trial.suggest_categorical('optimizer', ['nadam', 'adam'])\n",
        "        dropout_rate = trial.suggest_float('dropout_rate', 0.0, 0.3)\n",
        "        learning_rate = trial.suggest_float('learning_rate', 1e-4, 1e-2, log=True)\n",
        "        l2_rate = trial.suggest_float('l2_rate', 1e-7, 1e-3)\n",
        "        hidden_units_1 = trial.suggest_int('hidden_units_1', 64, 256, step=64)\n",
        "        hidden_units_2 = trial.suggest_int('hidden_units_2', 32, 128, step=32)\n",
        "        batch_size = trial.suggest_categorical('batch_size', [16, 32, 64])\n",
        "\n",
        "        # Crear modelo ajustado\n",
        "        model = build_model(optimizer_name, dropout_rate, learning_rate, l2_rate, hidden_units_1, hidden_units_2)\n",
        "\n",
        "        # Configuración de callbacks\n",
        "        reduce_lr = ReduceLROnPlateau(monitor='val_loss', factor=0.5, patience=5, min_lr=1e-8)\n",
        "        early_stopping = EarlyStopping(monitor='val_loss', patience=10, restore_best_weights=True)\n",
        "\n",
        "        # Aplicar k-fold cross-validation\n",
        "        kfold = KFold(n_splits=5, shuffle=True, random_state=42)\n",
        "        mse_scores = []\n",
        "\n",
        "        for train_idx, val_idx in kfold.split(X_poly):\n",
        "            X_train, X_val = X_poly[train_idx], X_poly[val_idx]\n",
        "            y_train, y_val = y_scaled[train_idx], y_scaled[val_idx]\n",
        "\n",
        "            # Entrenar modelo en este fold\n",
        "            model.fit(X_train, y_train, epochs=150, batch_size=batch_size, verbose=0,\n",
        "                      validation_data=(X_val, y_val), callbacks=[early_stopping, reduce_lr])\n",
        "            y_val_pred = model.predict(X_val)\n",
        "            mse = mean_squared_error(y_val, y_val_pred)\n",
        "            mse_scores.append(mse)\n",
        "\n",
        "        # Devuelve la métrica promedio de los folds\n",
        "        return np.mean(mse_scores)\n",
        "    except Exception as e:\n",
        "        print(f\"Error durante la optimización: {e}\")\n",
        "        return float('inf')\n",
        "\n",
        "\n",
        "\n",
        "# Crear el modelo con las modificaciones respetando tu lógica original de optimizador\n",
        "def build_model(optimizer_name, dropout_rate, learning_rate, l2_rate, hidden_units_1, hidden_units_2):\n",
        "    model = Sequential()\n",
        "\n",
        "    # Primera capa con BatchNormalization y Swish\n",
        "    model.add(Dense(hidden_units_1, kernel_initializer=HeNormal(), kernel_regularizer=l1_l2(l2=l2_rate), input_shape=(X_poly.shape[1],)))\n",
        "    model.add(BatchNormalization())\n",
        "    model.add(Activation('swish'))\n",
        "    model.add(Dropout(dropout_rate))\n",
        "\n",
        "    # Capas ocultas con Dropout dinámico\n",
        "    for layer_index in range(3):  # Tres capas ocultas dinámicas\n",
        "        units = hidden_units_2 // (2 ** layer_index)  # Reducir unidades exponencialmente\n",
        "        model.add(Dense(units, kernel_initializer=HeNormal(), kernel_regularizer=l1_l2(l2=l2_rate)))\n",
        "        model.add(BatchNormalization())\n",
        "        model.add(Activation('swish'))\n",
        "        model.add(Dropout(dropout_rate * (layer_index + 1) * 0.8))\n",
        "\n",
        "    # Capa de salida\n",
        "    model.add(Dense(1))\n",
        "\n",
        "    optimizer = Nadam(learning_rate=learning_rate)\n",
        "\n",
        "    model.compile(optimizer=optimizer, loss=Huber(delta=1.0))  # Cambié a Huber Loss\n",
        "\n",
        "    return model\n",
        "\n",
        "# Función para realizar los estudios con Optuna\n",
        "def run_optimizer_trials():\n",
        "    study = optuna.create_study(study_name='trials_pisos', storage='sqlite:///optuna_study.db', load_if_exists=True, direction='minimize')\n",
        "    study.optimize(objective, n_trials=50)  # Mantengo las 50 pruebas originales\n",
        "\n",
        "    print(f\"\\nMejores hiperparámetros:\")\n",
        "    print(study.best_params)\n",
        "    return study.best_params\n",
        "\n",
        "# Ejecutar los estudios\n",
        "best_params = run_optimizer_trials()\n",
        "\n",
        "# Crear modelo final con los mejores hiperparámetros\n",
        "final_model = build_model(best_params['optimizer'], best_params['dropout_rate'], best_params['learning_rate'], best_params['l2_rate'], best_params['hidden_units_1'], best_params['hidden_units_2'])\n",
        "\n",
        "# Configurar callbacks\n",
        "reduce_lr = ReduceLROnPlateau(monitor='val_loss', factor=0.5, patience=5, min_lr=1e-6)\n",
        "early_stopping = EarlyStopping(monitor='val_loss', patience=10, restore_best_weights=True)\n",
        "checkpoint = ModelCheckpoint('best_model.h5', monitor='val_loss', save_best_only=True)\n",
        "\n",
        "X_train, X_val, y_train, y_val = train_test_split(X_poly, y_scaled, test_size=0.2, random_state=42)\n",
        "\n",
        "history = final_model.fit(X_train, y_train, epochs=350, batch_size=best_params['batch_size'], verbose=1,\n",
        "                          validation_data=(X_val, y_val), callbacks=[early_stopping, reduce_lr, checkpoint])\n",
        "\n",
        "# Evaluación final del modelo\n",
        "y_val_pred = final_model.predict(X_val)\n",
        "\n",
        "y_val_descaled = scaler_y.inverse_transform(y_val)\n",
        "y_val_pred_descaled = scaler_y.inverse_transform(y_val_pred)\n",
        "\n",
        "mae = mean_absolute_error(y_val_descaled, y_val_pred_descaled)\n",
        "mse = mean_squared_error(y_val_descaled, y_val_pred_descaled)\n",
        "rmse = np.sqrt(mean_squared_error(y_val_descaled, y_val_pred_descaled))\n",
        "r2 = r2_score(y_val_descaled, y_val_pred_descaled)\n",
        "\n",
        "print(f\"\\nResultados finales del modelo:\")\n",
        "print(f\"MAE: {mae:.4f}\")\n",
        "print(f\"MSE: {mse:.4f}\")\n",
        "print(f\"RMSE: {rmse:.4f}\")\n",
        "print(f\"R²: {r2:.4f}\")\n",
        "\n",
        "rmse_percentage_descaled = (rmse / np.mean(y_val_descaled)) * 100\n",
        "print(f\"Error porcentual (desescalado): {rmse_percentage_descaled:.2f}%\")"
      ]
    },
    {
      "cell_type": "markdown",
      "metadata": {},
      "source": [
        "### Para ver info del estudio de Optuna (ejecutar en terminal)"
      ]
    },
    {
      "cell_type": "code",
      "execution_count": null,
      "metadata": {},
      "outputs": [
        {
          "name": "stderr",
          "output_type": "stream",
          "text": [
            "Listening on http://127.0.0.1:8080/\n",
            "Hit Ctrl-C to quit.\n",
            "\n",
            "Traceback (most recent call last):\n",
            "  File \"<frozen runpy>\", line 198, in _run_module_as_main\n",
            "  File \"<frozen runpy>\", line 88, in _run_code\n",
            "  File \"c:\\Users\\Alumno_AI\\Desktop\\Generativa\\Sam\\.venv\\Scripts\\optuna-dashboard.exe\\__main__.py\", line 7, in <module>\n",
            "  File \"c:\\Users\\Alumno_AI\\Desktop\\Generativa\\Sam\\.venv\\Lib\\site-packages\\optuna_dashboard\\_cli.py\", line 140, in main\n",
            "    run_wsgiref(app, args.host, args.port, args.quiet)\n",
            "  File \"c:\\Users\\Alumno_AI\\Desktop\\Generativa\\Sam\\.venv\\Lib\\site-packages\\optuna_dashboard\\_cli.py\", line 43, in run_wsgiref\n",
            "    httpd = make_server(host, port, app, server_class=ThreadedWSGIServer)\n",
            "            ^^^^^^^^^^^^^^^^^^^^^^^^^^^^^^^^^^^^^^^^^^^^^^^^^^^^^^^^^^^^^\n",
            "  File \"C:\\Users\\Alumno_AI\\AppData\\Local\\Programs\\Python\\Python311\\Lib\\wsgiref\\simple_server.py\", line 154, in make_server\n",
            "    server = server_class((host, port), handler_class)\n",
            "             ^^^^^^^^^^^^^^^^^^^^^^^^^^^^^^^^^^^^^^^^^\n",
            "  File \"C:\\Users\\Alumno_AI\\AppData\\Local\\Programs\\Python\\Python311\\Lib\\socketserver.py\", line 456, in __init__\n",
            "    self.server_bind()\n",
            "  File \"C:\\Users\\Alumno_AI\\AppData\\Local\\Programs\\Python\\Python311\\Lib\\wsgiref\\simple_server.py\", line 50, in server_bind\n",
            "    HTTPServer.server_bind(self)\n",
            "  File \"C:\\Users\\Alumno_AI\\AppData\\Local\\Programs\\Python\\Python311\\Lib\\http\\server.py\", line 136, in server_bind\n",
            "    socketserver.TCPServer.server_bind(self)\n",
            "  File \"C:\\Users\\Alumno_AI\\AppData\\Local\\Programs\\Python\\Python311\\Lib\\socketserver.py\", line 472, in server_bind\n",
            "    self.socket.bind(self.server_address)\n",
            "PermissionError: [WinError 10013] Intento de acceso a un socket no permitido por sus permisos de acceso\n"
          ]
        }
      ],
      "source": [
        "#!optuna-dashboard sqlite:///optuna_study.db --host localhost --port 8081"
      ]
    },
    {
      "cell_type": "markdown",
      "metadata": {},
      "source": [
        "## Entrenamiento del modelo sin tener que usar el optimizador de parámetros\n",
        "Esta celda solo la ejecuto cuando quiero probar cambiando yo algo de los parámetros sin tener que estar ejecutando los 50 trials"
      ]
    },
    {
      "cell_type": "markdown",
      "metadata": {},
      "source": [
        "### Definir los parámetros (si los queremos cambiar)"
      ]
    },
    {
      "cell_type": "code",
      "execution_count": null,
      "metadata": {},
      "outputs": [
        {
          "name": "stderr",
          "output_type": "stream",
          "text": [
            "c:\\Users\\Alumno_AI\\Desktop\\Generativa\\Sam\\.venv\\Lib\\site-packages\\keras\\src\\layers\\core\\dense.py:87: UserWarning: Do not pass an `input_shape`/`input_dim` argument to a layer. When using Sequential models, prefer using an `Input(shape)` object as the first layer in the model instead.\n",
            "  super().__init__(activity_regularizer=activity_regularizer, **kwargs)\n"
          ]
        }
      ],
      "source": [
        "# df = pd.read_csv('df_final.csv')  # Cargar el archivo CSV 'df_final.csv' en un DataFrame\n",
        "\n",
        "# # Reconfigurar X y y después de eliminar los NaN\n",
        "# X = df.drop(columns=['price'])\n",
        "# y = df[['price']]\n",
        "\n",
        "# # Escalar los datos\n",
        "# scaler_X = RobustScaler()\n",
        "# scaler_y = RobustScaler()\n",
        "\n",
        "# # Ajustar y transformar los datos de entrada\n",
        "# X_scaled = scaler_X.fit_transform(X)\n",
        "# y_scaled = scaler_y.fit_transform(y)  # Ahora se escala correctamente\n",
        "\n",
        "# # Generar características polinómicas\n",
        "# poly = PolynomialFeatures(degree=2, interaction_only=True, include_bias=False)\n",
        "# X_poly = poly.fit_transform(X_scaled)\n",
        "\n",
        "# model = Sequential()\n",
        "\n",
        "#     # Primera capa con BatchNormalization y Swish\n",
        "# model.add(Dense(192, kernel_initializer=HeNormal(), kernel_regularizer=l1_l2(l2=0.0003639032564986888), input_shape=(X_poly.shape[1],)))\n",
        "# model.add(BatchNormalization())\n",
        "# model.add(Activation('swish'))\n",
        "# model.add(Dropout(0.002574930645769016))\n",
        "\n",
        "#     # Capas ocultas con Dropout dinámico\n",
        "# for layer_index in range(3):  # Tres capas ocultas dinámicas\n",
        "#     units = 64 // (2 ** layer_index)  # Reducir unidades exponencialmente\n",
        "#     model.add(Dense(units, kernel_initializer=HeNormal(), kernel_regularizer=l1_l2(l2=0.0003639032564986888)))\n",
        "#     model.add(BatchNormalization())\n",
        "#     model.add(Activation('swish'))\n",
        "#     model.add(Dropout(0.002574930645769016 * (layer_index + 1) * 0.8))\n",
        "\n",
        "#     # Capa de salida\n",
        "# model.add(Dense(1))\n",
        "\n",
        "# optimizer = Nadam(learning_rate=0.0004449958154327974)\n",
        "\n",
        "# model.compile(optimizer=optimizer, loss=Huber(delta=1.0))  # Cambié a Huber Loss"
      ]
    },
    {
      "cell_type": "markdown",
      "metadata": {},
      "source": [
        "### Entrenar el modelo"
      ]
    },
    {
      "cell_type": "code",
      "execution_count": 83,
      "metadata": {},
      "outputs": [
        {
          "name": "stdout",
          "output_type": "stream",
          "text": [
            "Epoch 1/350\n",
            "\u001b[1m31/32\u001b[0m \u001b[32m━━━━━━━━━━━━━━━━━━━\u001b[0m\u001b[37m━\u001b[0m \u001b[1m0s\u001b[0m 5ms/step - loss: 0.5153"
          ]
        },
        {
          "name": "stderr",
          "output_type": "stream",
          "text": [
            "WARNING:absl:You are saving your model as an HDF5 file via `model.save()` or `keras.saving.save_model(model)`. This file format is considered legacy. We recommend using instead the native Keras format, e.g. `model.save('my_model.keras')` or `keras.saving.save_model(model, 'my_model.keras')`. \n"
          ]
        },
        {
          "name": "stdout",
          "output_type": "stream",
          "text": [
            "\u001b[1m32/32\u001b[0m \u001b[32m━━━━━━━━━━━━━━━━━━━━\u001b[0m\u001b[37m\u001b[0m \u001b[1m4s\u001b[0m 17ms/step - loss: 0.5104 - val_loss: 0.3402 - learning_rate: 4.4500e-04\n",
            "Epoch 2/350\n",
            "\u001b[1m22/32\u001b[0m \u001b[32m━━━━━━━━━━━━━\u001b[0m\u001b[37m━━━━━━━\u001b[0m \u001b[1m0s\u001b[0m 5ms/step - loss: 0.3327"
          ]
        },
        {
          "name": "stderr",
          "output_type": "stream",
          "text": [
            "WARNING:absl:You are saving your model as an HDF5 file via `model.save()` or `keras.saving.save_model(model)`. This file format is considered legacy. We recommend using instead the native Keras format, e.g. `model.save('my_model.keras')` or `keras.saving.save_model(model, 'my_model.keras')`. \n"
          ]
        },
        {
          "name": "stdout",
          "output_type": "stream",
          "text": [
            "\u001b[1m32/32\u001b[0m \u001b[32m━━━━━━━━━━━━━━━━━━━━\u001b[0m\u001b[37m\u001b[0m \u001b[1m0s\u001b[0m 9ms/step - loss: 0.3293 - val_loss: 0.3119 - learning_rate: 4.4500e-04\n",
            "Epoch 3/350\n",
            "\u001b[1m30/32\u001b[0m \u001b[32m━━━━━━━━━━━━━━━━━━\u001b[0m\u001b[37m━━\u001b[0m \u001b[1m0s\u001b[0m 6ms/step - loss: 0.2987"
          ]
        },
        {
          "name": "stderr",
          "output_type": "stream",
          "text": [
            "WARNING:absl:You are saving your model as an HDF5 file via `model.save()` or `keras.saving.save_model(model)`. This file format is considered legacy. We recommend using instead the native Keras format, e.g. `model.save('my_model.keras')` or `keras.saving.save_model(model, 'my_model.keras')`. \n"
          ]
        },
        {
          "name": "stdout",
          "output_type": "stream",
          "text": [
            "\u001b[1m32/32\u001b[0m \u001b[32m━━━━━━━━━━━━━━━━━━━━\u001b[0m\u001b[37m\u001b[0m \u001b[1m0s\u001b[0m 9ms/step - loss: 0.2979 - val_loss: 0.2898 - learning_rate: 4.4500e-04\n",
            "Epoch 4/350\n",
            "\u001b[1m23/32\u001b[0m \u001b[32m━━━━━━━━━━━━━━\u001b[0m\u001b[37m━━━━━━\u001b[0m \u001b[1m0s\u001b[0m 5ms/step - loss: 0.2803"
          ]
        },
        {
          "name": "stderr",
          "output_type": "stream",
          "text": [
            "WARNING:absl:You are saving your model as an HDF5 file via `model.save()` or `keras.saving.save_model(model)`. This file format is considered legacy. We recommend using instead the native Keras format, e.g. `model.save('my_model.keras')` or `keras.saving.save_model(model, 'my_model.keras')`. \n"
          ]
        },
        {
          "name": "stdout",
          "output_type": "stream",
          "text": [
            "\u001b[1m32/32\u001b[0m \u001b[32m━━━━━━━━━━━━━━━━━━━━\u001b[0m\u001b[37m\u001b[0m \u001b[1m0s\u001b[0m 8ms/step - loss: 0.2796 - val_loss: 0.2751 - learning_rate: 4.4500e-04\n",
            "Epoch 5/350\n",
            "\u001b[1m22/32\u001b[0m \u001b[32m━━━━━━━━━━━━━\u001b[0m\u001b[37m━━━━━━━\u001b[0m \u001b[1m0s\u001b[0m 5ms/step - loss: 0.2655"
          ]
        },
        {
          "name": "stderr",
          "output_type": "stream",
          "text": [
            "WARNING:absl:You are saving your model as an HDF5 file via `model.save()` or `keras.saving.save_model(model)`. This file format is considered legacy. We recommend using instead the native Keras format, e.g. `model.save('my_model.keras')` or `keras.saving.save_model(model, 'my_model.keras')`. \n"
          ]
        },
        {
          "name": "stdout",
          "output_type": "stream",
          "text": [
            "\u001b[1m32/32\u001b[0m \u001b[32m━━━━━━━━━━━━━━━━━━━━\u001b[0m\u001b[37m\u001b[0m \u001b[1m0s\u001b[0m 9ms/step - loss: 0.2653 - val_loss: 0.2646 - learning_rate: 4.4500e-04\n",
            "Epoch 6/350\n",
            "\u001b[1m23/32\u001b[0m \u001b[32m━━━━━━━━━━━━━━\u001b[0m\u001b[37m━━━━━━\u001b[0m \u001b[1m0s\u001b[0m 5ms/step - loss: 0.2616"
          ]
        },
        {
          "name": "stderr",
          "output_type": "stream",
          "text": [
            "WARNING:absl:You are saving your model as an HDF5 file via `model.save()` or `keras.saving.save_model(model)`. This file format is considered legacy. We recommend using instead the native Keras format, e.g. `model.save('my_model.keras')` or `keras.saving.save_model(model, 'my_model.keras')`. \n"
          ]
        },
        {
          "name": "stdout",
          "output_type": "stream",
          "text": [
            "\u001b[1m32/32\u001b[0m \u001b[32m━━━━━━━━━━━━━━━━━━━━\u001b[0m\u001b[37m\u001b[0m \u001b[1m0s\u001b[0m 8ms/step - loss: 0.2617 - val_loss: 0.2547 - learning_rate: 4.4500e-04\n",
            "Epoch 7/350\n",
            "\u001b[1m22/32\u001b[0m \u001b[32m━━━━━━━━━━━━━\u001b[0m\u001b[37m━━━━━━━\u001b[0m \u001b[1m0s\u001b[0m 5ms/step - loss: 0.2546"
          ]
        },
        {
          "name": "stderr",
          "output_type": "stream",
          "text": [
            "WARNING:absl:You are saving your model as an HDF5 file via `model.save()` or `keras.saving.save_model(model)`. This file format is considered legacy. We recommend using instead the native Keras format, e.g. `model.save('my_model.keras')` or `keras.saving.save_model(model, 'my_model.keras')`. \n"
          ]
        },
        {
          "name": "stdout",
          "output_type": "stream",
          "text": [
            "\u001b[1m32/32\u001b[0m \u001b[32m━━━━━━━━━━━━━━━━━━━━\u001b[0m\u001b[37m\u001b[0m \u001b[1m0s\u001b[0m 9ms/step - loss: 0.2544 - val_loss: 0.2523 - learning_rate: 4.4500e-04\n",
            "Epoch 8/350\n",
            "\u001b[1m23/32\u001b[0m \u001b[32m━━━━━━━━━━━━━━\u001b[0m\u001b[37m━━━━━━\u001b[0m \u001b[1m0s\u001b[0m 5ms/step - loss: 0.2515"
          ]
        },
        {
          "name": "stderr",
          "output_type": "stream",
          "text": [
            "WARNING:absl:You are saving your model as an HDF5 file via `model.save()` or `keras.saving.save_model(model)`. This file format is considered legacy. We recommend using instead the native Keras format, e.g. `model.save('my_model.keras')` or `keras.saving.save_model(model, 'my_model.keras')`. \n"
          ]
        },
        {
          "name": "stdout",
          "output_type": "stream",
          "text": [
            "\u001b[1m32/32\u001b[0m \u001b[32m━━━━━━━━━━━━━━━━━━━━\u001b[0m\u001b[37m\u001b[0m \u001b[1m0s\u001b[0m 9ms/step - loss: 0.2503 - val_loss: 0.2447 - learning_rate: 4.4500e-04\n",
            "Epoch 9/350\n",
            "\u001b[1m22/32\u001b[0m \u001b[32m━━━━━━━━━━━━━\u001b[0m\u001b[37m━━━━━━━\u001b[0m \u001b[1m0s\u001b[0m 5ms/step - loss: 0.2416"
          ]
        },
        {
          "name": "stderr",
          "output_type": "stream",
          "text": [
            "WARNING:absl:You are saving your model as an HDF5 file via `model.save()` or `keras.saving.save_model(model)`. This file format is considered legacy. We recommend using instead the native Keras format, e.g. `model.save('my_model.keras')` or `keras.saving.save_model(model, 'my_model.keras')`. \n"
          ]
        },
        {
          "name": "stdout",
          "output_type": "stream",
          "text": [
            "\u001b[1m32/32\u001b[0m \u001b[32m━━━━━━━━━━━━━━━━━━━━\u001b[0m\u001b[37m\u001b[0m \u001b[1m0s\u001b[0m 11ms/step - loss: 0.2422 - val_loss: 0.2417 - learning_rate: 4.4500e-04\n",
            "Epoch 10/350\n",
            "\u001b[1m26/32\u001b[0m \u001b[32m━━━━━━━━━━━━━━━━\u001b[0m\u001b[37m━━━━\u001b[0m \u001b[1m0s\u001b[0m 4ms/step - loss: 0.2439"
          ]
        },
        {
          "name": "stderr",
          "output_type": "stream",
          "text": [
            "WARNING:absl:You are saving your model as an HDF5 file via `model.save()` or `keras.saving.save_model(model)`. This file format is considered legacy. We recommend using instead the native Keras format, e.g. `model.save('my_model.keras')` or `keras.saving.save_model(model, 'my_model.keras')`. \n"
          ]
        },
        {
          "name": "stdout",
          "output_type": "stream",
          "text": [
            "\u001b[1m32/32\u001b[0m \u001b[32m━━━━━━━━━━━━━━━━━━━━\u001b[0m\u001b[37m\u001b[0m \u001b[1m0s\u001b[0m 8ms/step - loss: 0.2429 - val_loss: 0.2346 - learning_rate: 4.4500e-04\n",
            "Epoch 11/350\n",
            "\u001b[1m32/32\u001b[0m \u001b[32m━━━━━━━━━━━━━━━━━━━━\u001b[0m\u001b[37m\u001b[0m \u001b[1m0s\u001b[0m 5ms/step - loss: 0.2375"
          ]
        },
        {
          "name": "stderr",
          "output_type": "stream",
          "text": [
            "WARNING:absl:You are saving your model as an HDF5 file via `model.save()` or `keras.saving.save_model(model)`. This file format is considered legacy. We recommend using instead the native Keras format, e.g. `model.save('my_model.keras')` or `keras.saving.save_model(model, 'my_model.keras')`. \n"
          ]
        },
        {
          "name": "stdout",
          "output_type": "stream",
          "text": [
            "\u001b[1m32/32\u001b[0m \u001b[32m━━━━━━━━━━━━━━━━━━━━\u001b[0m\u001b[37m\u001b[0m \u001b[1m0s\u001b[0m 9ms/step - loss: 0.2374 - val_loss: 0.2295 - learning_rate: 4.4500e-04\n",
            "Epoch 12/350\n",
            "\u001b[1m21/32\u001b[0m \u001b[32m━━━━━━━━━━━━━\u001b[0m\u001b[37m━━━━━━━\u001b[0m \u001b[1m0s\u001b[0m 5ms/step - loss: 0.2343"
          ]
        },
        {
          "name": "stderr",
          "output_type": "stream",
          "text": [
            "WARNING:absl:You are saving your model as an HDF5 file via `model.save()` or `keras.saving.save_model(model)`. This file format is considered legacy. We recommend using instead the native Keras format, e.g. `model.save('my_model.keras')` or `keras.saving.save_model(model, 'my_model.keras')`. \n"
          ]
        },
        {
          "name": "stdout",
          "output_type": "stream",
          "text": [
            "\u001b[1m32/32\u001b[0m \u001b[32m━━━━━━━━━━━━━━━━━━━━\u001b[0m\u001b[37m\u001b[0m \u001b[1m0s\u001b[0m 9ms/step - loss: 0.2327 - val_loss: 0.2225 - learning_rate: 4.4500e-04\n",
            "Epoch 13/350\n",
            "\u001b[1m32/32\u001b[0m \u001b[32m━━━━━━━━━━━━━━━━━━━━\u001b[0m\u001b[37m\u001b[0m \u001b[1m0s\u001b[0m 5ms/step - loss: 0.2264"
          ]
        },
        {
          "name": "stderr",
          "output_type": "stream",
          "text": [
            "WARNING:absl:You are saving your model as an HDF5 file via `model.save()` or `keras.saving.save_model(model)`. This file format is considered legacy. We recommend using instead the native Keras format, e.g. `model.save('my_model.keras')` or `keras.saving.save_model(model, 'my_model.keras')`. \n"
          ]
        },
        {
          "name": "stdout",
          "output_type": "stream",
          "text": [
            "\u001b[1m32/32\u001b[0m \u001b[32m━━━━━━━━━━━━━━━━━━━━\u001b[0m\u001b[37m\u001b[0m \u001b[1m0s\u001b[0m 9ms/step - loss: 0.2263 - val_loss: 0.2202 - learning_rate: 4.4500e-04\n",
            "Epoch 14/350\n",
            "\u001b[1m22/32\u001b[0m \u001b[32m━━━━━━━━━━━━━\u001b[0m\u001b[37m━━━━━━━\u001b[0m \u001b[1m0s\u001b[0m 7ms/step - loss: 0.2267"
          ]
        },
        {
          "name": "stderr",
          "output_type": "stream",
          "text": [
            "WARNING:absl:You are saving your model as an HDF5 file via `model.save()` or `keras.saving.save_model(model)`. This file format is considered legacy. We recommend using instead the native Keras format, e.g. `model.save('my_model.keras')` or `keras.saving.save_model(model, 'my_model.keras')`. \n"
          ]
        },
        {
          "name": "stdout",
          "output_type": "stream",
          "text": [
            "\u001b[1m32/32\u001b[0m \u001b[32m━━━━━━━━━━━━━━━━━━━━\u001b[0m\u001b[37m\u001b[0m \u001b[1m0s\u001b[0m 10ms/step - loss: 0.2255 - val_loss: 0.2188 - learning_rate: 4.4500e-04\n",
            "Epoch 15/350\n",
            "\u001b[1m24/32\u001b[0m \u001b[32m━━━━━━━━━━━━━━━\u001b[0m\u001b[37m━━━━━\u001b[0m \u001b[1m0s\u001b[0m 4ms/step - loss: 0.2169"
          ]
        },
        {
          "name": "stderr",
          "output_type": "stream",
          "text": [
            "WARNING:absl:You are saving your model as an HDF5 file via `model.save()` or `keras.saving.save_model(model)`. This file format is considered legacy. We recommend using instead the native Keras format, e.g. `model.save('my_model.keras')` or `keras.saving.save_model(model, 'my_model.keras')`. \n"
          ]
        },
        {
          "name": "stdout",
          "output_type": "stream",
          "text": [
            "\u001b[1m32/32\u001b[0m \u001b[32m━━━━━━━━━━━━━━━━━━━━\u001b[0m\u001b[37m\u001b[0m \u001b[1m0s\u001b[0m 8ms/step - loss: 0.2165 - val_loss: 0.2137 - learning_rate: 4.4500e-04\n",
            "Epoch 16/350\n",
            "\u001b[1m22/32\u001b[0m \u001b[32m━━━━━━━━━━━━━\u001b[0m\u001b[37m━━━━━━━\u001b[0m \u001b[1m0s\u001b[0m 5ms/step - loss: 0.2141"
          ]
        },
        {
          "name": "stderr",
          "output_type": "stream",
          "text": [
            "WARNING:absl:You are saving your model as an HDF5 file via `model.save()` or `keras.saving.save_model(model)`. This file format is considered legacy. We recommend using instead the native Keras format, e.g. `model.save('my_model.keras')` or `keras.saving.save_model(model, 'my_model.keras')`. \n"
          ]
        },
        {
          "name": "stdout",
          "output_type": "stream",
          "text": [
            "\u001b[1m32/32\u001b[0m \u001b[32m━━━━━━━━━━━━━━━━━━━━\u001b[0m\u001b[37m\u001b[0m \u001b[1m0s\u001b[0m 9ms/step - loss: 0.2139 - val_loss: 0.2113 - learning_rate: 4.4500e-04\n",
            "Epoch 17/350\n",
            "\u001b[1m22/32\u001b[0m \u001b[32m━━━━━━━━━━━━━\u001b[0m\u001b[37m━━━━━━━\u001b[0m \u001b[1m0s\u001b[0m 5ms/step - loss: 0.2113"
          ]
        },
        {
          "name": "stderr",
          "output_type": "stream",
          "text": [
            "WARNING:absl:You are saving your model as an HDF5 file via `model.save()` or `keras.saving.save_model(model)`. This file format is considered legacy. We recommend using instead the native Keras format, e.g. `model.save('my_model.keras')` or `keras.saving.save_model(model, 'my_model.keras')`. \n"
          ]
        },
        {
          "name": "stdout",
          "output_type": "stream",
          "text": [
            "\u001b[1m32/32\u001b[0m \u001b[32m━━━━━━━━━━━━━━━━━━━━\u001b[0m\u001b[37m\u001b[0m \u001b[1m0s\u001b[0m 9ms/step - loss: 0.2112 - val_loss: 0.2107 - learning_rate: 4.4500e-04\n",
            "Epoch 18/350\n",
            "\u001b[1m22/32\u001b[0m \u001b[32m━━━━━━━━━━━━━\u001b[0m\u001b[37m━━━━━━━\u001b[0m \u001b[1m0s\u001b[0m 5ms/step - loss: 0.2091"
          ]
        },
        {
          "name": "stderr",
          "output_type": "stream",
          "text": [
            "WARNING:absl:You are saving your model as an HDF5 file via `model.save()` or `keras.saving.save_model(model)`. This file format is considered legacy. We recommend using instead the native Keras format, e.g. `model.save('my_model.keras')` or `keras.saving.save_model(model, 'my_model.keras')`. \n"
          ]
        },
        {
          "name": "stdout",
          "output_type": "stream",
          "text": [
            "\u001b[1m32/32\u001b[0m \u001b[32m━━━━━━━━━━━━━━━━━━━━\u001b[0m\u001b[37m\u001b[0m \u001b[1m0s\u001b[0m 8ms/step - loss: 0.2084 - val_loss: 0.2029 - learning_rate: 4.4500e-04\n",
            "Epoch 19/350\n",
            "\u001b[1m22/32\u001b[0m \u001b[32m━━━━━━━━━━━━━\u001b[0m\u001b[37m━━━━━━━\u001b[0m \u001b[1m0s\u001b[0m 5ms/step - loss: 0.2065"
          ]
        },
        {
          "name": "stderr",
          "output_type": "stream",
          "text": [
            "WARNING:absl:You are saving your model as an HDF5 file via `model.save()` or `keras.saving.save_model(model)`. This file format is considered legacy. We recommend using instead the native Keras format, e.g. `model.save('my_model.keras')` or `keras.saving.save_model(model, 'my_model.keras')`. \n"
          ]
        },
        {
          "name": "stdout",
          "output_type": "stream",
          "text": [
            "\u001b[1m32/32\u001b[0m \u001b[32m━━━━━━━━━━━━━━━━━━━━\u001b[0m\u001b[37m\u001b[0m \u001b[1m0s\u001b[0m 9ms/step - loss: 0.2063 - val_loss: 0.2010 - learning_rate: 4.4500e-04\n",
            "Epoch 20/350\n",
            "\u001b[1m21/32\u001b[0m \u001b[32m━━━━━━━━━━━━━\u001b[0m\u001b[37m━━━━━━━\u001b[0m \u001b[1m0s\u001b[0m 5ms/step - loss: 0.2027"
          ]
        },
        {
          "name": "stderr",
          "output_type": "stream",
          "text": [
            "WARNING:absl:You are saving your model as an HDF5 file via `model.save()` or `keras.saving.save_model(model)`. This file format is considered legacy. We recommend using instead the native Keras format, e.g. `model.save('my_model.keras')` or `keras.saving.save_model(model, 'my_model.keras')`. \n"
          ]
        },
        {
          "name": "stdout",
          "output_type": "stream",
          "text": [
            "\u001b[1m32/32\u001b[0m \u001b[32m━━━━━━━━━━━━━━━━━━━━\u001b[0m\u001b[37m\u001b[0m \u001b[1m0s\u001b[0m 8ms/step - loss: 0.2014 - val_loss: 0.1986 - learning_rate: 4.4500e-04\n",
            "Epoch 21/350\n",
            "\u001b[1m32/32\u001b[0m \u001b[32m━━━━━━━━━━━━━━━━━━━━\u001b[0m\u001b[37m\u001b[0m \u001b[1m0s\u001b[0m 5ms/step - loss: 0.1958"
          ]
        },
        {
          "name": "stderr",
          "output_type": "stream",
          "text": [
            "WARNING:absl:You are saving your model as an HDF5 file via `model.save()` or `keras.saving.save_model(model)`. This file format is considered legacy. We recommend using instead the native Keras format, e.g. `model.save('my_model.keras')` or `keras.saving.save_model(model, 'my_model.keras')`. \n"
          ]
        },
        {
          "name": "stdout",
          "output_type": "stream",
          "text": [
            "\u001b[1m32/32\u001b[0m \u001b[32m━━━━━━━━━━━━━━━━━━━━\u001b[0m\u001b[37m\u001b[0m \u001b[1m0s\u001b[0m 9ms/step - loss: 0.1957 - val_loss: 0.1946 - learning_rate: 4.4500e-04\n",
            "Epoch 22/350\n",
            "\u001b[1m27/32\u001b[0m \u001b[32m━━━━━━━━━━━━━━━━\u001b[0m\u001b[37m━━━━\u001b[0m \u001b[1m0s\u001b[0m 4ms/step - loss: 0.1922"
          ]
        },
        {
          "name": "stderr",
          "output_type": "stream",
          "text": [
            "WARNING:absl:You are saving your model as an HDF5 file via `model.save()` or `keras.saving.save_model(model)`. This file format is considered legacy. We recommend using instead the native Keras format, e.g. `model.save('my_model.keras')` or `keras.saving.save_model(model, 'my_model.keras')`. \n"
          ]
        },
        {
          "name": "stdout",
          "output_type": "stream",
          "text": [
            "\u001b[1m32/32\u001b[0m \u001b[32m━━━━━━━━━━━━━━━━━━━━\u001b[0m\u001b[37m\u001b[0m \u001b[1m0s\u001b[0m 8ms/step - loss: 0.1922 - val_loss: 0.1925 - learning_rate: 4.4500e-04\n",
            "Epoch 23/350\n",
            "\u001b[1m21/32\u001b[0m \u001b[32m━━━━━━━━━━━━━\u001b[0m\u001b[37m━━━━━━━\u001b[0m \u001b[1m0s\u001b[0m 5ms/step - loss: 0.1875"
          ]
        },
        {
          "name": "stderr",
          "output_type": "stream",
          "text": [
            "WARNING:absl:You are saving your model as an HDF5 file via `model.save()` or `keras.saving.save_model(model)`. This file format is considered legacy. We recommend using instead the native Keras format, e.g. `model.save('my_model.keras')` or `keras.saving.save_model(model, 'my_model.keras')`. \n"
          ]
        },
        {
          "name": "stdout",
          "output_type": "stream",
          "text": [
            "\u001b[1m32/32\u001b[0m \u001b[32m━━━━━━━━━━━━━━━━━━━━\u001b[0m\u001b[37m\u001b[0m \u001b[1m0s\u001b[0m 9ms/step - loss: 0.1879 - val_loss: 0.1913 - learning_rate: 4.4500e-04\n",
            "Epoch 24/350\n",
            "\u001b[1m29/32\u001b[0m \u001b[32m━━━━━━━━━━━━━━━━━━\u001b[0m\u001b[37m━━\u001b[0m \u001b[1m0s\u001b[0m 6ms/step - loss: 0.1845"
          ]
        },
        {
          "name": "stderr",
          "output_type": "stream",
          "text": [
            "WARNING:absl:You are saving your model as an HDF5 file via `model.save()` or `keras.saving.save_model(model)`. This file format is considered legacy. We recommend using instead the native Keras format, e.g. `model.save('my_model.keras')` or `keras.saving.save_model(model, 'my_model.keras')`. \n"
          ]
        },
        {
          "name": "stdout",
          "output_type": "stream",
          "text": [
            "\u001b[1m32/32\u001b[0m \u001b[32m━━━━━━━━━━━━━━━━━━━━\u001b[0m\u001b[37m\u001b[0m \u001b[1m0s\u001b[0m 9ms/step - loss: 0.1845 - val_loss: 0.1867 - learning_rate: 4.4500e-04\n",
            "Epoch 25/350\n",
            "\u001b[1m22/32\u001b[0m \u001b[32m━━━━━━━━━━━━━\u001b[0m\u001b[37m━━━━━━━\u001b[0m \u001b[1m0s\u001b[0m 5ms/step - loss: 0.1856"
          ]
        },
        {
          "name": "stderr",
          "output_type": "stream",
          "text": [
            "WARNING:absl:You are saving your model as an HDF5 file via `model.save()` or `keras.saving.save_model(model)`. This file format is considered legacy. We recommend using instead the native Keras format, e.g. `model.save('my_model.keras')` or `keras.saving.save_model(model, 'my_model.keras')`. \n"
          ]
        },
        {
          "name": "stdout",
          "output_type": "stream",
          "text": [
            "\u001b[1m32/32\u001b[0m \u001b[32m━━━━━━━━━━━━━━━━━━━━\u001b[0m\u001b[37m\u001b[0m \u001b[1m0s\u001b[0m 9ms/step - loss: 0.1842 - val_loss: 0.1811 - learning_rate: 4.4500e-04\n",
            "Epoch 26/350\n",
            "\u001b[1m32/32\u001b[0m \u001b[32m━━━━━━━━━━━━━━━━━━━━\u001b[0m\u001b[37m\u001b[0m \u001b[1m0s\u001b[0m 7ms/step - loss: 0.1784 - val_loss: 0.1814 - learning_rate: 4.4500e-04\n",
            "Epoch 27/350\n",
            "\u001b[1m22/32\u001b[0m \u001b[32m━━━━━━━━━━━━━\u001b[0m\u001b[37m━━━━━━━\u001b[0m \u001b[1m0s\u001b[0m 5ms/step - loss: 0.1749"
          ]
        },
        {
          "name": "stderr",
          "output_type": "stream",
          "text": [
            "WARNING:absl:You are saving your model as an HDF5 file via `model.save()` or `keras.saving.save_model(model)`. This file format is considered legacy. We recommend using instead the native Keras format, e.g. `model.save('my_model.keras')` or `keras.saving.save_model(model, 'my_model.keras')`. \n"
          ]
        },
        {
          "name": "stdout",
          "output_type": "stream",
          "text": [
            "\u001b[1m32/32\u001b[0m \u001b[32m━━━━━━━━━━━━━━━━━━━━\u001b[0m\u001b[37m\u001b[0m \u001b[1m0s\u001b[0m 9ms/step - loss: 0.1759 - val_loss: 0.1764 - learning_rate: 4.4500e-04\n",
            "Epoch 28/350\n",
            "\u001b[1m22/32\u001b[0m \u001b[32m━━━━━━━━━━━━━\u001b[0m\u001b[37m━━━━━━━\u001b[0m \u001b[1m0s\u001b[0m 5ms/step - loss: 0.1771"
          ]
        },
        {
          "name": "stderr",
          "output_type": "stream",
          "text": [
            "WARNING:absl:You are saving your model as an HDF5 file via `model.save()` or `keras.saving.save_model(model)`. This file format is considered legacy. We recommend using instead the native Keras format, e.g. `model.save('my_model.keras')` or `keras.saving.save_model(model, 'my_model.keras')`. \n"
          ]
        },
        {
          "name": "stdout",
          "output_type": "stream",
          "text": [
            "\u001b[1m32/32\u001b[0m \u001b[32m━━━━━━━━━━━━━━━━━━━━\u001b[0m\u001b[37m\u001b[0m \u001b[1m0s\u001b[0m 9ms/step - loss: 0.1764 - val_loss: 0.1723 - learning_rate: 4.4500e-04\n",
            "Epoch 29/350\n",
            "\u001b[1m22/32\u001b[0m \u001b[32m━━━━━━━━━━━━━\u001b[0m\u001b[37m━━━━━━━\u001b[0m \u001b[1m0s\u001b[0m 5ms/step - loss: 0.1687"
          ]
        },
        {
          "name": "stderr",
          "output_type": "stream",
          "text": [
            "WARNING:absl:You are saving your model as an HDF5 file via `model.save()` or `keras.saving.save_model(model)`. This file format is considered legacy. We recommend using instead the native Keras format, e.g. `model.save('my_model.keras')` or `keras.saving.save_model(model, 'my_model.keras')`. \n"
          ]
        },
        {
          "name": "stdout",
          "output_type": "stream",
          "text": [
            "\u001b[1m32/32\u001b[0m \u001b[32m━━━━━━━━━━━━━━━━━━━━\u001b[0m\u001b[37m\u001b[0m \u001b[1m0s\u001b[0m 9ms/step - loss: 0.1690 - val_loss: 0.1703 - learning_rate: 4.4500e-04\n",
            "Epoch 30/350\n",
            "\u001b[1m23/32\u001b[0m \u001b[32m━━━━━━━━━━━━━━\u001b[0m\u001b[37m━━━━━━\u001b[0m \u001b[1m0s\u001b[0m 5ms/step - loss: 0.1666"
          ]
        },
        {
          "name": "stderr",
          "output_type": "stream",
          "text": [
            "WARNING:absl:You are saving your model as an HDF5 file via `model.save()` or `keras.saving.save_model(model)`. This file format is considered legacy. We recommend using instead the native Keras format, e.g. `model.save('my_model.keras')` or `keras.saving.save_model(model, 'my_model.keras')`. \n"
          ]
        },
        {
          "name": "stdout",
          "output_type": "stream",
          "text": [
            "\u001b[1m32/32\u001b[0m \u001b[32m━━━━━━━━━━━━━━━━━━━━\u001b[0m\u001b[37m\u001b[0m \u001b[1m0s\u001b[0m 9ms/step - loss: 0.1662 - val_loss: 0.1691 - learning_rate: 4.4500e-04\n",
            "Epoch 31/350\n",
            "\u001b[1m24/32\u001b[0m \u001b[32m━━━━━━━━━━━━━━━\u001b[0m\u001b[37m━━━━━\u001b[0m \u001b[1m0s\u001b[0m 4ms/step - loss: 0.1659"
          ]
        },
        {
          "name": "stderr",
          "output_type": "stream",
          "text": [
            "WARNING:absl:You are saving your model as an HDF5 file via `model.save()` or `keras.saving.save_model(model)`. This file format is considered legacy. We recommend using instead the native Keras format, e.g. `model.save('my_model.keras')` or `keras.saving.save_model(model, 'my_model.keras')`. \n"
          ]
        },
        {
          "name": "stdout",
          "output_type": "stream",
          "text": [
            "\u001b[1m32/32\u001b[0m \u001b[32m━━━━━━━━━━━━━━━━━━━━\u001b[0m\u001b[37m\u001b[0m \u001b[1m0s\u001b[0m 8ms/step - loss: 0.1665 - val_loss: 0.1671 - learning_rate: 4.4500e-04\n",
            "Epoch 32/350\n",
            "\u001b[1m32/32\u001b[0m \u001b[32m━━━━━━━━━━━━━━━━━━━━\u001b[0m\u001b[37m\u001b[0m \u001b[1m0s\u001b[0m 5ms/step - loss: 0.1603"
          ]
        },
        {
          "name": "stderr",
          "output_type": "stream",
          "text": [
            "WARNING:absl:You are saving your model as an HDF5 file via `model.save()` or `keras.saving.save_model(model)`. This file format is considered legacy. We recommend using instead the native Keras format, e.g. `model.save('my_model.keras')` or `keras.saving.save_model(model, 'my_model.keras')`. \n"
          ]
        },
        {
          "name": "stdout",
          "output_type": "stream",
          "text": [
            "\u001b[1m32/32\u001b[0m \u001b[32m━━━━━━━━━━━━━━━━━━━━\u001b[0m\u001b[37m\u001b[0m \u001b[1m0s\u001b[0m 9ms/step - loss: 0.1603 - val_loss: 0.1635 - learning_rate: 4.4500e-04\n",
            "Epoch 33/350\n",
            "\u001b[1m20/32\u001b[0m \u001b[32m━━━━━━━━━━━━\u001b[0m\u001b[37m━━━━━━━━\u001b[0m \u001b[1m0s\u001b[0m 6ms/step - loss: 0.1593"
          ]
        },
        {
          "name": "stderr",
          "output_type": "stream",
          "text": [
            "WARNING:absl:You are saving your model as an HDF5 file via `model.save()` or `keras.saving.save_model(model)`. This file format is considered legacy. We recommend using instead the native Keras format, e.g. `model.save('my_model.keras')` or `keras.saving.save_model(model, 'my_model.keras')`. \n"
          ]
        },
        {
          "name": "stdout",
          "output_type": "stream",
          "text": [
            "\u001b[1m32/32\u001b[0m \u001b[32m━━━━━━━━━━━━━━━━━━━━\u001b[0m\u001b[37m\u001b[0m \u001b[1m0s\u001b[0m 9ms/step - loss: 0.1596 - val_loss: 0.1600 - learning_rate: 4.4500e-04\n",
            "Epoch 34/350\n",
            "\u001b[1m26/32\u001b[0m \u001b[32m━━━━━━━━━━━━━━━━\u001b[0m\u001b[37m━━━━\u001b[0m \u001b[1m0s\u001b[0m 4ms/step - loss: 0.1567"
          ]
        },
        {
          "name": "stderr",
          "output_type": "stream",
          "text": [
            "WARNING:absl:You are saving your model as an HDF5 file via `model.save()` or `keras.saving.save_model(model)`. This file format is considered legacy. We recommend using instead the native Keras format, e.g. `model.save('my_model.keras')` or `keras.saving.save_model(model, 'my_model.keras')`. \n"
          ]
        },
        {
          "name": "stdout",
          "output_type": "stream",
          "text": [
            "\u001b[1m32/32\u001b[0m \u001b[32m━━━━━━━━━━━━━━━━━━━━\u001b[0m\u001b[37m\u001b[0m \u001b[1m0s\u001b[0m 8ms/step - loss: 0.1567 - val_loss: 0.1599 - learning_rate: 4.4500e-04\n",
            "Epoch 35/350\n",
            "\u001b[1m31/32\u001b[0m \u001b[32m━━━━━━━━━━━━━━━━━━━\u001b[0m\u001b[37m━\u001b[0m \u001b[1m0s\u001b[0m 5ms/step - loss: 0.1547"
          ]
        },
        {
          "name": "stderr",
          "output_type": "stream",
          "text": [
            "WARNING:absl:You are saving your model as an HDF5 file via `model.save()` or `keras.saving.save_model(model)`. This file format is considered legacy. We recommend using instead the native Keras format, e.g. `model.save('my_model.keras')` or `keras.saving.save_model(model, 'my_model.keras')`. \n"
          ]
        },
        {
          "name": "stdout",
          "output_type": "stream",
          "text": [
            "\u001b[1m32/32\u001b[0m \u001b[32m━━━━━━━━━━━━━━━━━━━━\u001b[0m\u001b[37m\u001b[0m \u001b[1m0s\u001b[0m 9ms/step - loss: 0.1547 - val_loss: 0.1579 - learning_rate: 4.4500e-04\n",
            "Epoch 36/350\n",
            "\u001b[1m31/32\u001b[0m \u001b[32m━━━━━━━━━━━━━━━━━━━\u001b[0m\u001b[37m━\u001b[0m \u001b[1m0s\u001b[0m 5ms/step - loss: 0.1524"
          ]
        },
        {
          "name": "stderr",
          "output_type": "stream",
          "text": [
            "WARNING:absl:You are saving your model as an HDF5 file via `model.save()` or `keras.saving.save_model(model)`. This file format is considered legacy. We recommend using instead the native Keras format, e.g. `model.save('my_model.keras')` or `keras.saving.save_model(model, 'my_model.keras')`. \n"
          ]
        },
        {
          "name": "stdout",
          "output_type": "stream",
          "text": [
            "\u001b[1m32/32\u001b[0m \u001b[32m━━━━━━━━━━━━━━━━━━━━\u001b[0m\u001b[37m\u001b[0m \u001b[1m0s\u001b[0m 9ms/step - loss: 0.1525 - val_loss: 0.1567 - learning_rate: 4.4500e-04\n",
            "Epoch 37/350\n",
            "\u001b[1m29/32\u001b[0m \u001b[32m━━━━━━━━━━━━━━━━━━\u001b[0m\u001b[37m━━\u001b[0m \u001b[1m0s\u001b[0m 6ms/step - loss: 0.1455"
          ]
        },
        {
          "name": "stderr",
          "output_type": "stream",
          "text": [
            "WARNING:absl:You are saving your model as an HDF5 file via `model.save()` or `keras.saving.save_model(model)`. This file format is considered legacy. We recommend using instead the native Keras format, e.g. `model.save('my_model.keras')` or `keras.saving.save_model(model, 'my_model.keras')`. \n"
          ]
        },
        {
          "name": "stdout",
          "output_type": "stream",
          "text": [
            "\u001b[1m32/32\u001b[0m \u001b[32m━━━━━━━━━━━━━━━━━━━━\u001b[0m\u001b[37m\u001b[0m \u001b[1m0s\u001b[0m 9ms/step - loss: 0.1456 - val_loss: 0.1517 - learning_rate: 4.4500e-04\n",
            "Epoch 38/350\n",
            "\u001b[1m30/32\u001b[0m \u001b[32m━━━━━━━━━━━━━━━━━━\u001b[0m\u001b[37m━━\u001b[0m \u001b[1m0s\u001b[0m 5ms/step - loss: 0.1469"
          ]
        },
        {
          "name": "stderr",
          "output_type": "stream",
          "text": [
            "WARNING:absl:You are saving your model as an HDF5 file via `model.save()` or `keras.saving.save_model(model)`. This file format is considered legacy. We recommend using instead the native Keras format, e.g. `model.save('my_model.keras')` or `keras.saving.save_model(model, 'my_model.keras')`. \n"
          ]
        },
        {
          "name": "stdout",
          "output_type": "stream",
          "text": [
            "\u001b[1m32/32\u001b[0m \u001b[32m━━━━━━━━━━━━━━━━━━━━\u001b[0m\u001b[37m\u001b[0m \u001b[1m0s\u001b[0m 9ms/step - loss: 0.1469 - val_loss: 0.1499 - learning_rate: 4.4500e-04\n",
            "Epoch 39/350\n",
            "\u001b[1m32/32\u001b[0m \u001b[32m━━━━━━━━━━━━━━━━━━━━\u001b[0m\u001b[37m\u001b[0m \u001b[1m0s\u001b[0m 5ms/step - loss: 0.1428"
          ]
        },
        {
          "name": "stderr",
          "output_type": "stream",
          "text": [
            "WARNING:absl:You are saving your model as an HDF5 file via `model.save()` or `keras.saving.save_model(model)`. This file format is considered legacy. We recommend using instead the native Keras format, e.g. `model.save('my_model.keras')` or `keras.saving.save_model(model, 'my_model.keras')`. \n"
          ]
        },
        {
          "name": "stdout",
          "output_type": "stream",
          "text": [
            "\u001b[1m32/32\u001b[0m \u001b[32m━━━━━━━━━━━━━━━━━━━━\u001b[0m\u001b[37m\u001b[0m \u001b[1m0s\u001b[0m 9ms/step - loss: 0.1428 - val_loss: 0.1453 - learning_rate: 4.4500e-04\n",
            "Epoch 40/350\n",
            "\u001b[1m22/32\u001b[0m \u001b[32m━━━━━━━━━━━━━\u001b[0m\u001b[37m━━━━━━━\u001b[0m \u001b[1m0s\u001b[0m 5ms/step - loss: 0.1399"
          ]
        },
        {
          "name": "stderr",
          "output_type": "stream",
          "text": [
            "WARNING:absl:You are saving your model as an HDF5 file via `model.save()` or `keras.saving.save_model(model)`. This file format is considered legacy. We recommend using instead the native Keras format, e.g. `model.save('my_model.keras')` or `keras.saving.save_model(model, 'my_model.keras')`. \n"
          ]
        },
        {
          "name": "stdout",
          "output_type": "stream",
          "text": [
            "\u001b[1m32/32\u001b[0m \u001b[32m━━━━━━━━━━━━━━━━━━━━\u001b[0m\u001b[37m\u001b[0m \u001b[1m0s\u001b[0m 9ms/step - loss: 0.1406 - val_loss: 0.1447 - learning_rate: 4.4500e-04\n",
            "Epoch 41/350\n",
            "\u001b[1m25/32\u001b[0m \u001b[32m━━━━━━━━━━━━━━━\u001b[0m\u001b[37m━━━━━\u001b[0m \u001b[1m0s\u001b[0m 4ms/step - loss: 0.1404"
          ]
        },
        {
          "name": "stderr",
          "output_type": "stream",
          "text": [
            "WARNING:absl:You are saving your model as an HDF5 file via `model.save()` or `keras.saving.save_model(model)`. This file format is considered legacy. We recommend using instead the native Keras format, e.g. `model.save('my_model.keras')` or `keras.saving.save_model(model, 'my_model.keras')`. \n"
          ]
        },
        {
          "name": "stdout",
          "output_type": "stream",
          "text": [
            "\u001b[1m32/32\u001b[0m \u001b[32m━━━━━━━━━━━━━━━━━━━━\u001b[0m\u001b[37m\u001b[0m \u001b[1m0s\u001b[0m 8ms/step - loss: 0.1397 - val_loss: 0.1420 - learning_rate: 4.4500e-04\n",
            "Epoch 42/350\n",
            "\u001b[1m22/32\u001b[0m \u001b[32m━━━━━━━━━━━━━\u001b[0m\u001b[37m━━━━━━━\u001b[0m \u001b[1m0s\u001b[0m 6ms/step - loss: 0.1346"
          ]
        },
        {
          "name": "stderr",
          "output_type": "stream",
          "text": [
            "WARNING:absl:You are saving your model as an HDF5 file via `model.save()` or `keras.saving.save_model(model)`. This file format is considered legacy. We recommend using instead the native Keras format, e.g. `model.save('my_model.keras')` or `keras.saving.save_model(model, 'my_model.keras')`. \n"
          ]
        },
        {
          "name": "stdout",
          "output_type": "stream",
          "text": [
            "\u001b[1m32/32\u001b[0m \u001b[32m━━━━━━━━━━━━━━━━━━━━\u001b[0m\u001b[37m\u001b[0m \u001b[1m0s\u001b[0m 9ms/step - loss: 0.1347 - val_loss: 0.1399 - learning_rate: 4.4500e-04\n",
            "Epoch 43/350\n",
            "\u001b[1m32/32\u001b[0m \u001b[32m━━━━━━━━━━━━━━━━━━━━\u001b[0m\u001b[37m\u001b[0m \u001b[1m0s\u001b[0m 7ms/step - loss: 0.1348 - val_loss: 0.1405 - learning_rate: 4.4500e-04\n",
            "Epoch 44/350\n",
            "\u001b[1m22/32\u001b[0m \u001b[32m━━━━━━━━━━━━━\u001b[0m\u001b[37m━━━━━━━\u001b[0m \u001b[1m0s\u001b[0m 5ms/step - loss: 0.1329"
          ]
        },
        {
          "name": "stderr",
          "output_type": "stream",
          "text": [
            "WARNING:absl:You are saving your model as an HDF5 file via `model.save()` or `keras.saving.save_model(model)`. This file format is considered legacy. We recommend using instead the native Keras format, e.g. `model.save('my_model.keras')` or `keras.saving.save_model(model, 'my_model.keras')`. \n"
          ]
        },
        {
          "name": "stdout",
          "output_type": "stream",
          "text": [
            "\u001b[1m32/32\u001b[0m \u001b[32m━━━━━━━━━━━━━━━━━━━━\u001b[0m\u001b[37m\u001b[0m \u001b[1m0s\u001b[0m 9ms/step - loss: 0.1325 - val_loss: 0.1373 - learning_rate: 4.4500e-04\n",
            "Epoch 45/350\n",
            "\u001b[1m23/32\u001b[0m \u001b[32m━━━━━━━━━━━━━━\u001b[0m\u001b[37m━━━━━━\u001b[0m \u001b[1m0s\u001b[0m 5ms/step - loss: 0.1333"
          ]
        },
        {
          "name": "stderr",
          "output_type": "stream",
          "text": [
            "WARNING:absl:You are saving your model as an HDF5 file via `model.save()` or `keras.saving.save_model(model)`. This file format is considered legacy. We recommend using instead the native Keras format, e.g. `model.save('my_model.keras')` or `keras.saving.save_model(model, 'my_model.keras')`. \n"
          ]
        },
        {
          "name": "stdout",
          "output_type": "stream",
          "text": [
            "\u001b[1m32/32\u001b[0m \u001b[32m━━━━━━━━━━━━━━━━━━━━\u001b[0m\u001b[37m\u001b[0m \u001b[1m0s\u001b[0m 9ms/step - loss: 0.1324 - val_loss: 0.1359 - learning_rate: 4.4500e-04\n",
            "Epoch 46/350\n",
            "\u001b[1m23/32\u001b[0m \u001b[32m━━━━━━━━━━━━━━\u001b[0m\u001b[37m━━━━━━\u001b[0m \u001b[1m0s\u001b[0m 5ms/step - loss: 0.1255"
          ]
        },
        {
          "name": "stderr",
          "output_type": "stream",
          "text": [
            "WARNING:absl:You are saving your model as an HDF5 file via `model.save()` or `keras.saving.save_model(model)`. This file format is considered legacy. We recommend using instead the native Keras format, e.g. `model.save('my_model.keras')` or `keras.saving.save_model(model, 'my_model.keras')`. \n"
          ]
        },
        {
          "name": "stdout",
          "output_type": "stream",
          "text": [
            "\u001b[1m32/32\u001b[0m \u001b[32m━━━━━━━━━━━━━━━━━━━━\u001b[0m\u001b[37m\u001b[0m \u001b[1m0s\u001b[0m 9ms/step - loss: 0.1260 - val_loss: 0.1323 - learning_rate: 4.4500e-04\n",
            "Epoch 47/350\n",
            "\u001b[1m25/32\u001b[0m \u001b[32m━━━━━━━━━━━━━━━\u001b[0m\u001b[37m━━━━━\u001b[0m \u001b[1m0s\u001b[0m 4ms/step - loss: 0.1270"
          ]
        },
        {
          "name": "stderr",
          "output_type": "stream",
          "text": [
            "WARNING:absl:You are saving your model as an HDF5 file via `model.save()` or `keras.saving.save_model(model)`. This file format is considered legacy. We recommend using instead the native Keras format, e.g. `model.save('my_model.keras')` or `keras.saving.save_model(model, 'my_model.keras')`. \n"
          ]
        },
        {
          "name": "stdout",
          "output_type": "stream",
          "text": [
            "\u001b[1m32/32\u001b[0m \u001b[32m━━━━━━━━━━━━━━━━━━━━\u001b[0m\u001b[37m\u001b[0m \u001b[1m0s\u001b[0m 8ms/step - loss: 0.1265 - val_loss: 0.1307 - learning_rate: 4.4500e-04\n",
            "Epoch 48/350\n",
            "\u001b[1m26/32\u001b[0m \u001b[32m━━━━━━━━━━━━━━━━\u001b[0m\u001b[37m━━━━\u001b[0m \u001b[1m0s\u001b[0m 4ms/step - loss: 0.1223"
          ]
        },
        {
          "name": "stderr",
          "output_type": "stream",
          "text": [
            "WARNING:absl:You are saving your model as an HDF5 file via `model.save()` or `keras.saving.save_model(model)`. This file format is considered legacy. We recommend using instead the native Keras format, e.g. `model.save('my_model.keras')` or `keras.saving.save_model(model, 'my_model.keras')`. \n"
          ]
        },
        {
          "name": "stdout",
          "output_type": "stream",
          "text": [
            "\u001b[1m32/32\u001b[0m \u001b[32m━━━━━━━━━━━━━━━━━━━━\u001b[0m\u001b[37m\u001b[0m \u001b[1m0s\u001b[0m 8ms/step - loss: 0.1229 - val_loss: 0.1295 - learning_rate: 4.4500e-04\n",
            "Epoch 49/350\n",
            "\u001b[1m22/32\u001b[0m \u001b[32m━━━━━━━━━━━━━\u001b[0m\u001b[37m━━━━━━━\u001b[0m \u001b[1m0s\u001b[0m 5ms/step - loss: 0.1188"
          ]
        },
        {
          "name": "stderr",
          "output_type": "stream",
          "text": [
            "WARNING:absl:You are saving your model as an HDF5 file via `model.save()` or `keras.saving.save_model(model)`. This file format is considered legacy. We recommend using instead the native Keras format, e.g. `model.save('my_model.keras')` or `keras.saving.save_model(model, 'my_model.keras')`. \n"
          ]
        },
        {
          "name": "stdout",
          "output_type": "stream",
          "text": [
            "\u001b[1m32/32\u001b[0m \u001b[32m━━━━━━━━━━━━━━━━━━━━\u001b[0m\u001b[37m\u001b[0m \u001b[1m0s\u001b[0m 9ms/step - loss: 0.1191 - val_loss: 0.1256 - learning_rate: 4.4500e-04\n",
            "Epoch 50/350\n",
            "\u001b[1m21/32\u001b[0m \u001b[32m━━━━━━━━━━━━━\u001b[0m\u001b[37m━━━━━━━\u001b[0m \u001b[1m0s\u001b[0m 5ms/step - loss: 0.1205"
          ]
        },
        {
          "name": "stderr",
          "output_type": "stream",
          "text": [
            "WARNING:absl:You are saving your model as an HDF5 file via `model.save()` or `keras.saving.save_model(model)`. This file format is considered legacy. We recommend using instead the native Keras format, e.g. `model.save('my_model.keras')` or `keras.saving.save_model(model, 'my_model.keras')`. \n"
          ]
        },
        {
          "name": "stdout",
          "output_type": "stream",
          "text": [
            "\u001b[1m32/32\u001b[0m \u001b[32m━━━━━━━━━━━━━━━━━━━━\u001b[0m\u001b[37m\u001b[0m \u001b[1m0s\u001b[0m 9ms/step - loss: 0.1203 - val_loss: 0.1228 - learning_rate: 4.4500e-04\n",
            "Epoch 51/350\n",
            "\u001b[1m32/32\u001b[0m \u001b[32m━━━━━━━━━━━━━━━━━━━━\u001b[0m\u001b[37m\u001b[0m \u001b[1m0s\u001b[0m 8ms/step - loss: 0.1159 - val_loss: 0.1228 - learning_rate: 4.4500e-04\n",
            "Epoch 52/350\n",
            "\u001b[1m24/32\u001b[0m \u001b[32m━━━━━━━━━━━━━━━\u001b[0m\u001b[37m━━━━━\u001b[0m \u001b[1m0s\u001b[0m 5ms/step - loss: 0.1199"
          ]
        },
        {
          "name": "stderr",
          "output_type": "stream",
          "text": [
            "WARNING:absl:You are saving your model as an HDF5 file via `model.save()` or `keras.saving.save_model(model)`. This file format is considered legacy. We recommend using instead the native Keras format, e.g. `model.save('my_model.keras')` or `keras.saving.save_model(model, 'my_model.keras')`. \n"
          ]
        },
        {
          "name": "stdout",
          "output_type": "stream",
          "text": [
            "\u001b[1m32/32\u001b[0m \u001b[32m━━━━━━━━━━━━━━━━━━━━\u001b[0m\u001b[37m\u001b[0m \u001b[1m0s\u001b[0m 8ms/step - loss: 0.1198 - val_loss: 0.1228 - learning_rate: 4.4500e-04\n",
            "Epoch 53/350\n",
            "\u001b[1m28/32\u001b[0m \u001b[32m━━━━━━━━━━━━━━━━━\u001b[0m\u001b[37m━━━\u001b[0m \u001b[1m0s\u001b[0m 7ms/step - loss: 0.1168"
          ]
        },
        {
          "name": "stderr",
          "output_type": "stream",
          "text": [
            "WARNING:absl:You are saving your model as an HDF5 file via `model.save()` or `keras.saving.save_model(model)`. This file format is considered legacy. We recommend using instead the native Keras format, e.g. `model.save('my_model.keras')` or `keras.saving.save_model(model, 'my_model.keras')`. \n"
          ]
        },
        {
          "name": "stdout",
          "output_type": "stream",
          "text": [
            "\u001b[1m32/32\u001b[0m \u001b[32m━━━━━━━━━━━━━━━━━━━━\u001b[0m\u001b[37m\u001b[0m \u001b[1m0s\u001b[0m 10ms/step - loss: 0.1165 - val_loss: 0.1196 - learning_rate: 4.4500e-04\n",
            "Epoch 54/350\n",
            "\u001b[1m26/32\u001b[0m \u001b[32m━━━━━━━━━━━━━━━━\u001b[0m\u001b[37m━━━━\u001b[0m \u001b[1m0s\u001b[0m 4ms/step - loss: 0.1141"
          ]
        },
        {
          "name": "stderr",
          "output_type": "stream",
          "text": [
            "WARNING:absl:You are saving your model as an HDF5 file via `model.save()` or `keras.saving.save_model(model)`. This file format is considered legacy. We recommend using instead the native Keras format, e.g. `model.save('my_model.keras')` or `keras.saving.save_model(model, 'my_model.keras')`. \n"
          ]
        },
        {
          "name": "stdout",
          "output_type": "stream",
          "text": [
            "\u001b[1m32/32\u001b[0m \u001b[32m━━━━━━━━━━━━━━━━━━━━\u001b[0m\u001b[37m\u001b[0m \u001b[1m0s\u001b[0m 8ms/step - loss: 0.1141 - val_loss: 0.1171 - learning_rate: 4.4500e-04\n",
            "Epoch 55/350\n",
            "\u001b[1m32/32\u001b[0m \u001b[32m━━━━━━━━━━━━━━━━━━━━\u001b[0m\u001b[37m\u001b[0m \u001b[1m0s\u001b[0m 5ms/step - loss: 0.1103"
          ]
        },
        {
          "name": "stderr",
          "output_type": "stream",
          "text": [
            "WARNING:absl:You are saving your model as an HDF5 file via `model.save()` or `keras.saving.save_model(model)`. This file format is considered legacy. We recommend using instead the native Keras format, e.g. `model.save('my_model.keras')` or `keras.saving.save_model(model, 'my_model.keras')`. \n"
          ]
        },
        {
          "name": "stdout",
          "output_type": "stream",
          "text": [
            "\u001b[1m32/32\u001b[0m \u001b[32m━━━━━━━━━━━━━━━━━━━━\u001b[0m\u001b[37m\u001b[0m \u001b[1m0s\u001b[0m 9ms/step - loss: 0.1103 - val_loss: 0.1155 - learning_rate: 4.4500e-04\n",
            "Epoch 56/350\n",
            "\u001b[1m32/32\u001b[0m \u001b[32m━━━━━━━━━━━━━━━━━━━━\u001b[0m\u001b[37m\u001b[0m \u001b[1m0s\u001b[0m 5ms/step - loss: 0.1097"
          ]
        },
        {
          "name": "stderr",
          "output_type": "stream",
          "text": [
            "WARNING:absl:You are saving your model as an HDF5 file via `model.save()` or `keras.saving.save_model(model)`. This file format is considered legacy. We recommend using instead the native Keras format, e.g. `model.save('my_model.keras')` or `keras.saving.save_model(model, 'my_model.keras')`. \n"
          ]
        },
        {
          "name": "stdout",
          "output_type": "stream",
          "text": [
            "\u001b[1m32/32\u001b[0m \u001b[32m━━━━━━━━━━━━━━━━━━━━\u001b[0m\u001b[37m\u001b[0m \u001b[1m0s\u001b[0m 9ms/step - loss: 0.1097 - val_loss: 0.1131 - learning_rate: 4.4500e-04\n",
            "Epoch 57/350\n",
            "\u001b[1m28/32\u001b[0m \u001b[32m━━━━━━━━━━━━━━━━━\u001b[0m\u001b[37m━━━\u001b[0m \u001b[1m0s\u001b[0m 4ms/step - loss: 0.1066"
          ]
        },
        {
          "name": "stderr",
          "output_type": "stream",
          "text": [
            "WARNING:absl:You are saving your model as an HDF5 file via `model.save()` or `keras.saving.save_model(model)`. This file format is considered legacy. We recommend using instead the native Keras format, e.g. `model.save('my_model.keras')` or `keras.saving.save_model(model, 'my_model.keras')`. \n"
          ]
        },
        {
          "name": "stdout",
          "output_type": "stream",
          "text": [
            "\u001b[1m32/32\u001b[0m \u001b[32m━━━━━━━━━━━━━━━━━━━━\u001b[0m\u001b[37m\u001b[0m \u001b[1m0s\u001b[0m 8ms/step - loss: 0.1067 - val_loss: 0.1119 - learning_rate: 4.4500e-04\n",
            "Epoch 58/350\n",
            "\u001b[1m22/32\u001b[0m \u001b[32m━━━━━━━━━━━━━\u001b[0m\u001b[37m━━━━━━━\u001b[0m \u001b[1m0s\u001b[0m 5ms/step - loss: 0.1036"
          ]
        },
        {
          "name": "stderr",
          "output_type": "stream",
          "text": [
            "WARNING:absl:You are saving your model as an HDF5 file via `model.save()` or `keras.saving.save_model(model)`. This file format is considered legacy. We recommend using instead the native Keras format, e.g. `model.save('my_model.keras')` or `keras.saving.save_model(model, 'my_model.keras')`. \n"
          ]
        },
        {
          "name": "stdout",
          "output_type": "stream",
          "text": [
            "\u001b[1m32/32\u001b[0m \u001b[32m━━━━━━━━━━━━━━━━━━━━\u001b[0m\u001b[37m\u001b[0m \u001b[1m0s\u001b[0m 8ms/step - loss: 0.1038 - val_loss: 0.1095 - learning_rate: 4.4500e-04\n",
            "Epoch 59/350\n",
            "\u001b[1m32/32\u001b[0m \u001b[32m━━━━━━━━━━━━━━━━━━━━\u001b[0m\u001b[37m\u001b[0m \u001b[1m0s\u001b[0m 7ms/step - loss: 0.1031 - val_loss: 0.1096 - learning_rate: 4.4500e-04\n",
            "Epoch 60/350\n",
            "\u001b[1m32/32\u001b[0m \u001b[32m━━━━━━━━━━━━━━━━━━━━\u001b[0m\u001b[37m\u001b[0m \u001b[1m0s\u001b[0m 5ms/step - loss: 0.1011"
          ]
        },
        {
          "name": "stderr",
          "output_type": "stream",
          "text": [
            "WARNING:absl:You are saving your model as an HDF5 file via `model.save()` or `keras.saving.save_model(model)`. This file format is considered legacy. We recommend using instead the native Keras format, e.g. `model.save('my_model.keras')` or `keras.saving.save_model(model, 'my_model.keras')`. \n"
          ]
        },
        {
          "name": "stdout",
          "output_type": "stream",
          "text": [
            "\u001b[1m32/32\u001b[0m \u001b[32m━━━━━━━━━━━━━━━━━━━━\u001b[0m\u001b[37m\u001b[0m \u001b[1m0s\u001b[0m 9ms/step - loss: 0.1012 - val_loss: 0.1068 - learning_rate: 4.4500e-04\n",
            "Epoch 61/350\n",
            "\u001b[1m32/32\u001b[0m \u001b[32m━━━━━━━━━━━━━━━━━━━━\u001b[0m\u001b[37m\u001b[0m \u001b[1m0s\u001b[0m 5ms/step - loss: 0.1028"
          ]
        },
        {
          "name": "stderr",
          "output_type": "stream",
          "text": [
            "WARNING:absl:You are saving your model as an HDF5 file via `model.save()` or `keras.saving.save_model(model)`. This file format is considered legacy. We recommend using instead the native Keras format, e.g. `model.save('my_model.keras')` or `keras.saving.save_model(model, 'my_model.keras')`. \n"
          ]
        },
        {
          "name": "stdout",
          "output_type": "stream",
          "text": [
            "\u001b[1m32/32\u001b[0m \u001b[32m━━━━━━━━━━━━━━━━━━━━\u001b[0m\u001b[37m\u001b[0m \u001b[1m0s\u001b[0m 9ms/step - loss: 0.1027 - val_loss: 0.1053 - learning_rate: 4.4500e-04\n",
            "Epoch 62/350\n",
            "\u001b[1m32/32\u001b[0m \u001b[32m━━━━━━━━━━━━━━━━━━━━\u001b[0m\u001b[37m\u001b[0m \u001b[1m0s\u001b[0m 7ms/step - loss: 0.0982 - val_loss: 0.1060 - learning_rate: 4.4500e-04\n",
            "Epoch 63/350\n",
            "\u001b[1m24/32\u001b[0m \u001b[32m━━━━━━━━━━━━━━━\u001b[0m\u001b[37m━━━━━\u001b[0m \u001b[1m0s\u001b[0m 7ms/step - loss: 0.0979 "
          ]
        },
        {
          "name": "stderr",
          "output_type": "stream",
          "text": [
            "WARNING:absl:You are saving your model as an HDF5 file via `model.save()` or `keras.saving.save_model(model)`. This file format is considered legacy. We recommend using instead the native Keras format, e.g. `model.save('my_model.keras')` or `keras.saving.save_model(model, 'my_model.keras')`. \n"
          ]
        },
        {
          "name": "stdout",
          "output_type": "stream",
          "text": [
            "\u001b[1m32/32\u001b[0m \u001b[32m━━━━━━━━━━━━━━━━━━━━\u001b[0m\u001b[37m\u001b[0m \u001b[1m0s\u001b[0m 11ms/step - loss: 0.0985 - val_loss: 0.1023 - learning_rate: 4.4500e-04\n",
            "Epoch 64/350\n",
            "\u001b[1m25/32\u001b[0m \u001b[32m━━━━━━━━━━━━━━━\u001b[0m\u001b[37m━━━━━\u001b[0m \u001b[1m0s\u001b[0m 4ms/step - loss: 0.0988"
          ]
        },
        {
          "name": "stderr",
          "output_type": "stream",
          "text": [
            "WARNING:absl:You are saving your model as an HDF5 file via `model.save()` or `keras.saving.save_model(model)`. This file format is considered legacy. We recommend using instead the native Keras format, e.g. `model.save('my_model.keras')` or `keras.saving.save_model(model, 'my_model.keras')`. \n"
          ]
        },
        {
          "name": "stdout",
          "output_type": "stream",
          "text": [
            "\u001b[1m32/32\u001b[0m \u001b[32m━━━━━━━━━━━━━━━━━━━━\u001b[0m\u001b[37m\u001b[0m \u001b[1m0s\u001b[0m 9ms/step - loss: 0.0983 - val_loss: 0.1014 - learning_rate: 4.4500e-04\n",
            "Epoch 65/350\n",
            "\u001b[1m32/32\u001b[0m \u001b[32m━━━━━━━━━━━━━━━━━━━━\u001b[0m\u001b[37m\u001b[0m \u001b[1m0s\u001b[0m 6ms/step - loss: 0.0959 - val_loss: 0.1016 - learning_rate: 4.4500e-04\n",
            "Epoch 66/350\n",
            "\u001b[1m32/32\u001b[0m \u001b[32m━━━━━━━━━━━━━━━━━━━━\u001b[0m\u001b[37m\u001b[0m \u001b[1m0s\u001b[0m 5ms/step - loss: 0.0928"
          ]
        },
        {
          "name": "stderr",
          "output_type": "stream",
          "text": [
            "WARNING:absl:You are saving your model as an HDF5 file via `model.save()` or `keras.saving.save_model(model)`. This file format is considered legacy. We recommend using instead the native Keras format, e.g. `model.save('my_model.keras')` or `keras.saving.save_model(model, 'my_model.keras')`. \n"
          ]
        },
        {
          "name": "stdout",
          "output_type": "stream",
          "text": [
            "\u001b[1m32/32\u001b[0m \u001b[32m━━━━━━━━━━━━━━━━━━━━\u001b[0m\u001b[37m\u001b[0m \u001b[1m0s\u001b[0m 9ms/step - loss: 0.0929 - val_loss: 0.1001 - learning_rate: 4.4500e-04\n",
            "Epoch 67/350\n",
            "\u001b[1m22/32\u001b[0m \u001b[32m━━━━━━━━━━━━━\u001b[0m\u001b[37m━━━━━━━\u001b[0m \u001b[1m0s\u001b[0m 5ms/step - loss: 0.0921"
          ]
        },
        {
          "name": "stderr",
          "output_type": "stream",
          "text": [
            "WARNING:absl:You are saving your model as an HDF5 file via `model.save()` or `keras.saving.save_model(model)`. This file format is considered legacy. We recommend using instead the native Keras format, e.g. `model.save('my_model.keras')` or `keras.saving.save_model(model, 'my_model.keras')`. \n"
          ]
        },
        {
          "name": "stdout",
          "output_type": "stream",
          "text": [
            "\u001b[1m32/32\u001b[0m \u001b[32m━━━━━━━━━━━━━━━━━━━━\u001b[0m\u001b[37m\u001b[0m \u001b[1m0s\u001b[0m 8ms/step - loss: 0.0929 - val_loss: 0.0993 - learning_rate: 4.4500e-04\n",
            "Epoch 68/350\n",
            "\u001b[1m30/32\u001b[0m \u001b[32m━━━━━━━━━━━━━━━━━━\u001b[0m\u001b[37m━━\u001b[0m \u001b[1m0s\u001b[0m 5ms/step - loss: 0.0893"
          ]
        },
        {
          "name": "stderr",
          "output_type": "stream",
          "text": [
            "WARNING:absl:You are saving your model as an HDF5 file via `model.save()` or `keras.saving.save_model(model)`. This file format is considered legacy. We recommend using instead the native Keras format, e.g. `model.save('my_model.keras')` or `keras.saving.save_model(model, 'my_model.keras')`. \n"
          ]
        },
        {
          "name": "stdout",
          "output_type": "stream",
          "text": [
            "\u001b[1m32/32\u001b[0m \u001b[32m━━━━━━━━━━━━━━━━━━━━\u001b[0m\u001b[37m\u001b[0m \u001b[1m0s\u001b[0m 11ms/step - loss: 0.0894 - val_loss: 0.0967 - learning_rate: 4.4500e-04\n",
            "Epoch 69/350\n",
            "\u001b[1m28/32\u001b[0m \u001b[32m━━━━━━━━━━━━━━━━━\u001b[0m\u001b[37m━━━\u001b[0m \u001b[1m0s\u001b[0m 4ms/step - loss: 0.0863"
          ]
        },
        {
          "name": "stderr",
          "output_type": "stream",
          "text": [
            "WARNING:absl:You are saving your model as an HDF5 file via `model.save()` or `keras.saving.save_model(model)`. This file format is considered legacy. We recommend using instead the native Keras format, e.g. `model.save('my_model.keras')` or `keras.saving.save_model(model, 'my_model.keras')`. \n"
          ]
        },
        {
          "name": "stdout",
          "output_type": "stream",
          "text": [
            "\u001b[1m32/32\u001b[0m \u001b[32m━━━━━━━━━━━━━━━━━━━━\u001b[0m\u001b[37m\u001b[0m \u001b[1m0s\u001b[0m 8ms/step - loss: 0.0868 - val_loss: 0.0930 - learning_rate: 4.4500e-04\n",
            "Epoch 70/350\n",
            "\u001b[1m32/32\u001b[0m \u001b[32m━━━━━━━━━━━━━━━━━━━━\u001b[0m\u001b[37m\u001b[0m \u001b[1m0s\u001b[0m 7ms/step - loss: 0.0891 - val_loss: 0.0935 - learning_rate: 4.4500e-04\n",
            "Epoch 71/350\n",
            "\u001b[1m24/32\u001b[0m \u001b[32m━━━━━━━━━━━━━━━\u001b[0m\u001b[37m━━━━━\u001b[0m \u001b[1m0s\u001b[0m 5ms/step - loss: 0.0842"
          ]
        },
        {
          "name": "stderr",
          "output_type": "stream",
          "text": [
            "WARNING:absl:You are saving your model as an HDF5 file via `model.save()` or `keras.saving.save_model(model)`. This file format is considered legacy. We recommend using instead the native Keras format, e.g. `model.save('my_model.keras')` or `keras.saving.save_model(model, 'my_model.keras')`. \n"
          ]
        },
        {
          "name": "stdout",
          "output_type": "stream",
          "text": [
            "\u001b[1m32/32\u001b[0m \u001b[32m━━━━━━━━━━━━━━━━━━━━\u001b[0m\u001b[37m\u001b[0m \u001b[1m0s\u001b[0m 8ms/step - loss: 0.0844 - val_loss: 0.0918 - learning_rate: 4.4500e-04\n",
            "Epoch 72/350\n",
            "\u001b[1m22/32\u001b[0m \u001b[32m━━━━━━━━━━━━━\u001b[0m\u001b[37m━━━━━━━\u001b[0m \u001b[1m0s\u001b[0m 5ms/step - loss: 0.0874"
          ]
        },
        {
          "name": "stderr",
          "output_type": "stream",
          "text": [
            "WARNING:absl:You are saving your model as an HDF5 file via `model.save()` or `keras.saving.save_model(model)`. This file format is considered legacy. We recommend using instead the native Keras format, e.g. `model.save('my_model.keras')` or `keras.saving.save_model(model, 'my_model.keras')`. \n"
          ]
        },
        {
          "name": "stdout",
          "output_type": "stream",
          "text": [
            "\u001b[1m32/32\u001b[0m \u001b[32m━━━━━━━━━━━━━━━━━━━━\u001b[0m\u001b[37m\u001b[0m \u001b[1m0s\u001b[0m 9ms/step - loss: 0.0871 - val_loss: 0.0911 - learning_rate: 4.4500e-04\n",
            "Epoch 73/350\n",
            "\u001b[1m25/32\u001b[0m \u001b[32m━━━━━━━━━━━━━━━\u001b[0m\u001b[37m━━━━━\u001b[0m \u001b[1m0s\u001b[0m 4ms/step - loss: 0.0824"
          ]
        },
        {
          "name": "stderr",
          "output_type": "stream",
          "text": [
            "WARNING:absl:You are saving your model as an HDF5 file via `model.save()` or `keras.saving.save_model(model)`. This file format is considered legacy. We recommend using instead the native Keras format, e.g. `model.save('my_model.keras')` or `keras.saving.save_model(model, 'my_model.keras')`. \n"
          ]
        },
        {
          "name": "stdout",
          "output_type": "stream",
          "text": [
            "\u001b[1m32/32\u001b[0m \u001b[32m━━━━━━━━━━━━━━━━━━━━\u001b[0m\u001b[37m\u001b[0m \u001b[1m0s\u001b[0m 9ms/step - loss: 0.0832 - val_loss: 0.0899 - learning_rate: 4.4500e-04\n",
            "Epoch 74/350\n",
            "\u001b[1m32/32\u001b[0m \u001b[32m━━━━━━━━━━━━━━━━━━━━\u001b[0m\u001b[37m\u001b[0m \u001b[1m0s\u001b[0m 8ms/step - loss: 0.0820 - val_loss: 0.0907 - learning_rate: 4.4500e-04\n",
            "Epoch 75/350\n",
            "\u001b[1m22/32\u001b[0m \u001b[32m━━━━━━━━━━━━━\u001b[0m\u001b[37m━━━━━━━\u001b[0m \u001b[1m0s\u001b[0m 5ms/step - loss: 0.0816"
          ]
        },
        {
          "name": "stderr",
          "output_type": "stream",
          "text": [
            "WARNING:absl:You are saving your model as an HDF5 file via `model.save()` or `keras.saving.save_model(model)`. This file format is considered legacy. We recommend using instead the native Keras format, e.g. `model.save('my_model.keras')` or `keras.saving.save_model(model, 'my_model.keras')`. \n"
          ]
        },
        {
          "name": "stdout",
          "output_type": "stream",
          "text": [
            "\u001b[1m32/32\u001b[0m \u001b[32m━━━━━━━━━━━━━━━━━━━━\u001b[0m\u001b[37m\u001b[0m \u001b[1m0s\u001b[0m 8ms/step - loss: 0.0823 - val_loss: 0.0897 - learning_rate: 4.4500e-04\n",
            "Epoch 76/350\n",
            "\u001b[1m22/32\u001b[0m \u001b[32m━━━━━━━━━━━━━\u001b[0m\u001b[37m━━━━━━━\u001b[0m \u001b[1m0s\u001b[0m 5ms/step - loss: 0.0860"
          ]
        },
        {
          "name": "stderr",
          "output_type": "stream",
          "text": [
            "WARNING:absl:You are saving your model as an HDF5 file via `model.save()` or `keras.saving.save_model(model)`. This file format is considered legacy. We recommend using instead the native Keras format, e.g. `model.save('my_model.keras')` or `keras.saving.save_model(model, 'my_model.keras')`. \n"
          ]
        },
        {
          "name": "stdout",
          "output_type": "stream",
          "text": [
            "\u001b[1m32/32\u001b[0m \u001b[32m━━━━━━━━━━━━━━━━━━━━\u001b[0m\u001b[37m\u001b[0m \u001b[1m0s\u001b[0m 9ms/step - loss: 0.0852 - val_loss: 0.0889 - learning_rate: 4.4500e-04\n",
            "Epoch 77/350\n",
            "\u001b[1m30/32\u001b[0m \u001b[32m━━━━━━━━━━━━━━━━━━\u001b[0m\u001b[37m━━\u001b[0m \u001b[1m0s\u001b[0m 6ms/step - loss: 0.0809"
          ]
        },
        {
          "name": "stderr",
          "output_type": "stream",
          "text": [
            "WARNING:absl:You are saving your model as an HDF5 file via `model.save()` or `keras.saving.save_model(model)`. This file format is considered legacy. We recommend using instead the native Keras format, e.g. `model.save('my_model.keras')` or `keras.saving.save_model(model, 'my_model.keras')`. \n"
          ]
        },
        {
          "name": "stdout",
          "output_type": "stream",
          "text": [
            "\u001b[1m32/32\u001b[0m \u001b[32m━━━━━━━━━━━━━━━━━━━━\u001b[0m\u001b[37m\u001b[0m \u001b[1m0s\u001b[0m 10ms/step - loss: 0.0808 - val_loss: 0.0873 - learning_rate: 4.4500e-04\n",
            "Epoch 78/350\n",
            "\u001b[1m32/32\u001b[0m \u001b[32m━━━━━━━━━━━━━━━━━━━━\u001b[0m\u001b[37m\u001b[0m \u001b[1m0s\u001b[0m 5ms/step - loss: 0.0778"
          ]
        },
        {
          "name": "stderr",
          "output_type": "stream",
          "text": [
            "WARNING:absl:You are saving your model as an HDF5 file via `model.save()` or `keras.saving.save_model(model)`. This file format is considered legacy. We recommend using instead the native Keras format, e.g. `model.save('my_model.keras')` or `keras.saving.save_model(model, 'my_model.keras')`. \n"
          ]
        },
        {
          "name": "stdout",
          "output_type": "stream",
          "text": [
            "\u001b[1m32/32\u001b[0m \u001b[32m━━━━━━━━━━━━━━━━━━━━\u001b[0m\u001b[37m\u001b[0m \u001b[1m0s\u001b[0m 10ms/step - loss: 0.0779 - val_loss: 0.0866 - learning_rate: 4.4500e-04\n",
            "Epoch 79/350\n",
            "\u001b[1m24/32\u001b[0m \u001b[32m━━━━━━━━━━━━━━━\u001b[0m\u001b[37m━━━━━\u001b[0m \u001b[1m0s\u001b[0m 4ms/step - loss: 0.0771"
          ]
        },
        {
          "name": "stderr",
          "output_type": "stream",
          "text": [
            "WARNING:absl:You are saving your model as an HDF5 file via `model.save()` or `keras.saving.save_model(model)`. This file format is considered legacy. We recommend using instead the native Keras format, e.g. `model.save('my_model.keras')` or `keras.saving.save_model(model, 'my_model.keras')`. \n"
          ]
        },
        {
          "name": "stdout",
          "output_type": "stream",
          "text": [
            "\u001b[1m32/32\u001b[0m \u001b[32m━━━━━━━━━━━━━━━━━━━━\u001b[0m\u001b[37m\u001b[0m \u001b[1m0s\u001b[0m 8ms/step - loss: 0.0773 - val_loss: 0.0860 - learning_rate: 4.4500e-04\n",
            "Epoch 80/350\n",
            "\u001b[1m22/32\u001b[0m \u001b[32m━━━━━━━━━━━━━\u001b[0m\u001b[37m━━━━━━━\u001b[0m \u001b[1m0s\u001b[0m 5ms/step - loss: 0.0769"
          ]
        },
        {
          "name": "stderr",
          "output_type": "stream",
          "text": [
            "WARNING:absl:You are saving your model as an HDF5 file via `model.save()` or `keras.saving.save_model(model)`. This file format is considered legacy. We recommend using instead the native Keras format, e.g. `model.save('my_model.keras')` or `keras.saving.save_model(model, 'my_model.keras')`. \n"
          ]
        },
        {
          "name": "stdout",
          "output_type": "stream",
          "text": [
            "\u001b[1m32/32\u001b[0m \u001b[32m━━━━━━━━━━━━━━━━━━━━\u001b[0m\u001b[37m\u001b[0m \u001b[1m0s\u001b[0m 9ms/step - loss: 0.0769 - val_loss: 0.0831 - learning_rate: 4.4500e-04\n",
            "Epoch 81/350\n",
            "\u001b[1m22/32\u001b[0m \u001b[32m━━━━━━━━━━━━━\u001b[0m\u001b[37m━━━━━━━\u001b[0m \u001b[1m0s\u001b[0m 5ms/step - loss: 0.0763"
          ]
        },
        {
          "name": "stderr",
          "output_type": "stream",
          "text": [
            "WARNING:absl:You are saving your model as an HDF5 file via `model.save()` or `keras.saving.save_model(model)`. This file format is considered legacy. We recommend using instead the native Keras format, e.g. `model.save('my_model.keras')` or `keras.saving.save_model(model, 'my_model.keras')`. \n"
          ]
        },
        {
          "name": "stdout",
          "output_type": "stream",
          "text": [
            "\u001b[1m32/32\u001b[0m \u001b[32m━━━━━━━━━━━━━━━━━━━━\u001b[0m\u001b[37m\u001b[0m \u001b[1m0s\u001b[0m 8ms/step - loss: 0.0766 - val_loss: 0.0828 - learning_rate: 4.4500e-04\n",
            "Epoch 82/350\n",
            "\u001b[1m25/32\u001b[0m \u001b[32m━━━━━━━━━━━━━━━\u001b[0m\u001b[37m━━━━━\u001b[0m \u001b[1m0s\u001b[0m 4ms/step - loss: 0.0767"
          ]
        },
        {
          "name": "stderr",
          "output_type": "stream",
          "text": [
            "WARNING:absl:You are saving your model as an HDF5 file via `model.save()` or `keras.saving.save_model(model)`. This file format is considered legacy. We recommend using instead the native Keras format, e.g. `model.save('my_model.keras')` or `keras.saving.save_model(model, 'my_model.keras')`. \n"
          ]
        },
        {
          "name": "stdout",
          "output_type": "stream",
          "text": [
            "\u001b[1m32/32\u001b[0m \u001b[32m━━━━━━━━━━━━━━━━━━━━\u001b[0m\u001b[37m\u001b[0m \u001b[1m0s\u001b[0m 8ms/step - loss: 0.0764 - val_loss: 0.0807 - learning_rate: 4.4500e-04\n",
            "Epoch 83/350\n",
            "\u001b[1m22/32\u001b[0m \u001b[32m━━━━━━━━━━━━━\u001b[0m\u001b[37m━━━━━━━\u001b[0m \u001b[1m0s\u001b[0m 5ms/step - loss: 0.0777"
          ]
        },
        {
          "name": "stderr",
          "output_type": "stream",
          "text": [
            "WARNING:absl:You are saving your model as an HDF5 file via `model.save()` or `keras.saving.save_model(model)`. This file format is considered legacy. We recommend using instead the native Keras format, e.g. `model.save('my_model.keras')` or `keras.saving.save_model(model, 'my_model.keras')`. \n"
          ]
        },
        {
          "name": "stdout",
          "output_type": "stream",
          "text": [
            "\u001b[1m32/32\u001b[0m \u001b[32m━━━━━━━━━━━━━━━━━━━━\u001b[0m\u001b[37m\u001b[0m \u001b[1m0s\u001b[0m 8ms/step - loss: 0.0765 - val_loss: 0.0791 - learning_rate: 4.4500e-04\n",
            "Epoch 84/350\n",
            "\u001b[1m32/32\u001b[0m \u001b[32m━━━━━━━━━━━━━━━━━━━━\u001b[0m\u001b[37m\u001b[0m \u001b[1m0s\u001b[0m 7ms/step - loss: 0.0741 - val_loss: 0.0792 - learning_rate: 4.4500e-04\n",
            "Epoch 85/350\n",
            "\u001b[1m25/32\u001b[0m \u001b[32m━━━━━━━━━━━━━━━\u001b[0m\u001b[37m━━━━━\u001b[0m \u001b[1m0s\u001b[0m 7ms/step - loss: 0.0716"
          ]
        },
        {
          "name": "stderr",
          "output_type": "stream",
          "text": [
            "WARNING:absl:You are saving your model as an HDF5 file via `model.save()` or `keras.saving.save_model(model)`. This file format is considered legacy. We recommend using instead the native Keras format, e.g. `model.save('my_model.keras')` or `keras.saving.save_model(model, 'my_model.keras')`. \n"
          ]
        },
        {
          "name": "stdout",
          "output_type": "stream",
          "text": [
            "\u001b[1m32/32\u001b[0m \u001b[32m━━━━━━━━━━━━━━━━━━━━\u001b[0m\u001b[37m\u001b[0m \u001b[1m0s\u001b[0m 10ms/step - loss: 0.0716 - val_loss: 0.0777 - learning_rate: 4.4500e-04\n",
            "Epoch 86/350\n",
            "\u001b[1m21/32\u001b[0m \u001b[32m━━━━━━━━━━━━━\u001b[0m\u001b[37m━━━━━━━\u001b[0m \u001b[1m0s\u001b[0m 5ms/step - loss: 0.0694"
          ]
        },
        {
          "name": "stderr",
          "output_type": "stream",
          "text": [
            "WARNING:absl:You are saving your model as an HDF5 file via `model.save()` or `keras.saving.save_model(model)`. This file format is considered legacy. We recommend using instead the native Keras format, e.g. `model.save('my_model.keras')` or `keras.saving.save_model(model, 'my_model.keras')`. \n"
          ]
        },
        {
          "name": "stdout",
          "output_type": "stream",
          "text": [
            "\u001b[1m32/32\u001b[0m \u001b[32m━━━━━━━━━━━━━━━━━━━━\u001b[0m\u001b[37m\u001b[0m \u001b[1m0s\u001b[0m 9ms/step - loss: 0.0696 - val_loss: 0.0774 - learning_rate: 4.4500e-04\n",
            "Epoch 87/350\n",
            "\u001b[1m26/32\u001b[0m \u001b[32m━━━━━━━━━━━━━━━━\u001b[0m\u001b[37m━━━━\u001b[0m \u001b[1m0s\u001b[0m 4ms/step - loss: 0.0710"
          ]
        },
        {
          "name": "stderr",
          "output_type": "stream",
          "text": [
            "WARNING:absl:You are saving your model as an HDF5 file via `model.save()` or `keras.saving.save_model(model)`. This file format is considered legacy. We recommend using instead the native Keras format, e.g. `model.save('my_model.keras')` or `keras.saving.save_model(model, 'my_model.keras')`. \n"
          ]
        },
        {
          "name": "stdout",
          "output_type": "stream",
          "text": [
            "\u001b[1m32/32\u001b[0m \u001b[32m━━━━━━━━━━━━━━━━━━━━\u001b[0m\u001b[37m\u001b[0m \u001b[1m0s\u001b[0m 8ms/step - loss: 0.0708 - val_loss: 0.0767 - learning_rate: 4.4500e-04\n",
            "Epoch 88/350\n",
            "\u001b[1m22/32\u001b[0m \u001b[32m━━━━━━━━━━━━━\u001b[0m\u001b[37m━━━━━━━\u001b[0m \u001b[1m0s\u001b[0m 5ms/step - loss: 0.0707"
          ]
        },
        {
          "name": "stderr",
          "output_type": "stream",
          "text": [
            "WARNING:absl:You are saving your model as an HDF5 file via `model.save()` or `keras.saving.save_model(model)`. This file format is considered legacy. We recommend using instead the native Keras format, e.g. `model.save('my_model.keras')` or `keras.saving.save_model(model, 'my_model.keras')`. \n"
          ]
        },
        {
          "name": "stdout",
          "output_type": "stream",
          "text": [
            "\u001b[1m32/32\u001b[0m \u001b[32m━━━━━━━━━━━━━━━━━━━━\u001b[0m\u001b[37m\u001b[0m \u001b[1m0s\u001b[0m 9ms/step - loss: 0.0701 - val_loss: 0.0765 - learning_rate: 4.4500e-04\n",
            "Epoch 89/350\n",
            "\u001b[1m23/32\u001b[0m \u001b[32m━━━━━━━━━━━━━━\u001b[0m\u001b[37m━━━━━━\u001b[0m \u001b[1m0s\u001b[0m 5ms/step - loss: 0.0669"
          ]
        },
        {
          "name": "stderr",
          "output_type": "stream",
          "text": [
            "WARNING:absl:You are saving your model as an HDF5 file via `model.save()` or `keras.saving.save_model(model)`. This file format is considered legacy. We recommend using instead the native Keras format, e.g. `model.save('my_model.keras')` or `keras.saving.save_model(model, 'my_model.keras')`. \n"
          ]
        },
        {
          "name": "stdout",
          "output_type": "stream",
          "text": [
            "\u001b[1m32/32\u001b[0m \u001b[32m━━━━━━━━━━━━━━━━━━━━\u001b[0m\u001b[37m\u001b[0m \u001b[1m0s\u001b[0m 8ms/step - loss: 0.0671 - val_loss: 0.0757 - learning_rate: 4.4500e-04\n",
            "Epoch 90/350\n",
            "\u001b[1m32/32\u001b[0m \u001b[32m━━━━━━━━━━━━━━━━━━━━\u001b[0m\u001b[37m\u001b[0m \u001b[1m0s\u001b[0m 7ms/step - loss: 0.0696 - val_loss: 0.0759 - learning_rate: 4.4500e-04\n",
            "Epoch 91/350\n",
            "\u001b[1m23/32\u001b[0m \u001b[32m━━━━━━━━━━━━━━\u001b[0m\u001b[37m━━━━━━\u001b[0m \u001b[1m0s\u001b[0m 5ms/step - loss: 0.0678"
          ]
        },
        {
          "name": "stderr",
          "output_type": "stream",
          "text": [
            "WARNING:absl:You are saving your model as an HDF5 file via `model.save()` or `keras.saving.save_model(model)`. This file format is considered legacy. We recommend using instead the native Keras format, e.g. `model.save('my_model.keras')` or `keras.saving.save_model(model, 'my_model.keras')`. \n"
          ]
        },
        {
          "name": "stdout",
          "output_type": "stream",
          "text": [
            "\u001b[1m32/32\u001b[0m \u001b[32m━━━━━━━━━━━━━━━━━━━━\u001b[0m\u001b[37m\u001b[0m \u001b[1m0s\u001b[0m 9ms/step - loss: 0.0683 - val_loss: 0.0736 - learning_rate: 4.4500e-04\n",
            "Epoch 92/350\n",
            "\u001b[1m26/32\u001b[0m \u001b[32m━━━━━━━━━━━━━━━━\u001b[0m\u001b[37m━━━━\u001b[0m \u001b[1m0s\u001b[0m 4ms/step - loss: 0.0646"
          ]
        },
        {
          "name": "stderr",
          "output_type": "stream",
          "text": [
            "WARNING:absl:You are saving your model as an HDF5 file via `model.save()` or `keras.saving.save_model(model)`. This file format is considered legacy. We recommend using instead the native Keras format, e.g. `model.save('my_model.keras')` or `keras.saving.save_model(model, 'my_model.keras')`. \n"
          ]
        },
        {
          "name": "stdout",
          "output_type": "stream",
          "text": [
            "\u001b[1m32/32\u001b[0m \u001b[32m━━━━━━━━━━━━━━━━━━━━\u001b[0m\u001b[37m\u001b[0m \u001b[1m0s\u001b[0m 8ms/step - loss: 0.0647 - val_loss: 0.0717 - learning_rate: 4.4500e-04\n",
            "Epoch 93/350\n",
            "\u001b[1m32/32\u001b[0m \u001b[32m━━━━━━━━━━━━━━━━━━━━\u001b[0m\u001b[37m\u001b[0m \u001b[1m0s\u001b[0m 7ms/step - loss: 0.0666 - val_loss: 0.0718 - learning_rate: 4.4500e-04\n",
            "Epoch 94/350\n",
            "\u001b[1m31/32\u001b[0m \u001b[32m━━━━━━━━━━━━━━━━━━━\u001b[0m\u001b[37m━\u001b[0m \u001b[1m0s\u001b[0m 5ms/step - loss: 0.0628"
          ]
        },
        {
          "name": "stderr",
          "output_type": "stream",
          "text": [
            "WARNING:absl:You are saving your model as an HDF5 file via `model.save()` or `keras.saving.save_model(model)`. This file format is considered legacy. We recommend using instead the native Keras format, e.g. `model.save('my_model.keras')` or `keras.saving.save_model(model, 'my_model.keras')`. \n"
          ]
        },
        {
          "name": "stdout",
          "output_type": "stream",
          "text": [
            "\u001b[1m32/32\u001b[0m \u001b[32m━━━━━━━━━━━━━━━━━━━━\u001b[0m\u001b[37m\u001b[0m \u001b[1m0s\u001b[0m 9ms/step - loss: 0.0629 - val_loss: 0.0713 - learning_rate: 4.4500e-04\n",
            "Epoch 95/350\n",
            "\u001b[1m22/32\u001b[0m \u001b[32m━━━━━━━━━━━━━\u001b[0m\u001b[37m━━━━━━━\u001b[0m \u001b[1m0s\u001b[0m 5ms/step - loss: 0.0655"
          ]
        },
        {
          "name": "stderr",
          "output_type": "stream",
          "text": [
            "WARNING:absl:You are saving your model as an HDF5 file via `model.save()` or `keras.saving.save_model(model)`. This file format is considered legacy. We recommend using instead the native Keras format, e.g. `model.save('my_model.keras')` or `keras.saving.save_model(model, 'my_model.keras')`. \n"
          ]
        },
        {
          "name": "stdout",
          "output_type": "stream",
          "text": [
            "\u001b[1m32/32\u001b[0m \u001b[32m━━━━━━━━━━━━━━━━━━━━\u001b[0m\u001b[37m\u001b[0m \u001b[1m0s\u001b[0m 9ms/step - loss: 0.0658 - val_loss: 0.0693 - learning_rate: 4.4500e-04\n",
            "Epoch 96/350\n",
            "\u001b[1m32/32\u001b[0m \u001b[32m━━━━━━━━━━━━━━━━━━━━\u001b[0m\u001b[37m\u001b[0m \u001b[1m0s\u001b[0m 7ms/step - loss: 0.0629 - val_loss: 0.0717 - learning_rate: 4.4500e-04\n",
            "Epoch 97/350\n",
            "\u001b[1m23/32\u001b[0m \u001b[32m━━━━━━━━━━━━━━\u001b[0m\u001b[37m━━━━━━\u001b[0m \u001b[1m0s\u001b[0m 5ms/step - loss: 0.0626"
          ]
        },
        {
          "name": "stderr",
          "output_type": "stream",
          "text": [
            "WARNING:absl:You are saving your model as an HDF5 file via `model.save()` or `keras.saving.save_model(model)`. This file format is considered legacy. We recommend using instead the native Keras format, e.g. `model.save('my_model.keras')` or `keras.saving.save_model(model, 'my_model.keras')`. \n"
          ]
        },
        {
          "name": "stdout",
          "output_type": "stream",
          "text": [
            "\u001b[1m32/32\u001b[0m \u001b[32m━━━━━━━━━━━━━━━━━━━━\u001b[0m\u001b[37m\u001b[0m \u001b[1m0s\u001b[0m 9ms/step - loss: 0.0625 - val_loss: 0.0691 - learning_rate: 4.4500e-04\n",
            "Epoch 98/350\n",
            "\u001b[1m20/32\u001b[0m \u001b[32m━━━━━━━━━━━━\u001b[0m\u001b[37m━━━━━━━━\u001b[0m \u001b[1m0s\u001b[0m 6ms/step - loss: 0.0614"
          ]
        },
        {
          "name": "stderr",
          "output_type": "stream",
          "text": [
            "WARNING:absl:You are saving your model as an HDF5 file via `model.save()` or `keras.saving.save_model(model)`. This file format is considered legacy. We recommend using instead the native Keras format, e.g. `model.save('my_model.keras')` or `keras.saving.save_model(model, 'my_model.keras')`. \n"
          ]
        },
        {
          "name": "stdout",
          "output_type": "stream",
          "text": [
            "\u001b[1m32/32\u001b[0m \u001b[32m━━━━━━━━━━━━━━━━━━━━\u001b[0m\u001b[37m\u001b[0m \u001b[1m0s\u001b[0m 9ms/step - loss: 0.0615 - val_loss: 0.0680 - learning_rate: 4.4500e-04\n",
            "Epoch 99/350\n",
            "\u001b[1m31/32\u001b[0m \u001b[32m━━━━━━━━━━━━━━━━━━━\u001b[0m\u001b[37m━\u001b[0m \u001b[1m0s\u001b[0m 5ms/step - loss: 0.0626"
          ]
        },
        {
          "name": "stderr",
          "output_type": "stream",
          "text": [
            "WARNING:absl:You are saving your model as an HDF5 file via `model.save()` or `keras.saving.save_model(model)`. This file format is considered legacy. We recommend using instead the native Keras format, e.g. `model.save('my_model.keras')` or `keras.saving.save_model(model, 'my_model.keras')`. \n"
          ]
        },
        {
          "name": "stdout",
          "output_type": "stream",
          "text": [
            "\u001b[1m32/32\u001b[0m \u001b[32m━━━━━━━━━━━━━━━━━━━━\u001b[0m\u001b[37m\u001b[0m \u001b[1m0s\u001b[0m 9ms/step - loss: 0.0626 - val_loss: 0.0675 - learning_rate: 4.4500e-04\n",
            "Epoch 100/350\n",
            "\u001b[1m32/32\u001b[0m \u001b[32m━━━━━━━━━━━━━━━━━━━━\u001b[0m\u001b[37m\u001b[0m \u001b[1m0s\u001b[0m 7ms/step - loss: 0.0648 - val_loss: 0.0695 - learning_rate: 4.4500e-04\n",
            "Epoch 101/350\n",
            "\u001b[1m22/32\u001b[0m \u001b[32m━━━━━━━━━━━━━\u001b[0m\u001b[37m━━━━━━━\u001b[0m \u001b[1m0s\u001b[0m 5ms/step - loss: 0.0561"
          ]
        },
        {
          "name": "stderr",
          "output_type": "stream",
          "text": [
            "WARNING:absl:You are saving your model as an HDF5 file via `model.save()` or `keras.saving.save_model(model)`. This file format is considered legacy. We recommend using instead the native Keras format, e.g. `model.save('my_model.keras')` or `keras.saving.save_model(model, 'my_model.keras')`. \n"
          ]
        },
        {
          "name": "stdout",
          "output_type": "stream",
          "text": [
            "\u001b[1m32/32\u001b[0m \u001b[32m━━━━━━━━━━━━━━━━━━━━\u001b[0m\u001b[37m\u001b[0m \u001b[1m0s\u001b[0m 8ms/step - loss: 0.0566 - val_loss: 0.0648 - learning_rate: 4.4500e-04\n",
            "Epoch 102/350\n",
            "\u001b[1m22/32\u001b[0m \u001b[32m━━━━━━━━━━━━━\u001b[0m\u001b[37m━━━━━━━\u001b[0m \u001b[1m0s\u001b[0m 5ms/step - loss: 0.0567"
          ]
        },
        {
          "name": "stderr",
          "output_type": "stream",
          "text": [
            "WARNING:absl:You are saving your model as an HDF5 file via `model.save()` or `keras.saving.save_model(model)`. This file format is considered legacy. We recommend using instead the native Keras format, e.g. `model.save('my_model.keras')` or `keras.saving.save_model(model, 'my_model.keras')`. \n"
          ]
        },
        {
          "name": "stdout",
          "output_type": "stream",
          "text": [
            "\u001b[1m32/32\u001b[0m \u001b[32m━━━━━━━━━━━━━━━━━━━━\u001b[0m\u001b[37m\u001b[0m \u001b[1m0s\u001b[0m 8ms/step - loss: 0.0569 - val_loss: 0.0638 - learning_rate: 4.4500e-04\n",
            "Epoch 103/350\n",
            "\u001b[1m32/32\u001b[0m \u001b[32m━━━━━━━━━━━━━━━━━━━━\u001b[0m\u001b[37m\u001b[0m \u001b[1m0s\u001b[0m 7ms/step - loss: 0.0570 - val_loss: 0.0653 - learning_rate: 4.4500e-04\n",
            "Epoch 104/350\n",
            "\u001b[1m32/32\u001b[0m \u001b[32m━━━━━━━━━━━━━━━━━━━━\u001b[0m\u001b[37m\u001b[0m \u001b[1m0s\u001b[0m 8ms/step - loss: 0.0590 - val_loss: 0.0639 - learning_rate: 4.4500e-04\n",
            "Epoch 105/350\n",
            "\u001b[1m23/32\u001b[0m \u001b[32m━━━━━━━━━━━━━━\u001b[0m\u001b[37m━━━━━━\u001b[0m \u001b[1m0s\u001b[0m 5ms/step - loss: 0.0554"
          ]
        },
        {
          "name": "stderr",
          "output_type": "stream",
          "text": [
            "WARNING:absl:You are saving your model as an HDF5 file via `model.save()` or `keras.saving.save_model(model)`. This file format is considered legacy. We recommend using instead the native Keras format, e.g. `model.save('my_model.keras')` or `keras.saving.save_model(model, 'my_model.keras')`. \n"
          ]
        },
        {
          "name": "stdout",
          "output_type": "stream",
          "text": [
            "\u001b[1m32/32\u001b[0m \u001b[32m━━━━━━━━━━━━━━━━━━━━\u001b[0m\u001b[37m\u001b[0m \u001b[1m0s\u001b[0m 9ms/step - loss: 0.0560 - val_loss: 0.0628 - learning_rate: 4.4500e-04\n",
            "Epoch 106/350\n",
            "\u001b[1m23/32\u001b[0m \u001b[32m━━━━━━━━━━━━━━\u001b[0m\u001b[37m━━━━━━\u001b[0m \u001b[1m0s\u001b[0m 7ms/step - loss: 0.0567"
          ]
        },
        {
          "name": "stderr",
          "output_type": "stream",
          "text": [
            "WARNING:absl:You are saving your model as an HDF5 file via `model.save()` or `keras.saving.save_model(model)`. This file format is considered legacy. We recommend using instead the native Keras format, e.g. `model.save('my_model.keras')` or `keras.saving.save_model(model, 'my_model.keras')`. \n"
          ]
        },
        {
          "name": "stdout",
          "output_type": "stream",
          "text": [
            "\u001b[1m32/32\u001b[0m \u001b[32m━━━━━━━━━━━━━━━━━━━━\u001b[0m\u001b[37m\u001b[0m \u001b[1m0s\u001b[0m 10ms/step - loss: 0.0570 - val_loss: 0.0613 - learning_rate: 4.4500e-04\n",
            "Epoch 107/350\n",
            "\u001b[1m21/32\u001b[0m \u001b[32m━━━━━━━━━━━━━\u001b[0m\u001b[37m━━━━━━━\u001b[0m \u001b[1m0s\u001b[0m 5ms/step - loss: 0.0540"
          ]
        },
        {
          "name": "stderr",
          "output_type": "stream",
          "text": [
            "WARNING:absl:You are saving your model as an HDF5 file via `model.save()` or `keras.saving.save_model(model)`. This file format is considered legacy. We recommend using instead the native Keras format, e.g. `model.save('my_model.keras')` or `keras.saving.save_model(model, 'my_model.keras')`. \n"
          ]
        },
        {
          "name": "stdout",
          "output_type": "stream",
          "text": [
            "\u001b[1m32/32\u001b[0m \u001b[32m━━━━━━━━━━━━━━━━━━━━\u001b[0m\u001b[37m\u001b[0m \u001b[1m0s\u001b[0m 9ms/step - loss: 0.0542 - val_loss: 0.0603 - learning_rate: 4.4500e-04\n",
            "Epoch 108/350\n",
            "\u001b[1m30/32\u001b[0m \u001b[32m━━━━━━━━━━━━━━━━━━\u001b[0m\u001b[37m━━\u001b[0m \u001b[1m0s\u001b[0m 5ms/step - loss: 0.0544"
          ]
        },
        {
          "name": "stderr",
          "output_type": "stream",
          "text": [
            "WARNING:absl:You are saving your model as an HDF5 file via `model.save()` or `keras.saving.save_model(model)`. This file format is considered legacy. We recommend using instead the native Keras format, e.g. `model.save('my_model.keras')` or `keras.saving.save_model(model, 'my_model.keras')`. \n"
          ]
        },
        {
          "name": "stdout",
          "output_type": "stream",
          "text": [
            "\u001b[1m32/32\u001b[0m \u001b[32m━━━━━━━━━━━━━━━━━━━━\u001b[0m\u001b[37m\u001b[0m \u001b[1m0s\u001b[0m 9ms/step - loss: 0.0545 - val_loss: 0.0602 - learning_rate: 4.4500e-04\n",
            "Epoch 109/350\n",
            "\u001b[1m22/32\u001b[0m \u001b[32m━━━━━━━━━━━━━\u001b[0m\u001b[37m━━━━━━━\u001b[0m \u001b[1m0s\u001b[0m 5ms/step - loss: 0.0515"
          ]
        },
        {
          "name": "stderr",
          "output_type": "stream",
          "text": [
            "WARNING:absl:You are saving your model as an HDF5 file via `model.save()` or `keras.saving.save_model(model)`. This file format is considered legacy. We recommend using instead the native Keras format, e.g. `model.save('my_model.keras')` or `keras.saving.save_model(model, 'my_model.keras')`. \n"
          ]
        },
        {
          "name": "stdout",
          "output_type": "stream",
          "text": [
            "\u001b[1m32/32\u001b[0m \u001b[32m━━━━━━━━━━━━━━━━━━━━\u001b[0m\u001b[37m\u001b[0m \u001b[1m0s\u001b[0m 9ms/step - loss: 0.0521 - val_loss: 0.0597 - learning_rate: 4.4500e-04\n",
            "Epoch 110/350\n",
            "\u001b[1m32/32\u001b[0m \u001b[32m━━━━━━━━━━━━━━━━━━━━\u001b[0m\u001b[37m\u001b[0m \u001b[1m0s\u001b[0m 6ms/step - loss: 0.0518 - val_loss: 0.0603 - learning_rate: 4.4500e-04\n",
            "Epoch 111/350\n",
            "\u001b[1m30/32\u001b[0m \u001b[32m━━━━━━━━━━━━━━━━━━\u001b[0m\u001b[37m━━\u001b[0m \u001b[1m0s\u001b[0m 5ms/step - loss: 0.0516"
          ]
        },
        {
          "name": "stderr",
          "output_type": "stream",
          "text": [
            "WARNING:absl:You are saving your model as an HDF5 file via `model.save()` or `keras.saving.save_model(model)`. This file format is considered legacy. We recommend using instead the native Keras format, e.g. `model.save('my_model.keras')` or `keras.saving.save_model(model, 'my_model.keras')`. \n"
          ]
        },
        {
          "name": "stdout",
          "output_type": "stream",
          "text": [
            "\u001b[1m32/32\u001b[0m \u001b[32m━━━━━━━━━━━━━━━━━━━━\u001b[0m\u001b[37m\u001b[0m \u001b[1m0s\u001b[0m 9ms/step - loss: 0.0517 - val_loss: 0.0586 - learning_rate: 4.4500e-04\n",
            "Epoch 112/350\n",
            "\u001b[1m32/32\u001b[0m \u001b[32m━━━━━━━━━━━━━━━━━━━━\u001b[0m\u001b[37m\u001b[0m \u001b[1m0s\u001b[0m 7ms/step - loss: 0.0520 - val_loss: 0.0601 - learning_rate: 4.4500e-04\n",
            "Epoch 113/350\n",
            "\u001b[1m23/32\u001b[0m \u001b[32m━━━━━━━━━━━━━━\u001b[0m\u001b[37m━━━━━━\u001b[0m \u001b[1m0s\u001b[0m 5ms/step - loss: 0.0546"
          ]
        },
        {
          "name": "stderr",
          "output_type": "stream",
          "text": [
            "WARNING:absl:You are saving your model as an HDF5 file via `model.save()` or `keras.saving.save_model(model)`. This file format is considered legacy. We recommend using instead the native Keras format, e.g. `model.save('my_model.keras')` or `keras.saving.save_model(model, 'my_model.keras')`. \n"
          ]
        },
        {
          "name": "stdout",
          "output_type": "stream",
          "text": [
            "\u001b[1m32/32\u001b[0m \u001b[32m━━━━━━━━━━━━━━━━━━━━\u001b[0m\u001b[37m\u001b[0m \u001b[1m0s\u001b[0m 9ms/step - loss: 0.0543 - val_loss: 0.0583 - learning_rate: 4.4500e-04\n",
            "Epoch 114/350\n",
            "\u001b[1m24/32\u001b[0m \u001b[32m━━━━━━━━━━━━━━━\u001b[0m\u001b[37m━━━━━\u001b[0m \u001b[1m0s\u001b[0m 5ms/step - loss: 0.0502"
          ]
        },
        {
          "name": "stderr",
          "output_type": "stream",
          "text": [
            "WARNING:absl:You are saving your model as an HDF5 file via `model.save()` or `keras.saving.save_model(model)`. This file format is considered legacy. We recommend using instead the native Keras format, e.g. `model.save('my_model.keras')` or `keras.saving.save_model(model, 'my_model.keras')`. \n"
          ]
        },
        {
          "name": "stdout",
          "output_type": "stream",
          "text": [
            "\u001b[1m32/32\u001b[0m \u001b[32m━━━━━━━━━━━━━━━━━━━━\u001b[0m\u001b[37m\u001b[0m \u001b[1m0s\u001b[0m 9ms/step - loss: 0.0506 - val_loss: 0.0576 - learning_rate: 4.4500e-04\n",
            "Epoch 115/350\n",
            "\u001b[1m22/32\u001b[0m \u001b[32m━━━━━━━━━━━━━\u001b[0m\u001b[37m━━━━━━━\u001b[0m \u001b[1m0s\u001b[0m 5ms/step - loss: 0.0494"
          ]
        },
        {
          "name": "stderr",
          "output_type": "stream",
          "text": [
            "WARNING:absl:You are saving your model as an HDF5 file via `model.save()` or `keras.saving.save_model(model)`. This file format is considered legacy. We recommend using instead the native Keras format, e.g. `model.save('my_model.keras')` or `keras.saving.save_model(model, 'my_model.keras')`. \n"
          ]
        },
        {
          "name": "stdout",
          "output_type": "stream",
          "text": [
            "\u001b[1m32/32\u001b[0m \u001b[32m━━━━━━━━━━━━━━━━━━━━\u001b[0m\u001b[37m\u001b[0m \u001b[1m0s\u001b[0m 9ms/step - loss: 0.0499 - val_loss: 0.0546 - learning_rate: 4.4500e-04\n",
            "Epoch 116/350\n",
            "\u001b[1m32/32\u001b[0m \u001b[32m━━━━━━━━━━━━━━━━━━━━\u001b[0m\u001b[37m\u001b[0m \u001b[1m0s\u001b[0m 7ms/step - loss: 0.0485 - val_loss: 0.0581 - learning_rate: 4.4500e-04\n",
            "Epoch 117/350\n",
            "\u001b[1m32/32\u001b[0m \u001b[32m━━━━━━━━━━━━━━━━━━━━\u001b[0m\u001b[37m\u001b[0m \u001b[1m0s\u001b[0m 7ms/step - loss: 0.0487 - val_loss: 0.0563 - learning_rate: 4.4500e-04\n",
            "Epoch 118/350\n",
            "\u001b[1m27/32\u001b[0m \u001b[32m━━━━━━━━━━━━━━━━\u001b[0m\u001b[37m━━━━\u001b[0m \u001b[1m0s\u001b[0m 4ms/step - loss: 0.0500"
          ]
        },
        {
          "name": "stderr",
          "output_type": "stream",
          "text": [
            "WARNING:absl:You are saving your model as an HDF5 file via `model.save()` or `keras.saving.save_model(model)`. This file format is considered legacy. We recommend using instead the native Keras format, e.g. `model.save('my_model.keras')` or `keras.saving.save_model(model, 'my_model.keras')`. \n"
          ]
        },
        {
          "name": "stdout",
          "output_type": "stream",
          "text": [
            "\u001b[1m32/32\u001b[0m \u001b[32m━━━━━━━━━━━━━━━━━━━━\u001b[0m\u001b[37m\u001b[0m \u001b[1m0s\u001b[0m 8ms/step - loss: 0.0498 - val_loss: 0.0541 - learning_rate: 4.4500e-04\n",
            "Epoch 119/350\n",
            "\u001b[1m32/32\u001b[0m \u001b[32m━━━━━━━━━━━━━━━━━━━━\u001b[0m\u001b[37m\u001b[0m \u001b[1m0s\u001b[0m 7ms/step - loss: 0.0486 - val_loss: 0.0561 - learning_rate: 4.4500e-04\n",
            "Epoch 120/350\n",
            "\u001b[1m32/32\u001b[0m \u001b[32m━━━━━━━━━━━━━━━━━━━━\u001b[0m\u001b[37m\u001b[0m \u001b[1m0s\u001b[0m 5ms/step - loss: 0.0465"
          ]
        },
        {
          "name": "stderr",
          "output_type": "stream",
          "text": [
            "WARNING:absl:You are saving your model as an HDF5 file via `model.save()` or `keras.saving.save_model(model)`. This file format is considered legacy. We recommend using instead the native Keras format, e.g. `model.save('my_model.keras')` or `keras.saving.save_model(model, 'my_model.keras')`. \n"
          ]
        },
        {
          "name": "stdout",
          "output_type": "stream",
          "text": [
            "\u001b[1m32/32\u001b[0m \u001b[32m━━━━━━━━━━━━━━━━━━━━\u001b[0m\u001b[37m\u001b[0m \u001b[1m0s\u001b[0m 9ms/step - loss: 0.0465 - val_loss: 0.0539 - learning_rate: 4.4500e-04\n",
            "Epoch 121/350\n",
            "\u001b[1m32/32\u001b[0m \u001b[32m━━━━━━━━━━━━━━━━━━━━\u001b[0m\u001b[37m\u001b[0m \u001b[1m0s\u001b[0m 8ms/step - loss: 0.0495 - val_loss: 0.0549 - learning_rate: 4.4500e-04\n",
            "Epoch 122/350\n",
            "\u001b[1m32/32\u001b[0m \u001b[32m━━━━━━━━━━━━━━━━━━━━\u001b[0m\u001b[37m\u001b[0m \u001b[1m0s\u001b[0m 6ms/step - loss: 0.0482 - val_loss: 0.0549 - learning_rate: 4.4500e-04\n",
            "Epoch 123/350\n",
            "\u001b[1m32/32\u001b[0m \u001b[32m━━━━━━━━━━━━━━━━━━━━\u001b[0m\u001b[37m\u001b[0m \u001b[1m0s\u001b[0m 7ms/step - loss: 0.0447 - val_loss: 0.0624 - learning_rate: 4.4500e-04\n",
            "Epoch 124/350\n",
            "\u001b[1m23/32\u001b[0m \u001b[32m━━━━━━━━━━━━━━\u001b[0m\u001b[37m━━━━━━\u001b[0m \u001b[1m0s\u001b[0m 5ms/step - loss: 0.0442"
          ]
        },
        {
          "name": "stderr",
          "output_type": "stream",
          "text": [
            "WARNING:absl:You are saving your model as an HDF5 file via `model.save()` or `keras.saving.save_model(model)`. This file format is considered legacy. We recommend using instead the native Keras format, e.g. `model.save('my_model.keras')` or `keras.saving.save_model(model, 'my_model.keras')`. \n"
          ]
        },
        {
          "name": "stdout",
          "output_type": "stream",
          "text": [
            "\u001b[1m32/32\u001b[0m \u001b[32m━━━━━━━━━━━━━━━━━━━━\u001b[0m\u001b[37m\u001b[0m \u001b[1m0s\u001b[0m 9ms/step - loss: 0.0449 - val_loss: 0.0530 - learning_rate: 4.4500e-04\n",
            "Epoch 125/350\n",
            "\u001b[1m32/32\u001b[0m \u001b[32m━━━━━━━━━━━━━━━━━━━━\u001b[0m\u001b[37m\u001b[0m \u001b[1m0s\u001b[0m 6ms/step - loss: 0.0482 - val_loss: 0.0533 - learning_rate: 4.4500e-04\n",
            "Epoch 126/350\n",
            "\u001b[1m32/32\u001b[0m \u001b[32m━━━━━━━━━━━━━━━━━━━━\u001b[0m\u001b[37m\u001b[0m \u001b[1m0s\u001b[0m 7ms/step - loss: 0.0451 - val_loss: 0.0547 - learning_rate: 4.4500e-04\n",
            "Epoch 127/350\n",
            "\u001b[1m30/32\u001b[0m \u001b[32m━━━━━━━━━━━━━━━━━━\u001b[0m\u001b[37m━━\u001b[0m \u001b[1m0s\u001b[0m 5ms/step - loss: 0.0445"
          ]
        },
        {
          "name": "stderr",
          "output_type": "stream",
          "text": [
            "WARNING:absl:You are saving your model as an HDF5 file via `model.save()` or `keras.saving.save_model(model)`. This file format is considered legacy. We recommend using instead the native Keras format, e.g. `model.save('my_model.keras')` or `keras.saving.save_model(model, 'my_model.keras')`. \n"
          ]
        },
        {
          "name": "stdout",
          "output_type": "stream",
          "text": [
            "\u001b[1m32/32\u001b[0m \u001b[32m━━━━━━━━━━━━━━━━━━━━\u001b[0m\u001b[37m\u001b[0m \u001b[1m0s\u001b[0m 9ms/step - loss: 0.0445 - val_loss: 0.0529 - learning_rate: 4.4500e-04\n",
            "Epoch 128/350\n",
            "\u001b[1m32/32\u001b[0m \u001b[32m━━━━━━━━━━━━━━━━━━━━\u001b[0m\u001b[37m\u001b[0m \u001b[1m0s\u001b[0m 6ms/step - loss: 0.0433 - val_loss: 0.0534 - learning_rate: 4.4500e-04\n",
            "Epoch 129/350\n",
            "\u001b[1m32/32\u001b[0m \u001b[32m━━━━━━━━━━━━━━━━━━━━\u001b[0m\u001b[37m\u001b[0m \u001b[1m0s\u001b[0m 7ms/step - loss: 0.0427 - val_loss: 0.0539 - learning_rate: 4.4500e-04\n",
            "Epoch 130/350\n",
            "\u001b[1m32/32\u001b[0m \u001b[32m━━━━━━━━━━━━━━━━━━━━\u001b[0m\u001b[37m\u001b[0m \u001b[1m0s\u001b[0m 5ms/step - loss: 0.0465"
          ]
        },
        {
          "name": "stderr",
          "output_type": "stream",
          "text": [
            "WARNING:absl:You are saving your model as an HDF5 file via `model.save()` or `keras.saving.save_model(model)`. This file format is considered legacy. We recommend using instead the native Keras format, e.g. `model.save('my_model.keras')` or `keras.saving.save_model(model, 'my_model.keras')`. \n"
          ]
        },
        {
          "name": "stdout",
          "output_type": "stream",
          "text": [
            "\u001b[1m32/32\u001b[0m \u001b[32m━━━━━━━━━━━━━━━━━━━━\u001b[0m\u001b[37m\u001b[0m \u001b[1m0s\u001b[0m 9ms/step - loss: 0.0465 - val_loss: 0.0501 - learning_rate: 2.2250e-04\n",
            "Epoch 131/350\n",
            "\u001b[1m24/32\u001b[0m \u001b[32m━━━━━━━━━━━━━━━\u001b[0m\u001b[37m━━━━━\u001b[0m \u001b[1m0s\u001b[0m 5ms/step - loss: 0.0447"
          ]
        },
        {
          "name": "stderr",
          "output_type": "stream",
          "text": [
            "WARNING:absl:You are saving your model as an HDF5 file via `model.save()` or `keras.saving.save_model(model)`. This file format is considered legacy. We recommend using instead the native Keras format, e.g. `model.save('my_model.keras')` or `keras.saving.save_model(model, 'my_model.keras')`. \n"
          ]
        },
        {
          "name": "stdout",
          "output_type": "stream",
          "text": [
            "\u001b[1m32/32\u001b[0m \u001b[32m━━━━━━━━━━━━━━━━━━━━\u001b[0m\u001b[37m\u001b[0m \u001b[1m0s\u001b[0m 9ms/step - loss: 0.0439 - val_loss: 0.0490 - learning_rate: 2.2250e-04\n",
            "Epoch 132/350\n",
            "\u001b[1m32/32\u001b[0m \u001b[32m━━━━━━━━━━━━━━━━━━━━\u001b[0m\u001b[37m\u001b[0m \u001b[1m0s\u001b[0m 8ms/step - loss: 0.0405 - val_loss: 0.0495 - learning_rate: 2.2250e-04\n",
            "Epoch 133/350\n",
            "\u001b[1m23/32\u001b[0m \u001b[32m━━━━━━━━━━━━━━\u001b[0m\u001b[37m━━━━━━\u001b[0m \u001b[1m0s\u001b[0m 5ms/step - loss: 0.0386"
          ]
        },
        {
          "name": "stderr",
          "output_type": "stream",
          "text": [
            "WARNING:absl:You are saving your model as an HDF5 file via `model.save()` or `keras.saving.save_model(model)`. This file format is considered legacy. We recommend using instead the native Keras format, e.g. `model.save('my_model.keras')` or `keras.saving.save_model(model, 'my_model.keras')`. \n"
          ]
        },
        {
          "name": "stdout",
          "output_type": "stream",
          "text": [
            "\u001b[1m32/32\u001b[0m \u001b[32m━━━━━━━━━━━━━━━━━━━━\u001b[0m\u001b[37m\u001b[0m \u001b[1m0s\u001b[0m 9ms/step - loss: 0.0387 - val_loss: 0.0487 - learning_rate: 2.2250e-04\n",
            "Epoch 134/350\n",
            "\u001b[1m32/32\u001b[0m \u001b[32m━━━━━━━━━━━━━━━━━━━━\u001b[0m\u001b[37m\u001b[0m \u001b[1m0s\u001b[0m 7ms/step - loss: 0.0398 - val_loss: 0.0488 - learning_rate: 2.2250e-04\n",
            "Epoch 135/350\n",
            "\u001b[1m32/32\u001b[0m \u001b[32m━━━━━━━━━━━━━━━━━━━━\u001b[0m\u001b[37m\u001b[0m \u001b[1m0s\u001b[0m 7ms/step - loss: 0.0399 - val_loss: 0.0502 - learning_rate: 2.2250e-04\n",
            "Epoch 136/350\n",
            "\u001b[1m28/32\u001b[0m \u001b[32m━━━━━━━━━━━━━━━━━\u001b[0m\u001b[37m━━━\u001b[0m \u001b[1m0s\u001b[0m 6ms/step - loss: 0.0390"
          ]
        },
        {
          "name": "stderr",
          "output_type": "stream",
          "text": [
            "WARNING:absl:You are saving your model as an HDF5 file via `model.save()` or `keras.saving.save_model(model)`. This file format is considered legacy. We recommend using instead the native Keras format, e.g. `model.save('my_model.keras')` or `keras.saving.save_model(model, 'my_model.keras')`. \n"
          ]
        },
        {
          "name": "stdout",
          "output_type": "stream",
          "text": [
            "\u001b[1m32/32\u001b[0m \u001b[32m━━━━━━━━━━━━━━━━━━━━\u001b[0m\u001b[37m\u001b[0m \u001b[1m0s\u001b[0m 10ms/step - loss: 0.0391 - val_loss: 0.0480 - learning_rate: 2.2250e-04\n",
            "Epoch 137/350\n",
            "\u001b[1m32/32\u001b[0m \u001b[32m━━━━━━━━━━━━━━━━━━━━\u001b[0m\u001b[37m\u001b[0m \u001b[1m0s\u001b[0m 6ms/step - loss: 0.0371 - val_loss: 0.0482 - learning_rate: 2.2250e-04\n",
            "Epoch 138/350\n",
            "\u001b[1m32/32\u001b[0m \u001b[32m━━━━━━━━━━━━━━━━━━━━\u001b[0m\u001b[37m\u001b[0m \u001b[1m0s\u001b[0m 7ms/step - loss: 0.0383 - val_loss: 0.0494 - learning_rate: 2.2250e-04\n",
            "Epoch 139/350\n",
            "\u001b[1m32/32\u001b[0m \u001b[32m━━━━━━━━━━━━━━━━━━━━\u001b[0m\u001b[37m\u001b[0m \u001b[1m0s\u001b[0m 7ms/step - loss: 0.0401 - val_loss: 0.0484 - learning_rate: 2.2250e-04\n",
            "Epoch 140/350\n",
            "\u001b[1m32/32\u001b[0m \u001b[32m━━━━━━━━━━━━━━━━━━━━\u001b[0m\u001b[37m\u001b[0m \u001b[1m0s\u001b[0m 7ms/step - loss: 0.0386 - val_loss: 0.0497 - learning_rate: 2.2250e-04\n",
            "Epoch 141/350\n",
            "\u001b[1m30/32\u001b[0m \u001b[32m━━━━━━━━━━━━━━━━━━\u001b[0m\u001b[37m━━\u001b[0m \u001b[1m0s\u001b[0m 5ms/step - loss: 0.0389"
          ]
        },
        {
          "name": "stderr",
          "output_type": "stream",
          "text": [
            "WARNING:absl:You are saving your model as an HDF5 file via `model.save()` or `keras.saving.save_model(model)`. This file format is considered legacy. We recommend using instead the native Keras format, e.g. `model.save('my_model.keras')` or `keras.saving.save_model(model, 'my_model.keras')`. \n"
          ]
        },
        {
          "name": "stdout",
          "output_type": "stream",
          "text": [
            "\u001b[1m32/32\u001b[0m \u001b[32m━━━━━━━━━━━━━━━━━━━━\u001b[0m\u001b[37m\u001b[0m \u001b[1m0s\u001b[0m 10ms/step - loss: 0.0389 - val_loss: 0.0479 - learning_rate: 2.2250e-04\n",
            "Epoch 142/350\n",
            "\u001b[1m24/32\u001b[0m \u001b[32m━━━━━━━━━━━━━━━\u001b[0m\u001b[37m━━━━━\u001b[0m \u001b[1m0s\u001b[0m 4ms/step - loss: 0.0374"
          ]
        },
        {
          "name": "stderr",
          "output_type": "stream",
          "text": [
            "WARNING:absl:You are saving your model as an HDF5 file via `model.save()` or `keras.saving.save_model(model)`. This file format is considered legacy. We recommend using instead the native Keras format, e.g. `model.save('my_model.keras')` or `keras.saving.save_model(model, 'my_model.keras')`. \n"
          ]
        },
        {
          "name": "stdout",
          "output_type": "stream",
          "text": [
            "\u001b[1m32/32\u001b[0m \u001b[32m━━━━━━━━━━━━━━━━━━━━\u001b[0m\u001b[37m\u001b[0m \u001b[1m0s\u001b[0m 8ms/step - loss: 0.0374 - val_loss: 0.0472 - learning_rate: 2.2250e-04\n",
            "Epoch 143/350\n",
            "\u001b[1m23/32\u001b[0m \u001b[32m━━━━━━━━━━━━━━\u001b[0m\u001b[37m━━━━━━\u001b[0m \u001b[1m0s\u001b[0m 5ms/step - loss: 0.0355"
          ]
        },
        {
          "name": "stderr",
          "output_type": "stream",
          "text": [
            "WARNING:absl:You are saving your model as an HDF5 file via `model.save()` or `keras.saving.save_model(model)`. This file format is considered legacy. We recommend using instead the native Keras format, e.g. `model.save('my_model.keras')` or `keras.saving.save_model(model, 'my_model.keras')`. \n"
          ]
        },
        {
          "name": "stdout",
          "output_type": "stream",
          "text": [
            "\u001b[1m32/32\u001b[0m \u001b[32m━━━━━━━━━━━━━━━━━━━━\u001b[0m\u001b[37m\u001b[0m \u001b[1m0s\u001b[0m 8ms/step - loss: 0.0359 - val_loss: 0.0469 - learning_rate: 2.2250e-04\n",
            "Epoch 144/350\n",
            "\u001b[1m32/32\u001b[0m \u001b[32m━━━━━━━━━━━━━━━━━━━━\u001b[0m\u001b[37m\u001b[0m \u001b[1m0s\u001b[0m 7ms/step - loss: 0.0378 - val_loss: 0.0474 - learning_rate: 2.2250e-04\n",
            "Epoch 145/350\n",
            "\u001b[1m32/32\u001b[0m \u001b[32m━━━━━━━━━━━━━━━━━━━━\u001b[0m\u001b[37m\u001b[0m \u001b[1m0s\u001b[0m 7ms/step - loss: 0.0356 - val_loss: 0.0470 - learning_rate: 2.2250e-04\n",
            "Epoch 146/350\n",
            "\u001b[1m31/32\u001b[0m \u001b[32m━━━━━━━━━━━━━━━━━━━\u001b[0m\u001b[37m━\u001b[0m \u001b[1m0s\u001b[0m 7ms/step - loss: 0.0375"
          ]
        },
        {
          "name": "stderr",
          "output_type": "stream",
          "text": [
            "WARNING:absl:You are saving your model as an HDF5 file via `model.save()` or `keras.saving.save_model(model)`. This file format is considered legacy. We recommend using instead the native Keras format, e.g. `model.save('my_model.keras')` or `keras.saving.save_model(model, 'my_model.keras')`. \n"
          ]
        },
        {
          "name": "stdout",
          "output_type": "stream",
          "text": [
            "\u001b[1m32/32\u001b[0m \u001b[32m━━━━━━━━━━━━━━━━━━━━\u001b[0m\u001b[37m\u001b[0m \u001b[1m0s\u001b[0m 12ms/step - loss: 0.0376 - val_loss: 0.0469 - learning_rate: 2.2250e-04\n",
            "Epoch 147/350\n",
            "\u001b[1m25/32\u001b[0m \u001b[32m━━━━━━━━━━━━━━━\u001b[0m\u001b[37m━━━━━\u001b[0m \u001b[1m0s\u001b[0m 4ms/step - loss: 0.0349"
          ]
        },
        {
          "name": "stderr",
          "output_type": "stream",
          "text": [
            "WARNING:absl:You are saving your model as an HDF5 file via `model.save()` or `keras.saving.save_model(model)`. This file format is considered legacy. We recommend using instead the native Keras format, e.g. `model.save('my_model.keras')` or `keras.saving.save_model(model, 'my_model.keras')`. \n"
          ]
        },
        {
          "name": "stdout",
          "output_type": "stream",
          "text": [
            "\u001b[1m32/32\u001b[0m \u001b[32m━━━━━━━━━━━━━━━━━━━━\u001b[0m\u001b[37m\u001b[0m \u001b[1m0s\u001b[0m 8ms/step - loss: 0.0350 - val_loss: 0.0461 - learning_rate: 2.2250e-04\n",
            "Epoch 148/350\n",
            "\u001b[1m32/32\u001b[0m \u001b[32m━━━━━━━━━━━━━━━━━━━━\u001b[0m\u001b[37m\u001b[0m \u001b[1m0s\u001b[0m 7ms/step - loss: 0.0391 - val_loss: 0.0467 - learning_rate: 2.2250e-04\n",
            "Epoch 149/350\n",
            "\u001b[1m32/32\u001b[0m \u001b[32m━━━━━━━━━━━━━━━━━━━━\u001b[0m\u001b[37m\u001b[0m \u001b[1m0s\u001b[0m 7ms/step - loss: 0.0381 - val_loss: 0.0470 - learning_rate: 2.2250e-04\n",
            "Epoch 150/350\n",
            "\u001b[1m32/32\u001b[0m \u001b[32m━━━━━━━━━━━━━━━━━━━━\u001b[0m\u001b[37m\u001b[0m \u001b[1m0s\u001b[0m 7ms/step - loss: 0.0342 - val_loss: 0.0464 - learning_rate: 2.2250e-04\n",
            "Epoch 151/350\n",
            "\u001b[1m32/32\u001b[0m \u001b[32m━━━━━━━━━━━━━━━━━━━━\u001b[0m\u001b[37m\u001b[0m \u001b[1m0s\u001b[0m 7ms/step - loss: 0.0360 - val_loss: 0.0474 - learning_rate: 2.2250e-04\n",
            "Epoch 152/350\n",
            "\u001b[1m32/32\u001b[0m \u001b[32m━━━━━━━━━━━━━━━━━━━━\u001b[0m\u001b[37m\u001b[0m \u001b[1m0s\u001b[0m 7ms/step - loss: 0.0387 - val_loss: 0.0465 - learning_rate: 2.2250e-04\n",
            "Epoch 153/350\n",
            "\u001b[1m20/32\u001b[0m \u001b[32m━━━━━━━━━━━━\u001b[0m\u001b[37m━━━━━━━━\u001b[0m \u001b[1m0s\u001b[0m 5ms/step - loss: 0.0327"
          ]
        },
        {
          "name": "stderr",
          "output_type": "stream",
          "text": [
            "WARNING:absl:You are saving your model as an HDF5 file via `model.save()` or `keras.saving.save_model(model)`. This file format is considered legacy. We recommend using instead the native Keras format, e.g. `model.save('my_model.keras')` or `keras.saving.save_model(model, 'my_model.keras')`. \n"
          ]
        },
        {
          "name": "stdout",
          "output_type": "stream",
          "text": [
            "\u001b[1m32/32\u001b[0m \u001b[32m━━━━━━━━━━━━━━━━━━━━\u001b[0m\u001b[37m\u001b[0m \u001b[1m0s\u001b[0m 9ms/step - loss: 0.0335 - val_loss: 0.0448 - learning_rate: 1.1125e-04\n",
            "Epoch 154/350\n",
            "\u001b[1m26/32\u001b[0m \u001b[32m━━━━━━━━━━━━━━━━\u001b[0m\u001b[37m━━━━\u001b[0m \u001b[1m0s\u001b[0m 4ms/step - loss: 0.0347"
          ]
        },
        {
          "name": "stderr",
          "output_type": "stream",
          "text": [
            "WARNING:absl:You are saving your model as an HDF5 file via `model.save()` or `keras.saving.save_model(model)`. This file format is considered legacy. We recommend using instead the native Keras format, e.g. `model.save('my_model.keras')` or `keras.saving.save_model(model, 'my_model.keras')`. \n"
          ]
        },
        {
          "name": "stdout",
          "output_type": "stream",
          "text": [
            "\u001b[1m32/32\u001b[0m \u001b[32m━━━━━━━━━━━━━━━━━━━━\u001b[0m\u001b[37m\u001b[0m \u001b[1m0s\u001b[0m 8ms/step - loss: 0.0347 - val_loss: 0.0447 - learning_rate: 1.1125e-04\n",
            "Epoch 155/350\n",
            "\u001b[1m22/32\u001b[0m \u001b[32m━━━━━━━━━━━━━\u001b[0m\u001b[37m━━━━━━━\u001b[0m \u001b[1m0s\u001b[0m 5ms/step - loss: 0.0343"
          ]
        },
        {
          "name": "stderr",
          "output_type": "stream",
          "text": [
            "WARNING:absl:You are saving your model as an HDF5 file via `model.save()` or `keras.saving.save_model(model)`. This file format is considered legacy. We recommend using instead the native Keras format, e.g. `model.save('my_model.keras')` or `keras.saving.save_model(model, 'my_model.keras')`. \n"
          ]
        },
        {
          "name": "stdout",
          "output_type": "stream",
          "text": [
            "\u001b[1m32/32\u001b[0m \u001b[32m━━━━━━━━━━━━━━━━━━━━\u001b[0m\u001b[37m\u001b[0m \u001b[1m0s\u001b[0m 9ms/step - loss: 0.0343 - val_loss: 0.0445 - learning_rate: 1.1125e-04\n",
            "Epoch 156/350\n",
            "\u001b[1m32/32\u001b[0m \u001b[32m━━━━━━━━━━━━━━━━━━━━\u001b[0m\u001b[37m\u001b[0m \u001b[1m0s\u001b[0m 7ms/step - loss: 0.0346 - val_loss: 0.0447 - learning_rate: 1.1125e-04\n",
            "Epoch 157/350\n",
            "\u001b[1m32/32\u001b[0m \u001b[32m━━━━━━━━━━━━━━━━━━━━\u001b[0m\u001b[37m\u001b[0m \u001b[1m0s\u001b[0m 7ms/step - loss: 0.0334 - val_loss: 0.0447 - learning_rate: 1.1125e-04\n",
            "Epoch 158/350\n",
            "\u001b[1m32/32\u001b[0m \u001b[32m━━━━━━━━━━━━━━━━━━━━\u001b[0m\u001b[37m\u001b[0m \u001b[1m0s\u001b[0m 7ms/step - loss: 0.0326 - val_loss: 0.0446 - learning_rate: 1.1125e-04\n",
            "Epoch 159/350\n",
            "\u001b[1m28/32\u001b[0m \u001b[32m━━━━━━━━━━━━━━━━━\u001b[0m\u001b[37m━━━\u001b[0m \u001b[1m0s\u001b[0m 7ms/step - loss: 0.0323"
          ]
        },
        {
          "name": "stderr",
          "output_type": "stream",
          "text": [
            "WARNING:absl:You are saving your model as an HDF5 file via `model.save()` or `keras.saving.save_model(model)`. This file format is considered legacy. We recommend using instead the native Keras format, e.g. `model.save('my_model.keras')` or `keras.saving.save_model(model, 'my_model.keras')`. \n"
          ]
        },
        {
          "name": "stdout",
          "output_type": "stream",
          "text": [
            "\u001b[1m32/32\u001b[0m \u001b[32m━━━━━━━━━━━━━━━━━━━━\u001b[0m\u001b[37m\u001b[0m \u001b[1m0s\u001b[0m 11ms/step - loss: 0.0324 - val_loss: 0.0442 - learning_rate: 1.1125e-04\n",
            "Epoch 160/350\n",
            "\u001b[1m32/32\u001b[0m \u001b[32m━━━━━━━━━━━━━━━━━━━━\u001b[0m\u001b[37m\u001b[0m \u001b[1m0s\u001b[0m 7ms/step - loss: 0.0347 - val_loss: 0.0447 - learning_rate: 1.1125e-04\n",
            "Epoch 161/350\n",
            "\u001b[1m27/32\u001b[0m \u001b[32m━━━━━━━━━━━━━━━━\u001b[0m\u001b[37m━━━━\u001b[0m \u001b[1m0s\u001b[0m 4ms/step - loss: 0.0324"
          ]
        },
        {
          "name": "stderr",
          "output_type": "stream",
          "text": [
            "WARNING:absl:You are saving your model as an HDF5 file via `model.save()` or `keras.saving.save_model(model)`. This file format is considered legacy. We recommend using instead the native Keras format, e.g. `model.save('my_model.keras')` or `keras.saving.save_model(model, 'my_model.keras')`. \n"
          ]
        },
        {
          "name": "stdout",
          "output_type": "stream",
          "text": [
            "\u001b[1m32/32\u001b[0m \u001b[32m━━━━━━━━━━━━━━━━━━━━\u001b[0m\u001b[37m\u001b[0m \u001b[1m0s\u001b[0m 8ms/step - loss: 0.0326 - val_loss: 0.0441 - learning_rate: 1.1125e-04\n",
            "Epoch 162/350\n",
            "\u001b[1m32/32\u001b[0m \u001b[32m━━━━━━━━━━━━━━━━━━━━\u001b[0m\u001b[37m\u001b[0m \u001b[1m0s\u001b[0m 5ms/step - loss: 0.0375"
          ]
        },
        {
          "name": "stderr",
          "output_type": "stream",
          "text": [
            "WARNING:absl:You are saving your model as an HDF5 file via `model.save()` or `keras.saving.save_model(model)`. This file format is considered legacy. We recommend using instead the native Keras format, e.g. `model.save('my_model.keras')` or `keras.saving.save_model(model, 'my_model.keras')`. \n"
          ]
        },
        {
          "name": "stdout",
          "output_type": "stream",
          "text": [
            "\u001b[1m32/32\u001b[0m \u001b[32m━━━━━━━━━━━━━━━━━━━━\u001b[0m\u001b[37m\u001b[0m \u001b[1m0s\u001b[0m 9ms/step - loss: 0.0374 - val_loss: 0.0439 - learning_rate: 1.1125e-04\n",
            "Epoch 163/350\n",
            "\u001b[1m26/32\u001b[0m \u001b[32m━━━━━━━━━━━━━━━━\u001b[0m\u001b[37m━━━━\u001b[0m \u001b[1m0s\u001b[0m 4ms/step - loss: 0.0330"
          ]
        },
        {
          "name": "stderr",
          "output_type": "stream",
          "text": [
            "WARNING:absl:You are saving your model as an HDF5 file via `model.save()` or `keras.saving.save_model(model)`. This file format is considered legacy. We recommend using instead the native Keras format, e.g. `model.save('my_model.keras')` or `keras.saving.save_model(model, 'my_model.keras')`. \n"
          ]
        },
        {
          "name": "stdout",
          "output_type": "stream",
          "text": [
            "\u001b[1m32/32\u001b[0m \u001b[32m━━━━━━━━━━━━━━━━━━━━\u001b[0m\u001b[37m\u001b[0m \u001b[1m0s\u001b[0m 8ms/step - loss: 0.0331 - val_loss: 0.0431 - learning_rate: 1.1125e-04\n",
            "Epoch 164/350\n",
            "\u001b[1m32/32\u001b[0m \u001b[32m━━━━━━━━━━━━━━━━━━━━\u001b[0m\u001b[37m\u001b[0m \u001b[1m0s\u001b[0m 7ms/step - loss: 0.0333 - val_loss: 0.0435 - learning_rate: 1.1125e-04\n",
            "Epoch 165/350\n",
            "\u001b[1m32/32\u001b[0m \u001b[32m━━━━━━━━━━━━━━━━━━━━\u001b[0m\u001b[37m\u001b[0m \u001b[1m0s\u001b[0m 7ms/step - loss: 0.0341 - val_loss: 0.0437 - learning_rate: 1.1125e-04\n",
            "Epoch 166/350\n",
            "\u001b[1m32/32\u001b[0m \u001b[32m━━━━━━━━━━━━━━━━━━━━\u001b[0m\u001b[37m\u001b[0m \u001b[1m0s\u001b[0m 7ms/step - loss: 0.0307 - val_loss: 0.0438 - learning_rate: 1.1125e-04\n",
            "Epoch 167/350\n",
            "\u001b[1m32/32\u001b[0m \u001b[32m━━━━━━━━━━━━━━━━━━━━\u001b[0m\u001b[37m\u001b[0m \u001b[1m0s\u001b[0m 8ms/step - loss: 0.0347 - val_loss: 0.0439 - learning_rate: 1.1125e-04\n",
            "Epoch 168/350\n",
            "\u001b[1m32/32\u001b[0m \u001b[32m━━━━━━━━━━━━━━━━━━━━\u001b[0m\u001b[37m\u001b[0m \u001b[1m0s\u001b[0m 7ms/step - loss: 0.0360 - val_loss: 0.0441 - learning_rate: 1.1125e-04\n",
            "Epoch 169/350\n",
            "\u001b[1m32/32\u001b[0m \u001b[32m━━━━━━━━━━━━━━━━━━━━\u001b[0m\u001b[37m\u001b[0m \u001b[1m0s\u001b[0m 7ms/step - loss: 0.0325 - val_loss: 0.0436 - learning_rate: 5.5624e-05\n",
            "Epoch 170/350\n",
            "\u001b[1m32/32\u001b[0m \u001b[32m━━━━━━━━━━━━━━━━━━━━\u001b[0m\u001b[37m\u001b[0m \u001b[1m0s\u001b[0m 7ms/step - loss: 0.0328 - val_loss: 0.0433 - learning_rate: 5.5624e-05\n",
            "Epoch 171/350\n",
            "\u001b[1m25/32\u001b[0m \u001b[32m━━━━━━━━━━━━━━━\u001b[0m\u001b[37m━━━━━\u001b[0m \u001b[1m0s\u001b[0m 4ms/step - loss: 0.0315"
          ]
        },
        {
          "name": "stderr",
          "output_type": "stream",
          "text": [
            "WARNING:absl:You are saving your model as an HDF5 file via `model.save()` or `keras.saving.save_model(model)`. This file format is considered legacy. We recommend using instead the native Keras format, e.g. `model.save('my_model.keras')` or `keras.saving.save_model(model, 'my_model.keras')`. \n"
          ]
        },
        {
          "name": "stdout",
          "output_type": "stream",
          "text": [
            "\u001b[1m32/32\u001b[0m \u001b[32m━━━━━━━━━━━━━━━━━━━━\u001b[0m\u001b[37m\u001b[0m \u001b[1m0s\u001b[0m 8ms/step - loss: 0.0316 - val_loss: 0.0429 - learning_rate: 5.5624e-05\n",
            "Epoch 172/350\n",
            "\u001b[1m23/32\u001b[0m \u001b[32m━━━━━━━━━━━━━━\u001b[0m\u001b[37m━━━━━━\u001b[0m \u001b[1m0s\u001b[0m 5ms/step - loss: 0.0324"
          ]
        },
        {
          "name": "stderr",
          "output_type": "stream",
          "text": [
            "WARNING:absl:You are saving your model as an HDF5 file via `model.save()` or `keras.saving.save_model(model)`. This file format is considered legacy. We recommend using instead the native Keras format, e.g. `model.save('my_model.keras')` or `keras.saving.save_model(model, 'my_model.keras')`. \n"
          ]
        },
        {
          "name": "stdout",
          "output_type": "stream",
          "text": [
            "\u001b[1m32/32\u001b[0m \u001b[32m━━━━━━━━━━━━━━━━━━━━\u001b[0m\u001b[37m\u001b[0m \u001b[1m0s\u001b[0m 8ms/step - loss: 0.0322 - val_loss: 0.0427 - learning_rate: 5.5624e-05\n",
            "Epoch 173/350\n",
            "\u001b[1m23/32\u001b[0m \u001b[32m━━━━━━━━━━━━━━\u001b[0m\u001b[37m━━━━━━\u001b[0m \u001b[1m0s\u001b[0m 5ms/step - loss: 0.0311"
          ]
        },
        {
          "name": "stderr",
          "output_type": "stream",
          "text": [
            "WARNING:absl:You are saving your model as an HDF5 file via `model.save()` or `keras.saving.save_model(model)`. This file format is considered legacy. We recommend using instead the native Keras format, e.g. `model.save('my_model.keras')` or `keras.saving.save_model(model, 'my_model.keras')`. \n"
          ]
        },
        {
          "name": "stdout",
          "output_type": "stream",
          "text": [
            "\u001b[1m32/32\u001b[0m \u001b[32m━━━━━━━━━━━━━━━━━━━━\u001b[0m\u001b[37m\u001b[0m \u001b[1m0s\u001b[0m 8ms/step - loss: 0.0311 - val_loss: 0.0426 - learning_rate: 5.5624e-05\n",
            "Epoch 174/350\n",
            "\u001b[1m32/32\u001b[0m \u001b[32m━━━━━━━━━━━━━━━━━━━━\u001b[0m\u001b[37m\u001b[0m \u001b[1m0s\u001b[0m 7ms/step - loss: 0.0303 - val_loss: 0.0430 - learning_rate: 5.5624e-05\n",
            "Epoch 175/350\n",
            "\u001b[1m32/32\u001b[0m \u001b[32m━━━━━━━━━━━━━━━━━━━━\u001b[0m\u001b[37m\u001b[0m \u001b[1m0s\u001b[0m 7ms/step - loss: 0.0306 - val_loss: 0.0433 - learning_rate: 5.5624e-05\n",
            "Epoch 176/350\n",
            "\u001b[1m32/32\u001b[0m \u001b[32m━━━━━━━━━━━━━━━━━━━━\u001b[0m\u001b[37m\u001b[0m \u001b[1m0s\u001b[0m 9ms/step - loss: 0.0302 - val_loss: 0.0428 - learning_rate: 5.5624e-05\n",
            "Epoch 177/350\n",
            "\u001b[1m32/32\u001b[0m \u001b[32m━━━━━━━━━━━━━━━━━━━━\u001b[0m\u001b[37m\u001b[0m \u001b[1m0s\u001b[0m 7ms/step - loss: 0.0305 - val_loss: 0.0433 - learning_rate: 5.5624e-05\n",
            "Epoch 178/350\n",
            "\u001b[1m32/32\u001b[0m \u001b[32m━━━━━━━━━━━━━━━━━━━━\u001b[0m\u001b[37m\u001b[0m \u001b[1m0s\u001b[0m 6ms/step - loss: 0.0308 - val_loss: 0.0428 - learning_rate: 5.5624e-05\n",
            "Epoch 179/350\n",
            "\u001b[1m32/32\u001b[0m \u001b[32m━━━━━━━━━━━━━━━━━━━━\u001b[0m\u001b[37m\u001b[0m \u001b[1m0s\u001b[0m 7ms/step - loss: 0.0309 - val_loss: 0.0426 - learning_rate: 2.7812e-05\n",
            "Epoch 180/350\n",
            "\u001b[1m25/32\u001b[0m \u001b[32m━━━━━━━━━━━━━━━\u001b[0m\u001b[37m━━━━━\u001b[0m \u001b[1m0s\u001b[0m 4ms/step - loss: 0.0313"
          ]
        },
        {
          "name": "stderr",
          "output_type": "stream",
          "text": [
            "WARNING:absl:You are saving your model as an HDF5 file via `model.save()` or `keras.saving.save_model(model)`. This file format is considered legacy. We recommend using instead the native Keras format, e.g. `model.save('my_model.keras')` or `keras.saving.save_model(model, 'my_model.keras')`. \n"
          ]
        },
        {
          "name": "stdout",
          "output_type": "stream",
          "text": [
            "\u001b[1m32/32\u001b[0m \u001b[32m━━━━━━━━━━━━━━━━━━━━\u001b[0m\u001b[37m\u001b[0m \u001b[1m0s\u001b[0m 8ms/step - loss: 0.0312 - val_loss: 0.0425 - learning_rate: 2.7812e-05\n",
            "Epoch 181/350\n",
            "\u001b[1m32/32\u001b[0m \u001b[32m━━━━━━━━━━━━━━━━━━━━\u001b[0m\u001b[37m\u001b[0m \u001b[1m0s\u001b[0m 5ms/step - loss: 0.0303"
          ]
        },
        {
          "name": "stderr",
          "output_type": "stream",
          "text": [
            "WARNING:absl:You are saving your model as an HDF5 file via `model.save()` or `keras.saving.save_model(model)`. This file format is considered legacy. We recommend using instead the native Keras format, e.g. `model.save('my_model.keras')` or `keras.saving.save_model(model, 'my_model.keras')`. \n"
          ]
        },
        {
          "name": "stdout",
          "output_type": "stream",
          "text": [
            "\u001b[1m32/32\u001b[0m \u001b[32m━━━━━━━━━━━━━━━━━━━━\u001b[0m\u001b[37m\u001b[0m \u001b[1m0s\u001b[0m 10ms/step - loss: 0.0303 - val_loss: 0.0424 - learning_rate: 2.7812e-05\n",
            "Epoch 182/350\n",
            "\u001b[1m32/32\u001b[0m \u001b[32m━━━━━━━━━━━━━━━━━━━━\u001b[0m\u001b[37m\u001b[0m \u001b[1m0s\u001b[0m 7ms/step - loss: 0.0306 - val_loss: 0.0424 - learning_rate: 2.7812e-05\n",
            "Epoch 183/350\n",
            "\u001b[1m32/32\u001b[0m \u001b[32m━━━━━━━━━━━━━━━━━━━━\u001b[0m\u001b[37m\u001b[0m \u001b[1m0s\u001b[0m 7ms/step - loss: 0.0306 - val_loss: 0.0425 - learning_rate: 2.7812e-05\n",
            "Epoch 184/350\n",
            "\u001b[1m32/32\u001b[0m \u001b[32m━━━━━━━━━━━━━━━━━━━━\u001b[0m\u001b[37m\u001b[0m \u001b[1m0s\u001b[0m 7ms/step - loss: 0.0336 - val_loss: 0.0425 - learning_rate: 2.7812e-05\n",
            "Epoch 185/350\n",
            "\u001b[1m21/32\u001b[0m \u001b[32m━━━━━━━━━━━━━\u001b[0m\u001b[37m━━━━━━━\u001b[0m \u001b[1m0s\u001b[0m 5ms/step - loss: 0.0329"
          ]
        },
        {
          "name": "stderr",
          "output_type": "stream",
          "text": [
            "WARNING:absl:You are saving your model as an HDF5 file via `model.save()` or `keras.saving.save_model(model)`. This file format is considered legacy. We recommend using instead the native Keras format, e.g. `model.save('my_model.keras')` or `keras.saving.save_model(model, 'my_model.keras')`. \n"
          ]
        },
        {
          "name": "stdout",
          "output_type": "stream",
          "text": [
            "\u001b[1m32/32\u001b[0m \u001b[32m━━━━━━━━━━━━━━━━━━━━\u001b[0m\u001b[37m\u001b[0m \u001b[1m0s\u001b[0m 9ms/step - loss: 0.0329 - val_loss: 0.0423 - learning_rate: 2.7812e-05\n",
            "Epoch 186/350\n",
            "\u001b[1m22/32\u001b[0m \u001b[32m━━━━━━━━━━━━━\u001b[0m\u001b[37m━━━━━━━\u001b[0m \u001b[1m0s\u001b[0m 5ms/step - loss: 0.0329"
          ]
        },
        {
          "name": "stderr",
          "output_type": "stream",
          "text": [
            "WARNING:absl:You are saving your model as an HDF5 file via `model.save()` or `keras.saving.save_model(model)`. This file format is considered legacy. We recommend using instead the native Keras format, e.g. `model.save('my_model.keras')` or `keras.saving.save_model(model, 'my_model.keras')`. \n"
          ]
        },
        {
          "name": "stdout",
          "output_type": "stream",
          "text": [
            "\u001b[1m32/32\u001b[0m \u001b[32m━━━━━━━━━━━━━━━━━━━━\u001b[0m\u001b[37m\u001b[0m \u001b[1m0s\u001b[0m 9ms/step - loss: 0.0325 - val_loss: 0.0421 - learning_rate: 2.7812e-05\n",
            "Epoch 187/350\n",
            "\u001b[1m32/32\u001b[0m \u001b[32m━━━━━━━━━━━━━━━━━━━━\u001b[0m\u001b[37m\u001b[0m \u001b[1m0s\u001b[0m 7ms/step - loss: 0.0309 - val_loss: 0.0426 - learning_rate: 2.7812e-05\n",
            "Epoch 188/350\n",
            "\u001b[1m32/32\u001b[0m \u001b[32m━━━━━━━━━━━━━━━━━━━━\u001b[0m\u001b[37m\u001b[0m \u001b[1m0s\u001b[0m 7ms/step - loss: 0.0303 - val_loss: 0.0424 - learning_rate: 2.7812e-05\n",
            "Epoch 189/350\n",
            "\u001b[1m32/32\u001b[0m \u001b[32m━━━━━━━━━━━━━━━━━━━━\u001b[0m\u001b[37m\u001b[0m \u001b[1m0s\u001b[0m 7ms/step - loss: 0.0314 - val_loss: 0.0424 - learning_rate: 2.7812e-05\n",
            "Epoch 190/350\n",
            "\u001b[1m32/32\u001b[0m \u001b[32m━━━━━━━━━━━━━━━━━━━━\u001b[0m\u001b[37m\u001b[0m \u001b[1m0s\u001b[0m 8ms/step - loss: 0.0300 - val_loss: 0.0426 - learning_rate: 2.7812e-05\n",
            "Epoch 191/350\n",
            "\u001b[1m32/32\u001b[0m \u001b[32m━━━━━━━━━━━━━━━━━━━━\u001b[0m\u001b[37m\u001b[0m \u001b[1m0s\u001b[0m 7ms/step - loss: 0.0297 - val_loss: 0.0426 - learning_rate: 2.7812e-05\n",
            "Epoch 192/350\n",
            "\u001b[1m32/32\u001b[0m \u001b[32m━━━━━━━━━━━━━━━━━━━━\u001b[0m\u001b[37m\u001b[0m \u001b[1m0s\u001b[0m 7ms/step - loss: 0.0309 - val_loss: 0.0425 - learning_rate: 1.3906e-05\n",
            "Epoch 193/350\n",
            "\u001b[1m32/32\u001b[0m \u001b[32m━━━━━━━━━━━━━━━━━━━━\u001b[0m\u001b[37m\u001b[0m \u001b[1m0s\u001b[0m 7ms/step - loss: 0.0299 - val_loss: 0.0424 - learning_rate: 1.3906e-05\n",
            "Epoch 194/350\n",
            "\u001b[1m32/32\u001b[0m \u001b[32m━━━━━━━━━━━━━━━━━━━━\u001b[0m\u001b[37m\u001b[0m \u001b[1m0s\u001b[0m 8ms/step - loss: 0.0306 - val_loss: 0.0424 - learning_rate: 1.3906e-05\n",
            "Epoch 195/350\n",
            "\u001b[1m32/32\u001b[0m \u001b[32m━━━━━━━━━━━━━━━━━━━━\u001b[0m\u001b[37m\u001b[0m \u001b[1m0s\u001b[0m 7ms/step - loss: 0.0315 - val_loss: 0.0423 - learning_rate: 1.3906e-05\n",
            "Epoch 196/350\n",
            "\u001b[1m32/32\u001b[0m \u001b[32m━━━━━━━━━━━━━━━━━━━━\u001b[0m\u001b[37m\u001b[0m \u001b[1m0s\u001b[0m 7ms/step - loss: 0.0307 - val_loss: 0.0424 - learning_rate: 1.3906e-05\n",
            "\u001b[1m16/16\u001b[0m \u001b[32m━━━━━━━━━━━━━━━━━━━━\u001b[0m\u001b[37m\u001b[0m \u001b[1m0s\u001b[0m 9ms/step\n"
          ]
        }
      ],
      "source": [
        "# Configurar callbacks\n",
        "reduce_lr = ReduceLROnPlateau(monitor='val_loss', factor=0.5, patience=5, min_lr=1e-6)\n",
        "early_stopping = EarlyStopping(monitor='val_loss', patience=10, restore_best_weights=True)\n",
        "checkpoint = ModelCheckpoint('best_model.h5', monitor='val_loss', save_best_only=True)\n",
        "\n",
        "X_train, X_val, y_train, y_val = train_test_split(X_poly, y_scaled, test_size=0.2, random_state=42)\n",
        "\n",
        "history = model.fit(X_train, y_train, epochs=350, batch_size=64, verbose=1,\n",
        "                          validation_data=(X_val, y_val), callbacks=[early_stopping, reduce_lr, checkpoint])\n",
        "\n",
        "# Evaluación final del modelo\n",
        "y_val_pred = model.predict(X_val)"
      ]
    },
    {
      "cell_type": "markdown",
      "metadata": {},
      "source": [
        "## Resultados del Modelo\n",
        "\n",
        "Las siguientes métricas son utilizadas para evaluar el rendimiento del modelo de regresión. Se presentan tanto en términos absolutos como en términos porcentuales, para dar una mejor comprensión sobre la magnitud del error en relación con la variable objetivo."
      ]
    },
    {
      "cell_type": "code",
      "execution_count": null,
      "metadata": {},
      "outputs": [],
      "source": [
        "mae = mean_absolute_error(y_val_descaled, y_val_pred_descaled)\n",
        "mse = mean_squared_error(y_val_descaled, y_val_pred_descaled)\n",
        "rmse = np.sqrt(mean_squared_error(y_val_descaled, y_val_pred_descaled))\n",
        "r2 = r2_score(y_val_descaled, y_val_pred_descaled)\n",
        "\n",
        "print(f\"\\nResultados finales del modelo:\")\n",
        "print(f\"MAE: {mae:.4f}\")\n",
        "print(f\"MSE: {mse:.4f}\")\n",
        "print(f\"RMSE: {rmse:.4f}\")\n",
        "print(f\"R²: {r2:.4f}\")"
      ]
    },
    {
      "cell_type": "markdown",
      "metadata": {},
      "source": [
        "### Resultados del Modelo en Porcentaje"
      ]
    },
    {
      "cell_type": "code",
      "execution_count": null,
      "metadata": {},
      "outputs": [
        {
          "name": "stdout",
          "output_type": "stream",
          "text": [
            "\n",
            "Resultados finales del modelo en porcentaje:\n",
            "MAE (porcentaje): 6.98%\n",
            "MSE (porcentaje) / MAPE: 7.90%\n",
            "RMSE (porcentaje): 9.82%\n",
            "R²: 0.9233\n"
          ]
        }
      ],
      "source": [
        "print(f\"\\nResultados finales del modelo en porcentaje:\")\n",
        "mae_percentage_descaled = (mae / np.mean(y_val_descaled)) * 100\n",
        "mape = np.mean(np.abs((y_val_descaled - y_val_pred_descaled) / y_val_descaled)) * 100\n",
        "rmse_percentage_descaled = (rmse / np.mean(y_val_descaled)) * 100\n",
        "\n",
        "\n",
        "print(f\"MAE (porcentaje): {mae_percentage_descaled:.2f}%\")\n",
        "print(f\"MSE (porcentaje) / MAPE: {mape:.2f}%\")\n",
        "print(f\"R²: {r2:.4f}\")\n",
        "print(f\"RMSE (porcentaje): {rmse_percentage_descaled:.2f}%\")"
      ]
    },
    {
      "cell_type": "markdown",
      "metadata": {},
      "source": [
        "### Visualizacion de la función de pérdida"
      ]
    },
    {
      "cell_type": "code",
      "execution_count": 89,
      "metadata": {},
      "outputs": [
        {
          "data": {
            "image/png": "[encoded data removed]",
            "text/plain": [
              "<Figure size 1000x600 with 1 Axes>"
            ]
          },
          "metadata": {},
          "output_type": "display_data"
        }
      ],
      "source": [
        "import matplotlib.pyplot as plt\n",
        "\n",
        "# Graficar la función de pérdida\n",
        "plt.figure(figsize=(10, 6))\n",
        "plt.plot(history.history['loss'], label='Pérdida de entrenamiento')\n",
        "plt.plot(history.history['val_loss'], label='Pérdida de validación')\n",
        "plt.title('Función de Pérdida durante el Entrenamiento')\n",
        "plt.xlabel('Épocas')\n",
        "plt.ylabel('Pérdida')\n",
        "plt.legend()\n",
        "plt.grid(True)\n",
        "plt.show()"
      ]
    },
    {
      "cell_type": "markdown",
      "metadata": {},
      "source": [
        "## Resultados de Predicciones"
      ]
    },
    {
      "cell_type": "code",
      "execution_count": null,
      "metadata": {},
      "outputs": [
        {
          "name": "stdout",
          "output_type": "stream",
          "text": [
            "\u001b[1m16/16\u001b[0m \u001b[32m━━━━━━━━━━━━━━━━━━━━\u001b[0m\u001b[37m\u001b[0m \u001b[1m0s\u001b[0m 3ms/step \n",
            "\n",
            "Resultados de predicciones:\n",
            "Precio Real: 7343000.00, Precio Predicho: 7142915.50, Variación: 2.72%\n",
            "Precio Real: 3828989.37, Precio Predicho: 3482354.25, Variación: 9.05%\n",
            "Precio Real: 5837181.21, Precio Predicho: 5066929.50, Variación: 13.20%\n",
            "Precio Real: 3775162.10, Precio Predicho: 3225864.50, Variación: 14.55%\n",
            "Precio Real: 3139737.64, Precio Predicho: 3010870.75, Variación: 4.10%\n",
            "Precio Real: 5038613.59, Precio Predicho: 4552065.00, Variación: 9.66%\n",
            "Precio Real: 3175113.02, Precio Predicho: 3226397.25, Variación: 1.62%\n",
            "Precio Real: 7207738.59, Precio Predicho: 7034464.50, Variación: 2.40%\n",
            "Precio Real: 5005000.00, Precio Predicho: 5177585.50, Variación: 3.45%\n",
            "Precio Real: 3500000.00, Precio Predicho: 4237462.00, Variación: 21.07%\n",
            "Precio Real: 3583177.86, Precio Predicho: 3702944.00, Variación: 3.34%\n",
            "Precio Real: 2605103.99, Precio Predicho: 4410799.00, Variación: 69.31%\n",
            "Precio Real: 4011482.44, Precio Predicho: 4440781.00, Variación: 10.70%\n",
            "Precio Real: 4086793.05, Precio Predicho: 4229900.50, Variación: 3.50%\n",
            "Precio Real: 4655068.93, Precio Predicho: 4777075.00, Variación: 2.62%\n",
            "Precio Real: 3388241.03, Precio Predicho: 3597313.75, Variación: 6.17%\n",
            "Precio Real: 6904855.00, Precio Predicho: 6965881.00, Variación: 0.88%\n",
            "Precio Real: 7402995.35, Precio Predicho: 6900296.00, Variación: 6.79%\n",
            "Precio Real: 3839428.92, Precio Predicho: 4205233.00, Variación: 9.53%\n",
            "Precio Real: 6731828.94, Precio Predicho: 5920710.50, Variación: 12.05%\n",
            "Precio Real: 5090439.08, Precio Predicho: 5175304.50, Variación: 1.67%\n",
            "Precio Real: 4970000.00, Precio Predicho: 5066155.50, Variación: 1.93%\n",
            "Precio Real: 6951548.87, Precio Predicho: 6898321.00, Variación: 0.77%\n",
            "Precio Real: 4515000.00, Precio Predicho: 4323390.00, Variación: 4.24%\n",
            "Precio Real: 2940000.00, Precio Predicho: 3079745.25, Variación: 4.75%\n",
            "Precio Real: 8096308.85, Precio Predicho: 8147853.00, Variación: 0.64%\n",
            "Precio Real: 6115519.10, Precio Predicho: 5682467.50, Variación: 7.08%\n",
            "Precio Real: 7091588.90, Precio Predicho: 7324121.50, Variación: 3.28%\n",
            "Precio Real: 7560000.00, Precio Predicho: 8155703.00, Variación: 7.88%\n",
            "Precio Real: 4473000.00, Precio Predicho: 4921940.50, Variación: 10.04%\n",
            "Precio Real: 4900000.00, Precio Predicho: 4978838.50, Variación: 1.61%\n",
            "Precio Real: 4609998.37, Precio Predicho: 4573294.00, Variación: 0.80%\n",
            "Precio Real: 3470235.08, Precio Predicho: 3289421.25, Variación: 5.21%\n",
            "Precio Real: 7084218.63, Precio Predicho: 6762035.50, Variación: 4.55%\n",
            "Precio Real: 6259141.70, Precio Predicho: 5908337.00, Variación: 5.60%\n",
            "Precio Real: 6790000.00, Precio Predicho: 6397701.50, Variación: 5.78%\n",
            "Precio Real: 6105445.89, Precio Predicho: 6291188.50, Variación: 3.04%\n",
            "Precio Real: 9138127.67, Precio Predicho: 8714460.00, Variación: 4.64%\n",
            "Precio Real: 3654086.56, Precio Predicho: 3565147.75, Variación: 2.43%\n",
            "Precio Real: 4095802.78, Precio Predicho: 4086551.00, Variación: 0.23%\n",
            "Precio Real: 2986648.95, Precio Predicho: 3478265.00, Variación: 16.46%\n",
            "Precio Real: 2870000.00, Precio Predicho: 3209721.75, Variación: 11.84%\n",
            "Precio Real: 9345490.34, Precio Predicho: 9173341.00, Variación: 1.84%\n",
            "Precio Real: 7245747.60, Precio Predicho: 7115494.50, Variación: 1.80%\n",
            "Precio Real: 2785510.29, Precio Predicho: 3393598.25, Variación: 21.83%\n",
            "Precio Real: 5275303.67, Precio Predicho: 5190000.00, Variación: 1.62%\n",
            "Precio Real: 6233389.89, Precio Predicho: 6039812.50, Variación: 3.11%\n",
            "Precio Real: 3146510.87, Precio Predicho: 3487447.75, Variación: 10.84%\n",
            "Precio Real: 6118416.08, Precio Predicho: 6107778.50, Variación: 0.17%\n",
            "Precio Real: 3290000.00, Precio Predicho: 3576914.00, Variación: 8.72%\n",
            "Precio Real: 3252812.30, Precio Predicho: 3304177.75, Variación: 1.58%\n",
            "Precio Real: 7522658.13, Precio Predicho: 7184642.50, Variación: 4.49%\n",
            "Precio Real: 5075000.00, Precio Predicho: 4949990.50, Variación: 2.46%\n",
            "Precio Real: 5472943.86, Precio Predicho: 4984322.00, Variación: 8.93%\n",
            "Precio Real: 7253070.28, Precio Predicho: 6067271.00, Variación: 16.35%\n",
            "Precio Real: 7891050.90, Precio Predicho: 7362036.50, Variación: 6.70%\n",
            "Precio Real: 3852732.98, Precio Predicho: 4462304.50, Variación: 15.82%\n",
            "Precio Real: 5747034.13, Precio Predicho: 5170562.00, Variación: 10.03%\n",
            "Precio Real: 5080462.41, Precio Predicho: 5122653.50, Variación: 0.83%\n",
            "Precio Real: 2940000.00, Precio Predicho: 2810113.25, Variación: 4.42%\n",
            "Precio Real: 3501515.80, Precio Predicho: 3584206.25, Variación: 2.36%\n",
            "Precio Real: 5032187.14, Precio Predicho: 6141605.50, Variación: 22.05%\n",
            "Precio Real: 7133131.97, Precio Predicho: 6798735.00, Variación: 4.69%\n",
            "Precio Real: 5838047.23, Precio Predicho: 5361088.00, Variación: 8.17%\n",
            "Precio Real: 5250000.00, Precio Predicho: 5169673.00, Variación: 1.53%\n",
            "Precio Real: 7856228.41, Precio Predicho: 7584144.00, Variación: 3.46%\n",
            "Precio Real: 5100016.75, Precio Predicho: 4409035.00, Variación: 13.55%\n",
            "Precio Real: 6085199.88, Precio Predicho: 5768834.00, Variación: 5.20%\n",
            "Precio Real: 3822662.04, Precio Predicho: 4860501.00, Variación: 27.15%\n",
            "Precio Real: 5250000.00, Precio Predicho: 6359854.00, Variación: 21.14%\n",
            "Precio Real: 5561106.34, Precio Predicho: 5837919.50, Variación: 4.98%\n",
            "Precio Real: 6685000.00, Precio Predicho: 6433830.00, Variación: 3.76%\n",
            "Precio Real: 1750000.00, Precio Predicho: 3348975.25, Variación: 91.37%\n",
            "Precio Real: 5779322.27, Precio Predicho: 5505358.50, Variación: 4.74%\n",
            "Precio Real: 5128715.37, Precio Predicho: 5086995.00, Variación: 0.81%\n",
            "Precio Real: 2660000.00, Precio Predicho: 2432975.50, Variación: 8.53%\n",
            "Precio Real: 3474760.89, Precio Predicho: 3548939.25, Variación: 2.13%\n",
            "Precio Real: 6669777.12, Precio Predicho: 6458842.00, Variación: 3.16%\n",
            "Precio Real: 4493952.27, Precio Predicho: 4464485.00, Variación: 0.66%\n",
            "Precio Real: 4424746.44, Precio Predicho: 4025837.25, Variación: 9.02%\n",
            "Precio Real: 3658605.69, Precio Predicho: 3120551.75, Variación: 14.71%\n",
            "Precio Real: 6790951.93, Precio Predicho: 6679097.50, Variación: 1.65%\n",
            "Precio Real: 6567861.96, Precio Predicho: 6547496.00, Variación: 0.31%\n",
            "Precio Real: 7700000.00, Precio Predicho: 7652723.00, Variación: 0.61%\n",
            "Precio Real: 3821147.94, Precio Predicho: 3390110.75, Variación: 11.28%\n",
            "Precio Real: 3780000.00, Precio Predicho: 4094759.50, Variación: 8.33%\n",
            "Precio Real: 2916532.30, Precio Predicho: 3269273.50, Variación: 12.09%\n",
            "Precio Real: 2590000.00, Precio Predicho: 2548128.25, Variación: 1.62%\n",
            "Precio Real: 5015259.33, Precio Predicho: 4046535.50, Variación: 19.32%\n",
            "Precio Real: 4503614.61, Precio Predicho: 4133706.75, Variación: 8.21%\n",
            "Precio Real: 7909283.54, Precio Predicho: 8491919.00, Variación: 7.37%\n",
            "Precio Real: 3274680.28, Precio Predicho: 3295200.50, Variación: 0.63%\n",
            "Precio Real: 8122779.07, Precio Predicho: 8554447.00, Variación: 5.31%\n",
            "Precio Real: 5382464.74, Precio Predicho: 5742873.50, Variación: 6.70%\n",
            "Precio Real: 4328127.85, Precio Predicho: 5713281.50, Variación: 32.00%\n",
            "Precio Real: 5747381.12, Precio Predicho: 6160307.50, Variación: 7.18%\n",
            "Precio Real: 5757840.48, Precio Predicho: 6715187.50, Variación: 16.63%\n",
            "Precio Real: 3220000.00, Precio Predicho: 3888711.00, Variación: 20.77%\n",
            "Precio Real: 8777051.72, Precio Predicho: 8779346.00, Variación: 0.03%\n",
            "Precio Real: 3022825.45, Precio Predicho: 3660277.75, Variación: 21.09%\n",
            "Precio Real: 2294286.90, Precio Predicho: 2518977.50, Variación: 9.79%\n",
            "Precio Real: 5965204.83, Precio Predicho: 5159036.00, Variación: 13.51%\n",
            "Precio Real: 4951552.41, Precio Predicho: 5319803.50, Variación: 7.44%\n",
            "Precio Real: 6294867.42, Precio Predicho: 6239566.50, Variación: 0.88%\n",
            "Precio Real: 7657407.62, Precio Predicho: 7189362.50, Variación: 6.11%\n",
            "Precio Real: 9023376.47, Precio Predicho: 7428523.50, Variación: 17.67%\n",
            "Precio Real: 6068607.78, Precio Predicho: 6015011.50, Variación: 0.88%\n",
            "Precio Real: 3832724.93, Precio Predicho: 4130062.50, Variación: 7.76%\n",
            "Precio Real: 5232004.38, Precio Predicho: 5201923.50, Variación: 0.57%\n",
            "Precio Real: 3561411.64, Precio Predicho: 2562018.50, Variación: 28.06%\n",
            "Precio Real: 3080000.00, Precio Predicho: 4102178.25, Variación: 33.19%\n",
            "Precio Real: 6056281.71, Precio Predicho: 5329899.00, Variación: 11.99%\n",
            "Precio Real: 5250000.00, Precio Predicho: 5372600.50, Variación: 2.34%\n",
            "Precio Real: 4723703.42, Precio Predicho: 4298869.50, Variación: 8.99%\n",
            "Precio Real: 4288953.37, Precio Predicho: 4637830.00, Variación: 8.13%\n",
            "Precio Real: 4558881.05, Precio Predicho: 4815492.00, Variación: 5.63%\n",
            "Precio Real: 4370437.23, Precio Predicho: 3855848.25, Variación: 11.77%\n",
            "Precio Real: 4039627.21, Precio Predicho: 3954620.75, Variación: 2.10%\n",
            "Precio Real: 2976484.83, Precio Predicho: 3907353.25, Variación: 31.27%\n",
            "Precio Real: 5344207.31, Precio Predicho: 5362359.50, Variación: 0.34%\n",
            "Precio Real: 5812113.09, Precio Predicho: 5091785.00, Variación: 12.39%\n",
            "Precio Real: 5311568.61, Precio Predicho: 4197867.50, Variación: 20.97%\n",
            "Precio Real: 4633240.47, Precio Predicho: 4459111.00, Variación: 3.76%\n",
            "Precio Real: 2636865.82, Precio Predicho: 2772433.75, Variación: 5.14%\n",
            "Precio Real: 3667424.70, Precio Predicho: 4054071.00, Variación: 10.54%\n",
            "Precio Real: 5397270.51, Precio Predicho: 5827559.50, Variación: 7.97%\n",
            "Precio Real: 6810615.28, Precio Predicho: 6733921.50, Variación: 1.13%\n",
            "Precio Real: 3688021.64, Precio Predicho: 3978159.50, Variación: 7.87%\n",
            "Precio Real: 2408000.00, Precio Predicho: 2862970.75, Variación: 18.89%\n",
            "Precio Real: 9788183.84, Precio Predicho: 9636279.00, Variación: 1.55%\n",
            "Precio Real: 2726325.66, Precio Predicho: 3092507.75, Variación: 13.43%\n",
            "Precio Real: 7015248.44, Precio Predicho: 6607595.50, Variación: 5.81%\n",
            "Precio Real: 6381230.42, Precio Predicho: 6559278.50, Variación: 2.79%\n",
            "Precio Real: 2857579.07, Precio Predicho: 3403832.75, Variación: 19.12%\n",
            "Precio Real: 4480000.00, Precio Predicho: 6567991.50, Variación: 46.61%\n",
            "Precio Real: 4200000.00, Precio Predicho: 4305955.50, Variación: 2.52%\n",
            "Precio Real: 6300000.00, Precio Predicho: 6203149.00, Variación: 1.54%\n",
            "Precio Real: 7403386.97, Precio Predicho: 7162422.00, Variación: 3.25%\n",
            "Precio Real: 4142462.41, Precio Predicho: 3832662.75, Variación: 7.48%\n",
            "Precio Real: 4395152.15, Precio Predicho: 4818739.00, Variación: 9.64%\n",
            "Precio Real: 6076134.12, Precio Predicho: 4641002.50, Variación: 23.62%\n",
            "Precio Real: 5803000.00, Precio Predicho: 5547631.00, Variación: 4.40%\n",
            "Precio Real: 3290000.00, Precio Predicho: 3132381.50, Variación: 4.79%\n",
            "Precio Real: 5540273.15, Precio Predicho: 5214512.50, Variación: 5.88%\n",
            "Precio Real: 3675000.00, Precio Predicho: 2985151.75, Variación: 18.77%\n",
            "Precio Real: 2421722.54, Precio Predicho: 2623206.50, Variación: 8.32%\n",
            "Precio Real: 5978465.68, Precio Predicho: 6132197.00, Variación: 2.57%\n",
            "Precio Real: 4681658.06, Precio Predicho: 4856172.50, Variación: 3.73%\n",
            "Precio Real: 6075542.83, Precio Predicho: 4311224.00, Variación: 29.04%\n",
            "Precio Real: 5229000.00, Precio Predicho: 5504254.50, Variación: 5.26%\n",
            "Precio Real: 3423000.00, Precio Predicho: 2811252.50, Variación: 17.87%\n",
            "Precio Real: 5194754.71, Precio Predicho: 5182263.50, Variación: 0.24%\n",
            "Precio Real: 6530750.67, Precio Predicho: 6424908.50, Variación: 1.62%\n",
            "Precio Real: 4493504.21, Precio Predicho: 4645881.00, Variación: 3.39%\n",
            "Precio Real: 3234000.00, Precio Predicho: 2999806.75, Variación: 7.24%\n",
            "Precio Real: 4627019.07, Precio Predicho: 3499708.00, Variación: 24.36%\n",
            "Precio Real: 7648924.94, Precio Predicho: 7969005.00, Variación: 4.18%\n",
            "Precio Real: 7153258.21, Precio Predicho: 8201779.00, Variación: 14.66%\n",
            "Precio Real: 5474647.66, Precio Predicho: 5118771.00, Variación: 6.50%\n",
            "Precio Real: 4043724.86, Precio Predicho: 4347002.00, Variación: 7.50%\n",
            "Precio Real: 12251397.66, Precio Predicho: 12929620.00, Variación: 5.54%\n",
            "Precio Real: 6433050.70, Precio Predicho: 6003545.00, Variación: 6.68%\n",
            "Precio Real: 6696286.71, Precio Predicho: 6644667.00, Variación: 0.77%\n",
            "Precio Real: 4262491.84, Precio Predicho: 4728642.00, Variación: 10.94%\n",
            "Precio Real: 5115221.31, Precio Predicho: 4957370.00, Variación: 3.09%\n",
            "Precio Real: 3776770.61, Precio Predicho: 3791609.25, Variación: 0.39%\n",
            "Precio Real: 5326947.87, Precio Predicho: 6384164.00, Variación: 19.85%\n",
            "Precio Real: 4900000.00, Precio Predicho: 4630722.00, Variación: 5.50%\n",
            "Precio Real: 2870000.00, Precio Predicho: 2564379.50, Variación: 10.65%\n",
            "Precio Real: 6061361.55, Precio Predicho: 5640472.00, Variación: 6.94%\n",
            "Precio Real: 5634147.12, Precio Predicho: 5988296.50, Variación: 6.29%\n",
            "Precio Real: 8628635.40, Precio Predicho: 9353378.00, Variación: 8.40%\n",
            "Precio Real: 2959111.75, Precio Predicho: 3285414.75, Variación: 11.03%\n",
            "Precio Real: 6865343.64, Precio Predicho: 6861737.00, Variación: 0.05%\n",
            "Precio Real: 5944476.67, Precio Predicho: 5477512.00, Variación: 7.86%\n",
            "Precio Real: 5250000.00, Precio Predicho: 5347511.50, Variación: 1.86%\n",
            "Precio Real: 5325497.09, Precio Predicho: 5325778.50, Variación: 0.01%\n",
            "Precio Real: 9686983.62, Precio Predicho: 9170682.00, Variación: 5.33%\n",
            "Precio Real: 5925227.18, Precio Predicho: 5993314.00, Variación: 1.15%\n",
            "Precio Real: 5736548.25, Precio Predicho: 5850513.00, Variación: 1.99%\n",
            "Precio Real: 5580787.44, Precio Predicho: 5671081.50, Variación: 1.62%\n",
            "Precio Real: 5123805.00, Precio Predicho: 5303782.50, Variación: 3.51%\n",
            "Precio Real: 3720539.74, Precio Predicho: 3971747.75, Variación: 6.75%\n",
            "Precio Real: 6147053.67, Precio Predicho: 6441110.50, Variación: 4.78%\n",
            "Precio Real: 6271296.37, Precio Predicho: 5529456.50, Variación: 11.83%\n",
            "Precio Real: 4620000.00, Precio Predicho: 4824468.50, Variación: 4.43%\n",
            "Precio Real: 3860475.57, Precio Predicho: 4277642.50, Variación: 10.81%\n",
            "Precio Real: 4281023.60, Precio Predicho: 3525174.25, Variación: 17.66%\n",
            "Precio Real: 9646343.91, Precio Predicho: 9838673.00, Variación: 1.99%\n",
            "Precio Real: 6090000.00, Precio Predicho: 6332926.00, Variación: 3.99%\n",
            "Precio Real: 5882560.35, Precio Predicho: 5821331.00, Variación: 1.04%\n",
            "Precio Real: 3962939.29, Precio Predicho: 4275423.00, Variación: 7.89%\n",
            "Precio Real: 4360856.92, Precio Predicho: 4504334.50, Variación: 3.29%\n",
            "Precio Real: 4270000.00, Precio Predicho: 3812916.25, Variación: 10.70%\n",
            "Precio Real: 4664629.32, Precio Predicho: 4285980.00, Variación: 8.12%\n",
            "Precio Real: 5419362.33, Precio Predicho: 4823522.50, Variación: 10.99%\n",
            "Precio Real: 4893000.00, Precio Predicho: 4642893.50, Variación: 5.11%\n",
            "Precio Real: 11041689.97, Precio Predicho: 12166621.00, Variación: 10.19%\n",
            "Precio Real: 3117055.47, Precio Predicho: 3385823.00, Variación: 8.62%\n",
            "Precio Real: 3312429.51, Precio Predicho: 3466248.50, Variación: 4.64%\n",
            "Precio Real: 5447610.80, Precio Predicho: 5177422.00, Variación: 4.96%\n",
            "Precio Real: 6301242.05, Precio Predicho: 6224419.00, Variación: 1.22%\n",
            "Precio Real: 5034609.73, Precio Predicho: 6324461.00, Variación: 25.62%\n",
            "Precio Real: 4025000.00, Precio Predicho: 4162391.75, Variación: 3.41%\n",
            "Precio Real: 4941182.01, Precio Predicho: 4883635.00, Variación: 1.16%\n",
            "Precio Real: 5845606.50, Precio Predicho: 5574811.00, Variación: 4.63%\n",
            "Precio Real: 2921737.18, Precio Predicho: 3388108.75, Variación: 15.96%\n",
            "Precio Real: 4830000.00, Precio Predicho: 4748937.00, Variación: 1.68%\n",
            "Precio Real: 3804803.38, Precio Predicho: 3728184.75, Variación: 2.01%\n",
            "Precio Real: 3336063.70, Precio Predicho: 3625502.75, Variación: 8.68%\n",
            "Precio Real: 7010188.06, Precio Predicho: 6932000.00, Variación: 1.12%\n",
            "Precio Real: 5649917.69, Precio Predicho: 5692677.00, Variación: 0.76%\n",
            "Precio Real: 5641086.72, Precio Predicho: 5504703.50, Variación: 2.42%\n",
            "Precio Real: 9675491.51, Precio Predicho: 8261225.00, Variación: 14.62%\n",
            "Precio Real: 4496173.47, Precio Predicho: 4453901.50, Variación: 0.94%\n",
            "Precio Real: 6107247.45, Precio Predicho: 5870516.50, Variación: 3.88%\n",
            "Precio Real: 5617961.18, Precio Predicho: 5811096.00, Variación: 3.44%\n",
            "Precio Real: 4949826.33, Precio Predicho: 5082865.00, Variación: 2.69%\n",
            "Precio Real: 4595543.34, Precio Predicho: 3956974.50, Variación: 13.90%\n",
            "Precio Real: 6054857.57, Precio Predicho: 6422257.00, Variación: 6.07%\n",
            "Precio Real: 7337093.82, Precio Predicho: 7177800.50, Variación: 2.17%\n",
            "Precio Real: 4208230.73, Precio Predicho: 4237174.50, Variación: 0.69%\n",
            "Precio Real: 7046524.43, Precio Predicho: 6399380.00, Variación: 9.18%\n",
            "Precio Real: 5811982.71, Precio Predicho: 5327180.50, Variación: 8.34%\n",
            "Precio Real: 3916188.92, Precio Predicho: 3945198.75, Variación: 0.74%\n",
            "Precio Real: 7525343.76, Precio Predicho: 7171797.00, Variación: 4.70%\n",
            "Precio Real: 3991515.77, Precio Predicho: 3840275.75, Variación: 3.79%\n",
            "Precio Real: 4148570.51, Precio Predicho: 4354141.00, Variación: 4.96%\n",
            "Precio Real: 2802956.46, Precio Predicho: 3359682.50, Variación: 19.86%\n",
            "Precio Real: 5139464.97, Precio Predicho: 5166848.00, Variación: 0.53%\n",
            "Precio Real: 4260700.72, Precio Predicho: 4533919.00, Variación: 6.41%\n",
            "Precio Real: 6703493.92, Precio Predicho: 6569361.00, Variación: 2.00%\n",
            "Precio Real: 3254963.19, Precio Predicho: 3819595.00, Variación: 17.35%\n",
            "Precio Real: 4908924.61, Precio Predicho: 4647460.00, Variación: 5.33%\n",
            "Precio Real: 4585000.00, Precio Predicho: 4878358.00, Variación: 6.40%\n",
            "Precio Real: 4200000.00, Precio Predicho: 4481849.00, Variación: 6.71%\n",
            "Precio Real: 6830670.94, Precio Predicho: 7333285.50, Variación: 7.36%\n",
            "Precio Real: 4912932.24, Precio Predicho: 4945440.50, Variación: 0.66%\n",
            "Precio Real: 7420000.00, Precio Predicho: 7419584.00, Variación: 0.01%\n",
            "Precio Real: 4758693.76, Precio Predicho: 4641439.50, Variación: 2.46%\n",
            "Precio Real: 2897016.82, Precio Predicho: 3059434.75, Variación: 5.61%\n",
            "Precio Real: 3330240.57, Precio Predicho: 3044076.75, Variación: 8.59%\n",
            "Precio Real: 5397804.54, Precio Predicho: 4213706.00, Variación: 21.94%\n",
            "Precio Real: 5137933.76, Precio Predicho: 5055152.00, Variación: 1.61%\n",
            "Precio Real: 6394344.63, Precio Predicho: 6151817.00, Variación: 3.79%\n",
            "Precio Real: 4550000.00, Precio Predicho: 4470880.00, Variación: 1.74%\n",
            "Precio Real: 3101450.76, Precio Predicho: 3097080.75, Variación: 0.14%\n",
            "Precio Real: 6300000.00, Precio Predicho: 6440701.50, Variación: 2.23%\n",
            "Precio Real: 8666308.84, Precio Predicho: 8944305.00, Variación: 3.21%\n",
            "Precio Real: 6873721.87, Precio Predicho: 6651561.00, Variación: 3.23%\n",
            "Precio Real: 5871198.70, Precio Predicho: 5664399.50, Variación: 3.52%\n",
            "Precio Real: 2450000.00, Precio Predicho: 2550979.25, Variación: 4.12%\n",
            "Precio Real: 7896520.75, Precio Predicho: 7980980.50, Variación: 1.07%\n",
            "Precio Real: 4007500.00, Precio Predicho: 5754330.00, Variación: 43.59%\n",
            "Precio Real: 6504830.84, Precio Predicho: 6331246.00, Variación: 2.67%\n",
            "Precio Real: 3360000.00, Precio Predicho: 3372640.50, Variación: 0.38%\n",
            "Precio Real: 6991617.99, Precio Predicho: 7026666.50, Variación: 0.50%\n",
            "Precio Real: 7681171.07, Precio Predicho: 7638493.50, Variación: 0.56%\n",
            "Precio Real: 6696629.38, Precio Predicho: 6587582.00, Variación: 1.63%\n",
            "Precio Real: 8858912.95, Precio Predicho: 9247685.00, Variación: 4.39%\n",
            "Precio Real: 2135000.00, Precio Predicho: 2453862.25, Variación: 14.94%\n",
            "Precio Real: 3294480.74, Precio Predicho: 3656780.75, Variación: 11.00%\n",
            "Precio Real: 5926526.11, Precio Predicho: 5830158.50, Variación: 1.63%\n",
            "Precio Real: 5951290.21, Precio Predicho: 5921297.00, Variación: 0.50%\n",
            "Precio Real: 3675000.00, Precio Predicho: 3356968.25, Variación: 8.65%\n",
            "Precio Real: 4024498.35, Precio Predicho: 3628022.25, Variación: 9.85%\n",
            "Precio Real: 4200000.00, Precio Predicho: 6214638.50, Variación: 47.97%\n",
            "Precio Real: 5435278.69, Precio Predicho: 4380153.50, Variación: 19.41%\n",
            "Precio Real: 3585074.19, Precio Predicho: 3737447.00, Variación: 4.25%\n",
            "Precio Real: 4449710.95, Precio Predicho: 4529341.00, Variación: 1.79%\n",
            "Precio Real: 3290000.00, Precio Predicho: 3508636.50, Variación: 6.65%\n",
            "Precio Real: 5735276.45, Precio Predicho: 5340450.00, Variación: 6.88%\n",
            "Precio Real: 8400000.00, Precio Predicho: 8017194.50, Variación: 4.56%\n",
            "Precio Real: 7192490.18, Precio Predicho: 7357960.50, Variación: 2.30%\n",
            "Precio Real: 4365491.33, Precio Predicho: 4670065.50, Variación: 6.98%\n",
            "Precio Real: 9053481.98, Precio Predicho: 8931197.00, Variación: 1.35%\n",
            "Precio Real: 3816135.07, Precio Predicho: 4343649.50, Variación: 13.82%\n",
            "Precio Real: 4060000.00, Precio Predicho: 3841836.00, Variación: 5.37%\n",
            "Precio Real: 5570823.08, Precio Predicho: 5826670.50, Variación: 4.59%\n",
            "Precio Real: 3360000.00, Precio Predicho: 2130244.75, Variación: 36.60%\n",
            "Precio Real: 4436265.94, Precio Predicho: 4536873.00, Variación: 2.27%\n",
            "Precio Real: 8582626.94, Precio Predicho: 8494578.00, Variación: 1.03%\n",
            "Precio Real: 6978092.56, Precio Predicho: 6711535.50, Variación: 3.82%\n",
            "Precio Real: 2245885.45, Precio Predicho: 2565313.75, Variación: 14.22%\n",
            "Precio Real: 5364990.55, Precio Predicho: 4358575.50, Variación: 18.76%\n",
            "Precio Real: 4620000.00, Precio Predicho: 4670779.00, Variación: 1.10%\n",
            "Precio Real: 6090000.00, Precio Predicho: 6142734.50, Variación: 0.87%\n",
            "Precio Real: 3836046.02, Precio Predicho: 3989868.50, Variación: 4.01%\n",
            "Precio Real: 5237713.21, Precio Predicho: 5603530.00, Variación: 6.98%\n",
            "Precio Real: 2700074.20, Precio Predicho: 3362403.50, Variación: 24.53%\n",
            "Precio Real: 4712867.61, Precio Predicho: 4869415.50, Variación: 3.32%\n",
            "Precio Real: 4515000.00, Precio Predicho: 4434013.50, Variación: 1.79%\n",
            "Precio Real: 5623748.63, Precio Predicho: 4982228.50, Variación: 11.41%\n",
            "Precio Real: 8106677.88, Precio Predicho: 7438830.50, Variación: 8.24%\n",
            "Precio Real: 3584230.37, Precio Predicho: 3602921.00, Variación: 0.52%\n",
            "Precio Real: 8581123.54, Precio Predicho: 8511425.00, Variación: 0.81%\n",
            "Precio Real: 7720375.98, Precio Predicho: 7995893.00, Variación: 3.57%\n",
            "Precio Real: 5582457.03, Precio Predicho: 5407286.00, Variación: 3.14%\n",
            "Precio Real: 3562524.07, Precio Predicho: 3574009.00, Variación: 0.32%\n",
            "Precio Real: 4771306.93, Precio Predicho: 5028269.50, Variación: 5.39%\n",
            "Precio Real: 6044536.86, Precio Predicho: 4698298.50, Variación: 22.27%\n",
            "Precio Real: 3465000.00, Precio Predicho: 3373870.50, Variación: 2.63%\n",
            "Precio Real: 3012011.01, Precio Predicho: 3714944.25, Variación: 23.34%\n",
            "Precio Real: 4468169.70, Precio Predicho: 4036231.00, Variación: 9.67%\n",
            "Precio Real: 2847790.51, Precio Predicho: 3151627.25, Variación: 10.67%\n",
            "Precio Real: 7336716.05, Precio Predicho: 7105580.50, Variación: 3.15%\n",
            "Precio Real: 3993873.67, Precio Predicho: 3942103.50, Variación: 1.30%\n",
            "Precio Real: 6850183.83, Precio Predicho: 7503257.00, Variación: 9.53%\n",
            "Precio Real: 12957635.01, Precio Predicho: 13248080.00, Variación: 2.24%\n",
            "Precio Real: 3963545.38, Precio Predicho: 4216181.00, Variación: 6.37%\n",
            "Precio Real: 3995172.21, Precio Predicho: 4063099.50, Variación: 1.70%\n",
            "Precio Real: 5121444.27, Precio Predicho: 4084811.50, Variación: 20.24%\n",
            "Precio Real: 4719072.44, Precio Predicho: 5873435.50, Variación: 24.46%\n",
            "Precio Real: 5275990.13, Precio Predicho: 5399276.50, Variación: 2.34%\n",
            "Precio Real: 5914312.84, Precio Predicho: 5903932.50, Variación: 0.18%\n",
            "Precio Real: 5629665.70, Precio Predicho: 5571134.50, Variación: 1.04%\n",
            "Precio Real: 9253786.97, Precio Predicho: 9600709.00, Variación: 3.75%\n",
            "Precio Real: 6230000.00, Precio Predicho: 5745728.50, Variación: 7.77%\n",
            "Precio Real: 8372207.37, Precio Predicho: 8202846.00, Variación: 2.02%\n",
            "Precio Real: 6552106.85, Precio Predicho: 6734190.00, Variación: 2.78%\n",
            "Precio Real: 4473000.00, Precio Predicho: 3753273.50, Variación: 16.09%\n",
            "Precio Real: 4368277.97, Precio Predicho: 4495007.00, Variación: 2.90%\n",
            "Precio Real: 3342687.33, Precio Predicho: 3368161.00, Variación: 0.76%\n",
            "Precio Real: 9670052.46, Precio Predicho: 9718777.00, Variación: 0.50%\n",
            "Precio Real: 8472681.76, Precio Predicho: 8384432.50, Variación: 1.04%\n",
            "Precio Real: 5215000.00, Precio Predicho: 5356164.50, Variación: 2.71%\n",
            "Precio Real: 5780552.43, Precio Predicho: 5409920.50, Variación: 6.41%\n",
            "Precio Real: 5051688.50, Precio Predicho: 5989907.50, Variación: 18.57%\n",
            "Precio Real: 5895239.14, Precio Predicho: 5867526.50, Variación: 0.47%\n",
            "Precio Real: 2908081.59, Precio Predicho: 3672177.75, Variación: 26.27%\n",
            "Precio Real: 4441236.71, Precio Predicho: 4790721.00, Variación: 7.87%\n",
            "Precio Real: 5104982.06, Precio Predicho: 4996764.50, Variación: 2.12%\n",
            "Precio Real: 9870947.31, Precio Predicho: 9493325.00, Variación: 3.83%\n",
            "Precio Real: 4200000.00, Precio Predicho: 3917031.00, Variación: 6.74%\n",
            "Precio Real: 5652500.00, Precio Predicho: 5666298.50, Variación: 0.24%\n",
            "Precio Real: 4891508.99, Precio Predicho: 4442633.50, Variación: 9.18%\n",
            "Precio Real: 6649070.90, Precio Predicho: 6543928.00, Variación: 1.58%\n",
            "Precio Real: 6190039.70, Precio Predicho: 6250826.00, Variación: 0.98%\n",
            "Precio Real: 9193725.58, Precio Predicho: 8356698.50, Variación: 9.10%\n",
            "Precio Real: 2853620.16, Precio Predicho: 3464771.25, Variación: 21.42%\n",
            "Precio Real: 10016171.06, Precio Predicho: 10142495.00, Variación: 1.26%\n",
            "Precio Real: 2590000.00, Precio Predicho: 3022316.25, Variación: 16.69%\n",
            "Precio Real: 4594789.90, Precio Predicho: 4974808.50, Variación: 8.27%\n",
            "Precio Real: 2730000.00, Precio Predicho: 3613964.50, Variación: 32.38%\n",
            "Precio Real: 6963575.74, Precio Predicho: 6746977.00, Variación: 3.11%\n",
            "Precio Real: 2997300.20, Precio Predicho: 3033479.00, Variación: 1.21%\n",
            "Precio Real: 4550000.00, Precio Predicho: 4870089.50, Variación: 7.03%\n",
            "Precio Real: 12169029.68, Precio Predicho: 12733179.00, Variación: 4.64%\n",
            "Precio Real: 2240000.00, Precio Predicho: 2704952.50, Variación: 20.76%\n",
            "Precio Real: 5673385.83, Precio Predicho: 5504120.00, Variación: 2.98%\n",
            "Precio Real: 3224551.91, Precio Predicho: 3504088.75, Variación: 8.67%\n",
            "Precio Real: 5537735.98, Precio Predicho: 5572032.00, Variación: 0.62%\n",
            "Precio Real: 7726414.70, Precio Predicho: 7235325.50, Variación: 6.36%\n",
            "Precio Real: 8743569.88, Precio Predicho: 8863874.00, Variación: 1.38%\n",
            "Precio Real: 8400000.00, Precio Predicho: 6901477.50, Variación: 17.84%\n",
            "Precio Real: 2275000.00, Precio Predicho: 2809242.00, Variación: 23.48%\n",
            "Precio Real: 7556274.09, Precio Predicho: 7208947.00, Variación: 4.60%\n",
            "Precio Real: 6138261.05, Precio Predicho: 6132963.50, Variación: 0.09%\n",
            "Precio Real: 4508267.86, Precio Predicho: 4687078.50, Variación: 3.97%\n",
            "Precio Real: 5714717.22, Precio Predicho: 5884998.50, Variación: 2.98%\n",
            "Precio Real: 2930900.03, Precio Predicho: 2983974.25, Variación: 1.81%\n",
            "Precio Real: 2940000.00, Precio Predicho: 2973238.00, Variación: 1.13%\n",
            "Precio Real: 5495000.00, Precio Predicho: 5632919.00, Variación: 2.51%\n",
            "Precio Real: 3690118.07, Precio Predicho: 3742872.25, Variación: 1.43%\n",
            "Precio Real: 6590511.95, Precio Predicho: 5462916.50, Variación: 17.11%\n",
            "Precio Real: 5843985.82, Precio Predicho: 5082271.50, Variación: 13.03%\n",
            "Precio Real: 5437242.46, Precio Predicho: 3816734.75, Variación: 29.80%\n",
            "Precio Real: 4974836.15, Precio Predicho: 5352696.50, Variación: 7.60%\n",
            "Precio Real: 3920000.00, Precio Predicho: 3966554.25, Variación: 1.19%\n",
            "Precio Real: 4616187.06, Precio Predicho: 4013250.00, Variación: 13.06%\n",
            "Precio Real: 2327213.15, Precio Predicho: 2467909.75, Variación: 6.05%\n",
            "Precio Real: 10408492.58, Precio Predicho: 11054388.00, Variación: 6.21%\n",
            "Precio Real: 3500000.00, Precio Predicho: 3375621.00, Variación: 3.55%\n",
            "Precio Real: 5834479.49, Precio Predicho: 5626270.00, Variación: 3.57%\n",
            "Precio Real: 4950481.02, Precio Predicho: 4443139.50, Variación: 10.25%\n",
            "Precio Real: 3780000.00, Precio Predicho: 3768418.50, Variación: 0.31%\n",
            "Precio Real: 3290000.00, Precio Predicho: 2811252.50, Variación: 14.55%\n",
            "Precio Real: 4900000.00, Precio Predicho: 4526265.00, Variación: 7.63%\n",
            "Precio Real: 3150000.00, Precio Predicho: 4182524.25, Variación: 32.78%\n",
            "Precio Real: 6876634.65, Precio Predicho: 6532670.50, Variación: 5.00%\n",
            "Precio Real: 6695035.18, Precio Predicho: 6528368.00, Variación: 2.49%\n",
            "Precio Real: 5946968.70, Precio Predicho: 5341929.50, Variación: 10.17%\n",
            "Precio Real: 3247392.89, Precio Predicho: 3128524.25, Variación: 3.66%\n",
            "Precio Real: 6299516.80, Precio Predicho: 6495956.50, Variación: 3.12%\n",
            "Precio Real: 4769891.56, Precio Predicho: 5255861.50, Variación: 10.19%\n",
            "Precio Real: 4111324.40, Precio Predicho: 4204825.50, Variación: 2.27%\n",
            "Precio Real: 5911618.51, Precio Predicho: 5747904.50, Variación: 2.77%\n",
            "Precio Real: 4409522.64, Precio Predicho: 4585596.00, Variación: 3.99%\n",
            "Precio Real: 4785619.36, Precio Predicho: 4626194.00, Variación: 3.33%\n",
            "Precio Real: 7784595.12, Precio Predicho: 5556956.50, Variación: 28.62%\n",
            "Precio Real: 4397786.37, Precio Predicho: 5041981.00, Variación: 14.65%\n",
            "Precio Real: 4907000.00, Precio Predicho: 4936547.50, Variación: 0.60%\n",
            "Precio Real: 4690000.00, Precio Predicho: 4873239.50, Variación: 3.91%\n",
            "Precio Real: 3183396.21, Precio Predicho: 3211813.00, Variación: 0.89%\n",
            "Precio Real: 3150000.00, Precio Predicho: 3596422.25, Variación: 14.17%\n",
            "Precio Real: 3727117.86, Precio Predicho: 3504587.25, Variación: 5.97%\n",
            "Precio Real: 5171132.63, Precio Predicho: 3812820.25, Variación: 26.27%\n",
            "Precio Real: 4902706.42, Precio Predicho: 5915335.00, Variación: 20.65%\n",
            "Precio Real: 7348691.12, Precio Predicho: 7145854.00, Variación: 2.76%\n",
            "Precio Real: 4095000.00, Precio Predicho: 5127778.50, Variación: 25.22%\n",
            "Precio Real: 5077864.91, Precio Predicho: 5260639.00, Variación: 3.60%\n",
            "Precio Real: 3380922.84, Precio Predicho: 3381992.50, Variación: 0.03%\n",
            "Precio Real: 3749968.65, Precio Predicho: 4312798.00, Variación: 15.01%\n",
            "Precio Real: 6790000.00, Precio Predicho: 6836818.00, Variación: 0.69%\n",
            "Precio Real: 8619821.26, Precio Predicho: 9340821.00, Variación: 8.36%\n",
            "Precio Real: 3430000.00, Precio Predicho: 3488897.50, Variación: 1.72%\n",
            "Precio Real: 5775000.00, Precio Predicho: 5630430.00, Variación: 2.50%\n",
            "Precio Real: 3911463.91, Precio Predicho: 3773075.75, Variación: 3.54%\n",
            "Precio Real: 3296236.44, Precio Predicho: 3069534.75, Variación: 6.88%\n",
            "Precio Real: 3080000.00, Precio Predicho: 3082385.50, Variación: 0.08%\n",
            "Precio Real: 3751033.24, Precio Predicho: 3808355.00, Variación: 1.53%\n",
            "Precio Real: 5640006.44, Precio Predicho: 5600022.50, Variación: 0.71%\n",
            "Precio Real: 4690000.00, Precio Predicho: 4688269.50, Variación: 0.04%\n",
            "Precio Real: 2590000.00, Precio Predicho: 2574600.75, Variación: 0.59%\n",
            "Precio Real: 7020172.80, Precio Predicho: 7541256.00, Variación: 7.42%\n",
            "Precio Real: 3526754.03, Precio Predicho: 2949498.50, Variación: 16.37%\n",
            "Precio Real: 5631177.19, Precio Predicho: 5011502.00, Variación: 11.00%\n",
            "Precio Real: 3290000.00, Precio Predicho: 3051831.75, Variación: 7.24%\n",
            "Precio Real: 5101477.72, Precio Predicho: 5640463.00, Variación: 10.57%\n",
            "Precio Real: 3346808.64, Precio Predicho: 3506483.75, Variación: 4.77%\n",
            "Precio Real: 5863379.09, Precio Predicho: 5691662.00, Variación: 2.93%\n",
            "Precio Real: 8091371.44, Precio Predicho: 8008538.50, Variación: 1.02%\n",
            "Precio Real: 4993794.71, Precio Predicho: 4969187.00, Variación: 0.49%\n",
            "Precio Real: 5441153.37, Precio Predicho: 5682991.00, Variación: 4.44%\n",
            "Precio Real: 4270000.00, Precio Predicho: 3712085.00, Variación: 13.07%\n",
            "Precio Real: 4772713.57, Precio Predicho: 4746733.50, Variación: 0.54%\n",
            "Precio Real: 4784444.87, Precio Predicho: 3709491.00, Variación: 22.47%\n",
            "Precio Real: 5157023.68, Precio Predicho: 5231934.50, Variación: 1.45%\n",
            "Precio Real: 5419065.44, Precio Predicho: 5805551.00, Variación: 7.13%\n",
            "Precio Real: 2513407.44, Precio Predicho: 2682940.75, Variación: 6.75%\n",
            "Precio Real: 11057439.93, Precio Predicho: 11467837.00, Variación: 3.71%\n",
            "Precio Real: 4025000.00, Precio Predicho: 4037178.50, Variación: 0.30%\n",
            "Precio Real: 3080000.00, Precio Predicho: 3076616.75, Variación: 0.11%\n",
            "Precio Real: 7852127.69, Precio Predicho: 7220341.00, Variación: 8.05%\n",
            "Precio Real: 10094169.75, Precio Predicho: 10047799.00, Variación: 0.46%\n",
            "Precio Real: 2275000.00, Precio Predicho: 2898652.75, Variación: 27.41%\n",
            "Precio Real: 5764530.95, Precio Predicho: 6056172.50, Variación: 5.06%\n",
            "Precio Real: 4480000.00, Precio Predicho: 4589567.00, Variación: 2.45%\n",
            "Precio Real: 3430000.00, Precio Predicho: 2786376.00, Variación: 18.76%\n",
            "Precio Real: 7181919.49, Precio Predicho: 7461062.00, Variación: 3.89%\n",
            "Precio Real: 6650000.00, Precio Predicho: 6751833.50, Variación: 1.53%\n",
            "Precio Real: 6503517.35, Precio Predicho: 7246950.00, Variación: 11.43%\n",
            "Precio Real: 4188988.40, Precio Predicho: 3964549.00, Variación: 5.36%\n",
            "Precio Real: 3363652.73, Precio Predicho: 4420485.00, Variación: 31.42%\n",
            "Precio Real: 7397503.43, Precio Predicho: 8485520.00, Variación: 14.71%\n",
            "Precio Real: 6029730.28, Precio Predicho: 6058897.50, Variación: 0.48%\n",
            "Precio Real: 5675187.06, Precio Predicho: 5157766.00, Variación: 9.12%\n",
            "Precio Real: 3564452.65, Precio Predicho: 3593043.25, Variación: 0.80%\n",
            "Precio Real: 3671229.24, Precio Predicho: 3758079.75, Variación: 2.37%\n",
            "Precio Real: 5600000.00, Precio Predicho: 5879530.00, Variación: 4.99%\n",
            "Precio Real: 3188081.21, Precio Predicho: 2958444.00, Variación: 7.20%\n",
            "Precio Real: 8498558.72, Precio Predicho: 8235945.00, Variación: 3.09%\n",
            "Precio Real: 3359455.46, Precio Predicho: 2606754.50, Variación: 22.41%\n",
            "Precio Real: 3656579.15, Precio Predicho: 3930375.25, Variación: 7.49%\n",
            "Precio Real: 7432934.78, Precio Predicho: 7771111.00, Variación: 4.55%\n",
            "Precio Real: 5487821.92, Precio Predicho: 6796593.50, Variación: 23.85%\n",
            "Precio Real: 4677198.43, Precio Predicho: 3960919.75, Variación: 15.31%\n",
            "Precio Real: 2318776.52, Precio Predicho: 2799358.00, Variación: 20.73%\n",
            "Precio Real: 7687528.66, Precio Predicho: 8190146.00, Variación: 6.54%\n",
            "Precio Real: 3255000.00, Precio Predicho: 3242877.25, Variación: 0.37%\n",
            "Precio Real: 3115000.00, Precio Predicho: 3160801.75, Variación: 1.47%\n",
            "Precio Real: 5425000.00, Precio Predicho: 5337488.00, Variación: 1.61%\n",
            "Precio Real: 3500000.00, Precio Predicho: 3242461.00, Variación: 7.36%\n",
            "Precio Real: 4511312.27, Precio Predicho: 3923187.25, Variación: 13.04%\n",
            "Precio Real: 2380000.00, Precio Predicho: 2576752.25, Variación: 8.27%\n",
            "Precio Real: 3803814.53, Precio Predicho: 4162974.25, Variación: 9.44%\n",
            "Precio Real: 5320000.00, Precio Predicho: 5195523.00, Variación: 2.34%\n",
            "Precio Real: 6193515.34, Precio Predicho: 5297159.50, Variación: 14.47%\n",
            "Precio Real: 6149937.71, Precio Predicho: 5709350.00, Variación: 7.16%\n",
            "Precio Real: 2995355.47, Precio Predicho: 3390823.00, Variación: 13.20%\n",
            "Precio Real: 2940000.00, Precio Predicho: 2893014.25, Variación: 1.60%\n",
            "Precio Real: 7420000.00, Precio Predicho: 7329726.00, Variación: 1.22%\n",
            "Precio Real: 6895000.00, Precio Predicho: 6455488.00, Variación: 6.37%\n",
            "Precio Real: 6889624.55, Precio Predicho: 6811967.50, Variación: 1.13%\n",
            "Precio Real: 7877578.55, Precio Predicho: 7512196.50, Variación: 4.64%\n",
            "Precio Real: 5174960.02, Precio Predicho: 5034449.50, Variación: 2.72%\n",
            "Precio Real: 7455000.00, Precio Predicho: 6950070.00, Variación: 6.77%\n",
            "Precio Real: 4583676.06, Precio Predicho: 5145476.00, Variación: 12.26%\n",
            "Precio Real: 6102795.13, Precio Predicho: 5866357.50, Variación: 3.87%\n",
            "Precio Real: 2614479.34, Precio Predicho: 3135854.50, Variación: 19.94%\n",
            "Precio Real: 7967842.83, Precio Predicho: 8184153.00, Variación: 2.71%\n",
            "Precio Real: 5950000.00, Precio Predicho: 6082785.50, Variación: 2.23%\n",
            "Precio Real: 2754596.09, Precio Predicho: 3321577.75, Variación: 20.58%\n",
            "Precio Real: 5982320.80, Precio Predicho: 6724002.00, Variación: 12.40%\n",
            "Precio Real: 3010000.00, Precio Predicho: 3426128.50, Variación: 13.82%\n",
            "Precio Real: 5918295.69, Precio Predicho: 5895037.50, Variación: 0.39%\n",
            "Precio Real: 5928144.71, Precio Predicho: 5807715.50, Variación: 2.03%\n",
            "Precio Real: 3796541.92, Precio Predicho: 4546573.50, Variación: 19.76%\n",
            "Precio Real: 8540000.00, Precio Predicho: 7961131.50, Variación: 6.78%\n",
            "Precio Real: 5572726.93, Precio Predicho: 5729280.50, Variación: 2.81%\n",
            "Precio Real: 4558668.39, Precio Predicho: 4471904.00, Variación: 1.90%\n",
            "Precio Real: 3946177.65, Precio Predicho: 4635861.50, Variación: 17.48%\n",
            "Precio Real: 7546331.11, Precio Predicho: 7142628.00, Variación: 5.35%\n",
            "Precio Real: 6870285.44, Precio Predicho: 6320439.50, Variación: 8.00%\n",
            "Precio Real: 8299899.74, Precio Predicho: 8460035.00, Variación: 1.93%\n",
            "Precio Real: 5400072.92, Precio Predicho: 4455017.50, Variación: 17.50%\n",
            "Precio Real: 3165613.68, Precio Predicho: 3356337.50, Variación: 6.02%\n",
            "Precio Real: 5531288.72, Precio Predicho: 6051750.50, Variación: 9.41%\n",
            "Precio Real: 4087461.78, Precio Predicho: 4124998.50, Variación: 0.92%\n",
            "Precio Real: 3710000.00, Precio Predicho: 4421068.50, Variación: 19.17%\n",
            "Precio Real: 6380589.79, Precio Predicho: 5835144.50, Variación: 8.55%\n",
            "Precio Real: 7037675.34, Precio Predicho: 6473284.50, Variación: 8.02%\n",
            "Precio Real: 2460790.92, Precio Predicho: 2089130.38, Variación: 15.10%\n",
            "Precio Real: 5785265.33, Precio Predicho: 5838029.50, Variación: 0.91%\n",
            "Precio Real: 6199234.08, Precio Predicho: 5948016.50, Variación: 4.05%\n",
            "Precio Real: 3357499.86, Precio Predicho: 3143786.75, Variación: 6.37%\n",
            "Precio Real: 3916664.54, Precio Predicho: 3905624.25, Variación: 0.28%\n",
            "Precio Real: 2598070.66, Precio Predicho: 2807188.00, Variación: 8.05%\n",
            "Precio Real: 4111256.64, Precio Predicho: 3717883.75, Variación: 9.57%\n"
          ]
        }
      ],
      "source": [
        "# Hacer las predicciones sobre los datos\n",
        "y_test_pred = final_model.predict(X_val)  # Predicciones para los datos de prueba\n",
        "\n",
        "# Desescalar los valores reales y predichos\n",
        "y_test_descaled = scaler_y.inverse_transform(y_val)  # Desescalar valores reales\n",
        "y_test_pred_descaled = scaler_y.inverse_transform(y_test_pred)  # Desescalar predicciones\n",
        "\n",
        "# Calcular la variación porcentual entre el precio real y el precio predicho\n",
        "variaciones_porcentuales = np.abs((y_test_pred_descaled - y_test_descaled) / y_test_descaled) * 100\n",
        "\n",
        "# Mostrar los resultados\n",
        "print(\"\\nResultados de predicciones:\")\n",
        "for i in range(len(y_test_descaled)):\n",
        "    print(f\"Precio Real: {y_test_descaled[i][0]:.2f}, Precio Predicho: {y_test_pred_descaled[i][0]:.2f}, Variación: {variaciones_porcentuales[i][0]:.2f}%\")\n"
      ]
    },
    {
      "cell_type": "markdown",
      "metadata": {},
      "source": [
        "#### Histograma de Errores (Residuos)\n",
        "\n",
        "El **histograma de errores** o **residuos** se utiliza para visualizar la distribución de las diferencias entre los valores reales y los valores predichos. Este gráfico ayuda a evaluar si los errores del modelo siguen una distribución razonable y simétrica (como la distribución normal), lo que indicaría que el modelo está bien ajustado.\n",
        "\n",
        "##### Cálculo de los Errores (Residuos)\n",
        "Los **errores** o **residuos** se calculan como la diferencia entre los precios reales y los precios predichos:\n",
        "\n",
        "$$\n",
        "\\text{Residuo} = \\text{Precio Real} - \\text{Precio Predicho}\n",
        "$$"
      ]
    },
    {
      "cell_type": "code",
      "execution_count": 86,
      "metadata": {},
      "outputs": [
        {
          "data": {
            "image/png": "[encoded data removed]",
            "text/plain": [
              "<Figure size 800x600 with 1 Axes>"
            ]
          },
          "metadata": {},
          "output_type": "display_data"
        }
      ],
      "source": [
        "# Histograma de los errores\n",
        "residuals = y_test_descaled - y_test_pred_descaled\n",
        "\n",
        "plt.figure(figsize=(8,6))\n",
        "plt.hist(residuals, bins=30, edgecolor='black')\n",
        "plt.title(\"Histograma de Errores (Residuos)\")\n",
        "plt.xlabel(\"Errores\")\n",
        "plt.ylabel(\"Frecuencia\")\n",
        "plt.show()"
      ]
    },
    {
      "cell_type": "code",
      "execution_count": 70,
      "metadata": {},
      "outputs": [
        {
          "name": "stdout",
          "output_type": "stream",
          "text": [
            "Requirement already satisfied: matplotlib in c:\\users\\alumno_ai\\desktop\\generativa\\sam\\.venv\\lib\\site-packages (3.10.1)\n",
            "Requirement already satisfied: contourpy>=1.0.1 in c:\\users\\alumno_ai\\desktop\\generativa\\sam\\.venv\\lib\\site-packages (from matplotlib) (1.3.1)\n",
            "Requirement already satisfied: cycler>=0.10 in c:\\users\\alumno_ai\\desktop\\generativa\\sam\\.venv\\lib\\site-packages (from matplotlib) (0.12.1)\n",
            "Requirement already satisfied: fonttools>=4.22.0 in c:\\users\\alumno_ai\\desktop\\generativa\\sam\\.venv\\lib\\site-packages (from matplotlib) (4.56.0)\n",
            "Requirement already satisfied: kiwisolver>=1.3.1 in c:\\users\\alumno_ai\\desktop\\generativa\\sam\\.venv\\lib\\site-packages (from matplotlib) (1.4.8)\n",
            "Requirement already satisfied: numpy>=1.23 in c:\\users\\alumno_ai\\desktop\\generativa\\sam\\.venv\\lib\\site-packages (from matplotlib) (2.1.0)\n",
            "Requirement already satisfied: packaging>=20.0 in c:\\users\\alumno_ai\\desktop\\generativa\\sam\\.venv\\lib\\site-packages (from matplotlib) (24.2)\n",
            "Requirement already satisfied: pillow>=8 in c:\\users\\alumno_ai\\desktop\\generativa\\sam\\.venv\\lib\\site-packages (from matplotlib) (11.1.0)\n",
            "Requirement already satisfied: pyparsing>=2.3.1 in c:\\users\\alumno_ai\\desktop\\generativa\\sam\\.venv\\lib\\site-packages (from matplotlib) (3.2.3)\n",
            "Requirement already satisfied: python-dateutil>=2.7 in c:\\users\\alumno_ai\\desktop\\generativa\\sam\\.venv\\lib\\site-packages (from matplotlib) (2.9.0.post0)\n",
            "Requirement already satisfied: six>=1.5 in c:\\users\\alumno_ai\\desktop\\generativa\\sam\\.venv\\lib\\site-packages (from python-dateutil>=2.7->matplotlib) (1.17.0)\n",
            "Note: you may need to restart the kernel to use updated packages.\n"
          ]
        }
      ],
      "source": [
        "pip install matplotlib"
      ]
    },
    {
      "cell_type": "markdown",
      "metadata": {},
      "source": [
        "#### Gráfico de Dispersión"
      ]
    },
    {
      "cell_type": "code",
      "execution_count": 88,
      "metadata": {
        "id": "fPXaFvKhJx-c"
      },
      "outputs": [
        {
          "name": "stdout",
          "output_type": "stream",
          "text": [
            "\u001b[1m16/16\u001b[0m \u001b[32m━━━━━━━━━━━━━━━━━━━━\u001b[0m\u001b[37m\u001b[0m \u001b[1m0s\u001b[0m 4ms/step \n"
          ]
        },
        {
          "data": {
            "image/png": "[encoded data removed]",
            "text/plain": [
              "<Figure size 800x600 with 1 Axes>"
            ]
          },
          "metadata": {},
          "output_type": "display_data"
        }
      ],
      "source": [
        "# Hacer las predicciones sobre el conjunto de validación\n",
        "y_val_pred = final_model.predict(X_val)  # Predicciones para los valores en X_val\n",
        "\n",
        "# Crear el gráfico de dispersión entre los valores reales y predichos\n",
        "plt.figure(figsize=(8, 6))\n",
        "plt.scatter(y_val, y_val_pred, color='blue', alpha=0.7, label='Datos')  # Valores reales y predichos\n",
        "plt.xlabel(\"Precio Real (Validación)\", fontsize=14)\n",
        "plt.ylabel(\"Precio Predicho (Validación)\", fontsize=14)\n",
        "plt.title(\"Precio Real vs Precio Predicho\", fontsize=16)\n",
        "\n",
        "# Agregar la línea de referencia (y = x)\n",
        "plt.plot([y_val.min(), y_val.max()], [y_val.min(), y_val.max()], color='red', linestyle='--', label=\"Referencia: y = x\")\n",
        "\n",
        "# Mostrar leyenda\n",
        "plt.legend(fontsize=12)\n",
        "\n",
        "# Mostrar cuadrícula\n",
        "plt.grid(True)\n",
        "plt.show()\n"
      ]
    },
    {
      "cell_type": "code",
      "execution_count": 73,
      "metadata": {},
      "outputs": [
        {
          "name": "stdout",
          "output_type": "stream",
          "text": [
            "Requirement already satisfied: joblib in c:\\users\\alumno_ai\\desktop\\generativa\\sam\\.venv\\lib\\site-packages (1.4.2)\n",
            "Note: you may need to restart the kernel to use updated packages.\n"
          ]
        }
      ],
      "source": [
        "pip install joblib"
      ]
    },
    {
      "cell_type": "markdown",
      "metadata": {},
      "source": [
        "## Guardar el Modelo y Objetos Relacionados\n",
        "\n",
        "El código siguiente guarda el modelo entrenado y los objetos necesarios para el preprocesamiento de datos, como los escaladores y el transformador de características polinómicas. Esto permite que el modelo entrenado y su configuración se puedan cargar y utilizar posteriormente sin tener que volver a entrenarlo (en la api).\n",
        "\n",
        "### Guardar el Modelo de Keras\n",
        "- **final_model.save('modelo_final_escalado.h5')**: Guarda el modelo completo de Keras en un archivo `.h5`. Este archivo contiene tanto la arquitectura del modelo como los pesos aprendidos durante el entrenamiento. Puedes cargar este modelo en cualquier momento para hacer predicciones sobre nuevos datos.\n",
        "\n",
        "### Guardar los Escaladores\n",
        "- **scaler_X**: Este objeto es el escalador utilizado para normalizar las características de entrada. Se guarda en un archivo `.pkl` usando `joblib.dump(scaler_X, 'scaler_X.pkl')`. Este archivo se utiliza para aplicar el mismo escalado a nuevas entradas durante la predicción.\n",
        "- **scaler_y**: Similar al `scaler_X`, este es el escalador utilizado para normalizar la variable objetivo (`y`). Se guarda en un archivo `.pkl` usando `joblib.dump(scaler_y, 'scaler_y.pkl')`.\n",
        "\n",
        "### Guardar el Transformador de Características Polinómicas\n",
        "- **poly**: Este objeto transforma las características originales en características polinómicas de grado 2. Se guarda en un archivo `.pkl` usando `joblib.dump(poly, 'poly_features.pkl')`. Esto asegura que las mismas transformaciones se puedan aplicar a nuevos datos."
      ]
    },
    {
      "cell_type": "code",
      "execution_count": 76,
      "metadata": {
        "id": "OzS-YMqGfGFe"
      },
      "outputs": [
        {
          "name": "stderr",
          "output_type": "stream",
          "text": [
            "WARNING:absl:You are saving your model as an HDF5 file via `model.save()` or `keras.saving.save_model(model)`. This file format is considered legacy. We recommend using instead the native Keras format, e.g. `model.save('my_model.keras')` or `keras.saving.save_model(model, 'my_model.keras')`. \n"
          ]
        },
        {
          "data": {
            "text/plain": [
              "['poly_features.pkl']"
            ]
          },
          "execution_count": 76,
          "metadata": {},
          "output_type": "execute_result"
        }
      ],
      "source": [
        "import joblib\n",
        "\n",
        "# Guardar el modelo de Keras\n",
        "final_model.save('modelo_final_escalado.h5')  # Guarda el modelo completo\n",
        "\n",
        "# Guardar los scalers correctamente\n",
        "joblib.dump(scaler_X, 'scaler_X.pkl')  # Escalador de las features (X)\n",
        "joblib.dump(scaler_y, 'scaler_y.pkl')  # Escalador de la variable objetivo (y)\n",
        "\n",
        "# Guardar el transformador de características polinómicas\n",
        "joblib.dump(poly, 'poly_features.pkl')\n"
      ]
    },
    {
      "cell_type": "markdown",
      "metadata": {},
      "source": [
        "### Obtener y Guardar las Columnas Esperadas\n",
        "\n",
        "El siguiente código genera los nombres de las características polinómicas creadas a partir de las características originales y las guarda en un archivo. Lo necesito en la api.\n",
        "\n",
        "#### Proceso Descrito:\n",
        "1. **Generar Nombres de Características Polinómicas**:\n",
        "   - **poly.get_feature_names_out()**: Obtiene los nombres de las nuevas características generadas por el transformador polinómico (`poly`). Estas características son las interacciones entre las características originales.\n",
        "   - El parámetro `input_features=df.drop(columns=['price']).columns` asegura que los nombres de las columnas se generen a partir de las características de entrada del DataFrame (sin la columna de precio).\n",
        "\n",
        "2. **Guardar las Columnas Esperadas**:\n",
        "   - **joblib.dump(expected_columns, 'expected_columns.pkl')**: Guarda la lista de los nombres de las características esperadas en un archivo `.pkl`. Este archivo se puede usar más adelante para comparar si las características generadas en nuevas predicciones coinciden con las esperadas."
      ]
    },
    {
      "cell_type": "code",
      "execution_count": 77,
      "metadata": {},
      "outputs": [
        {
          "name": "stdout",
          "output_type": "stream",
          "text": [
            "✅ Columnas finales esperadas:\n",
            " ['area', 'bedrooms', 'bathrooms', 'stories', 'mainroad', 'guestroom', 'basement', 'hotwaterheating', 'airconditioning', 'parking', 'prefarea', 'furnishingstatus_furnished', 'furnishingstatus_semi-furnished', 'furnishingstatus_unfurnished', 'bathrooms_per_area', 'stories_per_area', 'parking_per_area', 'bathrooms_per_bedroom', 'bed_room_per_area', 'rooms_total', 'avg_room_size', 'room_density', 'bedrooms_per_bathroom', 'area_per_story', 'parking_per_bedroom', 'parking_area_ratio', 'service_index', 'parking_service_ratio', 'service_area_ratio', 'guestroom_basement', 'area bedrooms', 'area bathrooms', 'area stories', 'area mainroad', 'area guestroom', 'area basement', 'area hotwaterheating', 'area airconditioning', 'area parking', 'area prefarea', 'area furnishingstatus_furnished', 'area furnishingstatus_semi-furnished', 'area furnishingstatus_unfurnished', 'area bathrooms_per_area', 'area stories_per_area', 'area parking_per_area', 'area bathrooms_per_bedroom', 'area bed_room_per_area', 'area rooms_total', 'area avg_room_size', 'area room_density', 'area bedrooms_per_bathroom', 'area area_per_story', 'area parking_per_bedroom', 'area parking_area_ratio', 'area service_index', 'area parking_service_ratio', 'area service_area_ratio', 'area guestroom_basement', 'bedrooms bathrooms', 'bedrooms stories', 'bedrooms mainroad', 'bedrooms guestroom', 'bedrooms basement', 'bedrooms hotwaterheating', 'bedrooms airconditioning', 'bedrooms parking', 'bedrooms prefarea', 'bedrooms furnishingstatus_furnished', 'bedrooms furnishingstatus_semi-furnished', 'bedrooms furnishingstatus_unfurnished', 'bedrooms bathrooms_per_area', 'bedrooms stories_per_area', 'bedrooms parking_per_area', 'bedrooms bathrooms_per_bedroom', 'bedrooms bed_room_per_area', 'bedrooms rooms_total', 'bedrooms avg_room_size', 'bedrooms room_density', 'bedrooms bedrooms_per_bathroom', 'bedrooms area_per_story', 'bedrooms parking_per_bedroom', 'bedrooms parking_area_ratio', 'bedrooms service_index', 'bedrooms parking_service_ratio', 'bedrooms service_area_ratio', 'bedrooms guestroom_basement', 'bathrooms stories', 'bathrooms mainroad', 'bathrooms guestroom', 'bathrooms basement', 'bathrooms hotwaterheating', 'bathrooms airconditioning', 'bathrooms parking', 'bathrooms prefarea', 'bathrooms furnishingstatus_furnished', 'bathrooms furnishingstatus_semi-furnished', 'bathrooms furnishingstatus_unfurnished', 'bathrooms bathrooms_per_area', 'bathrooms stories_per_area', 'bathrooms parking_per_area', 'bathrooms bathrooms_per_bedroom', 'bathrooms bed_room_per_area', 'bathrooms rooms_total', 'bathrooms avg_room_size', 'bathrooms room_density', 'bathrooms bedrooms_per_bathroom', 'bathrooms area_per_story', 'bathrooms parking_per_bedroom', 'bathrooms parking_area_ratio', 'bathrooms service_index', 'bathrooms parking_service_ratio', 'bathrooms service_area_ratio', 'bathrooms guestroom_basement', 'stories mainroad', 'stories guestroom', 'stories basement', 'stories hotwaterheating', 'stories airconditioning', 'stories parking', 'stories prefarea', 'stories furnishingstatus_furnished', 'stories furnishingstatus_semi-furnished', 'stories furnishingstatus_unfurnished', 'stories bathrooms_per_area', 'stories stories_per_area', 'stories parking_per_area', 'stories bathrooms_per_bedroom', 'stories bed_room_per_area', 'stories rooms_total', 'stories avg_room_size', 'stories room_density', 'stories bedrooms_per_bathroom', 'stories area_per_story', 'stories parking_per_bedroom', 'stories parking_area_ratio', 'stories service_index', 'stories parking_service_ratio', 'stories service_area_ratio', 'stories guestroom_basement', 'mainroad guestroom', 'mainroad basement', 'mainroad hotwaterheating', 'mainroad airconditioning', 'mainroad parking', 'mainroad prefarea', 'mainroad furnishingstatus_furnished', 'mainroad furnishingstatus_semi-furnished', 'mainroad furnishingstatus_unfurnished', 'mainroad bathrooms_per_area', 'mainroad stories_per_area', 'mainroad parking_per_area', 'mainroad bathrooms_per_bedroom', 'mainroad bed_room_per_area', 'mainroad rooms_total', 'mainroad avg_room_size', 'mainroad room_density', 'mainroad bedrooms_per_bathroom', 'mainroad area_per_story', 'mainroad parking_per_bedroom', 'mainroad parking_area_ratio', 'mainroad service_index', 'mainroad parking_service_ratio', 'mainroad service_area_ratio', 'mainroad guestroom_basement', 'guestroom basement', 'guestroom hotwaterheating', 'guestroom airconditioning', 'guestroom parking', 'guestroom prefarea', 'guestroom furnishingstatus_furnished', 'guestroom furnishingstatus_semi-furnished', 'guestroom furnishingstatus_unfurnished', 'guestroom bathrooms_per_area', 'guestroom stories_per_area', 'guestroom parking_per_area', 'guestroom bathrooms_per_bedroom', 'guestroom bed_room_per_area', 'guestroom rooms_total', 'guestroom avg_room_size', 'guestroom room_density', 'guestroom bedrooms_per_bathroom', 'guestroom area_per_story', 'guestroom parking_per_bedroom', 'guestroom parking_area_ratio', 'guestroom service_index', 'guestroom parking_service_ratio', 'guestroom service_area_ratio', 'guestroom guestroom_basement', 'basement hotwaterheating', 'basement airconditioning', 'basement parking', 'basement prefarea', 'basement furnishingstatus_furnished', 'basement furnishingstatus_semi-furnished', 'basement furnishingstatus_unfurnished', 'basement bathrooms_per_area', 'basement stories_per_area', 'basement parking_per_area', 'basement bathrooms_per_bedroom', 'basement bed_room_per_area', 'basement rooms_total', 'basement avg_room_size', 'basement room_density', 'basement bedrooms_per_bathroom', 'basement area_per_story', 'basement parking_per_bedroom', 'basement parking_area_ratio', 'basement service_index', 'basement parking_service_ratio', 'basement service_area_ratio', 'basement guestroom_basement', 'hotwaterheating airconditioning', 'hotwaterheating parking', 'hotwaterheating prefarea', 'hotwaterheating furnishingstatus_furnished', 'hotwaterheating furnishingstatus_semi-furnished', 'hotwaterheating furnishingstatus_unfurnished', 'hotwaterheating bathrooms_per_area', 'hotwaterheating stories_per_area', 'hotwaterheating parking_per_area', 'hotwaterheating bathrooms_per_bedroom', 'hotwaterheating bed_room_per_area', 'hotwaterheating rooms_total', 'hotwaterheating avg_room_size', 'hotwaterheating room_density', 'hotwaterheating bedrooms_per_bathroom', 'hotwaterheating area_per_story', 'hotwaterheating parking_per_bedroom', 'hotwaterheating parking_area_ratio', 'hotwaterheating service_index', 'hotwaterheating parking_service_ratio', 'hotwaterheating service_area_ratio', 'hotwaterheating guestroom_basement', 'airconditioning parking', 'airconditioning prefarea', 'airconditioning furnishingstatus_furnished', 'airconditioning furnishingstatus_semi-furnished', 'airconditioning furnishingstatus_unfurnished', 'airconditioning bathrooms_per_area', 'airconditioning stories_per_area', 'airconditioning parking_per_area', 'airconditioning bathrooms_per_bedroom', 'airconditioning bed_room_per_area', 'airconditioning rooms_total', 'airconditioning avg_room_size', 'airconditioning room_density', 'airconditioning bedrooms_per_bathroom', 'airconditioning area_per_story', 'airconditioning parking_per_bedroom', 'airconditioning parking_area_ratio', 'airconditioning service_index', 'airconditioning parking_service_ratio', 'airconditioning service_area_ratio', 'airconditioning guestroom_basement', 'parking prefarea', 'parking furnishingstatus_furnished', 'parking furnishingstatus_semi-furnished', 'parking furnishingstatus_unfurnished', 'parking bathrooms_per_area', 'parking stories_per_area', 'parking parking_per_area', 'parking bathrooms_per_bedroom', 'parking bed_room_per_area', 'parking rooms_total', 'parking avg_room_size', 'parking room_density', 'parking bedrooms_per_bathroom', 'parking area_per_story', 'parking parking_per_bedroom', 'parking parking_area_ratio', 'parking service_index', 'parking parking_service_ratio', 'parking service_area_ratio', 'parking guestroom_basement', 'prefarea furnishingstatus_furnished', 'prefarea furnishingstatus_semi-furnished', 'prefarea furnishingstatus_unfurnished', 'prefarea bathrooms_per_area', 'prefarea stories_per_area', 'prefarea parking_per_area', 'prefarea bathrooms_per_bedroom', 'prefarea bed_room_per_area', 'prefarea rooms_total', 'prefarea avg_room_size', 'prefarea room_density', 'prefarea bedrooms_per_bathroom', 'prefarea area_per_story', 'prefarea parking_per_bedroom', 'prefarea parking_area_ratio', 'prefarea service_index', 'prefarea parking_service_ratio', 'prefarea service_area_ratio', 'prefarea guestroom_basement', 'furnishingstatus_furnished furnishingstatus_semi-furnished', 'furnishingstatus_furnished furnishingstatus_unfurnished', 'furnishingstatus_furnished bathrooms_per_area', 'furnishingstatus_furnished stories_per_area', 'furnishingstatus_furnished parking_per_area', 'furnishingstatus_furnished bathrooms_per_bedroom', 'furnishingstatus_furnished bed_room_per_area', 'furnishingstatus_furnished rooms_total', 'furnishingstatus_furnished avg_room_size', 'furnishingstatus_furnished room_density', 'furnishingstatus_furnished bedrooms_per_bathroom', 'furnishingstatus_furnished area_per_story', 'furnishingstatus_furnished parking_per_bedroom', 'furnishingstatus_furnished parking_area_ratio', 'furnishingstatus_furnished service_index', 'furnishingstatus_furnished parking_service_ratio', 'furnishingstatus_furnished service_area_ratio', 'furnishingstatus_furnished guestroom_basement', 'furnishingstatus_semi-furnished furnishingstatus_unfurnished', 'furnishingstatus_semi-furnished bathrooms_per_area', 'furnishingstatus_semi-furnished stories_per_area', 'furnishingstatus_semi-furnished parking_per_area', 'furnishingstatus_semi-furnished bathrooms_per_bedroom', 'furnishingstatus_semi-furnished bed_room_per_area', 'furnishingstatus_semi-furnished rooms_total', 'furnishingstatus_semi-furnished avg_room_size', 'furnishingstatus_semi-furnished room_density', 'furnishingstatus_semi-furnished bedrooms_per_bathroom', 'furnishingstatus_semi-furnished area_per_story', 'furnishingstatus_semi-furnished parking_per_bedroom', 'furnishingstatus_semi-furnished parking_area_ratio', 'furnishingstatus_semi-furnished service_index', 'furnishingstatus_semi-furnished parking_service_ratio', 'furnishingstatus_semi-furnished service_area_ratio', 'furnishingstatus_semi-furnished guestroom_basement', 'furnishingstatus_unfurnished bathrooms_per_area', 'furnishingstatus_unfurnished stories_per_area', 'furnishingstatus_unfurnished parking_per_area', 'furnishingstatus_unfurnished bathrooms_per_bedroom', 'furnishingstatus_unfurnished bed_room_per_area', 'furnishingstatus_unfurnished rooms_total', 'furnishingstatus_unfurnished avg_room_size', 'furnishingstatus_unfurnished room_density', 'furnishingstatus_unfurnished bedrooms_per_bathroom', 'furnishingstatus_unfurnished area_per_story', 'furnishingstatus_unfurnished parking_per_bedroom', 'furnishingstatus_unfurnished parking_area_ratio', 'furnishingstatus_unfurnished service_index', 'furnishingstatus_unfurnished parking_service_ratio', 'furnishingstatus_unfurnished service_area_ratio', 'furnishingstatus_unfurnished guestroom_basement', 'bathrooms_per_area stories_per_area', 'bathrooms_per_area parking_per_area', 'bathrooms_per_area bathrooms_per_bedroom', 'bathrooms_per_area bed_room_per_area', 'bathrooms_per_area rooms_total', 'bathrooms_per_area avg_room_size', 'bathrooms_per_area room_density', 'bathrooms_per_area bedrooms_per_bathroom', 'bathrooms_per_area area_per_story', 'bathrooms_per_area parking_per_bedroom', 'bathrooms_per_area parking_area_ratio', 'bathrooms_per_area service_index', 'bathrooms_per_area parking_service_ratio', 'bathrooms_per_area service_area_ratio', 'bathrooms_per_area guestroom_basement', 'stories_per_area parking_per_area', 'stories_per_area bathrooms_per_bedroom', 'stories_per_area bed_room_per_area', 'stories_per_area rooms_total', 'stories_per_area avg_room_size', 'stories_per_area room_density', 'stories_per_area bedrooms_per_bathroom', 'stories_per_area area_per_story', 'stories_per_area parking_per_bedroom', 'stories_per_area parking_area_ratio', 'stories_per_area service_index', 'stories_per_area parking_service_ratio', 'stories_per_area service_area_ratio', 'stories_per_area guestroom_basement', 'parking_per_area bathrooms_per_bedroom', 'parking_per_area bed_room_per_area', 'parking_per_area rooms_total', 'parking_per_area avg_room_size', 'parking_per_area room_density', 'parking_per_area bedrooms_per_bathroom', 'parking_per_area area_per_story', 'parking_per_area parking_per_bedroom', 'parking_per_area parking_area_ratio', 'parking_per_area service_index', 'parking_per_area parking_service_ratio', 'parking_per_area service_area_ratio', 'parking_per_area guestroom_basement', 'bathrooms_per_bedroom bed_room_per_area', 'bathrooms_per_bedroom rooms_total', 'bathrooms_per_bedroom avg_room_size', 'bathrooms_per_bedroom room_density', 'bathrooms_per_bedroom bedrooms_per_bathroom', 'bathrooms_per_bedroom area_per_story', 'bathrooms_per_bedroom parking_per_bedroom', 'bathrooms_per_bedroom parking_area_ratio', 'bathrooms_per_bedroom service_index', 'bathrooms_per_bedroom parking_service_ratio', 'bathrooms_per_bedroom service_area_ratio', 'bathrooms_per_bedroom guestroom_basement', 'bed_room_per_area rooms_total', 'bed_room_per_area avg_room_size', 'bed_room_per_area room_density', 'bed_room_per_area bedrooms_per_bathroom', 'bed_room_per_area area_per_story', 'bed_room_per_area parking_per_bedroom', 'bed_room_per_area parking_area_ratio', 'bed_room_per_area service_index', 'bed_room_per_area parking_service_ratio', 'bed_room_per_area service_area_ratio', 'bed_room_per_area guestroom_basement', 'rooms_total avg_room_size', 'rooms_total room_density', 'rooms_total bedrooms_per_bathroom', 'rooms_total area_per_story', 'rooms_total parking_per_bedroom', 'rooms_total parking_area_ratio', 'rooms_total service_index', 'rooms_total parking_service_ratio', 'rooms_total service_area_ratio', 'rooms_total guestroom_basement', 'avg_room_size room_density', 'avg_room_size bedrooms_per_bathroom', 'avg_room_size area_per_story', 'avg_room_size parking_per_bedroom', 'avg_room_size parking_area_ratio', 'avg_room_size service_index', 'avg_room_size parking_service_ratio', 'avg_room_size service_area_ratio', 'avg_room_size guestroom_basement', 'room_density bedrooms_per_bathroom', 'room_density area_per_story', 'room_density parking_per_bedroom', 'room_density parking_area_ratio', 'room_density service_index', 'room_density parking_service_ratio', 'room_density service_area_ratio', 'room_density guestroom_basement', 'bedrooms_per_bathroom area_per_story', 'bedrooms_per_bathroom parking_per_bedroom', 'bedrooms_per_bathroom parking_area_ratio', 'bedrooms_per_bathroom service_index', 'bedrooms_per_bathroom parking_service_ratio', 'bedrooms_per_bathroom service_area_ratio', 'bedrooms_per_bathroom guestroom_basement', 'area_per_story parking_per_bedroom', 'area_per_story parking_area_ratio', 'area_per_story service_index', 'area_per_story parking_service_ratio', 'area_per_story service_area_ratio', 'area_per_story guestroom_basement', 'parking_per_bedroom parking_area_ratio', 'parking_per_bedroom service_index', 'parking_per_bedroom parking_service_ratio', 'parking_per_bedroom service_area_ratio', 'parking_per_bedroom guestroom_basement', 'parking_area_ratio service_index', 'parking_area_ratio parking_service_ratio', 'parking_area_ratio service_area_ratio', 'parking_area_ratio guestroom_basement', 'service_index parking_service_ratio', 'service_index service_area_ratio', 'service_index guestroom_basement', 'parking_service_ratio service_area_ratio', 'parking_service_ratio guestroom_basement', 'service_area_ratio guestroom_basement']\n"
          ]
        }
      ],
      "source": [
        "feature_names = poly.get_feature_names_out(input_features=df.drop(columns=['price']).columns)\n",
        "expected_columns = list(feature_names)\n",
        "joblib.dump(expected_columns, 'expected_columns.pkl')\n",
        "print(\"✅ Columnas finales esperadas:\\n\", expected_columns)\n",
        "\n"
      ]
    }
  ],
  "metadata": {
    "accelerator": "GPU",
    "colab": {
      "gpuType": "T4",
      "provenance": []
    },
    "kernelspec": {
      "display_name": ".venv",
      "language": "python",
      "name": "python3"
    },
    "language_info": {
      "codemirror_mode": {
        "name": "ipython",
        "version": 3
      },
      "file_extension": ".py",
      "mimetype": "text/x-python",
      "name": "python",
      "nbconvert_exporter": "python",
      "pygments_lexer": "ipython3",
      "version": "3.11.9"
    }
  },
  "nbformat": 4,
  "nbformat_minor": 0
}
